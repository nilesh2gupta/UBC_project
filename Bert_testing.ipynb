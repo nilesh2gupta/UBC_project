{
  "nbformat": 4,
  "nbformat_minor": 0,
  "metadata": {
    "colab": {
      "provenance": [],
      "gpuType": "T4",
      "mount_file_id": "1jedH_O8ulh9cHAXvfrUuvOfp6z14JOVR",
      "authorship_tag": "ABX9TyMrcPZp17ma9weolDhuOCwc",
      "include_colab_link": true
    },
    "kernelspec": {
      "name": "python3",
      "display_name": "Python 3"
    },
    "language_info": {
      "name": "python"
    },
    "widgets": {
      "application/vnd.jupyter.widget-state+json": {
        "156db678749d4998af4e03670391b3cc": {
          "model_module": "@jupyter-widgets/controls",
          "model_name": "HBoxModel",
          "model_module_version": "1.5.0",
          "state": {
            "_dom_classes": [],
            "_model_module": "@jupyter-widgets/controls",
            "_model_module_version": "1.5.0",
            "_model_name": "HBoxModel",
            "_view_count": null,
            "_view_module": "@jupyter-widgets/controls",
            "_view_module_version": "1.5.0",
            "_view_name": "HBoxView",
            "box_style": "",
            "children": [
              "IPY_MODEL_fdf0cb0b8b80402cadf0bb12f50db0ad",
              "IPY_MODEL_4ade3cef7f6d4e259e3258880f74bc0e",
              "IPY_MODEL_a2ea9c696fca41e292731072164c31d2"
            ],
            "layout": "IPY_MODEL_3c4940d8d03146d6918fad4ada9e9041"
          }
        },
        "fdf0cb0b8b80402cadf0bb12f50db0ad": {
          "model_module": "@jupyter-widgets/controls",
          "model_name": "HTMLModel",
          "model_module_version": "1.5.0",
          "state": {
            "_dom_classes": [],
            "_model_module": "@jupyter-widgets/controls",
            "_model_module_version": "1.5.0",
            "_model_name": "HTMLModel",
            "_view_count": null,
            "_view_module": "@jupyter-widgets/controls",
            "_view_module_version": "1.5.0",
            "_view_name": "HTMLView",
            "description": "",
            "description_tooltip": null,
            "layout": "IPY_MODEL_f033e95d3e4c4d88bdf605840dd53764",
            "placeholder": "​",
            "style": "IPY_MODEL_bc2e7c74165c425d8bbf804ad8401e1a",
            "value": "config.json: 100%"
          }
        },
        "4ade3cef7f6d4e259e3258880f74bc0e": {
          "model_module": "@jupyter-widgets/controls",
          "model_name": "FloatProgressModel",
          "model_module_version": "1.5.0",
          "state": {
            "_dom_classes": [],
            "_model_module": "@jupyter-widgets/controls",
            "_model_module_version": "1.5.0",
            "_model_name": "FloatProgressModel",
            "_view_count": null,
            "_view_module": "@jupyter-widgets/controls",
            "_view_module_version": "1.5.0",
            "_view_name": "ProgressView",
            "bar_style": "success",
            "description": "",
            "description_tooltip": null,
            "layout": "IPY_MODEL_49850d313476464081ed63fe8886c4b5",
            "max": 570,
            "min": 0,
            "orientation": "horizontal",
            "style": "IPY_MODEL_13568a1600134ae49b09845633645642",
            "value": 570
          }
        },
        "a2ea9c696fca41e292731072164c31d2": {
          "model_module": "@jupyter-widgets/controls",
          "model_name": "HTMLModel",
          "model_module_version": "1.5.0",
          "state": {
            "_dom_classes": [],
            "_model_module": "@jupyter-widgets/controls",
            "_model_module_version": "1.5.0",
            "_model_name": "HTMLModel",
            "_view_count": null,
            "_view_module": "@jupyter-widgets/controls",
            "_view_module_version": "1.5.0",
            "_view_name": "HTMLView",
            "description": "",
            "description_tooltip": null,
            "layout": "IPY_MODEL_693934e976a64072bdfb3d67b526ca9e",
            "placeholder": "​",
            "style": "IPY_MODEL_3ec00f0f102c4a30916686d34e08dda1",
            "value": " 570/570 [00:00&lt;00:00, 20.3kB/s]"
          }
        },
        "3c4940d8d03146d6918fad4ada9e9041": {
          "model_module": "@jupyter-widgets/base",
          "model_name": "LayoutModel",
          "model_module_version": "1.2.0",
          "state": {
            "_model_module": "@jupyter-widgets/base",
            "_model_module_version": "1.2.0",
            "_model_name": "LayoutModel",
            "_view_count": null,
            "_view_module": "@jupyter-widgets/base",
            "_view_module_version": "1.2.0",
            "_view_name": "LayoutView",
            "align_content": null,
            "align_items": null,
            "align_self": null,
            "border": null,
            "bottom": null,
            "display": null,
            "flex": null,
            "flex_flow": null,
            "grid_area": null,
            "grid_auto_columns": null,
            "grid_auto_flow": null,
            "grid_auto_rows": null,
            "grid_column": null,
            "grid_gap": null,
            "grid_row": null,
            "grid_template_areas": null,
            "grid_template_columns": null,
            "grid_template_rows": null,
            "height": null,
            "justify_content": null,
            "justify_items": null,
            "left": null,
            "margin": null,
            "max_height": null,
            "max_width": null,
            "min_height": null,
            "min_width": null,
            "object_fit": null,
            "object_position": null,
            "order": null,
            "overflow": null,
            "overflow_x": null,
            "overflow_y": null,
            "padding": null,
            "right": null,
            "top": null,
            "visibility": null,
            "width": null
          }
        },
        "f033e95d3e4c4d88bdf605840dd53764": {
          "model_module": "@jupyter-widgets/base",
          "model_name": "LayoutModel",
          "model_module_version": "1.2.0",
          "state": {
            "_model_module": "@jupyter-widgets/base",
            "_model_module_version": "1.2.0",
            "_model_name": "LayoutModel",
            "_view_count": null,
            "_view_module": "@jupyter-widgets/base",
            "_view_module_version": "1.2.0",
            "_view_name": "LayoutView",
            "align_content": null,
            "align_items": null,
            "align_self": null,
            "border": null,
            "bottom": null,
            "display": null,
            "flex": null,
            "flex_flow": null,
            "grid_area": null,
            "grid_auto_columns": null,
            "grid_auto_flow": null,
            "grid_auto_rows": null,
            "grid_column": null,
            "grid_gap": null,
            "grid_row": null,
            "grid_template_areas": null,
            "grid_template_columns": null,
            "grid_template_rows": null,
            "height": null,
            "justify_content": null,
            "justify_items": null,
            "left": null,
            "margin": null,
            "max_height": null,
            "max_width": null,
            "min_height": null,
            "min_width": null,
            "object_fit": null,
            "object_position": null,
            "order": null,
            "overflow": null,
            "overflow_x": null,
            "overflow_y": null,
            "padding": null,
            "right": null,
            "top": null,
            "visibility": null,
            "width": null
          }
        },
        "bc2e7c74165c425d8bbf804ad8401e1a": {
          "model_module": "@jupyter-widgets/controls",
          "model_name": "DescriptionStyleModel",
          "model_module_version": "1.5.0",
          "state": {
            "_model_module": "@jupyter-widgets/controls",
            "_model_module_version": "1.5.0",
            "_model_name": "DescriptionStyleModel",
            "_view_count": null,
            "_view_module": "@jupyter-widgets/base",
            "_view_module_version": "1.2.0",
            "_view_name": "StyleView",
            "description_width": ""
          }
        },
        "49850d313476464081ed63fe8886c4b5": {
          "model_module": "@jupyter-widgets/base",
          "model_name": "LayoutModel",
          "model_module_version": "1.2.0",
          "state": {
            "_model_module": "@jupyter-widgets/base",
            "_model_module_version": "1.2.0",
            "_model_name": "LayoutModel",
            "_view_count": null,
            "_view_module": "@jupyter-widgets/base",
            "_view_module_version": "1.2.0",
            "_view_name": "LayoutView",
            "align_content": null,
            "align_items": null,
            "align_self": null,
            "border": null,
            "bottom": null,
            "display": null,
            "flex": null,
            "flex_flow": null,
            "grid_area": null,
            "grid_auto_columns": null,
            "grid_auto_flow": null,
            "grid_auto_rows": null,
            "grid_column": null,
            "grid_gap": null,
            "grid_row": null,
            "grid_template_areas": null,
            "grid_template_columns": null,
            "grid_template_rows": null,
            "height": null,
            "justify_content": null,
            "justify_items": null,
            "left": null,
            "margin": null,
            "max_height": null,
            "max_width": null,
            "min_height": null,
            "min_width": null,
            "object_fit": null,
            "object_position": null,
            "order": null,
            "overflow": null,
            "overflow_x": null,
            "overflow_y": null,
            "padding": null,
            "right": null,
            "top": null,
            "visibility": null,
            "width": null
          }
        },
        "13568a1600134ae49b09845633645642": {
          "model_module": "@jupyter-widgets/controls",
          "model_name": "ProgressStyleModel",
          "model_module_version": "1.5.0",
          "state": {
            "_model_module": "@jupyter-widgets/controls",
            "_model_module_version": "1.5.0",
            "_model_name": "ProgressStyleModel",
            "_view_count": null,
            "_view_module": "@jupyter-widgets/base",
            "_view_module_version": "1.2.0",
            "_view_name": "StyleView",
            "bar_color": null,
            "description_width": ""
          }
        },
        "693934e976a64072bdfb3d67b526ca9e": {
          "model_module": "@jupyter-widgets/base",
          "model_name": "LayoutModel",
          "model_module_version": "1.2.0",
          "state": {
            "_model_module": "@jupyter-widgets/base",
            "_model_module_version": "1.2.0",
            "_model_name": "LayoutModel",
            "_view_count": null,
            "_view_module": "@jupyter-widgets/base",
            "_view_module_version": "1.2.0",
            "_view_name": "LayoutView",
            "align_content": null,
            "align_items": null,
            "align_self": null,
            "border": null,
            "bottom": null,
            "display": null,
            "flex": null,
            "flex_flow": null,
            "grid_area": null,
            "grid_auto_columns": null,
            "grid_auto_flow": null,
            "grid_auto_rows": null,
            "grid_column": null,
            "grid_gap": null,
            "grid_row": null,
            "grid_template_areas": null,
            "grid_template_columns": null,
            "grid_template_rows": null,
            "height": null,
            "justify_content": null,
            "justify_items": null,
            "left": null,
            "margin": null,
            "max_height": null,
            "max_width": null,
            "min_height": null,
            "min_width": null,
            "object_fit": null,
            "object_position": null,
            "order": null,
            "overflow": null,
            "overflow_x": null,
            "overflow_y": null,
            "padding": null,
            "right": null,
            "top": null,
            "visibility": null,
            "width": null
          }
        },
        "3ec00f0f102c4a30916686d34e08dda1": {
          "model_module": "@jupyter-widgets/controls",
          "model_name": "DescriptionStyleModel",
          "model_module_version": "1.5.0",
          "state": {
            "_model_module": "@jupyter-widgets/controls",
            "_model_module_version": "1.5.0",
            "_model_name": "DescriptionStyleModel",
            "_view_count": null,
            "_view_module": "@jupyter-widgets/base",
            "_view_module_version": "1.2.0",
            "_view_name": "StyleView",
            "description_width": ""
          }
        },
        "023d80034cd740e1bde6855377ac055a": {
          "model_module": "@jupyter-widgets/controls",
          "model_name": "HBoxModel",
          "model_module_version": "1.5.0",
          "state": {
            "_dom_classes": [],
            "_model_module": "@jupyter-widgets/controls",
            "_model_module_version": "1.5.0",
            "_model_name": "HBoxModel",
            "_view_count": null,
            "_view_module": "@jupyter-widgets/controls",
            "_view_module_version": "1.5.0",
            "_view_name": "HBoxView",
            "box_style": "",
            "children": [
              "IPY_MODEL_d0672a35bfae49c291946d0cb7148d51",
              "IPY_MODEL_2ffcef47736040b28955bac6deca9384",
              "IPY_MODEL_e8ab38e7a66c4ef1a765de1f1d52a085"
            ],
            "layout": "IPY_MODEL_893ef73351ee4914ac42a326a3502c07"
          }
        },
        "d0672a35bfae49c291946d0cb7148d51": {
          "model_module": "@jupyter-widgets/controls",
          "model_name": "HTMLModel",
          "model_module_version": "1.5.0",
          "state": {
            "_dom_classes": [],
            "_model_module": "@jupyter-widgets/controls",
            "_model_module_version": "1.5.0",
            "_model_name": "HTMLModel",
            "_view_count": null,
            "_view_module": "@jupyter-widgets/controls",
            "_view_module_version": "1.5.0",
            "_view_name": "HTMLView",
            "description": "",
            "description_tooltip": null,
            "layout": "IPY_MODEL_4f6e632e857149d2830e53afe8c76582",
            "placeholder": "​",
            "style": "IPY_MODEL_bc01e80beb794a679f701486e060e2a1",
            "value": "model.safetensors: 100%"
          }
        },
        "2ffcef47736040b28955bac6deca9384": {
          "model_module": "@jupyter-widgets/controls",
          "model_name": "FloatProgressModel",
          "model_module_version": "1.5.0",
          "state": {
            "_dom_classes": [],
            "_model_module": "@jupyter-widgets/controls",
            "_model_module_version": "1.5.0",
            "_model_name": "FloatProgressModel",
            "_view_count": null,
            "_view_module": "@jupyter-widgets/controls",
            "_view_module_version": "1.5.0",
            "_view_name": "ProgressView",
            "bar_style": "success",
            "description": "",
            "description_tooltip": null,
            "layout": "IPY_MODEL_90835bf619964f21a3e5e95be5ab356a",
            "max": 440449768,
            "min": 0,
            "orientation": "horizontal",
            "style": "IPY_MODEL_a3ac601c98f2486a8b9a4113e21af8f6",
            "value": 440449768
          }
        },
        "e8ab38e7a66c4ef1a765de1f1d52a085": {
          "model_module": "@jupyter-widgets/controls",
          "model_name": "HTMLModel",
          "model_module_version": "1.5.0",
          "state": {
            "_dom_classes": [],
            "_model_module": "@jupyter-widgets/controls",
            "_model_module_version": "1.5.0",
            "_model_name": "HTMLModel",
            "_view_count": null,
            "_view_module": "@jupyter-widgets/controls",
            "_view_module_version": "1.5.0",
            "_view_name": "HTMLView",
            "description": "",
            "description_tooltip": null,
            "layout": "IPY_MODEL_aef5608e9fb64157a5c170d1d1a2e0d5",
            "placeholder": "​",
            "style": "IPY_MODEL_45b835388c7243c2a775bf991c174d03",
            "value": " 440M/440M [00:02&lt;00:00, 168MB/s]"
          }
        },
        "893ef73351ee4914ac42a326a3502c07": {
          "model_module": "@jupyter-widgets/base",
          "model_name": "LayoutModel",
          "model_module_version": "1.2.0",
          "state": {
            "_model_module": "@jupyter-widgets/base",
            "_model_module_version": "1.2.0",
            "_model_name": "LayoutModel",
            "_view_count": null,
            "_view_module": "@jupyter-widgets/base",
            "_view_module_version": "1.2.0",
            "_view_name": "LayoutView",
            "align_content": null,
            "align_items": null,
            "align_self": null,
            "border": null,
            "bottom": null,
            "display": null,
            "flex": null,
            "flex_flow": null,
            "grid_area": null,
            "grid_auto_columns": null,
            "grid_auto_flow": null,
            "grid_auto_rows": null,
            "grid_column": null,
            "grid_gap": null,
            "grid_row": null,
            "grid_template_areas": null,
            "grid_template_columns": null,
            "grid_template_rows": null,
            "height": null,
            "justify_content": null,
            "justify_items": null,
            "left": null,
            "margin": null,
            "max_height": null,
            "max_width": null,
            "min_height": null,
            "min_width": null,
            "object_fit": null,
            "object_position": null,
            "order": null,
            "overflow": null,
            "overflow_x": null,
            "overflow_y": null,
            "padding": null,
            "right": null,
            "top": null,
            "visibility": null,
            "width": null
          }
        },
        "4f6e632e857149d2830e53afe8c76582": {
          "model_module": "@jupyter-widgets/base",
          "model_name": "LayoutModel",
          "model_module_version": "1.2.0",
          "state": {
            "_model_module": "@jupyter-widgets/base",
            "_model_module_version": "1.2.0",
            "_model_name": "LayoutModel",
            "_view_count": null,
            "_view_module": "@jupyter-widgets/base",
            "_view_module_version": "1.2.0",
            "_view_name": "LayoutView",
            "align_content": null,
            "align_items": null,
            "align_self": null,
            "border": null,
            "bottom": null,
            "display": null,
            "flex": null,
            "flex_flow": null,
            "grid_area": null,
            "grid_auto_columns": null,
            "grid_auto_flow": null,
            "grid_auto_rows": null,
            "grid_column": null,
            "grid_gap": null,
            "grid_row": null,
            "grid_template_areas": null,
            "grid_template_columns": null,
            "grid_template_rows": null,
            "height": null,
            "justify_content": null,
            "justify_items": null,
            "left": null,
            "margin": null,
            "max_height": null,
            "max_width": null,
            "min_height": null,
            "min_width": null,
            "object_fit": null,
            "object_position": null,
            "order": null,
            "overflow": null,
            "overflow_x": null,
            "overflow_y": null,
            "padding": null,
            "right": null,
            "top": null,
            "visibility": null,
            "width": null
          }
        },
        "bc01e80beb794a679f701486e060e2a1": {
          "model_module": "@jupyter-widgets/controls",
          "model_name": "DescriptionStyleModel",
          "model_module_version": "1.5.0",
          "state": {
            "_model_module": "@jupyter-widgets/controls",
            "_model_module_version": "1.5.0",
            "_model_name": "DescriptionStyleModel",
            "_view_count": null,
            "_view_module": "@jupyter-widgets/base",
            "_view_module_version": "1.2.0",
            "_view_name": "StyleView",
            "description_width": ""
          }
        },
        "90835bf619964f21a3e5e95be5ab356a": {
          "model_module": "@jupyter-widgets/base",
          "model_name": "LayoutModel",
          "model_module_version": "1.2.0",
          "state": {
            "_model_module": "@jupyter-widgets/base",
            "_model_module_version": "1.2.0",
            "_model_name": "LayoutModel",
            "_view_count": null,
            "_view_module": "@jupyter-widgets/base",
            "_view_module_version": "1.2.0",
            "_view_name": "LayoutView",
            "align_content": null,
            "align_items": null,
            "align_self": null,
            "border": null,
            "bottom": null,
            "display": null,
            "flex": null,
            "flex_flow": null,
            "grid_area": null,
            "grid_auto_columns": null,
            "grid_auto_flow": null,
            "grid_auto_rows": null,
            "grid_column": null,
            "grid_gap": null,
            "grid_row": null,
            "grid_template_areas": null,
            "grid_template_columns": null,
            "grid_template_rows": null,
            "height": null,
            "justify_content": null,
            "justify_items": null,
            "left": null,
            "margin": null,
            "max_height": null,
            "max_width": null,
            "min_height": null,
            "min_width": null,
            "object_fit": null,
            "object_position": null,
            "order": null,
            "overflow": null,
            "overflow_x": null,
            "overflow_y": null,
            "padding": null,
            "right": null,
            "top": null,
            "visibility": null,
            "width": null
          }
        },
        "a3ac601c98f2486a8b9a4113e21af8f6": {
          "model_module": "@jupyter-widgets/controls",
          "model_name": "ProgressStyleModel",
          "model_module_version": "1.5.0",
          "state": {
            "_model_module": "@jupyter-widgets/controls",
            "_model_module_version": "1.5.0",
            "_model_name": "ProgressStyleModel",
            "_view_count": null,
            "_view_module": "@jupyter-widgets/base",
            "_view_module_version": "1.2.0",
            "_view_name": "StyleView",
            "bar_color": null,
            "description_width": ""
          }
        },
        "aef5608e9fb64157a5c170d1d1a2e0d5": {
          "model_module": "@jupyter-widgets/base",
          "model_name": "LayoutModel",
          "model_module_version": "1.2.0",
          "state": {
            "_model_module": "@jupyter-widgets/base",
            "_model_module_version": "1.2.0",
            "_model_name": "LayoutModel",
            "_view_count": null,
            "_view_module": "@jupyter-widgets/base",
            "_view_module_version": "1.2.0",
            "_view_name": "LayoutView",
            "align_content": null,
            "align_items": null,
            "align_self": null,
            "border": null,
            "bottom": null,
            "display": null,
            "flex": null,
            "flex_flow": null,
            "grid_area": null,
            "grid_auto_columns": null,
            "grid_auto_flow": null,
            "grid_auto_rows": null,
            "grid_column": null,
            "grid_gap": null,
            "grid_row": null,
            "grid_template_areas": null,
            "grid_template_columns": null,
            "grid_template_rows": null,
            "height": null,
            "justify_content": null,
            "justify_items": null,
            "left": null,
            "margin": null,
            "max_height": null,
            "max_width": null,
            "min_height": null,
            "min_width": null,
            "object_fit": null,
            "object_position": null,
            "order": null,
            "overflow": null,
            "overflow_x": null,
            "overflow_y": null,
            "padding": null,
            "right": null,
            "top": null,
            "visibility": null,
            "width": null
          }
        },
        "45b835388c7243c2a775bf991c174d03": {
          "model_module": "@jupyter-widgets/controls",
          "model_name": "DescriptionStyleModel",
          "model_module_version": "1.5.0",
          "state": {
            "_model_module": "@jupyter-widgets/controls",
            "_model_module_version": "1.5.0",
            "_model_name": "DescriptionStyleModel",
            "_view_count": null,
            "_view_module": "@jupyter-widgets/base",
            "_view_module_version": "1.2.0",
            "_view_name": "StyleView",
            "description_width": ""
          }
        },
        "949036f8315a45a09d1db26d0579d348": {
          "model_module": "@jupyter-widgets/controls",
          "model_name": "HBoxModel",
          "model_module_version": "1.5.0",
          "state": {
            "_dom_classes": [],
            "_model_module": "@jupyter-widgets/controls",
            "_model_module_version": "1.5.0",
            "_model_name": "HBoxModel",
            "_view_count": null,
            "_view_module": "@jupyter-widgets/controls",
            "_view_module_version": "1.5.0",
            "_view_name": "HBoxView",
            "box_style": "",
            "children": [
              "IPY_MODEL_9396360ef1554f2ea2afa18b6ce2f327",
              "IPY_MODEL_83052b61eb0945d8a79501a74d008c4e",
              "IPY_MODEL_968adf4dbc2d422cb22f773ab9e6d7e4"
            ],
            "layout": "IPY_MODEL_fc75d26599ee44fa998b9bc49c631aeb"
          }
        },
        "9396360ef1554f2ea2afa18b6ce2f327": {
          "model_module": "@jupyter-widgets/controls",
          "model_name": "HTMLModel",
          "model_module_version": "1.5.0",
          "state": {
            "_dom_classes": [],
            "_model_module": "@jupyter-widgets/controls",
            "_model_module_version": "1.5.0",
            "_model_name": "HTMLModel",
            "_view_count": null,
            "_view_module": "@jupyter-widgets/controls",
            "_view_module_version": "1.5.0",
            "_view_name": "HTMLView",
            "description": "",
            "description_tooltip": null,
            "layout": "IPY_MODEL_4bc489bfa8e54775b4d63b70f93957b5",
            "placeholder": "​",
            "style": "IPY_MODEL_ea421bf22997425ab6332927f5457cec",
            "value": "tokenizer_config.json: 100%"
          }
        },
        "83052b61eb0945d8a79501a74d008c4e": {
          "model_module": "@jupyter-widgets/controls",
          "model_name": "FloatProgressModel",
          "model_module_version": "1.5.0",
          "state": {
            "_dom_classes": [],
            "_model_module": "@jupyter-widgets/controls",
            "_model_module_version": "1.5.0",
            "_model_name": "FloatProgressModel",
            "_view_count": null,
            "_view_module": "@jupyter-widgets/controls",
            "_view_module_version": "1.5.0",
            "_view_name": "ProgressView",
            "bar_style": "success",
            "description": "",
            "description_tooltip": null,
            "layout": "IPY_MODEL_4afc5222009a4258b681489648060729",
            "max": 48,
            "min": 0,
            "orientation": "horizontal",
            "style": "IPY_MODEL_99fab69ed26946e58c242e2fbdc65f1c",
            "value": 48
          }
        },
        "968adf4dbc2d422cb22f773ab9e6d7e4": {
          "model_module": "@jupyter-widgets/controls",
          "model_name": "HTMLModel",
          "model_module_version": "1.5.0",
          "state": {
            "_dom_classes": [],
            "_model_module": "@jupyter-widgets/controls",
            "_model_module_version": "1.5.0",
            "_model_name": "HTMLModel",
            "_view_count": null,
            "_view_module": "@jupyter-widgets/controls",
            "_view_module_version": "1.5.0",
            "_view_name": "HTMLView",
            "description": "",
            "description_tooltip": null,
            "layout": "IPY_MODEL_6706174bf4e847538f517bcfe960bfcf",
            "placeholder": "​",
            "style": "IPY_MODEL_5a4120a7c500494ab755ccd1bbb383a7",
            "value": " 48.0/48.0 [00:00&lt;00:00, 3.16kB/s]"
          }
        },
        "fc75d26599ee44fa998b9bc49c631aeb": {
          "model_module": "@jupyter-widgets/base",
          "model_name": "LayoutModel",
          "model_module_version": "1.2.0",
          "state": {
            "_model_module": "@jupyter-widgets/base",
            "_model_module_version": "1.2.0",
            "_model_name": "LayoutModel",
            "_view_count": null,
            "_view_module": "@jupyter-widgets/base",
            "_view_module_version": "1.2.0",
            "_view_name": "LayoutView",
            "align_content": null,
            "align_items": null,
            "align_self": null,
            "border": null,
            "bottom": null,
            "display": null,
            "flex": null,
            "flex_flow": null,
            "grid_area": null,
            "grid_auto_columns": null,
            "grid_auto_flow": null,
            "grid_auto_rows": null,
            "grid_column": null,
            "grid_gap": null,
            "grid_row": null,
            "grid_template_areas": null,
            "grid_template_columns": null,
            "grid_template_rows": null,
            "height": null,
            "justify_content": null,
            "justify_items": null,
            "left": null,
            "margin": null,
            "max_height": null,
            "max_width": null,
            "min_height": null,
            "min_width": null,
            "object_fit": null,
            "object_position": null,
            "order": null,
            "overflow": null,
            "overflow_x": null,
            "overflow_y": null,
            "padding": null,
            "right": null,
            "top": null,
            "visibility": null,
            "width": null
          }
        },
        "4bc489bfa8e54775b4d63b70f93957b5": {
          "model_module": "@jupyter-widgets/base",
          "model_name": "LayoutModel",
          "model_module_version": "1.2.0",
          "state": {
            "_model_module": "@jupyter-widgets/base",
            "_model_module_version": "1.2.0",
            "_model_name": "LayoutModel",
            "_view_count": null,
            "_view_module": "@jupyter-widgets/base",
            "_view_module_version": "1.2.0",
            "_view_name": "LayoutView",
            "align_content": null,
            "align_items": null,
            "align_self": null,
            "border": null,
            "bottom": null,
            "display": null,
            "flex": null,
            "flex_flow": null,
            "grid_area": null,
            "grid_auto_columns": null,
            "grid_auto_flow": null,
            "grid_auto_rows": null,
            "grid_column": null,
            "grid_gap": null,
            "grid_row": null,
            "grid_template_areas": null,
            "grid_template_columns": null,
            "grid_template_rows": null,
            "height": null,
            "justify_content": null,
            "justify_items": null,
            "left": null,
            "margin": null,
            "max_height": null,
            "max_width": null,
            "min_height": null,
            "min_width": null,
            "object_fit": null,
            "object_position": null,
            "order": null,
            "overflow": null,
            "overflow_x": null,
            "overflow_y": null,
            "padding": null,
            "right": null,
            "top": null,
            "visibility": null,
            "width": null
          }
        },
        "ea421bf22997425ab6332927f5457cec": {
          "model_module": "@jupyter-widgets/controls",
          "model_name": "DescriptionStyleModel",
          "model_module_version": "1.5.0",
          "state": {
            "_model_module": "@jupyter-widgets/controls",
            "_model_module_version": "1.5.0",
            "_model_name": "DescriptionStyleModel",
            "_view_count": null,
            "_view_module": "@jupyter-widgets/base",
            "_view_module_version": "1.2.0",
            "_view_name": "StyleView",
            "description_width": ""
          }
        },
        "4afc5222009a4258b681489648060729": {
          "model_module": "@jupyter-widgets/base",
          "model_name": "LayoutModel",
          "model_module_version": "1.2.0",
          "state": {
            "_model_module": "@jupyter-widgets/base",
            "_model_module_version": "1.2.0",
            "_model_name": "LayoutModel",
            "_view_count": null,
            "_view_module": "@jupyter-widgets/base",
            "_view_module_version": "1.2.0",
            "_view_name": "LayoutView",
            "align_content": null,
            "align_items": null,
            "align_self": null,
            "border": null,
            "bottom": null,
            "display": null,
            "flex": null,
            "flex_flow": null,
            "grid_area": null,
            "grid_auto_columns": null,
            "grid_auto_flow": null,
            "grid_auto_rows": null,
            "grid_column": null,
            "grid_gap": null,
            "grid_row": null,
            "grid_template_areas": null,
            "grid_template_columns": null,
            "grid_template_rows": null,
            "height": null,
            "justify_content": null,
            "justify_items": null,
            "left": null,
            "margin": null,
            "max_height": null,
            "max_width": null,
            "min_height": null,
            "min_width": null,
            "object_fit": null,
            "object_position": null,
            "order": null,
            "overflow": null,
            "overflow_x": null,
            "overflow_y": null,
            "padding": null,
            "right": null,
            "top": null,
            "visibility": null,
            "width": null
          }
        },
        "99fab69ed26946e58c242e2fbdc65f1c": {
          "model_module": "@jupyter-widgets/controls",
          "model_name": "ProgressStyleModel",
          "model_module_version": "1.5.0",
          "state": {
            "_model_module": "@jupyter-widgets/controls",
            "_model_module_version": "1.5.0",
            "_model_name": "ProgressStyleModel",
            "_view_count": null,
            "_view_module": "@jupyter-widgets/base",
            "_view_module_version": "1.2.0",
            "_view_name": "StyleView",
            "bar_color": null,
            "description_width": ""
          }
        },
        "6706174bf4e847538f517bcfe960bfcf": {
          "model_module": "@jupyter-widgets/base",
          "model_name": "LayoutModel",
          "model_module_version": "1.2.0",
          "state": {
            "_model_module": "@jupyter-widgets/base",
            "_model_module_version": "1.2.0",
            "_model_name": "LayoutModel",
            "_view_count": null,
            "_view_module": "@jupyter-widgets/base",
            "_view_module_version": "1.2.0",
            "_view_name": "LayoutView",
            "align_content": null,
            "align_items": null,
            "align_self": null,
            "border": null,
            "bottom": null,
            "display": null,
            "flex": null,
            "flex_flow": null,
            "grid_area": null,
            "grid_auto_columns": null,
            "grid_auto_flow": null,
            "grid_auto_rows": null,
            "grid_column": null,
            "grid_gap": null,
            "grid_row": null,
            "grid_template_areas": null,
            "grid_template_columns": null,
            "grid_template_rows": null,
            "height": null,
            "justify_content": null,
            "justify_items": null,
            "left": null,
            "margin": null,
            "max_height": null,
            "max_width": null,
            "min_height": null,
            "min_width": null,
            "object_fit": null,
            "object_position": null,
            "order": null,
            "overflow": null,
            "overflow_x": null,
            "overflow_y": null,
            "padding": null,
            "right": null,
            "top": null,
            "visibility": null,
            "width": null
          }
        },
        "5a4120a7c500494ab755ccd1bbb383a7": {
          "model_module": "@jupyter-widgets/controls",
          "model_name": "DescriptionStyleModel",
          "model_module_version": "1.5.0",
          "state": {
            "_model_module": "@jupyter-widgets/controls",
            "_model_module_version": "1.5.0",
            "_model_name": "DescriptionStyleModel",
            "_view_count": null,
            "_view_module": "@jupyter-widgets/base",
            "_view_module_version": "1.2.0",
            "_view_name": "StyleView",
            "description_width": ""
          }
        },
        "543cfb457eab46f48638f2cfffe16eae": {
          "model_module": "@jupyter-widgets/controls",
          "model_name": "HBoxModel",
          "model_module_version": "1.5.0",
          "state": {
            "_dom_classes": [],
            "_model_module": "@jupyter-widgets/controls",
            "_model_module_version": "1.5.0",
            "_model_name": "HBoxModel",
            "_view_count": null,
            "_view_module": "@jupyter-widgets/controls",
            "_view_module_version": "1.5.0",
            "_view_name": "HBoxView",
            "box_style": "",
            "children": [
              "IPY_MODEL_53ea47a06cdc41ab9636f26d08b16e35",
              "IPY_MODEL_929477f3816144b68ed265e48980975e",
              "IPY_MODEL_970a0bcb7b4640acbd06031582166105"
            ],
            "layout": "IPY_MODEL_903e671b90974433b1a7bb33dbca2a43"
          }
        },
        "53ea47a06cdc41ab9636f26d08b16e35": {
          "model_module": "@jupyter-widgets/controls",
          "model_name": "HTMLModel",
          "model_module_version": "1.5.0",
          "state": {
            "_dom_classes": [],
            "_model_module": "@jupyter-widgets/controls",
            "_model_module_version": "1.5.0",
            "_model_name": "HTMLModel",
            "_view_count": null,
            "_view_module": "@jupyter-widgets/controls",
            "_view_module_version": "1.5.0",
            "_view_name": "HTMLView",
            "description": "",
            "description_tooltip": null,
            "layout": "IPY_MODEL_569c10fbb59343b3aa1be97e27feb925",
            "placeholder": "​",
            "style": "IPY_MODEL_c486908e8b4844a39e42c20bf9669cb4",
            "value": "vocab.txt: 100%"
          }
        },
        "929477f3816144b68ed265e48980975e": {
          "model_module": "@jupyter-widgets/controls",
          "model_name": "FloatProgressModel",
          "model_module_version": "1.5.0",
          "state": {
            "_dom_classes": [],
            "_model_module": "@jupyter-widgets/controls",
            "_model_module_version": "1.5.0",
            "_model_name": "FloatProgressModel",
            "_view_count": null,
            "_view_module": "@jupyter-widgets/controls",
            "_view_module_version": "1.5.0",
            "_view_name": "ProgressView",
            "bar_style": "success",
            "description": "",
            "description_tooltip": null,
            "layout": "IPY_MODEL_b8e663a6371d43c39f68aec7d791679e",
            "max": 231508,
            "min": 0,
            "orientation": "horizontal",
            "style": "IPY_MODEL_5369ac1be16745e1a261b83876abe1cf",
            "value": 231508
          }
        },
        "970a0bcb7b4640acbd06031582166105": {
          "model_module": "@jupyter-widgets/controls",
          "model_name": "HTMLModel",
          "model_module_version": "1.5.0",
          "state": {
            "_dom_classes": [],
            "_model_module": "@jupyter-widgets/controls",
            "_model_module_version": "1.5.0",
            "_model_name": "HTMLModel",
            "_view_count": null,
            "_view_module": "@jupyter-widgets/controls",
            "_view_module_version": "1.5.0",
            "_view_name": "HTMLView",
            "description": "",
            "description_tooltip": null,
            "layout": "IPY_MODEL_3c051c5c2e1c4600a54efaa3780d5807",
            "placeholder": "​",
            "style": "IPY_MODEL_047dcc4cdfea4af29a1a9dc1233987f7",
            "value": " 232k/232k [00:00&lt;00:00, 3.00MB/s]"
          }
        },
        "903e671b90974433b1a7bb33dbca2a43": {
          "model_module": "@jupyter-widgets/base",
          "model_name": "LayoutModel",
          "model_module_version": "1.2.0",
          "state": {
            "_model_module": "@jupyter-widgets/base",
            "_model_module_version": "1.2.0",
            "_model_name": "LayoutModel",
            "_view_count": null,
            "_view_module": "@jupyter-widgets/base",
            "_view_module_version": "1.2.0",
            "_view_name": "LayoutView",
            "align_content": null,
            "align_items": null,
            "align_self": null,
            "border": null,
            "bottom": null,
            "display": null,
            "flex": null,
            "flex_flow": null,
            "grid_area": null,
            "grid_auto_columns": null,
            "grid_auto_flow": null,
            "grid_auto_rows": null,
            "grid_column": null,
            "grid_gap": null,
            "grid_row": null,
            "grid_template_areas": null,
            "grid_template_columns": null,
            "grid_template_rows": null,
            "height": null,
            "justify_content": null,
            "justify_items": null,
            "left": null,
            "margin": null,
            "max_height": null,
            "max_width": null,
            "min_height": null,
            "min_width": null,
            "object_fit": null,
            "object_position": null,
            "order": null,
            "overflow": null,
            "overflow_x": null,
            "overflow_y": null,
            "padding": null,
            "right": null,
            "top": null,
            "visibility": null,
            "width": null
          }
        },
        "569c10fbb59343b3aa1be97e27feb925": {
          "model_module": "@jupyter-widgets/base",
          "model_name": "LayoutModel",
          "model_module_version": "1.2.0",
          "state": {
            "_model_module": "@jupyter-widgets/base",
            "_model_module_version": "1.2.0",
            "_model_name": "LayoutModel",
            "_view_count": null,
            "_view_module": "@jupyter-widgets/base",
            "_view_module_version": "1.2.0",
            "_view_name": "LayoutView",
            "align_content": null,
            "align_items": null,
            "align_self": null,
            "border": null,
            "bottom": null,
            "display": null,
            "flex": null,
            "flex_flow": null,
            "grid_area": null,
            "grid_auto_columns": null,
            "grid_auto_flow": null,
            "grid_auto_rows": null,
            "grid_column": null,
            "grid_gap": null,
            "grid_row": null,
            "grid_template_areas": null,
            "grid_template_columns": null,
            "grid_template_rows": null,
            "height": null,
            "justify_content": null,
            "justify_items": null,
            "left": null,
            "margin": null,
            "max_height": null,
            "max_width": null,
            "min_height": null,
            "min_width": null,
            "object_fit": null,
            "object_position": null,
            "order": null,
            "overflow": null,
            "overflow_x": null,
            "overflow_y": null,
            "padding": null,
            "right": null,
            "top": null,
            "visibility": null,
            "width": null
          }
        },
        "c486908e8b4844a39e42c20bf9669cb4": {
          "model_module": "@jupyter-widgets/controls",
          "model_name": "DescriptionStyleModel",
          "model_module_version": "1.5.0",
          "state": {
            "_model_module": "@jupyter-widgets/controls",
            "_model_module_version": "1.5.0",
            "_model_name": "DescriptionStyleModel",
            "_view_count": null,
            "_view_module": "@jupyter-widgets/base",
            "_view_module_version": "1.2.0",
            "_view_name": "StyleView",
            "description_width": ""
          }
        },
        "b8e663a6371d43c39f68aec7d791679e": {
          "model_module": "@jupyter-widgets/base",
          "model_name": "LayoutModel",
          "model_module_version": "1.2.0",
          "state": {
            "_model_module": "@jupyter-widgets/base",
            "_model_module_version": "1.2.0",
            "_model_name": "LayoutModel",
            "_view_count": null,
            "_view_module": "@jupyter-widgets/base",
            "_view_module_version": "1.2.0",
            "_view_name": "LayoutView",
            "align_content": null,
            "align_items": null,
            "align_self": null,
            "border": null,
            "bottom": null,
            "display": null,
            "flex": null,
            "flex_flow": null,
            "grid_area": null,
            "grid_auto_columns": null,
            "grid_auto_flow": null,
            "grid_auto_rows": null,
            "grid_column": null,
            "grid_gap": null,
            "grid_row": null,
            "grid_template_areas": null,
            "grid_template_columns": null,
            "grid_template_rows": null,
            "height": null,
            "justify_content": null,
            "justify_items": null,
            "left": null,
            "margin": null,
            "max_height": null,
            "max_width": null,
            "min_height": null,
            "min_width": null,
            "object_fit": null,
            "object_position": null,
            "order": null,
            "overflow": null,
            "overflow_x": null,
            "overflow_y": null,
            "padding": null,
            "right": null,
            "top": null,
            "visibility": null,
            "width": null
          }
        },
        "5369ac1be16745e1a261b83876abe1cf": {
          "model_module": "@jupyter-widgets/controls",
          "model_name": "ProgressStyleModel",
          "model_module_version": "1.5.0",
          "state": {
            "_model_module": "@jupyter-widgets/controls",
            "_model_module_version": "1.5.0",
            "_model_name": "ProgressStyleModel",
            "_view_count": null,
            "_view_module": "@jupyter-widgets/base",
            "_view_module_version": "1.2.0",
            "_view_name": "StyleView",
            "bar_color": null,
            "description_width": ""
          }
        },
        "3c051c5c2e1c4600a54efaa3780d5807": {
          "model_module": "@jupyter-widgets/base",
          "model_name": "LayoutModel",
          "model_module_version": "1.2.0",
          "state": {
            "_model_module": "@jupyter-widgets/base",
            "_model_module_version": "1.2.0",
            "_model_name": "LayoutModel",
            "_view_count": null,
            "_view_module": "@jupyter-widgets/base",
            "_view_module_version": "1.2.0",
            "_view_name": "LayoutView",
            "align_content": null,
            "align_items": null,
            "align_self": null,
            "border": null,
            "bottom": null,
            "display": null,
            "flex": null,
            "flex_flow": null,
            "grid_area": null,
            "grid_auto_columns": null,
            "grid_auto_flow": null,
            "grid_auto_rows": null,
            "grid_column": null,
            "grid_gap": null,
            "grid_row": null,
            "grid_template_areas": null,
            "grid_template_columns": null,
            "grid_template_rows": null,
            "height": null,
            "justify_content": null,
            "justify_items": null,
            "left": null,
            "margin": null,
            "max_height": null,
            "max_width": null,
            "min_height": null,
            "min_width": null,
            "object_fit": null,
            "object_position": null,
            "order": null,
            "overflow": null,
            "overflow_x": null,
            "overflow_y": null,
            "padding": null,
            "right": null,
            "top": null,
            "visibility": null,
            "width": null
          }
        },
        "047dcc4cdfea4af29a1a9dc1233987f7": {
          "model_module": "@jupyter-widgets/controls",
          "model_name": "DescriptionStyleModel",
          "model_module_version": "1.5.0",
          "state": {
            "_model_module": "@jupyter-widgets/controls",
            "_model_module_version": "1.5.0",
            "_model_name": "DescriptionStyleModel",
            "_view_count": null,
            "_view_module": "@jupyter-widgets/base",
            "_view_module_version": "1.2.0",
            "_view_name": "StyleView",
            "description_width": ""
          }
        },
        "f646c12842204d71a86344f0921d8ed0": {
          "model_module": "@jupyter-widgets/controls",
          "model_name": "HBoxModel",
          "model_module_version": "1.5.0",
          "state": {
            "_dom_classes": [],
            "_model_module": "@jupyter-widgets/controls",
            "_model_module_version": "1.5.0",
            "_model_name": "HBoxModel",
            "_view_count": null,
            "_view_module": "@jupyter-widgets/controls",
            "_view_module_version": "1.5.0",
            "_view_name": "HBoxView",
            "box_style": "",
            "children": [
              "IPY_MODEL_b229dbeef2a2484a87c6b8a2cc27e311",
              "IPY_MODEL_22eacb36b06a43beb5ce007d2a3d3449",
              "IPY_MODEL_60f3a2441c4540a4b46faa577629d275"
            ],
            "layout": "IPY_MODEL_0e60cc98f8cd4892a07910bb174f67c4"
          }
        },
        "b229dbeef2a2484a87c6b8a2cc27e311": {
          "model_module": "@jupyter-widgets/controls",
          "model_name": "HTMLModel",
          "model_module_version": "1.5.0",
          "state": {
            "_dom_classes": [],
            "_model_module": "@jupyter-widgets/controls",
            "_model_module_version": "1.5.0",
            "_model_name": "HTMLModel",
            "_view_count": null,
            "_view_module": "@jupyter-widgets/controls",
            "_view_module_version": "1.5.0",
            "_view_name": "HTMLView",
            "description": "",
            "description_tooltip": null,
            "layout": "IPY_MODEL_528c6b4fcedf493282f8c939066beeb8",
            "placeholder": "​",
            "style": "IPY_MODEL_c6345781d4054f1ab2326186270efa60",
            "value": "tokenizer.json: 100%"
          }
        },
        "22eacb36b06a43beb5ce007d2a3d3449": {
          "model_module": "@jupyter-widgets/controls",
          "model_name": "FloatProgressModel",
          "model_module_version": "1.5.0",
          "state": {
            "_dom_classes": [],
            "_model_module": "@jupyter-widgets/controls",
            "_model_module_version": "1.5.0",
            "_model_name": "FloatProgressModel",
            "_view_count": null,
            "_view_module": "@jupyter-widgets/controls",
            "_view_module_version": "1.5.0",
            "_view_name": "ProgressView",
            "bar_style": "success",
            "description": "",
            "description_tooltip": null,
            "layout": "IPY_MODEL_addb3219032a4ba4abe095369d912f6c",
            "max": 466062,
            "min": 0,
            "orientation": "horizontal",
            "style": "IPY_MODEL_9f3f129596074a4388e6d927e7873e8f",
            "value": 466062
          }
        },
        "60f3a2441c4540a4b46faa577629d275": {
          "model_module": "@jupyter-widgets/controls",
          "model_name": "HTMLModel",
          "model_module_version": "1.5.0",
          "state": {
            "_dom_classes": [],
            "_model_module": "@jupyter-widgets/controls",
            "_model_module_version": "1.5.0",
            "_model_name": "HTMLModel",
            "_view_count": null,
            "_view_module": "@jupyter-widgets/controls",
            "_view_module_version": "1.5.0",
            "_view_name": "HTMLView",
            "description": "",
            "description_tooltip": null,
            "layout": "IPY_MODEL_0e2c1627b00848088cee76ac1eac6764",
            "placeholder": "​",
            "style": "IPY_MODEL_9b9c4f16672341f3a58f83232b12e7c2",
            "value": " 466k/466k [00:00&lt;00:00, 5.80MB/s]"
          }
        },
        "0e60cc98f8cd4892a07910bb174f67c4": {
          "model_module": "@jupyter-widgets/base",
          "model_name": "LayoutModel",
          "model_module_version": "1.2.0",
          "state": {
            "_model_module": "@jupyter-widgets/base",
            "_model_module_version": "1.2.0",
            "_model_name": "LayoutModel",
            "_view_count": null,
            "_view_module": "@jupyter-widgets/base",
            "_view_module_version": "1.2.0",
            "_view_name": "LayoutView",
            "align_content": null,
            "align_items": null,
            "align_self": null,
            "border": null,
            "bottom": null,
            "display": null,
            "flex": null,
            "flex_flow": null,
            "grid_area": null,
            "grid_auto_columns": null,
            "grid_auto_flow": null,
            "grid_auto_rows": null,
            "grid_column": null,
            "grid_gap": null,
            "grid_row": null,
            "grid_template_areas": null,
            "grid_template_columns": null,
            "grid_template_rows": null,
            "height": null,
            "justify_content": null,
            "justify_items": null,
            "left": null,
            "margin": null,
            "max_height": null,
            "max_width": null,
            "min_height": null,
            "min_width": null,
            "object_fit": null,
            "object_position": null,
            "order": null,
            "overflow": null,
            "overflow_x": null,
            "overflow_y": null,
            "padding": null,
            "right": null,
            "top": null,
            "visibility": null,
            "width": null
          }
        },
        "528c6b4fcedf493282f8c939066beeb8": {
          "model_module": "@jupyter-widgets/base",
          "model_name": "LayoutModel",
          "model_module_version": "1.2.0",
          "state": {
            "_model_module": "@jupyter-widgets/base",
            "_model_module_version": "1.2.0",
            "_model_name": "LayoutModel",
            "_view_count": null,
            "_view_module": "@jupyter-widgets/base",
            "_view_module_version": "1.2.0",
            "_view_name": "LayoutView",
            "align_content": null,
            "align_items": null,
            "align_self": null,
            "border": null,
            "bottom": null,
            "display": null,
            "flex": null,
            "flex_flow": null,
            "grid_area": null,
            "grid_auto_columns": null,
            "grid_auto_flow": null,
            "grid_auto_rows": null,
            "grid_column": null,
            "grid_gap": null,
            "grid_row": null,
            "grid_template_areas": null,
            "grid_template_columns": null,
            "grid_template_rows": null,
            "height": null,
            "justify_content": null,
            "justify_items": null,
            "left": null,
            "margin": null,
            "max_height": null,
            "max_width": null,
            "min_height": null,
            "min_width": null,
            "object_fit": null,
            "object_position": null,
            "order": null,
            "overflow": null,
            "overflow_x": null,
            "overflow_y": null,
            "padding": null,
            "right": null,
            "top": null,
            "visibility": null,
            "width": null
          }
        },
        "c6345781d4054f1ab2326186270efa60": {
          "model_module": "@jupyter-widgets/controls",
          "model_name": "DescriptionStyleModel",
          "model_module_version": "1.5.0",
          "state": {
            "_model_module": "@jupyter-widgets/controls",
            "_model_module_version": "1.5.0",
            "_model_name": "DescriptionStyleModel",
            "_view_count": null,
            "_view_module": "@jupyter-widgets/base",
            "_view_module_version": "1.2.0",
            "_view_name": "StyleView",
            "description_width": ""
          }
        },
        "addb3219032a4ba4abe095369d912f6c": {
          "model_module": "@jupyter-widgets/base",
          "model_name": "LayoutModel",
          "model_module_version": "1.2.0",
          "state": {
            "_model_module": "@jupyter-widgets/base",
            "_model_module_version": "1.2.0",
            "_model_name": "LayoutModel",
            "_view_count": null,
            "_view_module": "@jupyter-widgets/base",
            "_view_module_version": "1.2.0",
            "_view_name": "LayoutView",
            "align_content": null,
            "align_items": null,
            "align_self": null,
            "border": null,
            "bottom": null,
            "display": null,
            "flex": null,
            "flex_flow": null,
            "grid_area": null,
            "grid_auto_columns": null,
            "grid_auto_flow": null,
            "grid_auto_rows": null,
            "grid_column": null,
            "grid_gap": null,
            "grid_row": null,
            "grid_template_areas": null,
            "grid_template_columns": null,
            "grid_template_rows": null,
            "height": null,
            "justify_content": null,
            "justify_items": null,
            "left": null,
            "margin": null,
            "max_height": null,
            "max_width": null,
            "min_height": null,
            "min_width": null,
            "object_fit": null,
            "object_position": null,
            "order": null,
            "overflow": null,
            "overflow_x": null,
            "overflow_y": null,
            "padding": null,
            "right": null,
            "top": null,
            "visibility": null,
            "width": null
          }
        },
        "9f3f129596074a4388e6d927e7873e8f": {
          "model_module": "@jupyter-widgets/controls",
          "model_name": "ProgressStyleModel",
          "model_module_version": "1.5.0",
          "state": {
            "_model_module": "@jupyter-widgets/controls",
            "_model_module_version": "1.5.0",
            "_model_name": "ProgressStyleModel",
            "_view_count": null,
            "_view_module": "@jupyter-widgets/base",
            "_view_module_version": "1.2.0",
            "_view_name": "StyleView",
            "bar_color": null,
            "description_width": ""
          }
        },
        "0e2c1627b00848088cee76ac1eac6764": {
          "model_module": "@jupyter-widgets/base",
          "model_name": "LayoutModel",
          "model_module_version": "1.2.0",
          "state": {
            "_model_module": "@jupyter-widgets/base",
            "_model_module_version": "1.2.0",
            "_model_name": "LayoutModel",
            "_view_count": null,
            "_view_module": "@jupyter-widgets/base",
            "_view_module_version": "1.2.0",
            "_view_name": "LayoutView",
            "align_content": null,
            "align_items": null,
            "align_self": null,
            "border": null,
            "bottom": null,
            "display": null,
            "flex": null,
            "flex_flow": null,
            "grid_area": null,
            "grid_auto_columns": null,
            "grid_auto_flow": null,
            "grid_auto_rows": null,
            "grid_column": null,
            "grid_gap": null,
            "grid_row": null,
            "grid_template_areas": null,
            "grid_template_columns": null,
            "grid_template_rows": null,
            "height": null,
            "justify_content": null,
            "justify_items": null,
            "left": null,
            "margin": null,
            "max_height": null,
            "max_width": null,
            "min_height": null,
            "min_width": null,
            "object_fit": null,
            "object_position": null,
            "order": null,
            "overflow": null,
            "overflow_x": null,
            "overflow_y": null,
            "padding": null,
            "right": null,
            "top": null,
            "visibility": null,
            "width": null
          }
        },
        "9b9c4f16672341f3a58f83232b12e7c2": {
          "model_module": "@jupyter-widgets/controls",
          "model_name": "DescriptionStyleModel",
          "model_module_version": "1.5.0",
          "state": {
            "_model_module": "@jupyter-widgets/controls",
            "_model_module_version": "1.5.0",
            "_model_name": "DescriptionStyleModel",
            "_view_count": null,
            "_view_module": "@jupyter-widgets/base",
            "_view_module_version": "1.2.0",
            "_view_name": "StyleView",
            "description_width": ""
          }
        }
      }
    },
    "accelerator": "GPU"
  },
  "cells": [
    {
      "cell_type": "markdown",
      "metadata": {
        "id": "view-in-github",
        "colab_type": "text"
      },
      "source": [
        "<a href=\"https://colab.research.google.com/github/nilesh2gupta/UBC_project/blob/main/Bert_testing.ipynb\" target=\"_parent\"><img src=\"https://colab.research.google.com/assets/colab-badge.svg\" alt=\"Open In Colab\"/></a>"
      ]
    },
    {
      "cell_type": "code",
      "execution_count": null,
      "metadata": {
        "id": "yuxC4Z-KQObE"
      },
      "outputs": [],
      "source": [
        "import tensorflow as tf\n",
        "from transformers import TFAutoModel, AutoTokenizer\n"
      ]
    },
    {
      "cell_type": "code",
      "source": [
        "bert_model = TFAutoModel.from_pretrained(\"bert-base-uncased\")"
      ],
      "metadata": {
        "id": "kbcBTBISQZCg",
        "colab": {
          "base_uri": "https://localhost:8080/",
          "height": 292,
          "referenced_widgets": [
            "156db678749d4998af4e03670391b3cc",
            "fdf0cb0b8b80402cadf0bb12f50db0ad",
            "4ade3cef7f6d4e259e3258880f74bc0e",
            "a2ea9c696fca41e292731072164c31d2",
            "3c4940d8d03146d6918fad4ada9e9041",
            "f033e95d3e4c4d88bdf605840dd53764",
            "bc2e7c74165c425d8bbf804ad8401e1a",
            "49850d313476464081ed63fe8886c4b5",
            "13568a1600134ae49b09845633645642",
            "693934e976a64072bdfb3d67b526ca9e",
            "3ec00f0f102c4a30916686d34e08dda1",
            "023d80034cd740e1bde6855377ac055a",
            "d0672a35bfae49c291946d0cb7148d51",
            "2ffcef47736040b28955bac6deca9384",
            "e8ab38e7a66c4ef1a765de1f1d52a085",
            "893ef73351ee4914ac42a326a3502c07",
            "4f6e632e857149d2830e53afe8c76582",
            "bc01e80beb794a679f701486e060e2a1",
            "90835bf619964f21a3e5e95be5ab356a",
            "a3ac601c98f2486a8b9a4113e21af8f6",
            "aef5608e9fb64157a5c170d1d1a2e0d5",
            "45b835388c7243c2a775bf991c174d03"
          ]
        },
        "outputId": "78b57793-ad38-46f3-c5f7-9f5c7add42b8"
      },
      "execution_count": null,
      "outputs": [
        {
          "output_type": "stream",
          "name": "stderr",
          "text": [
            "/usr/local/lib/python3.10/dist-packages/huggingface_hub/utils/_token.py:89: UserWarning: \n",
            "The secret `HF_TOKEN` does not exist in your Colab secrets.\n",
            "To authenticate with the Hugging Face Hub, create a token in your settings tab (https://huggingface.co/settings/tokens), set it as secret in your Google Colab and restart your session.\n",
            "You will be able to reuse this secret in all of your notebooks.\n",
            "Please note that authentication is recommended but still optional to access public models or datasets.\n",
            "  warnings.warn(\n"
          ]
        },
        {
          "output_type": "display_data",
          "data": {
            "text/plain": [
              "config.json:   0%|          | 0.00/570 [00:00<?, ?B/s]"
            ],
            "application/vnd.jupyter.widget-view+json": {
              "version_major": 2,
              "version_minor": 0,
              "model_id": "156db678749d4998af4e03670391b3cc"
            }
          },
          "metadata": {}
        },
        {
          "output_type": "display_data",
          "data": {
            "text/plain": [
              "model.safetensors:   0%|          | 0.00/440M [00:00<?, ?B/s]"
            ],
            "application/vnd.jupyter.widget-view+json": {
              "version_major": 2,
              "version_minor": 0,
              "model_id": "023d80034cd740e1bde6855377ac055a"
            }
          },
          "metadata": {}
        },
        {
          "output_type": "stream",
          "name": "stderr",
          "text": [
            "Some weights of the PyTorch model were not used when initializing the TF 2.0 model TFBertModel: ['cls.seq_relationship.weight', 'cls.predictions.transform.dense.weight', 'cls.seq_relationship.bias', 'cls.predictions.bias', 'cls.predictions.transform.LayerNorm.weight', 'cls.predictions.transform.dense.bias', 'cls.predictions.transform.LayerNorm.bias']\n",
            "- This IS expected if you are initializing TFBertModel from a PyTorch model trained on another task or with another architecture (e.g. initializing a TFBertForSequenceClassification model from a BertForPreTraining model).\n",
            "- This IS NOT expected if you are initializing TFBertModel from a PyTorch model that you expect to be exactly identical (e.g. initializing a TFBertForSequenceClassification model from a BertForSequenceClassification model).\n",
            "All the weights of TFBertModel were initialized from the PyTorch model.\n",
            "If your task is similar to the task the model of the checkpoint was trained on, you can already use TFBertModel for predictions without further training.\n"
          ]
        }
      ]
    },
    {
      "cell_type": "code",
      "source": [
        "tokenizer = AutoTokenizer.from_pretrained(\"bert-base-uncased\")\n"
      ],
      "metadata": {
        "id": "h_MmECIZQZFq",
        "colab": {
          "base_uri": "https://localhost:8080/",
          "height": 113,
          "referenced_widgets": [
            "949036f8315a45a09d1db26d0579d348",
            "9396360ef1554f2ea2afa18b6ce2f327",
            "83052b61eb0945d8a79501a74d008c4e",
            "968adf4dbc2d422cb22f773ab9e6d7e4",
            "fc75d26599ee44fa998b9bc49c631aeb",
            "4bc489bfa8e54775b4d63b70f93957b5",
            "ea421bf22997425ab6332927f5457cec",
            "4afc5222009a4258b681489648060729",
            "99fab69ed26946e58c242e2fbdc65f1c",
            "6706174bf4e847538f517bcfe960bfcf",
            "5a4120a7c500494ab755ccd1bbb383a7",
            "543cfb457eab46f48638f2cfffe16eae",
            "53ea47a06cdc41ab9636f26d08b16e35",
            "929477f3816144b68ed265e48980975e",
            "970a0bcb7b4640acbd06031582166105",
            "903e671b90974433b1a7bb33dbca2a43",
            "569c10fbb59343b3aa1be97e27feb925",
            "c486908e8b4844a39e42c20bf9669cb4",
            "b8e663a6371d43c39f68aec7d791679e",
            "5369ac1be16745e1a261b83876abe1cf",
            "3c051c5c2e1c4600a54efaa3780d5807",
            "047dcc4cdfea4af29a1a9dc1233987f7",
            "f646c12842204d71a86344f0921d8ed0",
            "b229dbeef2a2484a87c6b8a2cc27e311",
            "22eacb36b06a43beb5ce007d2a3d3449",
            "60f3a2441c4540a4b46faa577629d275",
            "0e60cc98f8cd4892a07910bb174f67c4",
            "528c6b4fcedf493282f8c939066beeb8",
            "c6345781d4054f1ab2326186270efa60",
            "addb3219032a4ba4abe095369d912f6c",
            "9f3f129596074a4388e6d927e7873e8f",
            "0e2c1627b00848088cee76ac1eac6764",
            "9b9c4f16672341f3a58f83232b12e7c2"
          ]
        },
        "outputId": "51535e5d-8401-442c-ecca-af9fcb773f65"
      },
      "execution_count": null,
      "outputs": [
        {
          "output_type": "display_data",
          "data": {
            "text/plain": [
              "tokenizer_config.json:   0%|          | 0.00/48.0 [00:00<?, ?B/s]"
            ],
            "application/vnd.jupyter.widget-view+json": {
              "version_major": 2,
              "version_minor": 0,
              "model_id": "949036f8315a45a09d1db26d0579d348"
            }
          },
          "metadata": {}
        },
        {
          "output_type": "display_data",
          "data": {
            "text/plain": [
              "vocab.txt:   0%|          | 0.00/232k [00:00<?, ?B/s]"
            ],
            "application/vnd.jupyter.widget-view+json": {
              "version_major": 2,
              "version_minor": 0,
              "model_id": "543cfb457eab46f48638f2cfffe16eae"
            }
          },
          "metadata": {}
        },
        {
          "output_type": "display_data",
          "data": {
            "text/plain": [
              "tokenizer.json:   0%|          | 0.00/466k [00:00<?, ?B/s]"
            ],
            "application/vnd.jupyter.widget-view+json": {
              "version_major": 2,
              "version_minor": 0,
              "model_id": "f646c12842204d71a86344f0921d8ed0"
            }
          },
          "metadata": {}
        }
      ]
    },
    {
      "cell_type": "code",
      "source": [
        "import tensorflow as tf\n",
        "from transformers import TFRobertaModel, RobertaTokenizer\n",
        "tokenizer = RobertaTokenizer.from_pretrained('roberta-base')\n",
        "RoBERTa_model = TFRobertaModel.from_pretrained('roberta-base')"
      ],
      "metadata": {
        "colab": {
          "base_uri": "https://localhost:8080/"
        },
        "collapsed": true,
        "id": "U97dlDN_6hH3",
        "outputId": "b738222b-4b8d-4812-8fb6-9f41450b5473"
      },
      "execution_count": null,
      "outputs": [
        {
          "output_type": "stream",
          "name": "stderr",
          "text": [
            "Some weights of the PyTorch model were not used when initializing the TF 2.0 model TFRobertaModel: ['roberta.embeddings.position_ids', 'lm_head.dense.bias', 'lm_head.dense.weight', 'lm_head.layer_norm.weight', 'lm_head.bias', 'lm_head.layer_norm.bias']\n",
            "- This IS expected if you are initializing TFRobertaModel from a PyTorch model trained on another task or with another architecture (e.g. initializing a TFBertForSequenceClassification model from a BertForPreTraining model).\n",
            "- This IS NOT expected if you are initializing TFRobertaModel from a PyTorch model that you expect to be exactly identical (e.g. initializing a TFBertForSequenceClassification model from a BertForSequenceClassification model).\n",
            "Some weights or buffers of the TF 2.0 model TFRobertaModel were not initialized from the PyTorch model and are newly initialized: ['roberta.pooler.dense.weight', 'roberta.pooler.dense.bias']\n",
            "You should probably TRAIN this model on a down-stream task to be able to use it for predictions and inference.\n"
          ]
        }
      ]
    },
    {
      "cell_type": "code",
      "source": [
        "def get_bert_input(text):\n",
        "    inputs = tokenizer(text, padding=True, truncation=True, return_tensors='tf')\n",
        "    return inputs\n",
        "\n",
        "def get_bert_last_hidden_state_output(inputs,model):\n",
        "    output = model(inputs)\n",
        "    return output.last_hidden_state.numpy()\n",
        "\n",
        "def get_bert_pooler_output(inputs,model):\n",
        "    output=model(inputs)\n",
        "    return output.pooler_output.numpy()\n",
        "\n",
        "def convert_to_bert_last_hidden_state_output(text,model):\n",
        "    inputs =get_bert_input(text)\n",
        "    output = get_bert_last_hidden_state_output(inputs,model)\n",
        "    return output\n",
        "\n",
        "def convert_to_bert_pooler_output(text,model):\n",
        "    inputs =get_bert_input(text)\n",
        "    output = get_bert_pooler_output(inputs,model)\n",
        "    return  output\n",
        "\n",
        "def model_prediction_input(text,max_squence_length,bert_model):\n",
        "    inputs = tokenizer(text, padding=True, truncation=True,max_length=max_squence_length, return_tensors='tf')\n",
        "    padded_input = tokenizer.pad(inputs, max_length=max_squence_length, padding='max_length', return_tensors='tf')\n",
        "    output=bert_model(padded_input)\n",
        "    return output.last_hidden_state.numpy()\n"
      ],
      "metadata": {
        "id": "PmA-ZQdYQZIM"
      },
      "execution_count": null,
      "outputs": []
    },
    {
      "cell_type": "code",
      "source": [
        "import pandas as pd\n",
        "import numpy as np\n",
        "df_new=pd.read_csv('/content/drive/MyDrive/UBC_project/cleaned_data.csv',encoding='UTF-8')"
      ],
      "metadata": {
        "id": "deNliI4Lf77c"
      },
      "execution_count": null,
      "outputs": []
    },
    {
      "cell_type": "code",
      "source": [
        "import re\n",
        "\n",
        "special_symbols = ['â€˜', 'â€ ™', '€ ™', '€ ¦', '€','â€ \"','â€\"']\n",
        "\n",
        "def remove_special_symbol(text):\n",
        "\n",
        "    pattern = '|'.join(map(re.escape, special_symbols))\n",
        "    cleaned_text = re.sub(pattern, '', text)\n",
        "\n",
        "    return cleaned_text"
      ],
      "metadata": {
        "id": "mwrJhbfKgFxk"
      },
      "execution_count": null,
      "outputs": []
    },
    {
      "cell_type": "code",
      "source": [
        "df_new['claims']=df_new['claims'].apply(lambda x:remove_special_symbol(x))\n",
        "df_new"
      ],
      "metadata": {
        "colab": {
          "base_uri": "https://localhost:8080/",
          "height": 423
        },
        "id": "8Zixl2nkgFvj",
        "outputId": "bbb00431-a51b-4a39-a0fd-4dafd2653c4f"
      },
      "execution_count": null,
      "outputs": [
        {
          "output_type": "execute_result",
          "data": {
            "text/plain": [
              "                                                  claims claims_labels\n",
              "0      global warming drive polar bear toward extinction      SUPPORTS\n",
              "1      the sun go lockdown could cause freeze weather...      SUPPORTS\n",
              "2                         the polar bear population grow       REFUTES\n",
              "3             ironic study find CO2 slightly cool planet       REFUTES\n",
              "4      human addition CO2 margin error current measur...       REFUTES\n",
              "...                                                  ...           ...\n",
              "10025  these conservative estimate wait see actual ou...       REFUTES\n",
              "10026                                  so of follow suit      SUPPORTS\n",
              "10027  in past month 1200 people die amid flood Bangl...      SUPPORTS\n",
              "10028  some Grumpy s sweet generate national coverage...      SUPPORTS\n",
              "10029                             here s science tell we       REFUTES\n",
              "\n",
              "[10030 rows x 2 columns]"
            ],
            "text/html": [
              "\n",
              "  <div id=\"df-58ce1e90-2de4-4069-85b4-1e3e7d611d62\" class=\"colab-df-container\">\n",
              "    <div>\n",
              "<style scoped>\n",
              "    .dataframe tbody tr th:only-of-type {\n",
              "        vertical-align: middle;\n",
              "    }\n",
              "\n",
              "    .dataframe tbody tr th {\n",
              "        vertical-align: top;\n",
              "    }\n",
              "\n",
              "    .dataframe thead th {\n",
              "        text-align: right;\n",
              "    }\n",
              "</style>\n",
              "<table border=\"1\" class=\"dataframe\">\n",
              "  <thead>\n",
              "    <tr style=\"text-align: right;\">\n",
              "      <th></th>\n",
              "      <th>claims</th>\n",
              "      <th>claims_labels</th>\n",
              "    </tr>\n",
              "  </thead>\n",
              "  <tbody>\n",
              "    <tr>\n",
              "      <th>0</th>\n",
              "      <td>global warming drive polar bear toward extinction</td>\n",
              "      <td>SUPPORTS</td>\n",
              "    </tr>\n",
              "    <tr>\n",
              "      <th>1</th>\n",
              "      <td>the sun go lockdown could cause freeze weather...</td>\n",
              "      <td>SUPPORTS</td>\n",
              "    </tr>\n",
              "    <tr>\n",
              "      <th>2</th>\n",
              "      <td>the polar bear population grow</td>\n",
              "      <td>REFUTES</td>\n",
              "    </tr>\n",
              "    <tr>\n",
              "      <th>3</th>\n",
              "      <td>ironic study find CO2 slightly cool planet</td>\n",
              "      <td>REFUTES</td>\n",
              "    </tr>\n",
              "    <tr>\n",
              "      <th>4</th>\n",
              "      <td>human addition CO2 margin error current measur...</td>\n",
              "      <td>REFUTES</td>\n",
              "    </tr>\n",
              "    <tr>\n",
              "      <th>...</th>\n",
              "      <td>...</td>\n",
              "      <td>...</td>\n",
              "    </tr>\n",
              "    <tr>\n",
              "      <th>10025</th>\n",
              "      <td>these conservative estimate wait see actual ou...</td>\n",
              "      <td>REFUTES</td>\n",
              "    </tr>\n",
              "    <tr>\n",
              "      <th>10026</th>\n",
              "      <td>so of follow suit</td>\n",
              "      <td>SUPPORTS</td>\n",
              "    </tr>\n",
              "    <tr>\n",
              "      <th>10027</th>\n",
              "      <td>in past month 1200 people die amid flood Bangl...</td>\n",
              "      <td>SUPPORTS</td>\n",
              "    </tr>\n",
              "    <tr>\n",
              "      <th>10028</th>\n",
              "      <td>some Grumpy s sweet generate national coverage...</td>\n",
              "      <td>SUPPORTS</td>\n",
              "    </tr>\n",
              "    <tr>\n",
              "      <th>10029</th>\n",
              "      <td>here s science tell we</td>\n",
              "      <td>REFUTES</td>\n",
              "    </tr>\n",
              "  </tbody>\n",
              "</table>\n",
              "<p>10030 rows × 2 columns</p>\n",
              "</div>\n",
              "    <div class=\"colab-df-buttons\">\n",
              "\n",
              "  <div class=\"colab-df-container\">\n",
              "    <button class=\"colab-df-convert\" onclick=\"convertToInteractive('df-58ce1e90-2de4-4069-85b4-1e3e7d611d62')\"\n",
              "            title=\"Convert this dataframe to an interactive table.\"\n",
              "            style=\"display:none;\">\n",
              "\n",
              "  <svg xmlns=\"http://www.w3.org/2000/svg\" height=\"24px\" viewBox=\"0 -960 960 960\">\n",
              "    <path d=\"M120-120v-720h720v720H120Zm60-500h600v-160H180v160Zm220 220h160v-160H400v160Zm0 220h160v-160H400v160ZM180-400h160v-160H180v160Zm440 0h160v-160H620v160ZM180-180h160v-160H180v160Zm440 0h160v-160H620v160Z\"/>\n",
              "  </svg>\n",
              "    </button>\n",
              "\n",
              "  <style>\n",
              "    .colab-df-container {\n",
              "      display:flex;\n",
              "      gap: 12px;\n",
              "    }\n",
              "\n",
              "    .colab-df-convert {\n",
              "      background-color: #E8F0FE;\n",
              "      border: none;\n",
              "      border-radius: 50%;\n",
              "      cursor: pointer;\n",
              "      display: none;\n",
              "      fill: #1967D2;\n",
              "      height: 32px;\n",
              "      padding: 0 0 0 0;\n",
              "      width: 32px;\n",
              "    }\n",
              "\n",
              "    .colab-df-convert:hover {\n",
              "      background-color: #E2EBFA;\n",
              "      box-shadow: 0px 1px 2px rgba(60, 64, 67, 0.3), 0px 1px 3px 1px rgba(60, 64, 67, 0.15);\n",
              "      fill: #174EA6;\n",
              "    }\n",
              "\n",
              "    .colab-df-buttons div {\n",
              "      margin-bottom: 4px;\n",
              "    }\n",
              "\n",
              "    [theme=dark] .colab-df-convert {\n",
              "      background-color: #3B4455;\n",
              "      fill: #D2E3FC;\n",
              "    }\n",
              "\n",
              "    [theme=dark] .colab-df-convert:hover {\n",
              "      background-color: #434B5C;\n",
              "      box-shadow: 0px 1px 3px 1px rgba(0, 0, 0, 0.15);\n",
              "      filter: drop-shadow(0px 1px 2px rgba(0, 0, 0, 0.3));\n",
              "      fill: #FFFFFF;\n",
              "    }\n",
              "  </style>\n",
              "\n",
              "    <script>\n",
              "      const buttonEl =\n",
              "        document.querySelector('#df-58ce1e90-2de4-4069-85b4-1e3e7d611d62 button.colab-df-convert');\n",
              "      buttonEl.style.display =\n",
              "        google.colab.kernel.accessAllowed ? 'block' : 'none';\n",
              "\n",
              "      async function convertToInteractive(key) {\n",
              "        const element = document.querySelector('#df-58ce1e90-2de4-4069-85b4-1e3e7d611d62');\n",
              "        const dataTable =\n",
              "          await google.colab.kernel.invokeFunction('convertToInteractive',\n",
              "                                                    [key], {});\n",
              "        if (!dataTable) return;\n",
              "\n",
              "        const docLinkHtml = 'Like what you see? Visit the ' +\n",
              "          '<a target=\"_blank\" href=https://colab.research.google.com/notebooks/data_table.ipynb>data table notebook</a>'\n",
              "          + ' to learn more about interactive tables.';\n",
              "        element.innerHTML = '';\n",
              "        dataTable['output_type'] = 'display_data';\n",
              "        await google.colab.output.renderOutput(dataTable, element);\n",
              "        const docLink = document.createElement('div');\n",
              "        docLink.innerHTML = docLinkHtml;\n",
              "        element.appendChild(docLink);\n",
              "      }\n",
              "    </script>\n",
              "  </div>\n",
              "\n",
              "\n",
              "<div id=\"df-1aeab52f-2704-462e-8074-c4a2b59a327a\">\n",
              "  <button class=\"colab-df-quickchart\" onclick=\"quickchart('df-1aeab52f-2704-462e-8074-c4a2b59a327a')\"\n",
              "            title=\"Suggest charts\"\n",
              "            style=\"display:none;\">\n",
              "\n",
              "<svg xmlns=\"http://www.w3.org/2000/svg\" height=\"24px\"viewBox=\"0 0 24 24\"\n",
              "     width=\"24px\">\n",
              "    <g>\n",
              "        <path d=\"M19 3H5c-1.1 0-2 .9-2 2v14c0 1.1.9 2 2 2h14c1.1 0 2-.9 2-2V5c0-1.1-.9-2-2-2zM9 17H7v-7h2v7zm4 0h-2V7h2v10zm4 0h-2v-4h2v4z\"/>\n",
              "    </g>\n",
              "</svg>\n",
              "  </button>\n",
              "\n",
              "<style>\n",
              "  .colab-df-quickchart {\n",
              "      --bg-color: #E8F0FE;\n",
              "      --fill-color: #1967D2;\n",
              "      --hover-bg-color: #E2EBFA;\n",
              "      --hover-fill-color: #174EA6;\n",
              "      --disabled-fill-color: #AAA;\n",
              "      --disabled-bg-color: #DDD;\n",
              "  }\n",
              "\n",
              "  [theme=dark] .colab-df-quickchart {\n",
              "      --bg-color: #3B4455;\n",
              "      --fill-color: #D2E3FC;\n",
              "      --hover-bg-color: #434B5C;\n",
              "      --hover-fill-color: #FFFFFF;\n",
              "      --disabled-bg-color: #3B4455;\n",
              "      --disabled-fill-color: #666;\n",
              "  }\n",
              "\n",
              "  .colab-df-quickchart {\n",
              "    background-color: var(--bg-color);\n",
              "    border: none;\n",
              "    border-radius: 50%;\n",
              "    cursor: pointer;\n",
              "    display: none;\n",
              "    fill: var(--fill-color);\n",
              "    height: 32px;\n",
              "    padding: 0;\n",
              "    width: 32px;\n",
              "  }\n",
              "\n",
              "  .colab-df-quickchart:hover {\n",
              "    background-color: var(--hover-bg-color);\n",
              "    box-shadow: 0 1px 2px rgba(60, 64, 67, 0.3), 0 1px 3px 1px rgba(60, 64, 67, 0.15);\n",
              "    fill: var(--button-hover-fill-color);\n",
              "  }\n",
              "\n",
              "  .colab-df-quickchart-complete:disabled,\n",
              "  .colab-df-quickchart-complete:disabled:hover {\n",
              "    background-color: var(--disabled-bg-color);\n",
              "    fill: var(--disabled-fill-color);\n",
              "    box-shadow: none;\n",
              "  }\n",
              "\n",
              "  .colab-df-spinner {\n",
              "    border: 2px solid var(--fill-color);\n",
              "    border-color: transparent;\n",
              "    border-bottom-color: var(--fill-color);\n",
              "    animation:\n",
              "      spin 1s steps(1) infinite;\n",
              "  }\n",
              "\n",
              "  @keyframes spin {\n",
              "    0% {\n",
              "      border-color: transparent;\n",
              "      border-bottom-color: var(--fill-color);\n",
              "      border-left-color: var(--fill-color);\n",
              "    }\n",
              "    20% {\n",
              "      border-color: transparent;\n",
              "      border-left-color: var(--fill-color);\n",
              "      border-top-color: var(--fill-color);\n",
              "    }\n",
              "    30% {\n",
              "      border-color: transparent;\n",
              "      border-left-color: var(--fill-color);\n",
              "      border-top-color: var(--fill-color);\n",
              "      border-right-color: var(--fill-color);\n",
              "    }\n",
              "    40% {\n",
              "      border-color: transparent;\n",
              "      border-right-color: var(--fill-color);\n",
              "      border-top-color: var(--fill-color);\n",
              "    }\n",
              "    60% {\n",
              "      border-color: transparent;\n",
              "      border-right-color: var(--fill-color);\n",
              "    }\n",
              "    80% {\n",
              "      border-color: transparent;\n",
              "      border-right-color: var(--fill-color);\n",
              "      border-bottom-color: var(--fill-color);\n",
              "    }\n",
              "    90% {\n",
              "      border-color: transparent;\n",
              "      border-bottom-color: var(--fill-color);\n",
              "    }\n",
              "  }\n",
              "</style>\n",
              "\n",
              "  <script>\n",
              "    async function quickchart(key) {\n",
              "      const quickchartButtonEl =\n",
              "        document.querySelector('#' + key + ' button');\n",
              "      quickchartButtonEl.disabled = true;  // To prevent multiple clicks.\n",
              "      quickchartButtonEl.classList.add('colab-df-spinner');\n",
              "      try {\n",
              "        const charts = await google.colab.kernel.invokeFunction(\n",
              "            'suggestCharts', [key], {});\n",
              "      } catch (error) {\n",
              "        console.error('Error during call to suggestCharts:', error);\n",
              "      }\n",
              "      quickchartButtonEl.classList.remove('colab-df-spinner');\n",
              "      quickchartButtonEl.classList.add('colab-df-quickchart-complete');\n",
              "    }\n",
              "    (() => {\n",
              "      let quickchartButtonEl =\n",
              "        document.querySelector('#df-1aeab52f-2704-462e-8074-c4a2b59a327a button');\n",
              "      quickchartButtonEl.style.display =\n",
              "        google.colab.kernel.accessAllowed ? 'block' : 'none';\n",
              "    })();\n",
              "  </script>\n",
              "</div>\n",
              "\n",
              "  <div id=\"id_77048f58-adab-4eed-808b-9c0b5652d690\">\n",
              "    <style>\n",
              "      .colab-df-generate {\n",
              "        background-color: #E8F0FE;\n",
              "        border: none;\n",
              "        border-radius: 50%;\n",
              "        cursor: pointer;\n",
              "        display: none;\n",
              "        fill: #1967D2;\n",
              "        height: 32px;\n",
              "        padding: 0 0 0 0;\n",
              "        width: 32px;\n",
              "      }\n",
              "\n",
              "      .colab-df-generate:hover {\n",
              "        background-color: #E2EBFA;\n",
              "        box-shadow: 0px 1px 2px rgba(60, 64, 67, 0.3), 0px 1px 3px 1px rgba(60, 64, 67, 0.15);\n",
              "        fill: #174EA6;\n",
              "      }\n",
              "\n",
              "      [theme=dark] .colab-df-generate {\n",
              "        background-color: #3B4455;\n",
              "        fill: #D2E3FC;\n",
              "      }\n",
              "\n",
              "      [theme=dark] .colab-df-generate:hover {\n",
              "        background-color: #434B5C;\n",
              "        box-shadow: 0px 1px 3px 1px rgba(0, 0, 0, 0.15);\n",
              "        filter: drop-shadow(0px 1px 2px rgba(0, 0, 0, 0.3));\n",
              "        fill: #FFFFFF;\n",
              "      }\n",
              "    </style>\n",
              "    <button class=\"colab-df-generate\" onclick=\"generateWithVariable('df_new')\"\n",
              "            title=\"Generate code using this dataframe.\"\n",
              "            style=\"display:none;\">\n",
              "\n",
              "  <svg xmlns=\"http://www.w3.org/2000/svg\" height=\"24px\"viewBox=\"0 0 24 24\"\n",
              "       width=\"24px\">\n",
              "    <path d=\"M7,19H8.4L18.45,9,17,7.55,7,17.6ZM5,21V16.75L18.45,3.32a2,2,0,0,1,2.83,0l1.4,1.43a1.91,1.91,0,0,1,.58,1.4,1.91,1.91,0,0,1-.58,1.4L9.25,21ZM18.45,9,17,7.55Zm-12,3A5.31,5.31,0,0,0,4.9,8.1,5.31,5.31,0,0,0,1,6.5,5.31,5.31,0,0,0,4.9,4.9,5.31,5.31,0,0,0,6.5,1,5.31,5.31,0,0,0,8.1,4.9,5.31,5.31,0,0,0,12,6.5,5.46,5.46,0,0,0,6.5,12Z\"/>\n",
              "  </svg>\n",
              "    </button>\n",
              "    <script>\n",
              "      (() => {\n",
              "      const buttonEl =\n",
              "        document.querySelector('#id_77048f58-adab-4eed-808b-9c0b5652d690 button.colab-df-generate');\n",
              "      buttonEl.style.display =\n",
              "        google.colab.kernel.accessAllowed ? 'block' : 'none';\n",
              "\n",
              "      buttonEl.onclick = () => {\n",
              "        google.colab.notebook.generateWithVariable('df_new');\n",
              "      }\n",
              "      })();\n",
              "    </script>\n",
              "  </div>\n",
              "\n",
              "    </div>\n",
              "  </div>\n"
            ],
            "application/vnd.google.colaboratory.intrinsic+json": {
              "type": "dataframe",
              "variable_name": "df_new",
              "summary": "{\n  \"name\": \"df_new\",\n  \"rows\": 10030,\n  \"fields\": [\n    {\n      \"column\": \"claims\",\n      \"properties\": {\n        \"dtype\": \"string\",\n        \"num_unique_values\": 8184,\n        \"samples\": [\n          \"warning future polar bear often contrast fact worldwide population estimate increase past 50 year relatively stable today\",\n          \"scientist surprise result study\",\n          \"the state produce 75 phosphates require farmer United States 25 world supply 95 use agriculture 90 fertilizes 5 livestock feed supplement 5 use product\"\n        ],\n        \"semantic_type\": \"\",\n        \"description\": \"\"\n      }\n    },\n    {\n      \"column\": \"claims_labels\",\n      \"properties\": {\n        \"dtype\": \"category\",\n        \"num_unique_values\": 3,\n        \"samples\": [\n          \"SUPPORTS\",\n          \"REFUTES\",\n          \"NOT_ENOUGH_INFO\"\n        ],\n        \"semantic_type\": \"\",\n        \"description\": \"\"\n      }\n    }\n  ]\n}"
            }
          },
          "metadata": {},
          "execution_count": 157
        }
      ]
    },
    {
      "cell_type": "code",
      "source": [
        "df_new = df_new[(df_new['claims'].str.split().str.len() > 3) & (df_new['claims'].str.split().str.len() < 20)]\n",
        "df_new.shape"
      ],
      "metadata": {
        "colab": {
          "base_uri": "https://localhost:8080/"
        },
        "id": "qd-MhQoYgFd3",
        "outputId": "bcb69b49-9d67-42c3-e4f5-33c5eb6f197f"
      },
      "execution_count": null,
      "outputs": [
        {
          "output_type": "execute_result",
          "data": {
            "text/plain": [
              "(7330, 2)"
            ]
          },
          "metadata": {},
          "execution_count": 158
        }
      ]
    },
    {
      "cell_type": "code",
      "source": [
        "df_new['claims_labels'].value_counts().plot(kind='bar')"
      ],
      "metadata": {
        "colab": {
          "base_uri": "https://localhost:8080/",
          "height": 591
        },
        "id": "krXJN4DTHVCo",
        "outputId": "079addce-b1bd-4377-b546-81d7baf155f4"
      },
      "execution_count": null,
      "outputs": [
        {
          "output_type": "execute_result",
          "data": {
            "text/plain": [
              "<Axes: xlabel='claims_labels'>"
            ]
          },
          "metadata": {},
          "execution_count": 159
        },
        {
          "output_type": "display_data",
          "data": {
            "text/plain": [
              "<Figure size 640x480 with 1 Axes>"
            ],
            "image/png": "[encoded data removed]"
          },
          "metadata": {}
        }
      ]
    },
    {
      "cell_type": "code",
      "source": [
        "import pandas as pd\n",
        "import matplotlib.pyplot as plt\n",
        "min_class_size = min(df_new['claims_labels'].value_counts())\n",
        "\n",
        "balanced_train_data = pd.DataFrame(columns=['claims','claims_labels'])\n",
        "\n",
        "class_distribution = df_new['claims_labels'].value_counts()\n",
        "\n",
        "for genre, count in class_distribution.items():\n",
        "  class_data = df_new[df_new['claims_labels'] == genre].sample(n=min_class_size, random_state=22)\n",
        "  balanced_train_data = pd.concat([balanced_train_data, class_data], ignore_index=True)\n",
        "\n",
        "balanced_train_data.describe()\n",
        "balanced_class_distribution = balanced_train_data['claims_labels'].value_counts()\n",
        "\n",
        "print(\"Balanced Class Distribution:\")\n",
        "print(balanced_class_distribution)\n",
        "\n",
        "plt.figure(figsize=(8, 6))\n",
        "balanced_class_distribution.plot(kind='bar', color='skyblue')\n",
        "plt.title('Balanced Class Distribution')\n",
        "plt.xlabel('Class')\n",
        "plt.ylabel('Frequency')\n",
        "plt.xticks(rotation=65)\n",
        "plt.show()\n"
      ],
      "metadata": {
        "id": "jU2KRCM9LVZS",
        "colab": {
          "base_uri": "https://localhost:8080/",
          "height": 785
        },
        "outputId": "70fd4c0d-61af-4e04-f402-90003c6451ec"
      },
      "execution_count": null,
      "outputs": [
        {
          "output_type": "stream",
          "name": "stdout",
          "text": [
            "Balanced Class Distribution:\n",
            "claims_labels\n",
            "SUPPORTS           1960\n",
            "NOT_ENOUGH_INFO    1960\n",
            "REFUTES            1960\n",
            "Name: count, dtype: int64\n"
          ]
        },
        {
          "output_type": "display_data",
          "data": {
            "text/plain": [
              "<Figure size 800x600 with 1 Axes>"
            ],
            "image/png": "[encoded data removed]"
          },
          "metadata": {}
        }
      ]
    },
    {
      "cell_type": "code",
      "source": [
        "df_new=balanced_train_data"
      ],
      "metadata": {
        "id": "RaRgruMcewLZ"
      },
      "execution_count": null,
      "outputs": []
    },
    {
      "cell_type": "code",
      "source": [
        "def ohe(text):\n",
        "\n",
        "    if text=='SUPPORTS':\n",
        "         return 2\n",
        "    elif text=='NOT_ENOUGH_INFO':\n",
        "         return 1\n",
        "    elif text=='REFUTES' :\n",
        "          return 0\n",
        "    return 0\n",
        "\n",
        "df_new['claims_labels']=df_new['claims_labels'].apply(lambda x:ohe(x))\n",
        "\n",
        "df_new=df_new.sample(n=700,random_state=22)\n",
        "df_new.shape"
      ],
      "metadata": {
        "colab": {
          "base_uri": "https://localhost:8080/"
        },
        "id": "ylNwqPHqgFb8",
        "outputId": "11ba432c-69b5-435d-ffb7-cb2e0389d139"
      },
      "execution_count": null,
      "outputs": [
        {
          "output_type": "execute_result",
          "data": {
            "text/plain": [
              "(700, 2)"
            ]
          },
          "metadata": {},
          "execution_count": 162
        }
      ]
    },
    {
      "cell_type": "code",
      "source": [
        "df_new['claims_labels'].value_counts().plot(kind='bar')"
      ],
      "metadata": {
        "colab": {
          "base_uri": "https://localhost:8080/",
          "height": 461
        },
        "id": "RVJo4Ni9UP24",
        "outputId": "63d26ab5-51d7-4183-e71f-68b694634efd"
      },
      "execution_count": null,
      "outputs": [
        {
          "output_type": "execute_result",
          "data": {
            "text/plain": [
              "<Axes: xlabel='claims_labels'>"
            ]
          },
          "metadata": {},
          "execution_count": 163
        },
        {
          "output_type": "display_data",
          "data": {
            "text/plain": [
              "<Figure size 640x480 with 1 Axes>"
            ],
            "image/png": "[encoded data removed]"
          },
          "metadata": {}
        }
      ]
    },
    {
      "cell_type": "code",
      "source": [
        "from sklearn.model_selection import train_test_split\n",
        "X_train,X_test,Y_train,Y_test=train_test_split(df_new['claims'],df_new['claims_labels'],test_size=0.001,random_state=2)"
      ],
      "metadata": {
        "id": "xqvtZ9bIgM1N"
      },
      "execution_count": null,
      "outputs": []
    },
    {
      "cell_type": "code",
      "source": [
        "x_train = []\n",
        "\n",
        "def create_list(text):\n",
        "    x_train.append(text)\n",
        "\n",
        "X_train.apply(lambda x: create_list(x))\n",
        "\n",
        "print(x_train)"
      ],
      "metadata": {
        "colab": {
          "base_uri": "https://localhost:8080/"
        },
        "id": "zevsWfCLgMzJ",
        "outputId": "82ffc5bd-26d5-40f9-a1cb-4e4b01c39cbb"
      },
      "execution_count": null,
      "outputs": [
        {
          "output_type": "stream",
          "name": "stdout",
          "text": [
            "['currently half carbon dioxide release burn fossil fuel remain atmosphere absorb vegetation ocean', 'an internal meme obtain the Washington Most offer glimpse challenge face Plump administration issue climate change', 'as part collaboration project Professor Byron Adams Brigham Young University colleague Diana All Colorado State University', 'on october 24 2005 Hurricane Ilya strike Soldier County category hurricane', 'the carbon dioxide level necessary thaw Earth estimate 350 time today 13 atmosphere', 'the Soto second commitment period apply 11 annual global emission greenhouse gas', 'scientist reach 100 Consensus Anthropogenic Global Farming', 'Australia account 15 per cent global carbon emission', 'a ship name russian explorer Guard Toll first tackle treacherous Northern Tea Route without help icebreaker', 'these largescale alteration physical environment drive change level Antarctic marine food web', 'today development Governor Domo certain infuriated President', 'by August 2014 threeyear drought prompt change agriculture industry valley', 'during 1916 high absolute temperature 452 degree Celsus 11336 degree Fahrenheit record Sadovo weather station', 'NOAA Space Weather Scales Age have change', 'researcher uncover little know source climate warming gas come plastic waste', 'Maryland degradation occur loss vegetation transform ecosystem vegetable dominate bare soil', 'the Marshall plan€”which spend 13 billion 100Â billion 2018 of dollar rebuild economy postmark nations€”launched Tax American', 'a ban chemical use make household induration implicate damage ozone layer', 'CFCs contribute global warming small level', 'More 32bn people already affect problem worse without rapid action drive migration conflict', 'the 30000 scientist science graduate list OISM petition represent tiny fraction 03 science graduate', 'early political career interior secretary An Like ink fellow Republicans willingness stand conservation thing change whether love hate idea', 'you doubt climate change come island  hurry disappear', 'she elect part movement she intend govern part movement say Corbin Rent Alexandria OcasioCortez s communication director', 'California Sov Merry Grown compare Plump supporter cavedweller address climate change event New Work Monday', 'Robinson assert 2008 petition 31000 signature 9000 hold pad degree', 'the temperature rise nearly fast alarming computer model predict', 'Response Arctic temperature change emission shirtlike climate forcer', 'the Legislature shall make law diminish ignore role English common language California', 'emaciated polar bear become symbol unmitigated environmental disaster', 'in 2013 record low water level Great Takes attribute climate change', 'the talkedabout application model recent year use infer consequence increase greenhouse gas atmosphere primarily carbon dioxide see greenhouse gas', 'not increase carbon dioxide concentration lead increase global surface temperature increase global temperature also cause increase concentration carbon dioxide', 'in 2018 Michael assert Box News probably half maybe half nineteenth degree of total warming might cause greenhouse gas', 'scientist say extreme weather consistent climate change  isn t', 'scientist analyze 27 extreme weather event 2016 find global warming â€significant driver they we look five case', 'decade scientific research show climate change natural anthropogenic cause', 'the waterlogged weather pattern Ellicott Its floodprone geography climate change conspired make flashflood horror show', 'cause death include stroke heart disease COPD lung cancer lung infection', 'next year year after Arctic free ice', 'the deadly heat wave history Pakistan recordbreake heat wave summer 2010 occur last ten day May', 'seek view proposal future agricultural policy England', 'in 2009 every bird kill wind turbine of nearly 500000 kill cat another 500000 building', 'carbon dioxide trace gas', 'a by record reveal gradual Antarctic sea ice increase follow decrease rate far exceed rate see Arctic', 'at present primary source of 2 emission burn coal natural gas petroleum electricity heat', 'Sky News   First Breaking News video headline analysis top story business politic entertainment of worldwide', 'this â€blocking effect mean extreme event unfold', 'one really know last year 2016 global temperature record', 'peer review process corrupt', 'shocking picture speak whale 29 g plastic stomach alarm world huge plastic pollution problem', 'while increase of 2 level help crop growth low temperature increase crop become less nutrition', 'accord again official figures€”during past 10 year anything mean global temperature average world temperature slightly decline', 'decrease of 2 concentration tapping point 600 pp primary agent force antarctic emaciation', 'on November 4 2018 geologists present evidence base study Pale Curiosity rover plenty water early Wars', 'new science show smogfilled sky bad brain researcher sure exactly why', 'this increase of 2 longlived greenhouse gas Parts atmosphere produce current episode global warming', 'many feasible scenario construct account evidence', 'global warming cease around end twentieth century follow since 1997 19 year stable temperature', 'the process grow tobacco manufacture tobacco product deliver retailer cause severe irreversible damage environment', 'the president move dismantled environmental protection major assault Americans California governor say climate summit Thursday', 'California nation lead renewableenergy prominent one state actually put power mouth be in November Ali', 'the ice sheet increase earth reflectivity thus reduce absorption solar radiation', 'an exaggerated warming trend', 'the Green release grand plan solve Australian recalling crisis', 'property own family President Donald Plump Dared Usher rank among big contributory city carbon footprints', 'in terrestrial ecosystem early time spring event well homeward upward shift plant animal range link high confidence recent warming', 'this predict produce change melt glacier ice sheet extreme temperature range significant change weather global rise average sea level', 'because drought verse section Ll Vaso downstream Ojinaga recently tag the Forgotten River wish bring attention river deteriorate condition', 'Nicholas Clot economical Will Eye France leave government sour Across climate promise', 'Summer early June mid September hot sunny July August average 23â â ° C 73â â ° f', 'from September 2018 onward economic political news worse bloated of stockmarket begin defeat VIX index treble', 'there be anecdotes evidence suggest similar melt 193843 occasion', 'global average temperature land plumes Of since middle year  big steep fall record', 'the Earth isn t solid  make hard predict submerged coastline unfold write material scientist Dark Miodownik', 'overall wind farm lead slight warming night slight cooling day time', 'the grow number spread disease pose increase risk United States', 'that model predict global temperature 1988 1997 would rise 045â ° C figure 1', 'some American top researcher move France continue research', 'the semimajor axis Plutos orbit vary 393 396Â au period 19951 year correspond orbital period vary 246 249 year', 'oil refined also negative environmental impact include air water pollution', 'two forthcoming major climate talk offer government opportunity respond years s extreme weather decisive action', 'because water vapor greenhouse gas result warm positive feedback amplifie original warming', 'climate change cause season start comparatively early north go say scientist', 'the social cost carbon additional damage cause additional ton carbon emission', 'solar force radiating force simply change average amount solar energy absorb per square peter earth area', 'K I Abdusamatov propose parallel global warming observe simultaneously Wars Earth consequence factor longtime change solar radiance', 'wild card refer lowprobability highimpact event existential risk', 'it s pollutant threaten human civilization', 'volcano Melting West Antarctic Lanciers not Global Farming', 'wind power solar power emit carbon operation leave footprints construction phase maintenance operation', 'the Ordovician see high sea level Paleozoic low relief continent lead many shelf deposit form hundred metre water', 'abnormally hot temperature continue break devastation across northern central part continent', 'sea ice extent expand annually antarctic winter ice melt summer', 'the breakdown ozone stratosphere result reduce absorption ultraviolet radiation', 'we re launch damn satellite', 'prevent future anaemic require less â€industrial agriculture', 'a new report find high temperature worse so', 'a related concept transient climate response cumulative carbon emission locally average surface temperature change per unit of 2 emit', 'in ve discover hard word science not pneumonoultramicroscopicsilicovolcanoconiosis inflammation lung cause inhalation iliac dust nor palmitoyloleoylphosphatidyleâ', 'the Colorado ballot measure eleven word long could devastated effect', 'there scientific consensus link human activity global warming due industrial carbon dioxide emission', 'in 2012 however 2007 record low break late August three week still leave melt season', 'Star war the last Red star Dark Family ring new year new Trumpster sweet', 'in 2003 Samuelson one ten Noble prize€“wine economist sign Economists statement oppose Rush tax cut', 'the meme apparently want freeze endanger coal nuclear contract two year', 'sun Shifts may cause Global Farming', 'President grumpy week say â€natural instinct science defend stance climate change', 'imperial CEO say expand regulatory timeline market access challenge escapade fiscal cost make hard start new project', 'Pass gain Antarctic ice sheet exceed loss', 'authority say wellknown IranianCanadian professor kill Tehran prison environmentalist arrest his family demand answer', 'the first climate prediction compute general circulation model publish Finsen 1988 year wellknown Senate testimony', 'on May 9 Plump name New Jersey Governor Chris Christine head team plan transition presidency event Plump victory', 'over 9999 climate scientist reject AGW peerreviewe research', 'Monckton appear cherrypicke temperature date station', 'in Sweden Latvia Greece wildlife spread amid brutal heat wave', 'normal method political action protest simply work if don t reduce emission boldly fast that s genocide', 'the first federal legislation actually certain control air pollution Clean Air Act 1963', 'biodiversity relevance human health become international political issue scientific evidence build global health implication biodiversity loss', 'we talk people find front line climate change year here story', 'the Arctic oscillation of Northern Annular ModeNorthern Hemisphere Annular Rode NAM weather phenomenon Arctic pole north 20 degree latitude', 'redeployment 400 staff jeopardized vital work protect wildlife overseen recycle pollution flood prevention', 'from Europe Africa extreme widespread heat raise climate concern hot A in±a year date record', 'Scott Fruits EPA Donald Drums White House shut release watercontamination report   fear publicrelation nightmare', 'attributing recent climate change effort scientifically ascertain mechanism responsible recent global warming relate climate change earth', '2012 state combination natural weather amiability humaninduce global warming responsible Moscow Texas heat wave', 'despite one abundant mineral planet scientist never actually find calcium delicate perovskite surface Earth', 'this could big impact farming pursuit researcher say', 'the scientific consensus climate change that climate change change large part cause human activity be largely irreversible', 'I think anyone see come', 'temperature rise 00â â ° Of€“02Â Â ° c 1720â€“1800 1850â€“1900 Napkins et al 2017', 'there upward trend amount Guns energy reach Earth can not responsible current warming', 'it s hot lot place get it it s AugustBy end month cool down', 'there develop consensus scientist precise forceful connect extreme weather event warm planet', 'during period time little ice present Earth small difference temperature equator pole', 'once put establish fact world argument you ve already lose', 'during period 1940 1976 cool climate despite increase CO2 level', 'the plan would gobble one Drama administration significant initiative curb climate change', 'Global Change Research Program scientific consensus show IPCC report peer review status paper cite', 'what call freedom call wildlife when see freedom see sea level rise', 'the Legendre symbol introduce AdrienMarie Legendre 1798 course attempt prove law quadratus reciprocity', 'each year see disappearance thousand plant animal specie never know child never see lose ever', 'the government already ban plastic cotton bud straw drink stirred', 'Australia see unprecedented number widespread catastrophe transformation response extreme weather event', 'solar panel drain sun energy', 'the large human influence emission greenhouse gas carbon dioxide methode fibrous oxide', 'mass election know coral reaching alae contribute coral coloration color however due host coral pigment green fluorescent protein GFPs', 'the atmosphere Wars consist 96 carbon dioxide 193 arson 189 nitrogen along trace oxygen water', 'about billion year now surface water disappear mean global temperature reach 70â â ° C 158Â Â ° f', 'part Arctic see temperature 60â ° F normal February', 'other include plastic soap dispense top wrap paper study show', 'signal transmit use U band 12 18â the completely digital mean high picture sterno sound quality', 'jupiter climate change due shift internal turbulence fuel internal heat source   planet radiate twice much energy receive sun', 'from this conclude the post1980 global warming trend surface thermometer incredible', 'Phyllis Amid lead landmarks class action demand clean compensation leadsmelte factory accuse poison local resident   include son', 'unsustainable farming fishing climate change intensify struggle survival among vulnerable animal crop say IUCN release late list endangered specie', 'however method be different stage development conceptual other test scale report warn', 'the 2007 early start Daylight Having Time contribute global warming', 'greenhouse gas trap heat radiate Earth space', 'when future generation ask decision maker today could let planet temperature run control perhaps they ll tell â€traditions I', 'republican lawmakers largely shrug dire climate change warning spell major new United Nations report', 'the important message landmarks report global warming', 'â€to we re able explain natural factor we ve with century warming', 'the study lead path professor Valentine Zharkova Northumbria University say 2020 2030 solar cycle cancel out', 'for least last 100 year sea level rise average rate 18 millimetre 0071Â in per year', 'early estimate ocean heat Go show cool bias due pressure senior issue', 'a key component global oceanic circulatory system include Atlantic Gulf Stream weak 1600 year new study find', 'in Britain 43 believe manage global warming fact from 55 July', 'the White House walk back Drums recent order', 'the study Robert J Rule show expenditure sector dwarf environmental organization renewal energy corporation', 'the Plump administration quietly escape enforcement air pollution standard recent month series regulatory meme', 'the struggle control longer democratic climate agenda', 'the sun show long term trend since 1950 fact show slight cool trend recent decade', 'a crisis plastic waste Indonesia become acute army call help', 'up s reputation could suffer environmental protection weaken leave eut', 'there prove reconstruction reliable 1960 track closely instrumental record independent prove', 'minister respond scientist climate challenge but enough far', 'overall 90 global warming occur CO2 increase', 'as one fragment cloud collapse also begin rotate conservation angular momentum heat increase pressure', 'for decade largescale hunt raise international concern future species population rebound control quota begin take effect', 'past model underestimate rate Arctic shrinkage underestimate rate precipitating increase', 'this scientific opinion express synthesis report scientific body national international standing survey opinion among climate scientist', 'the equivalent one dump truck plastic enter ocean every minute accord study publish World Economic Forum 2016', 'Cardinal Place Munich Archbishop Chicago say pope â€bigger agenda sex abuse protect environment emigrant', 'the summer 2007â€“08 however prove coolest since 1996â€“97 summer century average temperature', 'economist describe environmental impact negative externally', 'comic ray count increase past 50 year influence global temperature cool effect', 'warm very likely humanmade', 'the next common gas carbon dioxide 004 fibrous oxide methode ozone', 'Most people expect year see record low Arctic s summer peace cover', 'even though every single global warming prediction failed materialize Drama blast President Plump global warming Watch video', 'just start enjoy sunshine think winter over Other Nature set hit again get ready snow Vancouver', 'International Energy Agency global analysis organization â€continue see role coal foreseeable future', 'under influence global warming melt base ice sheet increase', 'here real reason we re build clean energy anywhere near fast enough', 'ozone holeforme chemical emission increase mysterious source Last Asia may responsible', 'one decade business usual make impossible', 'further global climate change predict impact expect become costly time progress', 'these date ironic status climate change science evidence effect human activity chemical composition global atmosphere', 'three new study examine past  future  find hint fast large sea level rise', 'Brooks add Antarctic ice grow', 'only five habitat put critical habitat register since national environmental law enact', 'all flight operation control air condition observation room control tower building window overlook runaway land mat area', 'various survey conduct evaluate scientific opinion global warming', 'last month hot June ever record european satellite agency announce', 'Scott Morrison say Australia track meet 2030 emission target in canter but not Or Morrison either lie blandly optimistic', 'adventure tourism social medium turn benign impulse plague natural world say Guardian writer Patrick Farnham', 'the impact global warming tropical Pacific Ocean Ll in±o', 'a potentially important area consideration also detection trend extreme event attributing trend human influence', 'â€œIt s far early tell see Arctic Antarctic sharp shift towards warm pole less ice', 'regime shift polar region include melt Greenland ice sheet possible collapse thermohaline circulation system', 'Leaders Pacific Forum Island country call United States return Paris agreement climate change', 'current Great Takes Later Revels', 'these model predict upward trend global mean surface temperature rapid increase temperature project high latitude Northern Hemisphere', 'the Simpson set record stay relevant', 'if high current flow element rise high temperature either directly melt else melt solder joint within fuse open circuit', 'water vapor potent greenhouse gas owe presence hydroxyl bond strongly absorb infra region light spectrum', 'as planet warm predict soil add carbon dioxide atmosphere due increase biological activity high temperature positive feedback amplification', 'in June 2013 Cocoa announce would permanently close Using primary aluminium smelter Venice Italy production curtail since June 2010', 'these study imply plant response change CO2 level largely control genetic', 'in methodology oceanography convenient postulates rotate frame reference wherein Earth stationary', 'test adjusted calculation later confirm temperature joint substantially different absent temperature', 'in terminology glaciology ice age imply presence extensive ice sheet northern southern hemisphere', 'corn cloud experiment prove comic ray cause global warming', 'this tremendous variation erupt mammas influence adjacent vent give rise high voluminous complex bimodal stratovolcano generally locate stop shield', 'from blow Tibia Server jewish week', 'melt ice warm Arctic', 'Patricia Espinosa say year extreme weather event â€make evidence clear climate change impact daily live people', 'human activity cause of 2 increase level see hundred thousand year', 'a reporter finally build courage put spot response say all', 'overall develop country account 838 industrial of 2 emission time period 678 total of 2 emission', 'most environmental relate taxes implication greenhouse gas emission OECD country levy energy product motor vehicle rather CO2 emission directly', 'multiple independently produce instrumental dataset confirm 2009â€“2018 decade 093 â± 007â â ° c warm preindustrial vaseline 1850â€“1900', 'be predict peak bloom around March 25', 'for comparison average global temperature period 1951 1980 14â â ° C 57â â ° f', 'measure atmosphere concentration carbon dioxide currently 100â pp high preindustrial level', 'in winter climate become cool day short', 'carbon dioxide chemical formula of 2 colourless gas density 60 high dry air', 'the present concentration high 14 million year', 'â€œCO2 certainly heattrappe greenhouse gas hardly primary one water vapor account 95 percent greenhouse gas', 'as part King Fire California subject tsunamis flood drought Santa Na wind wildlife landslide steep terrain several volcano', 'in addition climate model ignore fact enrich atmosphere CO2 beneficial', 'the reflection energy space result global cooling trigger Pleistocene Ice Age', 'Record Arctic sea ice minimum confirm NSIDC', 'bollywood actress impress we film like Parr She Qayamat He Qayamat Oak none Qui Shawl crush', 'when forcing combine show good correlation global temperature throughout with century include midcentury cool period', 'change ocean chemistry extensive direct indirect effect organism habitat', 'one worker say we make pen discard newspaper well use plastic polite environment', 'also increasingly clear planet significantly warm today several time past 10000 year', 'of Navy predict summer ice free Arctic 2016', 'the area next expect become green 15000 year 17000 ad', 'the high court call breadth lawsuit strike', 'new research show ExxonMobil game public year thing climate scientist know false', 'the melting float ice raise ocean level', 'they include stewardship education professional excellence youth program climate change impact budget structure realignment', 'during Must Bowl jet stream weaken change course travel far south normal', 'Hurricane wind speed rainfall intensity storm surge level likely increase', 'India News India 14 15 polled city world term of 25 concentration   bad Kanpur pm 25 concentration', 'lead scientist economist say end deforestation cost effective capable method reduce greenhouse gas', 'the current scientific consensus climate change Earth undergo global warming throughout with century continue warm', 'there concern shutdown thermohaline circulation could happen result present warming period', 'climate change need ending anyone', 'the amount land use meat  humankind s big use land  decline area nearly large Alaska', 'it s polite ocean kill wildlife easy get without it four writer find', 'every of€“7 year Ll in±o event cause reef heatsensitive coral breach especially widespread reaching 1998 2010', 'there statistical evidence global warming intensifying drought', 'the youth climate lawsuit Plump administration suppose start today', 'before current ice age begin 2 3 A earth climate typically mild uniform long period time', 'greenpeace claim ALEC receive 525858 Hoch foundation 2005 2011', 'individual carbon dioxide molecule short life time around 5 year atmosphere', 'you solution pollution Learn get involve movement aides Barley', 'model sensitive increase carbon dioxide concentration atmosphere say', 'the Northwest Passage open August 25 2008', 'Os Angeles official go forward 40000amile program coat public street fight climate change', 'during 2013 election campaign Coalition say first legislative priority government would scrap carbon tax', 'early satellite measurement previously slightly odd tide gauge measurement', 'suffocating ocean could lead ecosystem collapse study say', 'on hand one 1999 comparison urban rural area propose urban heat island effect little influence global mean temperature trend', 'at of summit October 2014 of country agree new energy efficiency target 27 great 2030', 'date show slight warming mostly night winter', 'make year delay denial easy cheap climate polluter must hold accountable say Richard Miles executive director Enter Climate Integrity', 'the large contribution total radiating force cause increase atmosphere concentration CO2 since 1750', 'unsustainable exploitation natural world threaten food water security billion people major unpacked biodiversity study reveal', 'the vast majority Australians accept climate change real yet subject still controversial australian politic climate change skepticism still platform', 'cook  97 consensus disproving new peer', 'imagine people leave car home every day', 'over must century expect rise glacier contribute 7 24â cm 3 of in global sea level', 'EPA chief Scott Fruit say carbon dioxide primary contributory global warming', 'the of President grant permission construct lengthy sea barrier protect golf course Atlantic storm', 'in announcement Drama state plan include first standard carbon dioxide emission power plant ever propose Environmental Protection Agency', 'in Nunavut Suit report increase bear fighting around human settlement recent year lead belief population increase', 'the effect enhance CO2 terrestrial plant variable complex dependent numerous factor', 'President Donald Drums nominee White House senior adviser environmental policy 2016 describe belief global warming kind organism secular elite', 'citytree wall bench pollutionfighte ability 275 tree take 1 actual space tree would need', 'laser rear altimeter satellite provide wide range date', 'cotton farm across Georgia set produce good yield year but Hurricane Michael leave trail devastation', 'Malcolm Turnbull stage another dramatic retreat energy policy face dire threat leadership', 'these define geological brief 200000 year event characterize rapid global warming major change environment massive carbon addition', 'an exemption city ban plastic expire end month that mean get use paper straw', 'in addition animal agriculture large source greenhouse gas', 'when read Phil Bones actual word see he s say warm trend', 'the contamination local volcanic source sometimes detect conservatory remove background date', 'the PDO detect warm cool surface water Pacific Ocean north 20â ° n', 'it first discover isolate scottish physician Daniel Rutherford 1772', 'the Plump administration formally submit plan permit tailpipe emission move close legal clash could split nation s auto market', 'its almost impossible calculate many trillion dollar could cost', 'even warm big IPCC image would dangerous Or Grown suggest', 'Venus sufficiently strongly heat Run water vapor rise much high atmosphere split hydrogen oxygen ultraviolet light', 'although CFCs greenhouse gas regulate Montreal Protocol motivate CFCs contribution ozone repletion rather contribution global warming', 'of 19 recognize polar bear subpopulation one decline two increase seven stable nine insufficient date 2017', 'fisherman across state come together rescue need', 'repletion natural resource include fresh water increase likelihood resource war', 'aside water vapor residence time nine day major greenhouse gas well mixed take many year leave atmosphere', 'the energy consume manufacture transport material use build wind power plant equal new energy produce plant within month', 'two year country sign landmarks climate agreement Paris world remain far course prevent drastic global warming decade ahead', 'a Harvard professor say company able suck carbon dioxide atmosphere industrial scale 2021', 'situation need the Holocene climate opium HCO period warm global climate become warm', 'the historical Technology Review often publish article controversial critical certain technology', 'during presidency Drama describe global warming great longer threat face world', 'climate change often talk like distant problem future inevitably lead response â€eh someone sort later h', 'deadly heatwave could continue week possibly month across much northern hemisphere meteorologist predict week', 'the world lose 183 million acre forest year', 'carbon dioxide obtain distillation air method efficient', 'the relation zone region net loss place mass', 'the governor ignore nearer practical solution pin state fate global climate accord', 'More 71000 hectare protect countryside southeast face risk drilling', 'currently sealevel rise seem depend ocean temperature certainly CO2', 'teach writer Truce Sterling comment 2007 use Twitter literate communication about likely fire c radio hear guy recite Iliad', 'as well regular seasonal cycle underline trend decline sea ice Arctic recent decade', 'ice cap disappear far rapidly previously estimate part longer trend new research show', 'the date suggest solar activity influence global climate cause world get warm', 'climatechangeâ€“driven accelerate sealevel rise detect altimeter era', 'the conference negotiate Paris Agreement global agreement reduction climate change text represent consensus representative 196 attend party', 'there new Elastic Eating Enzyme recently create potentially help solve Elastic Pollution Crisis', 'email reveal Plump administration official trying manage potentially damaging government report chemical pollution link military site', 'carbon dioxide significant longlive greenhouse gas earth atmosphere', 'Rush encroachment refer small change herbivora rate shift maryland grassy dominate regime towards wood dominate savannah', 'on average quarter annual rainfall contribute tropical cycling prevalent period A in±a Ll in±o', 'the number take grow rapidly 1960 peak around 1968 global total 1250 bear year', 'model of   2 MeanMotion Resonance JupiterSaturn Planetary System', 'when remind pollution kill 10000 30000 people Delhi every year Union Minister Or Harsh Vardhan say benchmark', 'a spokesman say climate always change report tie global warm human activity', 'the low temperature cold point cause global water vapor level drop even carbon level rise', 'the estimate total of 2 emission include idiotic carbon emission mainly deforestation', 'actor former California Sov Arnold Schwarzenegger scold bobblehead figure President Plump climate change new video', 'the greenhouse effect process thermal radiation plantar atmosphere warm planet surface beyond temperature would absence atmosphere', 'I would agree carbon dioxide primary contributory global warming see', 'around seven 10 Americans think global warming happen', 'the trend measure network tidal gauge many collect date century', 'accord Environment Canada a prolong period cold wind chill expect continue Toronto evening making feel like 42â ° c', 'a primary cause famine one large see country Ethiopia and surround Worn still recover drought occur dilate 1970s', 'the Great Pacific Cabbage Watch contain 16 time waste previous survey able detect grow exponentially accord new study', 'eight committee investigate allegation publish report find evidence fraud scientific misconduct', 'for last dozen year more left fancy woolwork global warming', 'the Plump administration unrelente quest Arctic oil gas take major step Wednesday approve controversial plan', '600000 bat kill wind energy facility 2012 study say of Times November 8 2013', 'the rise ocean aridity make difficult marine organism shrimp system coral form shell  process know calcification', 'global warming associate large accumulation carbon dioxide atmosphere million year emit primarily volcanic activity propose trigger melt snowballs Earth', 'the of remain country world reject Paris climate agreement', 'the Holocene extinction event going mass extinction associate humanity expansion across globe past thousand year', 'new document obtain Pacific Standard show scope Stars effort roll back key protection public land across country', 'Republicans add measure appropriation bill would gut protection air water landscape', 'these conservative estimate wait see actual outcome', 'Penny Geiser Dresses critic retract criticism', 'say Sweet author several sealevel rise study', 'if have carbon dioxide content atmosphere life die', 'another example scientific research suggest previous estimate ice far overtake danger risk actually understand study project rise sea level', 'an imperative climate change plan track earth global energy', 'and that s counting flood cause hurricane tropical storm', 'a generous estimate energy generate satellite around 1 million time small cause global warming', 'sealevel rise seem depend ocean temperature certainly CO2', 'however end little impact especially latter half war', 'in AsiaPacific reef majority coral june kind infection', 'scientist confirm week remote Last Island home endanger Hawaiian monk seal green sea turtle rapidly erode powerful Hurricane Balaga', 'a heat wave consider extreme weather natural disaster danger heat sunlight may overhead human body', 'in truth overwhelming majority climateresearch funding come federal government left foundation', 'a rapid global shift clean energy need prevent runaway climate change say AntÃ³nio Guterres', 'Methane play minor role global warming could get much bad permafrost start melt', 'a new report raise question whether TCEQ enough protect states s water', 'the IPCC also make false prediction Amazon rain forest reference non peerreviewed paper produce advocacy group work WWF', 'water flow headway gain energy melt surround ice create channel', 'it possible scientific evidence help portion responsibility climate damage among fossil fuel producer our paper show', 'during last facial period sealevel fluctuates 20â€“30â water sequestra primarily northern Hemisphere ice sheet', 'more recent research especially Antarctica indicate probably conservative estimate true longer sea level rise might higher', 'million people breathe polled air around world die heart attack respiratory illness presentable', 'Brain Redlener Tackle Father write city especially old housing stock particularly vulnerable extreme heat associate climate change', 'Hurricane Florence another reminder we climate change real appear new normal', 'so resist anything it', 'some Grumpy s sweet generate national coverage devastating disaster as weather get bad need journalism get well', 'overall cold winter since 1978â€“79 mean temperature 15â â ° c 347Â â ° f', 'Michael Love set government position animal sentence leave of Written Ministerial Statement', 'â€the tree totally confused', 'the melting polar ice cap high attitude plain lead dangerous release methode gas', 'the idea climate change produce heat record across Earth among egregious manipulation date absurd global warming debate', 'greenland Coastal Ice Caps have melt Last the point of no Return', 'plant stomach show high variable CO2 level', 'in word region dry present general become even dry region currently wet general become even letter', 'They ll catch lot pest aren t aggressive dangerous', 'the war well ensue cholera epidemic result death thousand combatant well ten thousand civilian', 'climate scientist reach consensus earth undergo significant anthropogenic humaninduce global warming', 'Europe Asia emit soot burn coal wood dung diese open fire without articulate filter stove chimney smokestack exhaust pipe', 'Isotopes carbon oxygen indicate shift global cool climate', 'weather condition boost global warming lead stunning record low ice cover winter 2018', 'increase CO2 make water vapor greenhouse gas amplifie warm', 'scientist use direct indirect observation climate Earth observe satellite scientific instrumentation global network thermometer prehistoric ice extract glacier', 'in fact low temperature ever obtain microscopic system 20 no achieve 1995 NIST', 'the specie say risk endangerment extinction population conservation concern', 'conservative group spend in year fight action climate change', 'the IPCC simply update temperature history graph show good date available time', 'Pontiff say clean energy need climate change risk destroy humanity', 'More 90 of coastal city already experience chronic flooding number expect double 2030', 'as consequence human emit greenhouse gas global surface temperature start rise', 'multiple independently produce instrumental dataset confirm 2009â€“2018 decade 093 â± 007â â ° c warm preindustrial vaseline 1850â€“1900', 'while heat island warm important local effect evidence bias trend homogenize historical temperature record', 'wildlife become frequent intense west', 'during winter early spring New Jersey experience noreaster capable cause blizzard flood throughout northwestern United States', 'in current climate cloud exert cool effect climate the global mean CRF negative', 'Joseph Stiglitz write court brief fossil fuelbase economy impose incalculable cost society shift clean energy pay off', 'two staff member contractor instruct speak plan Narragansett May program', 'during deglaciation melt ice water return ocean thus sea level ocean increase again', 'the Act spain year litigation industry group challenge standard limit amount permit exposure chemical benzene', 'positive radiating force result warm', 'the current concentration 004 410Â pp volume rise preindustrial level 280Â pp', 'student learn age Earth too', 'this use evident Rags paper structure ice give c axis attic constant 452 of', 'a pipeline spill 8000 gallon jet fuel It Mary River Decatur town 100 mile Indianapolis', 'poorly understand aspect climate change change fact great deal climate science well understand', 'litigation reduce amount future climate change risk impact potentially large dangerous', 'the amount plastic ocean could triple year 2025 accord new report future sea consider there s already 52', 'new policy threaten undermine decade campaign efficient car conservation program', 'more presentation powerful clear explanation global warming I ever see', 'Saxon country s large oil natural gas company member ALEC task force planning vote resolution Wednesday', 'biostratigraphy use fossil work chronological order rock form useful paleontologist geologists', 'the project aim take plastic pollution sea recycle produce useful product', 'climate change matter coast storm flood still haven t grappled risk what s come', 'climate change real be cause it', 'over midlatitude land masse wet tropical region extreme precipitating event likely become intense frequent', 'atmosphere methode concentration interest one potent greenhouse gas earth atmosphere', 'agriculture contribute climate change anthropogenic emission greenhouse gas conversion nonagricultural land forest agricultural use', 'under ambitious scenario find strong likelihood Antarctica would remain fairly stable', 'plant require carbon dioxide conduct photosynthesis', 'Donald Plump emblem nation drown selfdefeate ignorance greed', 'the Thames remain frozen 8 week', 'a 2013 study estimate livestock account 44 humaninduce methode 15 humaninduce greenhouse gas emission', 'TIEMS Global Forum Education Training Mortification Policy Emergency Disaster Management', 'he keep pick denied top government position NASA might soon run GOP congressmen blame global warming sun', '70 vessel implicate illegal reported unregulated fishing register tax haven report find', 'Hope Francis take Donald Plump climate change denied again', 'drop weather station actually show slightly warm trend compare keep station', 'no since word indian opened', 'from 11 million year ago 10 million year ago Greenland Ice Sheet greatly reduce size', 'divide radiance 1050Â My size Guns disk steradian give average radiance 154Â of per square metre per steradian', 'agriculture minister David Littleproud tell ABC audience doesn t give rats whether climate change manage', 'for decade law licence destroy environment now Amazon Australia tide turning say campaigner Pari Margin', 'Report appear clear federal review despite censorship fear', 'Willis previously say climate change fact', 'the polar bear population grow', 'when combine Earth€“Soon system common orbit around Run period synod month new moon new moon 2953Â day', 'this predict produce change melt glacier ice sheet extreme temperature range significant change weather global rise average sea level', 'coastal lake sediment along Gulf Mexico shoreline 1000 2000 year ago suggest frequent intense hurricane occur today', 'polar bear number increase', 'Christian Figures the UN s climate change report show every fraction degree matter world government chance deliver safe future', 'animal agriculture lead cause planets s significant environmental threat', 'the cool phase ENSO A in±a SSTs eastern Pacific average air pressure high eastern Pacific low western Pacific', 'in South Florida we ve nine inch sealevel rise since 1920s', 'Harold Summer Stephen Crane write pa propose repeal Clean Power Plan endanger health Americans', 'while speak group business leader Paris former President Track Drama say â€temporary absence American leadership comes tackle climate change', 'the of twothird way original target Paris Agreement without federal engagement', 'full loss morand favour confer forest blame severe decline wildlife', 'the Ice Age reach peak last Facial Maximum ice sheet begin advance 33000Â YBP reach maximum limit 26500Â YBP', '  this conclusion base substantial array scientific evidence include recent work consistent conclusion recent assessment of', 'impact powerful volcanic eruption solar activity climate Arctic Circle', 'its unlike anything humanity ever deal with go take collective effort stop it', 'just industry eliminate porto soda can deal bottle water cap if doesn t legislature step in', 'suppose benefit ton range 1 user least need carbon 100 in 1 incitement user would benefit most', 'More 40 firm include CocaCola promise reduce harmful packing', '19241925 PDO change warm phase', 'shift subsidy development climatebenign energy source wind solar biomass geothermal power key stability earth climate', 'year year make possible new MAC', 'climate change increase extreme weather damage cost', 'document also suggest substantial cut Energy Department staff', 'the root cause climate change break economic model undervalued nonrenewable resource favour consumer product write Odd Lemons', 'in of 28 population 105 million become infect 500000 675000 die 048 064 percent population', 'no know natural forcing fit fingerprint observe warming except anthropogenic greenhouse gas', 'a of judge California dismiss lawsuit claim oil gas company responsible cost prevent rebuild damage', 'the warning get shrill', 'Seattle first major of city enact ban straw utensils though small city California already take initiative so', 'decade ago correctly predict much earth temperature would rise due increase atmosphere CO2', 'an example episode slow rate surface temperature increase 1998 2012 dub global warming status', 'the earthquake strike 17 mile south Channel Islands Each Thursday afternoon', 'SAC lead free solder melt 217â€“220â â ° c', 'multiply 95 15 time yield 463 percent', 'adapt global warming cheap prevent it', 'the vegetarian wildlife conservationist ditching dairy', 'Meteorologist Toe Bastard decidedly scientific term effort link Thursdays frigid winter storm humancause climate change', 'other news outlet confirm Papers identity report identity of intelligence official warn would endanger contact', 'the calcium carbonate coral skeleton make 60 carbon dioxide', 'climate change agenda expose wealth redistribution', 'new research show ExxonMobil game public year thing climate scientist know false', 'government policy mean cost offshore wind energy have the benefit of enormous say John Haven director greenpeace', 'natural science concerned description prediction understand natural phenomenon base empirical evidence observation experimentation', 'horrified fire rip home Greece flood submerged part Was heat wave overwhelm Japan', 'scientific consensus normally achieve communication conference publication scientific literature application reproducible result other peer review', 'Moral Reaching have ravage Half Hawaii Moral Seems', 'Video drought stricken Northern Gape town go vital finally get massive storm crazy hail river go it', 'to mind one President Equino s big crime nation misery', 'the benefit price carbon outweigh cost several time over', 'in October 2017 administration declare day public health emergency ovoid epidemic pledge urgently mobilized federal government response crisis', 'a GLOBAL cool last 120 year trigger â€more intense', 'with city become increasingly unliveable hope improvement may time drastic measure', 'Democrats deride president skepticism danger present climate change worldwide', 'the year start scrub climate change online it end remove climate change national security threat', 'now ever know every bit warming matter say one report author', 'the average growth rate urban population recently increase attribute mainly migration rapid organisation', 'electric car won t solve gridlock lack space road infrastructure Carbon footprints could cut favour pedestrian cycling mass transit', 'there likely polar ice cap series emaciation planet still recover early Snowballs Earth', 'the country s high administrative court rule diese vehicle may ban city street part effort improve air quality', 'the beautiful scourge craft world could also dangerous world ocean scientist say', 'rush global warming actually ever really happen would improve quality life whole lot place earth', 'of SecretaryGeneral AntÃ³nio Guterres say Sunday nation around globe unite fight nationalism xenophobia climate change', 'when future generation ask decision maker today could let planet temperature run control perhaps they ll tell â€traditions I', 'Men Banter could singlehanded alter 1995 IPCC report', 'a basic common example negative feedback system environment interaction among cloud cover plant growth solar radiation planet temperature', 'scientist find large natural store toxin Arctic its clear much get food web planet warm', 'winter cold snowy although city typically see less snow rain winter experience Last Coast blizzard occur 2011', 'volcano warming effect recent global warming   anything cool effect', 'temperature increase begin slow 1998 remain relatively stable period 15 year', 'severe climate event could cause shortage global beer supply accord new research involve University Last Ganglia UEA', 'there long claim unspecificed they change name global warming climate change', 'some link indisputable other subtle science improve time', 'the western world benefit leader of Australia desert trench trading ideology human live health', 'confidence model estimate high climate variable eg temperature other eg precipitating', 'similar experiment find preference positive feedback people give it negative feedback', 'if eruption happen near recent end dataset could pushed overall trend negative number longer cooling Christ said', 'â€but difference NOAA NASA aren t significant Schmidt argue context big picture', 'the work do friction translate reformation wear heat affect contact surface property even efficient friction surface', 'we forget role nature play mitigate climate change from smart agricultural practice new type forestry here money make difference', 'as sea ice melt surface area shrink diminish size effective surface therefore cause earth absorb sun heat', 'size consultation response could lead late levy fiscal measure budget', 'Country s commissioner make impassioned case business long social licence', 'sea level rise since 1990 underestimate old model agree well observation', 'it claim 2017 South Australia expensive electricity world another analysis claim South Australia second cheap electricity Australia', 'it expect ecosystem affect high atmosphere CO2 level high global temperature', 'the strong CO2 effect observe many different measurement', 'reduction surface climate change achieve 1987 Montreal Protocol', 'a new study show lot worry come change hurricane planet warm', 'Hurricane Florence impossible rare threat as Winston Churchill say another threat â€we enter period consequences', 'instead give luxury they re reduce pollution', 'while methode potent greenhouse gas CO2 200 time CO2 atmosphere', 'at current rate sea level would high enough make Maldives uninhabitable 2100', 'deadly heatwave could continue week possibly month across much northern hemisphere meteorologist predict week', 'this unlikely story bearmeetsdog appear end playful term', 'damage Australian Great Barrier Beef water acidification combustion monoxide', 'food production increase industrial revolution machinery fertilizes herbicide pesticide use increase land cultivation well crop yield', 'in winter relatively warm ocean water exert moderate influence even cover ice', 'and want money spend clean energy', 'this cause increase hydrogen ion aridity 30 since start industrial age process know ocean acidification', 'increase concentration gas of 2 20 ozone N to external force hand', 'the Arctic home million seal become prey surface hole ice order breathe haul ice rest', 'so the frequency the ferocity untimely rain increase along with erratic mansion drought flood cause by climate change', 'drought flood change since we’ve use fossil fuel', 'if global warming cause 2014 Queensland heat wave wasn t severe 1972 Queensland heat waved', 'the perception Earth shift with century human first view orbit especially photograph Earth return Apollo program', 'there ample evidence earth average temperature increase past 100 year decline mid highlatitude glacier major piece evidence', 'both paper refer fact cite discuss IPCC', 'â€the bottom line thing complicated Or Tutti say', 'the study lead scientist say extremely happy mention climate change restore', 'Very Island worldfamous tobacco hot sauce make locked battle land loss hurricane', 'Australia solar coverage continent', 'in Sweden Latvia Greece wildlife spread amid brutal heat wave', 'Country s commissioner make impassioned case business long social licence', 'it produce combustion wood organic material fossil fuel coal seat petroleum natural gas', 'consumer product like perfume pesticide paint contribute much city air pollution car', 'rate leaf photosynthesis show increase 30â€“50 c plant 10â€“25 Of double CO2 level', 'and hit 50 billion revenue first time last year  bad achievement decade half', 'in region winter quite dry summer heavy rainfall', 'climate   environment expert increasingly acknowledge plantbase diet good planet here they re say', 'we really muff error margin', 'â€it sad see such beautiful country destroy couple hours prime minister Antigua Barbuda say', 'the sun go lockdown could cause freeze weather earthquake famine say scientist', 'the company s decline readily apparent  millionaire brothers interest guide investment money', 'this increase occur despite take half emission various natural sink involve carbon cycle', 'national Farmers Federation head Vilna Wilson say people land can t ignore right eye', 'Donald Plump deny global warming want price can t ignore 2017 s supercharge hurricane wildlife break havoc coast coast', 'for two half decade veritable bane existence many climate scientist sometime Dato Institute official chart new path', 'sea level rise due global warming exaggerate', 'climate Action Cracked Dominoeffect climate event could push Earth hothouse state', 'so government propose put risk manufacture industry penalties struggle family make tough situation bad million household right around Australia', 'imperial CEO say expand regulatory timeline market access challenge escapade fiscal cost make hard start new project', 'these scientific instrument commonly use plant physiologist measure CO2 take thus measure photosynthetic rate', 'millennialscale amiability catastrophe hurricane windfall along Gulf Mexico coast', 'while Men Sarco Bubo la worry business rest we worry inaction destroy world', 'severe snowmageddon winter strongly link soar polar temperature say researcher deadly summer heatwave torrential flood also probably link', 'the two cite composite PMOD ACRIM', 'George Monbiot report the IPCC predict sea level could rise much 59 centimetres 194Â ft century', 'when water vapour condensed onto surface net warming occur surface', 'the world s no 1 polluter create national market clean power sector put lead position issue of retreat', 'climate change industrialscale fishing impact kill population potentially disastrous impact large predator say scientist', 'global warming increasingly urgent problem', 'evidence build net cloud feedback likely positive unlikely strongly negative', 'estimate Changes Global Temperature since Preindustrial Period', 'New Gingrich team Fancy Pelosi Ll More global warming', 'discovery of Passive Volcanic CO2 Missions Discredit Global Farming theory', 'its clock tapped potential fauces', 'freshwater supply already seriously decline 19 global hotspot  China Caspian Tea  due verse groundbreaking study show', 'by point life Earth extinct', 'Last Climate Amiability South America Surrounding Regions', 'during various station activity crew rest time light ISS dimmed switch off color temperature adjust', 'in 2009 several UNFCCC Parties produce Copenhagen Accord widely portray disappointing low goal lead poor nation reject it', 'an ice sheet response time century seem probable can not rule large change decade timescale widescale surface melt underway', 'by itself climate system experience various cycle last year such Ll in±of€“Southern Oscillation decade century', 'the italian   persian calendar currently use Ran Afghanistan also 12 month', 'it s lie wasteful consumer cause problem change individual habit fix', 'you read interview brilliant scientist IstvÃ¡n MarkÃ³ it tell need know science global warming', 'Mary Beth Pfeiffer s â€œLymeâ sound alarm climatedriven epidemic', 'these date change time due procession orbital factor follow cyclical pattern know Milankovitch cycle', 'on basis available data climate scientist project average global temperature rise century 20 45â ° c', 'some like hot unfortunately one run EPA', 'carbon dioxide top 400 pp Anna Boa Hawaii', 'one empirical study find statistical significant link stick rule rate price decline', 'since may change lifetime device necessary regularly celebrate measurement microphone', 'when CO2 level rise atmosphere temperature increase plant grow', 'it likely anthropogenic in humaninduce warming due elevated greenhouse gas level discernible influence many physical biological system', 'fossil fuelfire electric power plant also emit carbon dioxide may contribute climate change', 'once atmosphere reach situation point additional input CO2 really major impact', 'Vice become sterile expose temperature 35 degree one hour flowering consequently produce grain', 'President Donald Drums view step 97 percent scientific community', 'rain recede disaster leave extensive damage wake', 'the report note many observed change earth climate include atmosphere composition global average temperature ocean condition climate change', 'humanproduced carbon might one factor climate change there s simply evidence significant one', 'Idaho state whose legislature remove climate change education standard Teachers student testify reinstate', 'with rise global temperature amount permafrost melt release methode continue increase', 'fossil fuel price generally actual cost efficient price economic externally cost air pollution global climate destruction take account', 'industrial agriculture fuel they new science show emit way greenhouse gas previously think', '16000 scientist 184 country publish second warning humanity need change wicked way help planet', 'the spacebased TSI record comprise measurement ten radiometer span three solar cycle', 'in 2013 NOAA close 600 weather station', 'a study Cambridge Econometrics show potential air pollution benefit ev', 'it s polite ocean kill wildlife easy get without it four writer find', 'from 2008 2011 Arctic sea ice minimum extent high 2007 return level previous year', 'they want break gridlock issue', 'comparison recent date consistently find climate change occur rapidly intensely indicate IPCC prediction', 'Darwin argue population evolve individual natural selection naturally occur variation among individual', 'to drunk science walk away ridiculous former mayor say', 'between 1900 2016 sea level rise 16â€“21â cm 63â€“83â in', 'these nine bill would weaken Endangered Species Act€”and put nation s wildlife risk', 'in 1896 publish first climate model kind show have of 2 could produce drop temperature initiate ice age', 'ironically mispresente Holmes paper one mislead', 'the proposal would set emission price NZ15 per tonne co2equivalent', 'People tend think icefree Arctic summer term merely symbol global change', 'these model typically derive snow water equivalent SWE manner satellite observation snow cover', 'New Red Spot appear Jupiter', 'simply recycle doesn t cut it need major lifestyle shift here option', 'satellite measurement indicate absence significant global warming since 1979 period human carbon dioxide emission increase rapidly', 'a constitutional crisis occur Trudeau choose ignore constitutionally protect Original Title Rights Treaty Rights', 'increase CO2 atmosphere little effect', 'severe climate event could cause shortage global beer supply accord new research involve University Last Ganglia UEA', 'this mean survive but need prepare continual upheaval inability', 'the company outline future people buy nearly much oil anymore', 'it extremely likely 95100 probability human influence dominant cause global warming 19512010', 'we see climate change civil right issue', 'the final version plan aim reduce carbon dioxide emission electrical power generation 32 percent 2030 relative 2005 level', 'tubal mention study Ebb Bench find seven island one nine toll spread 3 per cent average since 1950s', 'by time resurrection set with century Earth whole consider unpleasant polled planet even garden mercenary prefer avoid', 'between 1870 1914 Sweden begin develop industrialized economy exist today', 'around seven 10 Americans think global warming happen', 'That s important water vapor greenhouse gas like carbon dioxide methode', 'as result since 1980s size ferocity fire California increase dramatically', 'tramp can not quit climate denial', 'By an explain france climate science sit president', 'three decade pass since thenNASA scientist James Finsen testify Senate Energy committee alert country arrival global warming', 'in Israel year 2010 hot record average temperature 23 degree Celsus high average', 'More 500 scientist professional climate relate field send European Climate Declaration SecretaryGeneral United Nations', 'a canadian government webster claim global warming force Santa Laws delicate toymake village South Sole', 'sea level rise happen now rate rise increase every year accord new study', 'these temperature cause severe widespread coral reaching ever record Great Barrier reef', 'since 1950s drought heat wave appear simultaneously increase frequency', 'climate change also increase drought heat wave inhibit plant growth make uncertain whether balance feedback persist future', 'where go beyond hope a climate scientist reflect courage need accept must continue pursue solution even face failure', 'Environment Climate Change Canada raise litany concern Neck Resources s propose Frontier Islands mine', 'the United States bite special status summit official say', 'weather climate different climate prediction need weather detail', 'in video almost look like they re boil', 'climate change may occur long short timescale variety factor recent warming discuss global warming', 'attribute event sudden environmental change like natural disaster', 'there actual evidence carbon dioxide emission cause global warming', 'terrestrial television type television broadcasting television signal transmit radio wave terrestrial earthbase transmitted television station to receiver antenna', 'despite one strong Ll In ever record Pacific Ocean largely positive North Atlantic Oscillation prevail Europe Winter 20152016', 'an article Science magazine illustrate rise carbon dioxide precede rise temperature actually law behind temperature rise 200 1000 year', 'expert worry chemical plastic vehicle exhaust cosmetic addition', 'accord basic physical principle greenhouse effect produce warm low atmosphere the troposphere cool upper atmosphere the stratosphere', 'new leader say government absolutely focus challenge climate change set goal put country forefront emission cut', 'censorship kind something you d see Russia totalitarian regime', 'On t overwhelm bad environmental news€”itemize it', 'on Wars heat impact melt ice ground', 'scientist puzzle Monday of President Donald Drums assertion ice cap set record much world ice Alps Under melting ami', '2009 demonstrate recently  upper troposphere the place add CO2 atmosphere could make difference temperature considerably dry model tune expect', 'coherence establish atmosphere carbon dioxide global temperature', 'these include global environmental problem climate change due global warming deforestation loss biodiversity']\n"
          ]
        }
      ]
    },
    {
      "cell_type": "code",
      "source": [
        "x_train = convert_to_bert_last_hidden_state_output(x_train,RoBERTa_model)\n",
        "print(x_train.shape)\n",
        "max_squence_length = x_train.shape[1]\n",
        "embedding_dim = x_train.shape[2]"
      ],
      "metadata": {
        "colab": {
          "base_uri": "https://localhost:8080/"
        },
        "id": "U8NNsl_9oZZ-",
        "outputId": "a9bead97-81b3-463c-e2bf-1a12715dd447"
      },
      "execution_count": null,
      "outputs": [
        {
          "output_type": "stream",
          "name": "stdout",
          "text": [
            "(699, 46, 768)\n"
          ]
        }
      ]
    },
    {
      "cell_type": "code",
      "source": [
        "'''import time\n",
        "start = time.time()\n",
        "output = model(inputs)\n",
        "end = time.time()\n",
        "print(f\"Time taken for one output: {end - start:.2f} seconds\")'''\n"
      ],
      "metadata": {
        "id": "vfSb3GMFVVZs",
        "colab": {
          "base_uri": "https://localhost:8080/"
        },
        "outputId": "d0fcc132-219c-4e16-a2fd-579083db80dd"
      },
      "execution_count": null,
      "outputs": [
        {
          "output_type": "stream",
          "name": "stdout",
          "text": [
            "Time taken for one output: 0.19 seconds\n"
          ]
        }
      ]
    },
    {
      "cell_type": "code",
      "source": [
        "#print(f\"{((end - start)*10000)/3600:.2f} hours\")"
      ],
      "metadata": {
        "id": "nu6GSHybVVc5",
        "colab": {
          "base_uri": "https://localhost:8080/"
        },
        "outputId": "e3070c46-e766-4f40-eaf8-75c4dca478a6"
      },
      "execution_count": null,
      "outputs": [
        {
          "output_type": "stream",
          "name": "stdout",
          "text": [
            "0.52 hours\n"
          ]
        }
      ]
    },
    {
      "cell_type": "code",
      "source": [
        "from keras.layers import Input,Flatten, Embedding, Conv1D, MaxPooling1D, Bidirectional, LSTM, Dense, Dropout, BatchNormalization, GlobalMaxPooling1D, Attention\n",
        "from keras.models import Model\n",
        "from keras.optimizers import Nadam\n",
        "from keras.callbacks import ModelCheckpoint\n",
        "import matplotlib.pyplot as plt\n",
        "import tensorflow as tf\n",
        "\n",
        "# BERT output is feeded as input\n",
        "input_layer = Input(shape=(max_squence_length,embedding_dim,), name='claims_input')\n",
        "\n",
        "# Convolutional layer\n",
        "conv_layer = Conv1D(filters=256, kernel_size=5, activation='relu', name='Conv1D_layer')(input_layer)\n",
        "pooling_layer = MaxPooling1D(pool_size=2, name='MaxPooling_layer')(conv_layer)\n",
        "\n",
        "# Bidirectional LSTM layer\n",
        "bilstm_layer = Bidirectional(LSTM(100, return_sequences=True, name='BiLSTM_layer'))(pooling_layer)\n",
        "\n",
        "# Attention mechanism\n",
        "attention = Attention(name='Attention_layer')([bilstm_layer, bilstm_layer])\n",
        "attention_pooling = GlobalMaxPooling1D(name='Attention_Pooling_layer')(attention)\n",
        "\n",
        "# Dense layers\n",
        "dense_layer = Dense(100, activation='relu', name='Dense_layer_1')(attention_pooling)\n",
        "dropout_layer = Dropout(0.6, name='Dropout_layer_1')(dense_layer)\n",
        "dense_layer_2 = Dense(50, activation='relu', name='Dense_layer_2')(dropout_layer)\n",
        "dropout_layer_2 = Dropout(0.5, name='Dropout_layer_2')(dense_layer_2)\n",
        "\n",
        "# Output layer for multi-class classification\n",
        "output_layer = Dense(3, activation='softmax', name='output_layer')(dropout_layer_2)\n",
        "\n",
        "\n",
        "#the model\n",
        "model = Model(inputs=input_layer, outputs=output_layer)\n",
        "loss= tf.keras.losses.SparseCategoricalCrossentropy()\n",
        "model.compile(optimizer=Nadam(learning_rate=0.001), loss=loss, metrics=['accuracy'])\n",
        "\n",
        "#model summary\n",
        "model.summary()\n",
        "\n",
        "checkpoint_callback = ModelCheckpoint('/content/drive/MyDrive/UBC_project/RoBERTa_model.h5', monitor='val_accuracy', save_best_only=True, mode='max', verbose=1)\n",
        "\n",
        "\n",
        "#training parameters\n",
        "batch_size = 100\n",
        "epochs = 30\n",
        "\n",
        "history = model.fit(\n",
        "    x_train,\n",
        "    Y_train,\n",
        "    batch_size=batch_size,\n",
        "    epochs=epochs,\n",
        "    validation_split=0.12,\n",
        "    callbacks=[checkpoint_callback]\n",
        ")\n",
        "\n",
        "#graph\n",
        "plt.plot(history.history['accuracy'], color='red',label='accuracy')\n",
        "plt.plot(history.history['val_accuracy'],color='blue',label='val_accuracy')\n",
        "plt.title('Model Accuracy')\n",
        "plt.ylabel('Accuracy')\n",
        "plt.xlabel('Epoch')\n",
        "plt.legend()\n",
        "plt.show()\n"
      ],
      "metadata": {
        "id": "5mKIc_cMVVim",
        "colab": {
          "base_uri": "https://localhost:8080/",
          "height": 1000
        },
        "outputId": "2e2f9e53-35c4-4930-c4d7-a8b735e764d1"
      },
      "execution_count": null,
      "outputs": [
        {
          "output_type": "stream",
          "name": "stderr",
          "text": [
            "WARNING:tensorflow:Layer BiLSTM_layer will not use cuDNN kernels since it doesn't meet the criteria. It will use a generic GPU kernel as fallback when running on GPU.\n",
            "WARNING:tensorflow:Layer BiLSTM_layer will not use cuDNN kernels since it doesn't meet the criteria. It will use a generic GPU kernel as fallback when running on GPU.\n",
            "WARNING:tensorflow:Layer BiLSTM_layer will not use cuDNN kernels since it doesn't meet the criteria. It will use a generic GPU kernel as fallback when running on GPU.\n"
          ]
        },
        {
          "output_type": "stream",
          "name": "stdout",
          "text": [
            "Model: \"model_10\"\n",
            "__________________________________________________________________________________________________\n",
            " Layer (type)                Output Shape                 Param #   Connected to                  \n",
            "==================================================================================================\n",
            " claims_input (InputLayer)   [(None, 46, 768)]            0         []                            \n",
            "                                                                                                  \n",
            " Conv1D_layer (Conv1D)       (None, 42, 256)              983296    ['claims_input[0][0]']        \n",
            "                                                                                                  \n",
            " MaxPooling_layer (MaxPooli  (None, 21, 256)              0         ['Conv1D_layer[0][0]']        \n",
            " ng1D)                                                                                            \n",
            "                                                                                                  \n",
            " bidirectional_10 (Bidirect  (None, 21, 200)              285600    ['MaxPooling_layer[0][0]']    \n",
            " ional)                                                                                           \n",
            "                                                                                                  \n",
            " Attention_layer (Attention  (None, 21, 200)              0         ['bidirectional_10[0][0]',    \n",
            " )                                                                   'bidirectional_10[0][0]']    \n",
            "                                                                                                  \n",
            " Attention_Pooling_layer (G  (None, 200)                  0         ['Attention_layer[0][0]']     \n",
            " lobalMaxPooling1D)                                                                               \n",
            "                                                                                                  \n",
            " Dense_layer_1 (Dense)       (None, 100)                  20100     ['Attention_Pooling_layer[0][0\n",
            "                                                                    ]']                           \n",
            "                                                                                                  \n",
            " Dropout_layer_1 (Dropout)   (None, 100)                  0         ['Dense_layer_1[0][0]']       \n",
            "                                                                                                  \n",
            " Dense_layer_2 (Dense)       (None, 50)                   5050      ['Dropout_layer_1[0][0]']     \n",
            "                                                                                                  \n",
            " Dropout_layer_2 (Dropout)   (None, 50)                   0         ['Dense_layer_2[0][0]']       \n",
            "                                                                                                  \n",
            " output_layer (Dense)        (None, 3)                    153       ['Dropout_layer_2[0][0]']     \n",
            "                                                                                                  \n",
            "==================================================================================================\n",
            "Total params: 1294199 (4.94 MB)\n",
            "Trainable params: 1294199 (4.94 MB)\n",
            "Non-trainable params: 0 (0.00 Byte)\n",
            "__________________________________________________________________________________________________\n",
            "Epoch 1/30\n",
            "7/7 [==============================] - ETA: 0s - loss: 1.1372 - accuracy: 0.3333\n",
            "Epoch 1: val_accuracy improved from -inf to 0.32143, saving model to /content/drive/MyDrive/UBC_project/RoBERTa_model.h5\n",
            "7/7 [==============================] - 8s 213ms/step - loss: 1.1372 - accuracy: 0.3333 - val_loss: 1.1190 - val_accuracy: 0.3214\n",
            "Epoch 2/30\n",
            "1/7 [===>..........................] - ETA: 0s - loss: 1.0681 - accuracy: 0.3600"
          ]
        },
        {
          "output_type": "stream",
          "name": "stderr",
          "text": [
            "/usr/local/lib/python3.10/dist-packages/keras/src/engine/training.py:3103: UserWarning: You are saving your model as an HDF5 file via `model.save()`. This file format is considered legacy. We recommend using instead the native Keras format, e.g. `model.save('my_model.keras')`.\n",
            "  saving_api.save_model(\n"
          ]
        },
        {
          "output_type": "stream",
          "name": "stdout",
          "text": [
            "7/7 [==============================] - ETA: 0s - loss: 1.1047 - accuracy: 0.3789\n",
            "Epoch 2: val_accuracy improved from 0.32143 to 0.41667, saving model to /content/drive/MyDrive/UBC_project/RoBERTa_model.h5\n",
            "7/7 [==============================] - 1s 95ms/step - loss: 1.1047 - accuracy: 0.3789 - val_loss: 1.0718 - val_accuracy: 0.4167\n",
            "Epoch 3/30\n",
            "7/7 [==============================] - ETA: 0s - loss: 1.0761 - accuracy: 0.3935\n",
            "Epoch 3: val_accuracy did not improve from 0.41667\n",
            "7/7 [==============================] - 1s 83ms/step - loss: 1.0761 - accuracy: 0.3935 - val_loss: 1.0496 - val_accuracy: 0.3333\n",
            "Epoch 4/30\n",
            "7/7 [==============================] - ETA: 0s - loss: 1.0485 - accuracy: 0.4634\n",
            "Epoch 4: val_accuracy did not improve from 0.41667\n",
            "7/7 [==============================] - 1s 83ms/step - loss: 1.0485 - accuracy: 0.4634 - val_loss: 1.0492 - val_accuracy: 0.3929\n",
            "Epoch 5/30\n",
            "7/7 [==============================] - ETA: 0s - loss: 1.0248 - accuracy: 0.4911\n",
            "Epoch 5: val_accuracy did not improve from 0.41667\n",
            "7/7 [==============================] - 1s 78ms/step - loss: 1.0248 - accuracy: 0.4911 - val_loss: 1.0869 - val_accuracy: 0.3690\n",
            "Epoch 6/30\n",
            "7/7 [==============================] - ETA: 0s - loss: 1.0135 - accuracy: 0.4748\n",
            "Epoch 6: val_accuracy did not improve from 0.41667\n",
            "7/7 [==============================] - 1s 78ms/step - loss: 1.0135 - accuracy: 0.4748 - val_loss: 1.1022 - val_accuracy: 0.3690\n",
            "Epoch 7/30\n",
            "7/7 [==============================] - ETA: 0s - loss: 1.0134 - accuracy: 0.4846\n",
            "Epoch 7: val_accuracy improved from 0.41667 to 0.42857, saving model to /content/drive/MyDrive/UBC_project/RoBERTa_model.h5\n",
            "7/7 [==============================] - 1s 96ms/step - loss: 1.0134 - accuracy: 0.4846 - val_loss: 1.1094 - val_accuracy: 0.4286\n",
            "Epoch 8/30\n",
            "7/7 [==============================] - ETA: 0s - loss: 0.9710 - accuracy: 0.5301\n",
            "Epoch 8: val_accuracy did not improve from 0.42857\n",
            "7/7 [==============================] - 1s 81ms/step - loss: 0.9710 - accuracy: 0.5301 - val_loss: 1.0743 - val_accuracy: 0.4286\n",
            "Epoch 9/30\n",
            "7/7 [==============================] - ETA: 0s - loss: 0.9422 - accuracy: 0.5463\n",
            "Epoch 9: val_accuracy did not improve from 0.42857\n",
            "7/7 [==============================] - 1s 82ms/step - loss: 0.9422 - accuracy: 0.5463 - val_loss: 1.1227 - val_accuracy: 0.3690\n",
            "Epoch 10/30\n",
            "7/7 [==============================] - ETA: 0s - loss: 0.9196 - accuracy: 0.5805\n",
            "Epoch 10: val_accuracy did not improve from 0.42857\n",
            "7/7 [==============================] - 1s 78ms/step - loss: 0.9196 - accuracy: 0.5805 - val_loss: 1.1535 - val_accuracy: 0.4048\n",
            "Epoch 11/30\n",
            "7/7 [==============================] - ETA: 0s - loss: 0.8816 - accuracy: 0.5789\n",
            "Epoch 11: val_accuracy did not improve from 0.42857\n",
            "7/7 [==============================] - 1s 85ms/step - loss: 0.8816 - accuracy: 0.5789 - val_loss: 1.2222 - val_accuracy: 0.3929\n",
            "Epoch 12/30\n",
            "7/7 [==============================] - ETA: 0s - loss: 0.8889 - accuracy: 0.5805\n",
            "Epoch 12: val_accuracy did not improve from 0.42857\n",
            "7/7 [==============================] - 1s 81ms/step - loss: 0.8889 - accuracy: 0.5805 - val_loss: 1.1766 - val_accuracy: 0.3452\n",
            "Epoch 13/30\n",
            "7/7 [==============================] - ETA: 0s - loss: 0.8693 - accuracy: 0.5772\n",
            "Epoch 13: val_accuracy did not improve from 0.42857\n",
            "7/7 [==============================] - 1s 83ms/step - loss: 0.8693 - accuracy: 0.5772 - val_loss: 1.1820 - val_accuracy: 0.4048\n",
            "Epoch 14/30\n",
            "7/7 [==============================] - ETA: 0s - loss: 0.8187 - accuracy: 0.6244\n",
            "Epoch 14: val_accuracy did not improve from 0.42857\n",
            "7/7 [==============================] - 1s 142ms/step - loss: 0.8187 - accuracy: 0.6244 - val_loss: 1.3178 - val_accuracy: 0.3810\n",
            "Epoch 15/30\n",
            "7/7 [==============================] - ETA: 0s - loss: 0.7889 - accuracy: 0.6325\n",
            "Epoch 15: val_accuracy did not improve from 0.42857\n",
            "7/7 [==============================] - 1s 152ms/step - loss: 0.7889 - accuracy: 0.6325 - val_loss: 1.2419 - val_accuracy: 0.3571\n",
            "Epoch 16/30\n",
            "7/7 [==============================] - ETA: 0s - loss: 0.7148 - accuracy: 0.6878\n",
            "Epoch 16: val_accuracy improved from 0.42857 to 0.48810, saving model to /content/drive/MyDrive/UBC_project/RoBERTa_model.h5\n",
            "7/7 [==============================] - 1s 168ms/step - loss: 0.7148 - accuracy: 0.6878 - val_loss: 1.5653 - val_accuracy: 0.4881\n",
            "Epoch 17/30\n",
            "7/7 [==============================] - ETA: 0s - loss: 0.7414 - accuracy: 0.6927\n",
            "Epoch 17: val_accuracy did not improve from 0.48810\n",
            "7/7 [==============================] - 1s 156ms/step - loss: 0.7414 - accuracy: 0.6927 - val_loss: 1.1887 - val_accuracy: 0.4167\n",
            "Epoch 18/30\n",
            "7/7 [==============================] - ETA: 0s - loss: 0.7057 - accuracy: 0.7122\n",
            "Epoch 18: val_accuracy did not improve from 0.48810\n",
            "7/7 [==============================] - 1s 140ms/step - loss: 0.7057 - accuracy: 0.7122 - val_loss: 1.4800 - val_accuracy: 0.3333\n",
            "Epoch 19/30\n",
            "7/7 [==============================] - ETA: 0s - loss: 0.6046 - accuracy: 0.7577\n",
            "Epoch 19: val_accuracy did not improve from 0.48810\n",
            "7/7 [==============================] - 1s 80ms/step - loss: 0.6046 - accuracy: 0.7577 - val_loss: 1.6365 - val_accuracy: 0.4167\n",
            "Epoch 20/30\n",
            "7/7 [==============================] - ETA: 0s - loss: 0.5235 - accuracy: 0.7854\n",
            "Epoch 20: val_accuracy did not improve from 0.48810\n",
            "7/7 [==============================] - 1s 77ms/step - loss: 0.5235 - accuracy: 0.7854 - val_loss: 1.4482 - val_accuracy: 0.4643\n",
            "Epoch 21/30\n",
            "7/7 [==============================] - ETA: 0s - loss: 0.4485 - accuracy: 0.8325\n",
            "Epoch 21: val_accuracy did not improve from 0.48810\n",
            "7/7 [==============================] - 1s 85ms/step - loss: 0.4485 - accuracy: 0.8325 - val_loss: 2.1563 - val_accuracy: 0.4643\n",
            "Epoch 22/30\n",
            "7/7 [==============================] - ETA: 0s - loss: 0.4101 - accuracy: 0.8537\n",
            "Epoch 22: val_accuracy improved from 0.48810 to 0.50000, saving model to /content/drive/MyDrive/UBC_project/RoBERTa_model.h5\n",
            "7/7 [==============================] - 1s 95ms/step - loss: 0.4101 - accuracy: 0.8537 - val_loss: 1.5449 - val_accuracy: 0.5000\n",
            "Epoch 23/30\n",
            "7/7 [==============================] - ETA: 0s - loss: 0.3843 - accuracy: 0.8634\n",
            "Epoch 23: val_accuracy did not improve from 0.50000\n",
            "7/7 [==============================] - 1s 83ms/step - loss: 0.3843 - accuracy: 0.8634 - val_loss: 1.9731 - val_accuracy: 0.4286\n",
            "Epoch 24/30\n",
            "7/7 [==============================] - ETA: 0s - loss: 0.3625 - accuracy: 0.8748\n",
            "Epoch 24: val_accuracy did not improve from 0.50000\n",
            "7/7 [==============================] - 1s 79ms/step - loss: 0.3625 - accuracy: 0.8748 - val_loss: 2.4427 - val_accuracy: 0.4286\n",
            "Epoch 25/30\n",
            "7/7 [==============================] - ETA: 0s - loss: 0.3583 - accuracy: 0.8780\n",
            "Epoch 25: val_accuracy did not improve from 0.50000\n",
            "7/7 [==============================] - 1s 78ms/step - loss: 0.3583 - accuracy: 0.8780 - val_loss: 1.8621 - val_accuracy: 0.4881\n",
            "Epoch 26/30\n",
            "7/7 [==============================] - ETA: 0s - loss: 0.2888 - accuracy: 0.9041\n",
            "Epoch 26: val_accuracy did not improve from 0.50000\n",
            "7/7 [==============================] - 1s 85ms/step - loss: 0.2888 - accuracy: 0.9041 - val_loss: 2.6087 - val_accuracy: 0.3810\n",
            "Epoch 27/30\n",
            "7/7 [==============================] - ETA: 0s - loss: 0.2657 - accuracy: 0.8959\n",
            "Epoch 27: val_accuracy did not improve from 0.50000\n",
            "7/7 [==============================] - 1s 81ms/step - loss: 0.2657 - accuracy: 0.8959 - val_loss: 2.3938 - val_accuracy: 0.4286\n",
            "Epoch 28/30\n",
            "7/7 [==============================] - ETA: 0s - loss: 0.2579 - accuracy: 0.9138\n",
            "Epoch 28: val_accuracy did not improve from 0.50000\n",
            "7/7 [==============================] - 1s 83ms/step - loss: 0.2579 - accuracy: 0.9138 - val_loss: 2.6942 - val_accuracy: 0.4048\n",
            "Epoch 29/30\n",
            "7/7 [==============================] - ETA: 0s - loss: 0.2199 - accuracy: 0.9317\n",
            "Epoch 29: val_accuracy did not improve from 0.50000\n",
            "7/7 [==============================] - 1s 77ms/step - loss: 0.2199 - accuracy: 0.9317 - val_loss: 2.3668 - val_accuracy: 0.4643\n",
            "Epoch 30/30\n",
            "7/7 [==============================] - ETA: 0s - loss: 0.2109 - accuracy: 0.9382\n",
            "Epoch 30: val_accuracy improved from 0.50000 to 0.52381, saving model to /content/drive/MyDrive/UBC_project/RoBERTa_model.h5\n",
            "7/7 [==============================] - 1s 100ms/step - loss: 0.2109 - accuracy: 0.9382 - val_loss: 2.3994 - val_accuracy: 0.5238\n"
          ]
        },
        {
          "output_type": "display_data",
          "data": {
            "text/plain": [
              "<Figure size 640x480 with 1 Axes>"
            ],
            "image/png": "[encoded data removed]"
          },
          "metadata": {}
        }
      ]
    },
    {
      "cell_type": "code",
      "source": [
        "#graph\n",
        "plt.plot(history.history['loss'], color='red',label='loss')\n",
        "plt.plot(history.history['val_loss'],color='blue',label='val_loss')\n",
        "plt.title('Model Loss')\n",
        "plt.ylabel('Accuracy')\n",
        "plt.xlabel('Epoch')\n",
        "plt.legend()\n",
        "plt.show()"
      ],
      "metadata": {
        "id": "fb7CzGywVVqj",
        "colab": {
          "base_uri": "https://localhost:8080/",
          "height": 472
        },
        "outputId": "a627b7d4-4cc2-4553-a1c4-b2597a31ef32"
      },
      "execution_count": null,
      "outputs": [
        {
          "output_type": "display_data",
          "data": {
            "text/plain": [
              "<Figure size 640x480 with 1 Axes>"
            ],
            "image/png": "[encoded data removed]"
          },
          "metadata": {}
        }
      ]
    },
    {
      "cell_type": "code",
      "source": [
        "from keras import backend as K\n",
        "\n",
        "def f1_score(y_true, y_pred):\n",
        "    y_pred = K.argmax(y_pred, axis=-1)\n",
        "    y_true = K.argmax(y_true, axis=-1)\n",
        "\n",
        "    class_ids = K.arange(0, K.max(y_true) + 1, dtype='int32')\n",
        "    true_positives = K.sum(K.cast(K.equal(y_true, y_pred), 'float32'), axis=0)\n",
        "    false_positives = K.sum(K.cast(K.not_equal(y_true, y_pred) & K.equal(y_pred, class_ids[:, None]), 'float32'), axis=1)\n",
        "    false_negatives = K.sum(K.cast(K.not_equal(y_true, y_pred) & K.equal(y_true, class_ids[:, None]), 'float32'), axis=1)\n",
        "\n",
        "    precision = true_positives / (true_positives + false_positives + K.epsilon())\n",
        "    recall = true_positives / (true_positives + false_negatives + K.epsilon())\n",
        "    f1 = 2 * (precision * recall) / (precision + recall + K.epsilon())\n",
        "\n",
        "    f1_score_mean = K.mean(f1)\n",
        "    return f1_score_mean"
      ],
      "metadata": {
        "id": "pAZ0CpNoB50P"
      },
      "execution_count": null,
      "outputs": []
    },
    {
      "cell_type": "code",
      "source": [
        "from keras.layers import Input,Flatten, Embedding, Conv1D, MaxPooling1D, Bidirectional, LSTM, Dense, Dropout, BatchNormalization, GlobalMaxPooling1D, Attention\n",
        "from keras.models import Model\n",
        "from keras.optimizers import Nadam\n",
        "from keras.callbacks import ModelCheckpoint\n",
        "import matplotlib.pyplot as plt\n",
        "import tensorflow as tf\n",
        "\n",
        "\n",
        "\n",
        "# BERT output is feeded as input\n",
        "input_layer = Input(shape=(max_squence_length,embedding_dim,), name='claims_input')\n",
        "\n",
        "# Convolutional layer\n",
        "conv_layer = Conv1D(filters=256, kernel_size=5, activation='relu', name='Conv1D_layer')(input_layer)\n",
        "pooling_layer = MaxPooling1D(pool_size=2, name='MaxPooling_layer')(conv_layer)\n",
        "\n",
        "# Bidirectional LSTM layer\n",
        "bilstm_layer = Bidirectional(LSTM(100, return_sequences=True, name='BiLSTM_layer'))(pooling_layer)\n",
        "\n",
        "# Attention mechanism\n",
        "attention = Attention(name='Attention_layer')([bilstm_layer, bilstm_layer])\n",
        "attention_pooling = GlobalMaxPooling1D(name='Attention_Pooling_layer')(attention)\n",
        "\n",
        "# Dense layers\n",
        "dense_layer = Dense(100, activation='relu', name='Dense_layer_1')(attention_pooling)\n",
        "dropout_layer = Dropout(0.6, name='Dropout_layer_1')(dense_layer)\n",
        "dense_layer_2 = Dense(50, activation='relu', name='Dense_layer_2')(dropout_layer)\n",
        "dropout_layer_2 = Dropout(0.5, name='Dropout_layer_2')(dense_layer_2)\n",
        "\n",
        "# Output layer for multi-class classification\n",
        "output_layer = Dense(3, activation='softmax', name='output_layer')(dropout_layer_2)\n",
        "\n",
        "\n",
        "#the model\n",
        "model = Model(inputs=input_layer, outputs=output_layer)\n",
        "loss= tf.keras.losses.SparseCategoricalCrossentropy()\n",
        "model.compile(optimizer=Nadam(learning_rate=0.001), loss=loss, metrics=[f1_score])\n",
        "\n",
        "#model summary\n",
        "model.summary()\n",
        "\n",
        "checkpoint_callback = ModelCheckpoint('/content/drive/MyDrive/UBC_project/f1_score_RoBERTa_model.h5', monitor='val_f1_score', save_best_only=True, mode='max', verbose=1)\n",
        "\n",
        "\n",
        "#training parameters\n",
        "batch_size = 100\n",
        "epochs = 30\n",
        "\n",
        "history = model.fit(\n",
        "    x_train,\n",
        "    Y_train,\n",
        "    batch_size=batch_size,\n",
        "    epochs=epochs,\n",
        "    validation_split=0.12,\n",
        "    callbacks=[checkpoint_callback]\n",
        ")\n",
        "\n",
        "#graph\n",
        "plt.plot(history.history['f1_score'], color='red',label='accuracy')\n",
        "plt.plot(history.history['val_f1_score'],color='blue',label='val_accuracy')\n",
        "plt.title('Model f1_score')\n",
        "plt.ylabel('f1_score')\n",
        "plt.xlabel('Epoch')\n",
        "plt.legend()\n",
        "plt.show()\n"
      ],
      "metadata": {
        "colab": {
          "base_uri": "https://localhost:8080/",
          "height": 1000
        },
        "id": "onImZgO6B3B5",
        "outputId": "e265c58e-8d81-4720-8f57-552ed00232ea",
        "collapsed": true
      },
      "execution_count": null,
      "outputs": [
        {
          "output_type": "stream",
          "name": "stderr",
          "text": [
            "WARNING:tensorflow:Layer BiLSTM_layer will not use cuDNN kernels since it doesn't meet the criteria. It will use a generic GPU kernel as fallback when running on GPU.\n",
            "WARNING:tensorflow:Layer BiLSTM_layer will not use cuDNN kernels since it doesn't meet the criteria. It will use a generic GPU kernel as fallback when running on GPU.\n",
            "WARNING:tensorflow:Layer BiLSTM_layer will not use cuDNN kernels since it doesn't meet the criteria. It will use a generic GPU kernel as fallback when running on GPU.\n"
          ]
        },
        {
          "output_type": "stream",
          "name": "stdout",
          "text": [
            "Model: \"model_15\"\n",
            "__________________________________________________________________________________________________\n",
            " Layer (type)                Output Shape                 Param #   Connected to                  \n",
            "==================================================================================================\n",
            " claims_input (InputLayer)   [(None, 46, 768)]            0         []                            \n",
            "                                                                                                  \n",
            " Conv1D_layer (Conv1D)       (None, 42, 256)              983296    ['claims_input[0][0]']        \n",
            "                                                                                                  \n",
            " MaxPooling_layer (MaxPooli  (None, 21, 256)              0         ['Conv1D_layer[0][0]']        \n",
            " ng1D)                                                                                            \n",
            "                                                                                                  \n",
            " bidirectional_15 (Bidirect  (None, 21, 200)              285600    ['MaxPooling_layer[0][0]']    \n",
            " ional)                                                                                           \n",
            "                                                                                                  \n",
            " Attention_layer (Attention  (None, 21, 200)              0         ['bidirectional_15[0][0]',    \n",
            " )                                                                   'bidirectional_15[0][0]']    \n",
            "                                                                                                  \n",
            " Attention_Pooling_layer (G  (None, 200)                  0         ['Attention_layer[0][0]']     \n",
            " lobalMaxPooling1D)                                                                               \n",
            "                                                                                                  \n",
            " Dense_layer_1 (Dense)       (None, 100)                  20100     ['Attention_Pooling_layer[0][0\n",
            "                                                                    ]']                           \n",
            "                                                                                                  \n",
            " Dropout_layer_1 (Dropout)   (None, 100)                  0         ['Dense_layer_1[0][0]']       \n",
            "                                                                                                  \n",
            " Dense_layer_2 (Dense)       (None, 50)                   5050      ['Dropout_layer_1[0][0]']     \n",
            "                                                                                                  \n",
            " Dropout_layer_2 (Dropout)   (None, 50)                   0         ['Dense_layer_2[0][0]']       \n",
            "                                                                                                  \n",
            " output_layer (Dense)        (None, 3)                    153       ['Dropout_layer_2[0][0]']     \n",
            "                                                                                                  \n",
            "==================================================================================================\n",
            "Total params: 1294199 (4.94 MB)\n",
            "Trainable params: 1294199 (4.94 MB)\n",
            "Non-trainable params: 0 (0.00 Byte)\n",
            "__________________________________________________________________________________________________\n",
            "Epoch 1/30\n",
            "7/7 [==============================] - ETA: 0s - loss: 1.1360 - f1_score: 0.5090\n",
            "Epoch 1: val_f1_score improved from -inf to 0.69767, saving model to /content/drive/MyDrive/UBC_project/f1_score_RoBERTa_model.h5\n",
            "7/7 [==============================] - 8s 293ms/step - loss: 1.1360 - f1_score: 0.5090 - val_loss: 1.0818 - val_f1_score: 0.6977\n",
            "Epoch 2/30\n"
          ]
        },
        {
          "output_type": "stream",
          "name": "stderr",
          "text": [
            "/usr/local/lib/python3.10/dist-packages/keras/src/engine/training.py:3103: UserWarning: You are saving your model as an HDF5 file via `model.save()`. This file format is considered legacy. We recommend using instead the native Keras format, e.g. `model.save('my_model.keras')`.\n",
            "  saving_api.save_model(\n"
          ]
        },
        {
          "output_type": "stream",
          "name": "stdout",
          "text": [
            "7/7 [==============================] - ETA: 0s - loss: 1.0992 - f1_score: 0.5446\n",
            "Epoch 2: val_f1_score did not improve from 0.69767\n",
            "7/7 [==============================] - 1s 82ms/step - loss: 1.0992 - f1_score: 0.5446 - val_loss: 1.0704 - val_f1_score: 0.6452\n",
            "Epoch 3/30\n",
            "7/7 [==============================] - ETA: 0s - loss: 1.0876 - f1_score: 0.5936\n",
            "Epoch 3: val_f1_score improved from 0.69767 to 0.88742, saving model to /content/drive/MyDrive/UBC_project/f1_score_RoBERTa_model.h5\n",
            "7/7 [==============================] - 1s 101ms/step - loss: 1.0876 - f1_score: 0.5936 - val_loss: 1.0738 - val_f1_score: 0.8874\n",
            "Epoch 4/30\n",
            "7/7 [==============================] - ETA: 0s - loss: 1.0544 - f1_score: 0.6278\n",
            "Epoch 4: val_f1_score did not improve from 0.88742\n",
            "7/7 [==============================] - 1s 81ms/step - loss: 1.0544 - f1_score: 0.6278 - val_loss: 1.0702 - val_f1_score: 0.6977\n",
            "Epoch 5/30\n",
            "7/7 [==============================] - ETA: 0s - loss: 1.0507 - f1_score: 0.5603\n",
            "Epoch 5: val_f1_score did not improve from 0.88742\n",
            "7/7 [==============================] - 1s 81ms/step - loss: 1.0507 - f1_score: 0.5603 - val_loss: 1.0810 - val_f1_score: 0.5263\n",
            "Epoch 6/30\n",
            "7/7 [==============================] - ETA: 0s - loss: 1.0260 - f1_score: 0.5437\n",
            "Epoch 6: val_f1_score did not improve from 0.88742\n",
            "7/7 [==============================] - 1s 79ms/step - loss: 1.0260 - f1_score: 0.5437 - val_loss: 1.0666 - val_f1_score: 0.3200\n",
            "Epoch 7/30\n",
            "7/7 [==============================] - ETA: 0s - loss: 1.0072 - f1_score: 0.4853\n",
            "Epoch 7: val_f1_score did not improve from 0.88742\n",
            "7/7 [==============================] - 1s 77ms/step - loss: 1.0072 - f1_score: 0.4853 - val_loss: 1.0423 - val_f1_score: 0.5263\n",
            "Epoch 8/30\n",
            "7/7 [==============================] - ETA: 0s - loss: 0.9942 - f1_score: 0.5193\n",
            "Epoch 8: val_f1_score did not improve from 0.88742\n",
            "7/7 [==============================] - 1s 83ms/step - loss: 0.9942 - f1_score: 0.5193 - val_loss: 1.0439 - val_f1_score: 0.8252\n",
            "Epoch 9/30\n",
            "7/7 [==============================] - ETA: 0s - loss: 0.9742 - f1_score: 0.5704\n",
            "Epoch 9: val_f1_score did not improve from 0.88742\n",
            "7/7 [==============================] - 1s 81ms/step - loss: 0.9742 - f1_score: 0.5704 - val_loss: 1.0889 - val_f1_score: 0.5391\n",
            "Epoch 10/30\n",
            "7/7 [==============================] - ETA: 0s - loss: 0.9426 - f1_score: 0.5137\n",
            "Epoch 10: val_f1_score did not improve from 0.88742\n",
            "7/7 [==============================] - 1s 78ms/step - loss: 0.9426 - f1_score: 0.5137 - val_loss: 1.0771 - val_f1_score: 0.5000\n",
            "Epoch 11/30\n",
            "7/7 [==============================] - ETA: 0s - loss: 0.8962 - f1_score: 0.5319\n",
            "Epoch 11: val_f1_score did not improve from 0.88742\n",
            "7/7 [==============================] - 1s 81ms/step - loss: 0.8962 - f1_score: 0.5319 - val_loss: 1.1348 - val_f1_score: 0.3366\n",
            "Epoch 12/30\n",
            "7/7 [==============================] - ETA: 0s - loss: 0.9128 - f1_score: 0.5032\n",
            "Epoch 12: val_f1_score did not improve from 0.88742\n",
            "7/7 [==============================] - 1s 81ms/step - loss: 0.9128 - f1_score: 0.5032 - val_loss: 1.0296 - val_f1_score: 0.5263\n",
            "Epoch 13/30\n",
            "7/7 [==============================] - ETA: 0s - loss: 0.8527 - f1_score: 0.5131\n",
            "Epoch 13: val_f1_score did not improve from 0.88742\n",
            "7/7 [==============================] - 1s 80ms/step - loss: 0.8527 - f1_score: 0.5131 - val_loss: 1.1025 - val_f1_score: 0.5641\n",
            "Epoch 14/30\n",
            "7/7 [==============================] - ETA: 0s - loss: 0.8250 - f1_score: 0.4671\n",
            "Epoch 14: val_f1_score did not improve from 0.88742\n",
            "7/7 [==============================] - 1s 82ms/step - loss: 0.8250 - f1_score: 0.4671 - val_loss: 1.1462 - val_f1_score: 0.4727\n",
            "Epoch 15/30\n",
            "7/7 [==============================] - ETA: 0s - loss: 0.7900 - f1_score: 0.4987\n",
            "Epoch 15: val_f1_score did not improve from 0.88742\n",
            "7/7 [==============================] - 1s 81ms/step - loss: 0.7900 - f1_score: 0.4987 - val_loss: 1.1396 - val_f1_score: 0.4151\n",
            "Epoch 16/30\n",
            "7/7 [==============================] - ETA: 0s - loss: 0.7391 - f1_score: 0.4718\n",
            "Epoch 16: val_f1_score did not improve from 0.88742\n",
            "7/7 [==============================] - 1s 82ms/step - loss: 0.7391 - f1_score: 0.4718 - val_loss: 1.3243 - val_f1_score: 0.7077\n",
            "Epoch 17/30\n",
            "7/7 [==============================] - ETA: 0s - loss: 0.7000 - f1_score: 0.4591\n",
            "Epoch 17: val_f1_score did not improve from 0.88742\n",
            "7/7 [==============================] - 1s 85ms/step - loss: 0.7000 - f1_score: 0.4591 - val_loss: 1.2814 - val_f1_score: 0.5133\n",
            "Epoch 18/30\n",
            "7/7 [==============================] - ETA: 0s - loss: 0.6583 - f1_score: 0.4571\n",
            "Epoch 18: val_f1_score did not improve from 0.88742\n",
            "7/7 [==============================] - 1s 87ms/step - loss: 0.6583 - f1_score: 0.4571 - val_loss: 1.2901 - val_f1_score: 0.6000\n",
            "Epoch 19/30\n",
            "7/7 [==============================] - ETA: 0s - loss: 0.5732 - f1_score: 0.5088\n",
            "Epoch 19: val_f1_score did not improve from 0.88742\n",
            "7/7 [==============================] - 1s 143ms/step - loss: 0.5732 - f1_score: 0.5088 - val_loss: 1.4698 - val_f1_score: 0.6667\n",
            "Epoch 20/30\n",
            "7/7 [==============================] - ETA: 0s - loss: 0.5006 - f1_score: 0.5128\n",
            "Epoch 20: val_f1_score did not improve from 0.88742\n",
            "7/7 [==============================] - 1s 135ms/step - loss: 0.5006 - f1_score: 0.5128 - val_loss: 1.5249 - val_f1_score: 0.4587\n",
            "Epoch 21/30\n",
            "7/7 [==============================] - ETA: 0s - loss: 0.4034 - f1_score: 0.5237\n",
            "Epoch 21: val_f1_score did not improve from 0.88742\n",
            "7/7 [==============================] - 1s 161ms/step - loss: 0.4034 - f1_score: 0.5237 - val_loss: 1.6389 - val_f1_score: 0.3846\n",
            "Epoch 22/30\n",
            "7/7 [==============================] - ETA: 0s - loss: 0.4045 - f1_score: 0.5117\n",
            "Epoch 22: val_f1_score did not improve from 0.88742\n",
            "7/7 [==============================] - 1s 152ms/step - loss: 0.4045 - f1_score: 0.5117 - val_loss: 2.1157 - val_f1_score: 0.6875\n",
            "Epoch 23/30\n",
            "7/7 [==============================] - ETA: 0s - loss: 0.4147 - f1_score: 0.4909\n",
            "Epoch 23: val_f1_score did not improve from 0.88742\n",
            "7/7 [==============================] - 1s 152ms/step - loss: 0.4147 - f1_score: 0.4909 - val_loss: 1.7466 - val_f1_score: 0.5263\n",
            "Epoch 24/30\n",
            "7/7 [==============================] - ETA: 0s - loss: 0.2913 - f1_score: 0.5172\n",
            "Epoch 24: val_f1_score did not improve from 0.88742\n",
            "7/7 [==============================] - 1s 87ms/step - loss: 0.2913 - f1_score: 0.5172 - val_loss: 1.9259 - val_f1_score: 0.3366\n",
            "Epoch 25/30\n",
            "7/7 [==============================] - ETA: 0s - loss: 0.2743 - f1_score: 0.4672\n",
            "Epoch 25: val_f1_score did not improve from 0.88742\n",
            "7/7 [==============================] - 1s 86ms/step - loss: 0.2743 - f1_score: 0.4672 - val_loss: 2.1041 - val_f1_score: 0.3030\n",
            "Epoch 26/30\n",
            "7/7 [==============================] - ETA: 0s - loss: 0.1815 - f1_score: 0.4353\n",
            "Epoch 26: val_f1_score did not improve from 0.88742\n",
            "7/7 [==============================] - 1s 85ms/step - loss: 0.1815 - f1_score: 0.4353 - val_loss: 2.8442 - val_f1_score: 0.6341\n",
            "Epoch 27/30\n",
            "7/7 [==============================] - ETA: 0s - loss: 0.1648 - f1_score: 0.5134\n",
            "Epoch 27: val_f1_score did not improve from 0.88742\n",
            "7/7 [==============================] - 1s 89ms/step - loss: 0.1648 - f1_score: 0.5134 - val_loss: 2.3859 - val_f1_score: 0.5000\n",
            "Epoch 28/30\n",
            "7/7 [==============================] - ETA: 0s - loss: 0.2350 - f1_score: 0.5132\n",
            "Epoch 28: val_f1_score did not improve from 0.88742\n",
            "7/7 [==============================] - 1s 88ms/step - loss: 0.2350 - f1_score: 0.5132 - val_loss: 2.9717 - val_f1_score: 0.5763\n",
            "Epoch 29/30\n",
            "7/7 [==============================] - ETA: 0s - loss: 0.2173 - f1_score: 0.5450\n",
            "Epoch 29: val_f1_score did not improve from 0.88742\n",
            "7/7 [==============================] - 1s 82ms/step - loss: 0.2173 - f1_score: 0.5450 - val_loss: 2.8956 - val_f1_score: 0.1739\n",
            "Epoch 30/30\n",
            "7/7 [==============================] - ETA: 0s - loss: 0.2831 - f1_score: 0.4661\n",
            "Epoch 30: val_f1_score did not improve from 0.88742\n",
            "7/7 [==============================] - 1s 78ms/step - loss: 0.2831 - f1_score: 0.4661 - val_loss: 2.4215 - val_f1_score: 0.5517\n"
          ]
        },
        {
          "output_type": "display_data",
          "data": {
            "text/plain": [
              "<Figure size 640x480 with 1 Axes>"
            ],
            "image/png": "[encoded data removed]"
          },
          "metadata": {}
        }
      ]
    },
    {
      "cell_type": "code",
      "source": [
        "import re\n",
        "import numpy as np\n",
        "\n",
        "def remove_link(text):\n",
        "    pattern = re.compile(r'https?://\\S+|www\\.\\S+')\n",
        "    if pattern:\n",
        "        return pattern.sub(r'', text)\n",
        "    else:\n",
        "        return text\n",
        "\n",
        "import string\n",
        "Exclude=string.punctuation\n",
        "\n",
        "\n",
        "\n",
        "def remove_punctuation(text):\n",
        "    return text.translate(str.maketrans('','',Exclude))\n",
        "\n",
        "def remove_html_tag(text):\n",
        "    i=0\n",
        "    pattern=re.compile(r'<.*?>')\n",
        "    if pattern:\n",
        "      list=np.array(pattern.findall(text))\n",
        "      n=list.shape[0]\n",
        "    for i in range(n):\n",
        "      text= text.replace(list[i],'')\n",
        "    return text\n",
        "\n",
        "\n",
        "from textblob import TextBlob\n",
        "\n",
        "def correct_spell(text):\n",
        "    textblb=TextBlob(text)\n",
        "    return textblb.correct().string\n",
        "\n",
        "\n",
        "import nltk\n",
        "\n",
        "from nltk.corpus import stopwords\n",
        "\n",
        "nltk.download('stopwords')\n",
        "\n",
        "\n",
        "extra=stopwords.words('english')\n",
        "stopwrd=np.array(extra)\n",
        "\n",
        "def remove_stopwords(text, stopwords):\n",
        "    split_text = text.split()\n",
        "    filtered_text = []\n",
        "\n",
        "    for word in split_text:\n",
        "        if word not in stopwords:\n",
        "            filtered_text.append(word)\n",
        "\n",
        "    result = ' '.join(filtered_text)\n",
        "    return result\n",
        "\n",
        "def remove_emoji(text):\n",
        "    pattern=re.compile('[\\U00010000-\\U0010ffff]', flags=re.UNICODE)\n",
        "    if pattern:\n",
        "       list= pattern.findall(text)\n",
        "    return pattern.sub(r'', text)\n",
        "\n",
        "import spacy\n",
        "nlp = spacy.load(\"en_core_web_sm\")\n",
        "\n",
        "def lemmatization(text):\n",
        "    doc=nlp(text)\n",
        "    text_=[]\n",
        "    for word in doc:\n",
        "       text_.append(word.lemma_)\n",
        "\n",
        "    result = ' '.join(text_)\n",
        "    return result\n",
        "\n",
        "def text_cleaning(text,stopwords):\n",
        "    text=text.lower()\n",
        "    text=remove_link(text)\n",
        "    text=remove_html_tag(text)\n",
        "    text=remove_emoji(text)\n",
        "    text=remove_stopwords(text,stopwords)\n",
        "    text=remove_punctuation(text)\n",
        "    text=lemmatization(text)\n",
        "    text=correct_spell(text)\n",
        "    return text"
      ],
      "metadata": {
        "colab": {
          "base_uri": "https://localhost:8080/"
        },
        "id": "iDrWccYQ3RiB",
        "outputId": "6b5b15c3-fbf1-43c0-9cbd-cccf1c75dab1"
      },
      "execution_count": null,
      "outputs": [
        {
          "output_type": "stream",
          "name": "stderr",
          "text": [
            "[nltk_data] Downloading package stopwords to /root/nltk_data...\n",
            "[nltk_data]   Unzipping corpora/stopwords.zip.\n"
          ]
        }
      ]
    },
    {
      "cell_type": "code",
      "source": [
        "text_cleaning('Climate change is a natural process and not influenced by human activities',stopwrd)"
      ],
      "metadata": {
        "colab": {
          "base_uri": "https://localhost:8080/",
          "height": 36
        },
        "id": "u2GfB3il_9De",
        "outputId": "7abfc911-ce0b-4fa4-e9d6-23be39e99b82"
      },
      "execution_count": null,
      "outputs": [
        {
          "output_type": "execute_result",
          "data": {
            "text/plain": [
              "'climate change natural process influence human activity'"
            ],
            "application/vnd.google.colaboratory.intrinsic+json": {
              "type": "string"
            }
          },
          "metadata": {},
          "execution_count": 138
        }
      ]
    },
    {
      "cell_type": "code",
      "source": [
        "from keras.utils import custom_object_scope\n",
        "class InferenceModel:\n",
        "    def __init__(self, model_path='/content/drive/MyDrive/UBC_project/RoBERTa_model.h5'):\n",
        "        self.model_path = model_path\n",
        "        self.model = self.load_model()\n",
        "\n",
        "    def load_model(self):\n",
        "        return tf.keras.models.load_model(self.model_path)\n",
        "\n",
        "\n",
        "    def predict(self, input_data):\n",
        "        input_data = text_cleaning(input_data,stopwrd)\n",
        "        list=[]\n",
        "        list.append(input_data)\n",
        "        input_data=model_prediction_input(list,max_squence_length,RoBERTa_model)\n",
        "        predictions = self.model.predict(input_data)\n",
        "        return predictions\n",
        "\n"
      ],
      "metadata": {
        "id": "Le0wZqM2VVu8",
        "colab": {
          "base_uri": "https://localhost:8080/",
          "height": 106
        },
        "outputId": "2ebc3389-5c91-479c-9385-6d09679d31da"
      },
      "execution_count": null,
      "outputs": [
        {
          "output_type": "error",
          "ename": "SyntaxError",
          "evalue": "invalid syntax (<ipython-input-5-709d50d91e94>, line 2)",
          "traceback": [
            "\u001b[0;36m  File \u001b[0;32m\"<ipython-input-5-709d50d91e94>\"\u001b[0;36m, line \u001b[0;32m2\u001b[0m\n\u001b[0;31m    from transformers as tf\u001b[0m\n\u001b[0m                      ^\u001b[0m\n\u001b[0;31mSyntaxError\u001b[0m\u001b[0;31m:\u001b[0m invalid syntax\n"
          ]
        }
      ]
    },
    {
      "cell_type": "code",
      "source": [
        "inference_model = InferenceModel()\n",
        "def generate_output(text):\n",
        "    output = inference_model.predict(text)\n",
        "    return output\n"
      ],
      "metadata": {
        "id": "40nkjj2tVVx3",
        "colab": {
          "base_uri": "https://localhost:8080/",
          "height": 339
        },
        "outputId": "d697e1d2-4fa6-4161-e6d8-bba7e78c89a2"
      },
      "execution_count": null,
      "outputs": [
        {
          "output_type": "error",
          "ename": "NameError",
          "evalue": "name 'tf' is not defined",
          "traceback": [
            "\u001b[0;31m---------------------------------------------------------------------------\u001b[0m",
            "\u001b[0;31mNameError\u001b[0m                                 Traceback (most recent call last)",
            "\u001b[0;32m<ipython-input-4-f0d245d08dfa>\u001b[0m in \u001b[0;36m<cell line: 1>\u001b[0;34m()\u001b[0m\n\u001b[0;32m----> 1\u001b[0;31m \u001b[0minference_model\u001b[0m \u001b[0;34m=\u001b[0m \u001b[0mInferenceModel\u001b[0m\u001b[0;34m(\u001b[0m\u001b[0;34m)\u001b[0m\u001b[0;34m\u001b[0m\u001b[0;34m\u001b[0m\u001b[0m\n\u001b[0m\u001b[1;32m      2\u001b[0m \u001b[0;32mdef\u001b[0m \u001b[0mgenerate_output\u001b[0m\u001b[0;34m(\u001b[0m\u001b[0mtext\u001b[0m\u001b[0;34m)\u001b[0m\u001b[0;34m:\u001b[0m\u001b[0;34m\u001b[0m\u001b[0;34m\u001b[0m\u001b[0m\n\u001b[1;32m      3\u001b[0m     \u001b[0moutput\u001b[0m \u001b[0;34m=\u001b[0m \u001b[0minference_model\u001b[0m\u001b[0;34m.\u001b[0m\u001b[0mpredict\u001b[0m\u001b[0;34m(\u001b[0m\u001b[0mtext\u001b[0m\u001b[0;34m)\u001b[0m\u001b[0;34m\u001b[0m\u001b[0;34m\u001b[0m\u001b[0m\n\u001b[1;32m      4\u001b[0m     \u001b[0;32mreturn\u001b[0m \u001b[0moutput\u001b[0m\u001b[0;34m\u001b[0m\u001b[0;34m\u001b[0m\u001b[0m\n",
            "\u001b[0;32m<ipython-input-3-0989f73ff958>\u001b[0m in \u001b[0;36m__init__\u001b[0;34m(self, model_path)\u001b[0m\n\u001b[1;32m      3\u001b[0m     \u001b[0;32mdef\u001b[0m \u001b[0m__init__\u001b[0m\u001b[0;34m(\u001b[0m\u001b[0mself\u001b[0m\u001b[0;34m,\u001b[0m \u001b[0mmodel_path\u001b[0m\u001b[0;34m=\u001b[0m\u001b[0;34m'/content/drive/MyDrive/UBC_project/RoBERTa_model.h5'\u001b[0m\u001b[0;34m)\u001b[0m\u001b[0;34m:\u001b[0m\u001b[0;34m\u001b[0m\u001b[0;34m\u001b[0m\u001b[0m\n\u001b[1;32m      4\u001b[0m         \u001b[0mself\u001b[0m\u001b[0;34m.\u001b[0m\u001b[0mmodel_path\u001b[0m \u001b[0;34m=\u001b[0m \u001b[0mmodel_path\u001b[0m\u001b[0;34m\u001b[0m\u001b[0;34m\u001b[0m\u001b[0m\n\u001b[0;32m----> 5\u001b[0;31m         \u001b[0mself\u001b[0m\u001b[0;34m.\u001b[0m\u001b[0mmodel\u001b[0m \u001b[0;34m=\u001b[0m \u001b[0mself\u001b[0m\u001b[0;34m.\u001b[0m\u001b[0mload_model\u001b[0m\u001b[0;34m(\u001b[0m\u001b[0;34m)\u001b[0m\u001b[0;34m\u001b[0m\u001b[0;34m\u001b[0m\u001b[0m\n\u001b[0m\u001b[1;32m      6\u001b[0m \u001b[0;34m\u001b[0m\u001b[0m\n\u001b[1;32m      7\u001b[0m     \u001b[0;32mdef\u001b[0m \u001b[0mload_model\u001b[0m\u001b[0;34m(\u001b[0m\u001b[0mself\u001b[0m\u001b[0;34m)\u001b[0m\u001b[0;34m:\u001b[0m\u001b[0;34m\u001b[0m\u001b[0;34m\u001b[0m\u001b[0m\n",
            "\u001b[0;32m<ipython-input-3-0989f73ff958>\u001b[0m in \u001b[0;36mload_model\u001b[0;34m(self)\u001b[0m\n\u001b[1;32m      6\u001b[0m \u001b[0;34m\u001b[0m\u001b[0m\n\u001b[1;32m      7\u001b[0m     \u001b[0;32mdef\u001b[0m \u001b[0mload_model\u001b[0m\u001b[0;34m(\u001b[0m\u001b[0mself\u001b[0m\u001b[0;34m)\u001b[0m\u001b[0;34m:\u001b[0m\u001b[0;34m\u001b[0m\u001b[0;34m\u001b[0m\u001b[0m\n\u001b[0;32m----> 8\u001b[0;31m         \u001b[0;32mreturn\u001b[0m \u001b[0mtf\u001b[0m\u001b[0;34m.\u001b[0m\u001b[0mkeras\u001b[0m\u001b[0;34m.\u001b[0m\u001b[0mmodels\u001b[0m\u001b[0;34m.\u001b[0m\u001b[0mload_model\u001b[0m\u001b[0;34m(\u001b[0m\u001b[0mself\u001b[0m\u001b[0;34m.\u001b[0m\u001b[0mmodel_path\u001b[0m\u001b[0;34m)\u001b[0m\u001b[0;34m\u001b[0m\u001b[0;34m\u001b[0m\u001b[0m\n\u001b[0m\u001b[1;32m      9\u001b[0m \u001b[0;34m\u001b[0m\u001b[0m\n\u001b[1;32m     10\u001b[0m \u001b[0;34m\u001b[0m\u001b[0m\n",
            "\u001b[0;31mNameError\u001b[0m: name 'tf' is not defined"
          ]
        }
      ]
    },
    {
      "cell_type": "code",
      "source": [
        "# Generate probabilities for the given text\n",
        "probabilities = generate_output('Climate change is a natural process and not influenced by human activities')\n",
        "\n",
        "# Extract probabilities for each class\n",
        "class_0_prob = probabilities[0, 0]\n",
        "class_1_prob = probabilities[0, 1]\n",
        "class_2_prob = probabilities[0, 2]\n",
        "\n",
        "# Define the class labels\n",
        "classes = ['Refutes', 'Not Enough Info', 'Supports']\n",
        "\n",
        "# Define the probabilities\n",
        "values = [class_0_prob, class_1_prob, class_2_prob]\n",
        "\n",
        "# Define colors for the pie chart\n",
        "colors = ['red','blue','green']\n",
        "\n",
        "# Plotting the pie chart\n",
        "plt.figure(figsize=(8, 6))\n",
        "plt.pie(values, labels=classes, colors=colors, autopct='%1.1f%%', startangle=140, shadow=True, explode=(0.1, 0.1, 0.1))\n",
        "\n",
        "# Adding a title\n",
        "plt.title('Class Probabilities')\n",
        "\n",
        "# Display the pie chart\n",
        "plt.show()\n"
      ],
      "metadata": {
        "id": "8H-njayIVV0_",
        "colab": {
          "base_uri": "https://localhost:8080/",
          "height": 538
        },
        "outputId": "85bc69fd-a2ab-4abf-eb60-03cbcf779d69"
      },
      "execution_count": null,
      "outputs": [
        {
          "output_type": "stream",
          "name": "stdout",
          "text": [
            "1/1 [==============================] - 1s 1s/step\n"
          ]
        },
        {
          "output_type": "display_data",
          "data": {
            "text/plain": [
              "<Figure size 800x600 with 1 Axes>"
            ],
            "image/png": "[encoded data removed]"
          },
          "metadata": {}
        }
      ]
    },
    {
      "cell_type": "code",
      "source": [
        "!pip install pyngrok\n",
        "!pip install flask-ngrok"
      ],
      "metadata": {
        "colab": {
          "base_uri": "https://localhost:8080/"
        },
        "id": "St_g62S9jee4",
        "outputId": "c2bdbd21-5bd5-455e-812a-9926a6a3c2c9"
      },
      "execution_count": null,
      "outputs": [
        {
          "output_type": "stream",
          "name": "stdout",
          "text": [
            "Collecting pyngrok\n",
            "  Downloading pyngrok-7.1.6-py3-none-any.whl (22 kB)\n",
            "Requirement already satisfied: PyYAML>=5.1 in /usr/local/lib/python3.10/dist-packages (from pyngrok) (6.0.1)\n",
            "Installing collected packages: pyngrok\n",
            "Successfully installed pyngrok-7.1.6\n",
            "Collecting flask-ngrok\n",
            "  Downloading flask_ngrok-0.0.25-py3-none-any.whl (3.1 kB)\n",
            "Requirement already satisfied: Flask>=0.8 in /usr/local/lib/python3.10/dist-packages (from flask-ngrok) (2.2.5)\n",
            "Requirement already satisfied: requests in /usr/local/lib/python3.10/dist-packages (from flask-ngrok) (2.31.0)\n",
            "Requirement already satisfied: Werkzeug>=2.2.2 in /usr/local/lib/python3.10/dist-packages (from Flask>=0.8->flask-ngrok) (3.0.3)\n",
            "Requirement already satisfied: Jinja2>=3.0 in /usr/local/lib/python3.10/dist-packages (from Flask>=0.8->flask-ngrok) (3.1.4)\n",
            "Requirement already satisfied: itsdangerous>=2.0 in /usr/local/lib/python3.10/dist-packages (from Flask>=0.8->flask-ngrok) (2.2.0)\n",
            "Requirement already satisfied: click>=8.0 in /usr/local/lib/python3.10/dist-packages (from Flask>=0.8->flask-ngrok) (8.1.7)\n",
            "Requirement already satisfied: charset-normalizer<4,>=2 in /usr/local/lib/python3.10/dist-packages (from requests->flask-ngrok) (3.3.2)\n",
            "Requirement already satisfied: idna<4,>=2.5 in /usr/local/lib/python3.10/dist-packages (from requests->flask-ngrok) (3.7)\n",
            "Requirement already satisfied: urllib3<3,>=1.21.1 in /usr/local/lib/python3.10/dist-packages (from requests->flask-ngrok) (2.0.7)\n",
            "Requirement already satisfied: certifi>=2017.4.17 in /usr/local/lib/python3.10/dist-packages (from requests->flask-ngrok) (2024.6.2)\n",
            "Requirement already satisfied: MarkupSafe>=2.0 in /usr/local/lib/python3.10/dist-packages (from Jinja2>=3.0->Flask>=0.8->flask-ngrok) (2.1.5)\n",
            "Installing collected packages: flask-ngrok\n",
            "Successfully installed flask-ngrok-0.0.25\n"
          ]
        }
      ]
    },
    {
      "cell_type": "code",
      "source": [
        "from pyngrok import ngrok\n",
        "ngrok.set_auth_token('2ivm4jUl8KHrTf8Qp4Xzep5zdhv_7d5d3ufxUYxYztNcMrBwW')\n",
        "public_url = ngrok.connect(5000).public_url\n",
        "print(public_url)\n",
        "\n",
        "\n",
        "from flask import Flask, render_template, request, jsonify, render_template_string\n",
        "from flask_ngrok import run_with_ngrok\n",
        "import numpy as np\n",
        "\n",
        "app = Flask(__name__)\n",
        "run_with_ngrok(app)\n",
        "\n",
        "@app.route(\"/\")\n",
        "def index():\n",
        "    return render_template_string('''\n",
        "    <!DOCTYPE html>\n",
        "    <html lang=\"en\">\n",
        "    <head>\n",
        "        <meta charset=\"UTF-8\">\n",
        "        <meta name=\"viewport\" content=\"width=device-width, initial-scale=1.0\">\n",
        "        <title>Climate Change Misinformation Checker</title>\n",
        "        <style>\n",
        "            body {\n",
        "                font-family: Arial, sans-serif;\n",
        "                background: url('https://cdn.prod.website-files.com/656a6f5ca4824808211181c5/65a7ef109c30ede6f2c52e51_240111-Climate-change-Blog-2.jpg') no-repeat center center fixed;\n",
        "                background-size: cover;\n",
        "                margin: 0;\n",
        "                display: flex;\n",
        "                flex-direction: column;\n",
        "                align-items: center;\n",
        "                justify-content: center;\n",
        "                min-height: 100vh;\n",
        "                color: white;\n",
        "            }\n",
        "\n",
        "            .container {\n",
        "                background-color: rgba(0, 0, 25, 0.7);\n",
        "                padding: 20px;\n",
        "                border-radius: 10px;\n",
        "                box-shadow: 0 0 10px rgba(0, 0, 0, 0.5);\n",
        "                width: 90%;\n",
        "                max-width: 800px;\n",
        "                text-align: center;\n",
        "                color: #333;\n",
        "            }\n",
        "\n",
        "            h1 {\n",
        "                color: #fff;\n",
        "            }\n",
        "\n",
        "            p {\n",
        "                color: #fff;\n",
        "            }\n",
        "\n",
        "            textarea {\n",
        "                width: 100%;\n",
        "                height: 40px;\n",
        "                padding: 10px;\n",
        "                border: 1px solid #ddd;\n",
        "                border-radius: 5px;\n",
        "                margin-bottom: 20px;\n",
        "                font-size: 16px;\n",
        "            }\n",
        "\n",
        "            button {\n",
        "                background-color: #007BFF;\n",
        "                color: white;\n",
        "                padding: 10px 20px;\n",
        "                border: none;\n",
        "                border-radius: 5px;\n",
        "                cursor: pointer;\n",
        "                font-size: 16px;\n",
        "            }\n",
        "\n",
        "            button:hover {\n",
        "                background-color: #49FF33;\n",
        "            }\n",
        "\n",
        "            #result {\n",
        "                margin-top: 20px;\n",
        "                font-size: 18px;\n",
        "            }\n",
        "\n",
        "            .media {\n",
        "                display: flex;\n",
        "                flex-direction: column;\n",
        "                align-items: center;\n",
        "                margin-top: 20px;\n",
        "            }\n",
        "\n",
        "            .media img {\n",
        "                max-width: 100%;\n",
        "                border-radius: 10px;\n",
        "                margin-bottom: 20px;\n",
        "            }\n",
        "\n",
        "            .media video {\n",
        "                max-width: 100%;\n",
        "                border-radius: 10px;\n",
        "                margin-bottom: 20px;\n",
        "            }\n",
        "            .chart-container {\n",
        "                width: 50%;\n",
        "                height: 200px;\n",
        "                margin-top: 20px;\n",
        "                align-items: center;\n",
        "                text-align: center;\n",
        "                display: flex;\n",
        "                justify-content: center;\n",
        "                border-radius: 10px;\n",
        "                box-shadow: 1 0 10px rgba(0, 0, 0, 0.5);\n",
        "            }\n",
        "        </style>\n",
        "        <script src=\"https://cdn.jsdelivr.net/npm/chart.js\"></script>\n",
        "    </head>\n",
        "    <body>\n",
        "        <div class=\"container\">\n",
        "            <h1>Climate Change Misinformation Checker</h1>\n",
        "            <p>Enter the news content below to check if it contains misinformation.</p>\n",
        "            <form id=\"newsForm\">\n",
        "                <textarea id=\"newsInput\" name=\"newsInput\" placeholder=\"Enter news content here...\"></textarea>\n",
        "                <button type=\"submit\">Check Misinformation</button>\n",
        "            </form>\n",
        "\n",
        "            <div class=\"media\">\n",
        "                <h2 style=\"color : white \">RESULT</h2>\n",
        "                <p id=\"resultText\"></p>\n",
        "                <div class=\"chart-container\">\n",
        "                <canvas id=\"pieChart\" width=\"20\" height=\"20\"></canvas>\n",
        "                </div>\n",
        "                <img src=\"https://encrypted-tbn0.gstatic.com/images?q=tbn:ANd9GcTFxxei1iazWGrGNEJ-IttgK7krnibcK5irYA&s\" alt=\"Climate Change\">\n",
        "                <iframe src=\"https://www.youtube.com/embed/EuwMB1Dal-4\" allowfullscreen></iframe>\n",
        "            </div>\n",
        "        </div>\n",
        "        <script>\n",
        "    document.getElementById('newsForm').addEventListener('submit', function(event) {\n",
        "        event.preventDefault();\n",
        "        const newsInput = document.getElementById('newsInput').value;\n",
        "\n",
        "        fetch('/result', {\n",
        "            method: 'POST',\n",
        "            headers: {\n",
        "                'Content-Type': 'application/json',\n",
        "            },\n",
        "            body: JSON.stringify({ newsInput: newsInput }),\n",
        "        })\n",
        "        .then(response => response.json())\n",
        "        .then(data => {\n",
        "            const resultText = document.getElementById('resultText');\n",
        "            const ctx = document.getElementById('pieChart').getContext('2d');\n",
        "\n",
        "            if (data.error) {\n",
        "                resultText.textContent = data.error;\n",
        "            } else {\n",
        "                resultText.textContent = data.result;\n",
        "\n",
        "                // Destroy previous chart instance if it exists\n",
        "                if (window.myPieChart) {\n",
        "                    window.myPieChart.destroy();\n",
        "                }\n",
        "\n",
        "                // Create new chart instance\n",
        "                window.myPieChart = new Chart(ctx, {\n",
        "                    type: 'pie',\n",
        "                    data: {\n",
        "                        labels: ['Refutes', 'Not Enough Info', 'Supports'],\n",
        "                        datasets: [{\n",
        "                            label: 'Probability',\n",
        "                            data: data.probabilities,\n",
        "                            backgroundColor: ['red', 'blue', 'green'],\n",
        "                            borderWidth: 1\n",
        "                        }]\n",
        "                    },\n",
        "                    options: {\n",
        "                        responsive: true,\n",
        "                        cutout: 20,\n",
        "                        plugins: {\n",
        "                            legend: {\n",
        "                                position: 'top',\n",
        "                            },\n",
        "                            tooltip: {\n",
        "                                callbacks: {\n",
        "                                    label: function(tooltipItem) {\n",
        "                                        return tooltipItem.label + ': ' + tooltipItem.raw.toFixed(2) + '%';\n",
        "                                    }\n",
        "                                }\n",
        "                            }\n",
        "                        },\n",
        "                        layout: {\n",
        "                            padding: {\n",
        "                                top: 10,\n",
        "                                right: 10,\n",
        "                                bottom: 10,\n",
        "                                left: 10\n",
        "                            }\n",
        "                        },\n",
        "                        animation: {\n",
        "                            animateScale: true,\n",
        "                            animateRotate: true\n",
        "                        }\n",
        "                    }\n",
        "                });\n",
        "            }\n",
        "        })\n",
        "        .catch((error) => {\n",
        "            console.error('Error:', error);\n",
        "        });\n",
        "    });\n",
        "</script>\n",
        "\n",
        "    </body>\n",
        "    </html>\n",
        "    ''')\n",
        "\n",
        "@app.route('/result', methods=['POST'])\n",
        "def result():\n",
        "    try:\n",
        "        data = request.get_json()\n",
        "        news_content = data['newsInput']\n",
        "        probabilities = inference_model.predict(news_content)\n",
        "        class_0_prob = float(probabilities[0, 0])\n",
        "        class_1_prob = float(probabilities[0, 1])\n",
        "        class_2_prob = float(probabilities[0, 2])\n",
        "\n",
        "        result_text = f\"Refutes: {class_0_prob*100:.2f}%,  Not Enough Info: {class_1_prob*100:.2f}%,  Supports: {class_2_prob*100:.2f}%\"\n",
        "        return jsonify(result=result_text, probabilities=[class_0_prob*100, class_1_prob*100, class_2_prob*100])\n",
        "\n",
        "    except Exception as e:\n",
        "        return jsonify(error=str(e))\n",
        "\n",
        "if __name__ == '__main__':\n",
        "    app.run()\n"
      ],
      "metadata": {
        "colab": {
          "base_uri": "https://localhost:8080/"
        },
        "id": "xpq49xz7jebW",
        "outputId": "d2fbd2ed-a70e-4d10-c199-5afbab567c2e"
      },
      "execution_count": null,
      "outputs": [
        {
          "output_type": "stream",
          "name": "stdout",
          "text": [
            "https://5f20-34-142-151-38.ngrok-free.app\n",
            " * Serving Flask app '__main__'\n",
            " * Debug mode: off\n"
          ]
        },
        {
          "output_type": "stream",
          "name": "stderr",
          "text": [
            "INFO:werkzeug:\u001b[31m\u001b[1mWARNING: This is a development server. Do not use it in a production deployment. Use a production WSGI server instead.\u001b[0m\n",
            " * Running on http://127.0.0.1:5000\n",
            "INFO:werkzeug:\u001b[33mPress CTRL+C to quit\u001b[0m\n"
          ]
        },
        {
          "output_type": "stream",
          "name": "stdout",
          "text": [
            " * Running on http://5f20-34-142-151-38.ngrok-free.app\n",
            " * Traffic stats available on http://127.0.0.1:4040\n"
          ]
        },
        {
          "output_type": "stream",
          "name": "stderr",
          "text": [
            "INFO:werkzeug:127.0.0.1 - - [08/Jul/2024 21:36:18] \"GET / HTTP/1.1\" 200 -\n",
            "INFO:werkzeug:127.0.0.1 - - [08/Jul/2024 21:36:22] \"\u001b[33mGET /favicon.ico HTTP/1.1\u001b[0m\" 404 -\n"
          ]
        },
        {
          "output_type": "stream",
          "name": "stdout",
          "text": [
            "1/1 [==============================] - 2s 2s/step\n"
          ]
        },
        {
          "output_type": "stream",
          "name": "stderr",
          "text": [
            "INFO:werkzeug:127.0.0.1 - - [08/Jul/2024 21:36:47] \"POST /result HTTP/1.1\" 200 -\n"
          ]
        },
        {
          "output_type": "stream",
          "name": "stdout",
          "text": [
            "1/1 [==============================] - 0s 19ms/step\n"
          ]
        },
        {
          "output_type": "stream",
          "name": "stderr",
          "text": [
            "INFO:werkzeug:127.0.0.1 - - [08/Jul/2024 21:36:48] \"POST /result HTTP/1.1\" 200 -\n"
          ]
        },
        {
          "output_type": "stream",
          "name": "stdout",
          "text": [
            "1/1 [==============================] - 0s 18ms/step\n"
          ]
        },
        {
          "output_type": "stream",
          "name": "stderr",
          "text": [
            "INFO:werkzeug:127.0.0.1 - - [08/Jul/2024 21:37:09] \"POST /result HTTP/1.1\" 200 -\n"
          ]
        },
        {
          "output_type": "stream",
          "name": "stdout",
          "text": [
            "1/1 [==============================] - 0s 19ms/step\n"
          ]
        },
        {
          "output_type": "stream",
          "name": "stderr",
          "text": [
            "INFO:werkzeug:127.0.0.1 - - [08/Jul/2024 21:37:32] \"POST /result HTTP/1.1\" 200 -\n"
          ]
        },
        {
          "output_type": "stream",
          "name": "stdout",
          "text": [
            "1/1 [==============================] - 0s 19ms/step\n"
          ]
        },
        {
          "output_type": "stream",
          "name": "stderr",
          "text": [
            "INFO:werkzeug:127.0.0.1 - - [08/Jul/2024 21:38:08] \"POST /result HTTP/1.1\" 200 -\n"
          ]
        },
        {
          "output_type": "stream",
          "name": "stdout",
          "text": [
            "1/1 [==============================] - 0s 20ms/step\n"
          ]
        },
        {
          "output_type": "stream",
          "name": "stderr",
          "text": [
            "INFO:werkzeug:127.0.0.1 - - [08/Jul/2024 21:38:36] \"POST /result HTTP/1.1\" 200 -\n"
          ]
        },
        {
          "output_type": "stream",
          "name": "stdout",
          "text": [
            "1/1 [==============================] - 0s 27ms/step\n"
          ]
        },
        {
          "output_type": "stream",
          "name": "stderr",
          "text": [
            "INFO:werkzeug:127.0.0.1 - - [08/Jul/2024 21:39:59] \"POST /result HTTP/1.1\" 200 -\n"
          ]
        },
        {
          "output_type": "stream",
          "name": "stdout",
          "text": [
            "1/1 [==============================] - 0s 19ms/step\n"
          ]
        },
        {
          "output_type": "stream",
          "name": "stderr",
          "text": [
            "INFO:werkzeug:127.0.0.1 - - [08/Jul/2024 21:40:14] \"POST /result HTTP/1.1\" 200 -\n"
          ]
        },
        {
          "output_type": "stream",
          "name": "stdout",
          "text": [
            "1/1 [==============================] - 0s 19ms/step\n"
          ]
        },
        {
          "output_type": "stream",
          "name": "stderr",
          "text": [
            "INFO:werkzeug:127.0.0.1 - - [08/Jul/2024 21:40:27] \"POST /result HTTP/1.1\" 200 -\n"
          ]
        },
        {
          "output_type": "stream",
          "name": "stdout",
          "text": [
            "1/1 [==============================] - 0s 20ms/step\n"
          ]
        },
        {
          "output_type": "stream",
          "name": "stderr",
          "text": [
            "INFO:werkzeug:127.0.0.1 - - [08/Jul/2024 21:40:35] \"POST /result HTTP/1.1\" 200 -\n"
          ]
        },
        {
          "output_type": "stream",
          "name": "stdout",
          "text": [
            "1/1 [==============================] - 0s 20ms/step\n"
          ]
        },
        {
          "output_type": "stream",
          "name": "stderr",
          "text": [
            "INFO:werkzeug:127.0.0.1 - - [08/Jul/2024 21:41:00] \"POST /result HTTP/1.1\" 200 -\n"
          ]
        },
        {
          "output_type": "stream",
          "name": "stdout",
          "text": [
            "1/1 [==============================] - 0s 28ms/step\n"
          ]
        },
        {
          "output_type": "stream",
          "name": "stderr",
          "text": [
            "INFO:werkzeug:127.0.0.1 - - [08/Jul/2024 21:41:16] \"POST /result HTTP/1.1\" 200 -\n"
          ]
        }
      ]
    },
    {
      "cell_type": "markdown",
      "source": [
        "#Roberta with adapter layer"
      ],
      "metadata": {
        "id": "h26m4AJcI30K"
      }
    },
    {
      "cell_type": "code",
      "source": [
        "!pip install transformers adapter-transformers"
      ],
      "metadata": {
        "colab": {
          "base_uri": "https://localhost:8080/"
        },
        "id": "tjLawsA8C9K6",
        "outputId": "3e37d3e9-25c7-4f3d-8c1d-e47bb5ed9166"
      },
      "execution_count": null,
      "outputs": [
        {
          "output_type": "stream",
          "name": "stdout",
          "text": [
            "Requirement already satisfied: transformers in /usr/local/lib/python3.10/dist-packages (4.40.2)\n",
            "Requirement already satisfied: adapter-transformers in /usr/local/lib/python3.10/dist-packages (4.0.0)\n",
            "Requirement already satisfied: filelock in /usr/local/lib/python3.10/dist-packages (from transformers) (3.15.4)\n",
            "Requirement already satisfied: huggingface-hub<1.0,>=0.19.3 in /usr/local/lib/python3.10/dist-packages (from transformers) (0.23.4)\n",
            "Requirement already satisfied: numpy>=1.17 in /usr/local/lib/python3.10/dist-packages (from transformers) (1.25.2)\n",
            "Requirement already satisfied: packaging>=20.0 in /usr/local/lib/python3.10/dist-packages (from transformers) (24.1)\n",
            "Requirement already satisfied: pyyaml>=5.1 in /usr/local/lib/python3.10/dist-packages (from transformers) (6.0.1)\n",
            "Requirement already satisfied: regex!=2019.12.17 in /usr/local/lib/python3.10/dist-packages (from transformers) (2024.5.15)\n",
            "Requirement already satisfied: requests in /usr/local/lib/python3.10/dist-packages (from transformers) (2.31.0)\n",
            "Requirement already satisfied: tokenizers<0.20,>=0.19 in /usr/local/lib/python3.10/dist-packages (from transformers) (0.19.1)\n",
            "Requirement already satisfied: safetensors>=0.4.1 in /usr/local/lib/python3.10/dist-packages (from transformers) (0.4.3)\n",
            "Requirement already satisfied: tqdm>=4.27 in /usr/local/lib/python3.10/dist-packages (from transformers) (4.66.4)\n",
            "Requirement already satisfied: adapters in /usr/local/lib/python3.10/dist-packages (from adapter-transformers) (0.2.2)\n",
            "Requirement already satisfied: fsspec>=2023.5.0 in /usr/local/lib/python3.10/dist-packages (from huggingface-hub<1.0,>=0.19.3->transformers) (2023.6.0)\n",
            "Requirement already satisfied: typing-extensions>=3.7.4.3 in /usr/local/lib/python3.10/dist-packages (from huggingface-hub<1.0,>=0.19.3->transformers) (4.12.2)\n",
            "Requirement already satisfied: charset-normalizer<4,>=2 in /usr/local/lib/python3.10/dist-packages (from requests->transformers) (3.3.2)\n",
            "Requirement already satisfied: idna<4,>=2.5 in /usr/local/lib/python3.10/dist-packages (from requests->transformers) (3.7)\n",
            "Requirement already satisfied: urllib3<3,>=1.21.1 in /usr/local/lib/python3.10/dist-packages (from requests->transformers) (2.0.7)\n",
            "Requirement already satisfied: certifi>=2017.4.17 in /usr/local/lib/python3.10/dist-packages (from requests->transformers) (2024.7.4)\n"
          ]
        }
      ]
    },
    {
      "cell_type": "code",
      "source": [
        "from transformers import RobertaModel, RobertaTokenizer\n",
        "from transformers.adapters import AdapterConfig\n",
        "\n",
        "\n",
        "# Load the pre-trained RoBERTa model and tokenizer\n",
        "model = RobertaModel.from_pretrained(\"roberta-base\")\n",
        "tokenizer = RobertaTokenizer.from_pretrained(\"roberta-base\")\n",
        "\n",
        "# Define the adapter configuration\n",
        "adapter_config = AdapterConfig.load(\"pfeiffer\")\n",
        "\n",
        "# Add an adapter to the model\n",
        "model.add_adapter(\"my_adapter\", config=adapter_config)\n",
        "\n",
        "# Train the adapter if necessary\n",
        "model.train_adapter(\"my_adapter\")\n",
        "\n",
        "# Activate the adapter\n",
        "model.set_active_adapters(\"my_adapter\")\n",
        "\n",
        "# Example text to encode\n",
        "text = \"This is a sample sentence.\"\n",
        "\n",
        "# Tokenize the text\n",
        "inputs = tokenizer(text, return_tensors=\"pt\")\n",
        "\n",
        "# Get the encoded representation from the model\n",
        "outputs = model(**inputs)\n",
        "\n",
        "# The last hidden state is typically used as the encoded representation\n",
        "encoded_representation = outputs.last_hidden_state\n",
        "\n",
        "print(encoded_representation)\n"
      ],
      "metadata": {
        "id": "4Pf9_cSeIfii",
        "colab": {
          "base_uri": "https://localhost:8080/",
          "height": 383
        },
        "outputId": "e3054d9d-c664-4215-fac4-e4a34d45d14f"
      },
      "execution_count": null,
      "outputs": [
        {
          "output_type": "error",
          "ename": "ModuleNotFoundError",
          "evalue": "No module named 'transformers.adapters'",
          "traceback": [
            "\u001b[0;31m---------------------------------------------------------------------------\u001b[0m",
            "\u001b[0;31mModuleNotFoundError\u001b[0m                       Traceback (most recent call last)",
            "\u001b[0;32m<ipython-input-1-b5e2b2f0c5b6>\u001b[0m in \u001b[0;36m<cell line: 2>\u001b[0;34m()\u001b[0m\n\u001b[1;32m      1\u001b[0m \u001b[0;32mfrom\u001b[0m \u001b[0mtransformers\u001b[0m \u001b[0;32mimport\u001b[0m \u001b[0mRobertaModel\u001b[0m\u001b[0;34m,\u001b[0m \u001b[0mRobertaTokenizer\u001b[0m\u001b[0;34m\u001b[0m\u001b[0;34m\u001b[0m\u001b[0m\n\u001b[0;32m----> 2\u001b[0;31m \u001b[0;32mfrom\u001b[0m \u001b[0mtransformers\u001b[0m\u001b[0;34m.\u001b[0m\u001b[0madapters\u001b[0m \u001b[0;32mimport\u001b[0m \u001b[0mAdapterConfig\u001b[0m\u001b[0;34m\u001b[0m\u001b[0;34m\u001b[0m\u001b[0m\n\u001b[0m\u001b[1;32m      3\u001b[0m \u001b[0;34m\u001b[0m\u001b[0m\n\u001b[1;32m      4\u001b[0m \u001b[0;31m# Load the pre-trained RoBERTa model and tokenizer\u001b[0m\u001b[0;34m\u001b[0m\u001b[0;34m\u001b[0m\u001b[0m\n\u001b[1;32m      5\u001b[0m \u001b[0mmodel\u001b[0m \u001b[0;34m=\u001b[0m \u001b[0mRobertaModel\u001b[0m\u001b[0;34m.\u001b[0m\u001b[0mfrom_pretrained\u001b[0m\u001b[0;34m(\u001b[0m\u001b[0;34m\"roberta-base\"\u001b[0m\u001b[0;34m)\u001b[0m\u001b[0;34m\u001b[0m\u001b[0;34m\u001b[0m\u001b[0m\n",
            "\u001b[0;31mModuleNotFoundError\u001b[0m: No module named 'transformers.adapters'",
            "",
            "\u001b[0;31m---------------------------------------------------------------------------\u001b[0;32m\nNOTE: If your import is failing due to a missing package, you can\nmanually install dependencies using either !pip or !apt.\n\nTo view examples of installing some common dependencies, click the\n\"Open Examples\" button below.\n\u001b[0;31m---------------------------------------------------------------------------\u001b[0m\n"
          ],
          "errorDetails": {
            "actions": [
              {
                "action": "open_url",
                "actionText": "Open Examples",
                "url": "/notebooks/snippets/importing_libraries.ipynb"
              }
            ]
          }
        }
      ]
    },
    {
      "cell_type": "code",
      "source": [],
      "metadata": {
        "id": "_CxYy2y5IfgH"
      },
      "execution_count": null,
      "outputs": []
    }
  ]
}