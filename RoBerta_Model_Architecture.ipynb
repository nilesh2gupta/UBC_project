{
  "nbformat": 4,
  "nbformat_minor": 0,
  "metadata": {
    "colab": {
      "provenance": [],
      "gpuType": "V28",
      "machine_shape": "hm",
      "mount_file_id": "1jedH_O8ulh9cHAXvfrUuvOfp6z14JOVR",
      "authorship_tag": "ABX9TyOEcuU8AogbNUGt8RTycmK0",
      "include_colab_link": true
    },
    "kernelspec": {
      "name": "python3",
      "display_name": "Python 3"
    },
    "language_info": {
      "name": "python"
    },
    "accelerator": "TPU"
  },
  "cells": [
    {
      "cell_type": "markdown",
      "metadata": {
        "id": "view-in-github",
        "colab_type": "text"
      },
      "source": [
        "<a href=\"https://colab.research.google.com/github/nilesh2gupta/UBC_project/blob/main/RoBerta_Model_Architecture.ipynb\" target=\"_parent\"><img src=\"https://colab.research.google.com/assets/colab-badge.svg\" alt=\"Open In Colab\"/></a>"
      ]
    },
    {
      "cell_type": "code",
      "source": [
        "import tensorflow as tf\n",
        "from transformers import TFRobertaModel, RobertaTokenizer\n",
        "tokenizer = RobertaTokenizer.from_pretrained('roberta-base')\n",
        "RoBERTa_model = TFRobertaModel.from_pretrained('roberta-base')"
      ],
      "metadata": {
        "colab": {
          "base_uri": "https://localhost:8080/"
        },
        "collapsed": true,
        "id": "U97dlDN_6hH3",
        "outputId": "cd69e2ad-2702-4c1a-d49e-bc829d983e15"
      },
      "execution_count": 41,
      "outputs": [
        {
          "output_type": "stream",
          "name": "stderr",
          "text": [
            "Some weights of the PyTorch model were not used when initializing the TF 2.0 model TFRobertaModel: ['lm_head.bias', 'lm_head.layer_norm.weight', 'lm_head.layer_norm.bias', 'lm_head.dense.bias', 'roberta.embeddings.position_ids', 'lm_head.dense.weight']\n",
            "- This IS expected if you are initializing TFRobertaModel from a PyTorch model trained on another task or with another architecture (e.g. initializing a TFBertForSequenceClassification model from a BertForPreTraining model).\n",
            "- This IS NOT expected if you are initializing TFRobertaModel from a PyTorch model that you expect to be exactly identical (e.g. initializing a TFBertForSequenceClassification model from a BertForSequenceClassification model).\n",
            "Some weights or buffers of the TF 2.0 model TFRobertaModel were not initialized from the PyTorch model and are newly initialized: ['roberta.pooler.dense.weight', 'roberta.pooler.dense.bias']\n",
            "You should probably TRAIN this model on a down-stream task to be able to use it for predictions and inference.\n"
          ]
        }
      ]
    },
    {
      "cell_type": "code",
      "source": [
        "def get_bert_input(text):\n",
        "    inputs = tokenizer(text, padding=True, truncation=True, return_tensors='tf')\n",
        "    return inputs\n",
        "\n",
        "def get_bert_last_hidden_state_output(inputs,model):\n",
        "    output = model(inputs)\n",
        "    return output.last_hidden_state.numpy()\n",
        "\n",
        "def get_bert_pooler_output(inputs,model):\n",
        "    output=model(inputs)\n",
        "    return output.pooler_output.numpy()\n",
        "\n",
        "def convert_to_bert_last_hidden_state_output(text,model):\n",
        "    inputs =get_bert_input(text)\n",
        "    output = get_bert_last_hidden_state_output(inputs,model)\n",
        "    return output\n",
        "\n",
        "def convert_to_bert_pooler_output(text,model):\n",
        "    inputs =get_bert_input(text)\n",
        "    output = get_bert_pooler_output(inputs,model)\n",
        "    return  output\n",
        "\n",
        "def model_prediction_input(text,max_squence_length,bert_model):\n",
        "    inputs = tokenizer(text, padding=True, truncation=True,max_length=max_squence_length, return_tensors='tf')\n",
        "    padded_input = tokenizer.pad(inputs, max_length=max_squence_length, padding='max_length', return_tensors='tf')\n",
        "    output=bert_model(padded_input)\n",
        "    return output.last_hidden_state.numpy()\n"
      ],
      "metadata": {
        "id": "PmA-ZQdYQZIM"
      },
      "execution_count": 42,
      "outputs": []
    },
    {
      "cell_type": "code",
      "source": [
        "import pandas as pd\n",
        "import numpy as np\n",
        "df_new=pd.read_csv('/content/drive/MyDrive/UBC_project/cleaned_data_no_special_characters.csv',encoding='UTF-8')"
      ],
      "metadata": {
        "id": "deNliI4Lf77c"
      },
      "execution_count": 43,
      "outputs": []
    },
    {
      "cell_type": "code",
      "source": [
        "df_new = df_new[(df_new['claims'].str.split().str.len() > 3) & (df_new['claims'].str.split().str.len() < 20)]\n",
        "df_new.shape"
      ],
      "metadata": {
        "colab": {
          "base_uri": "https://localhost:8080/"
        },
        "id": "qd-MhQoYgFd3",
        "outputId": "5a7aecfc-60f1-43bb-8c33-3e2446360aae"
      },
      "execution_count": 44,
      "outputs": [
        {
          "output_type": "execute_result",
          "data": {
            "text/plain": [
              "(3850, 2)"
            ]
          },
          "metadata": {},
          "execution_count": 44
        }
      ]
    },
    {
      "cell_type": "code",
      "source": [
        "df_new['claims_labels'].value_counts().plot(kind='bar')"
      ],
      "metadata": {
        "colab": {
          "base_uri": "https://localhost:8080/",
          "height": 591
        },
        "id": "krXJN4DTHVCo",
        "outputId": "ea3b95e3-3ed2-44fe-aff3-0b4fadb4c81c"
      },
      "execution_count": 45,
      "outputs": [
        {
          "output_type": "execute_result",
          "data": {
            "text/plain": [
              "<Axes: xlabel='claims_labels'>"
            ]
          },
          "metadata": {},
          "execution_count": 45
        },
        {
          "output_type": "display_data",
          "data": {
            "text/plain": [
              "<Figure size 640x480 with 1 Axes>"
            ],
            "image/png": "[encoded data removed]"
          },
          "metadata": {}
        }
      ]
    },
    {
      "cell_type": "code",
      "source": [
        "import pandas as pd\n",
        "import matplotlib.pyplot as plt\n",
        "min_class_size = min(df_new['claims_labels'].value_counts())\n",
        "\n",
        "balanced_train_data = pd.DataFrame(columns=['claims','claims_labels'])\n",
        "\n",
        "class_distribution = df_new['claims_labels'].value_counts()\n",
        "\n",
        "for genre, count in class_distribution.items():\n",
        "  class_data = df_new[df_new['claims_labels'] == genre].sample(n=min_class_size, random_state=22)\n",
        "  balanced_train_data = pd.concat([balanced_train_data, class_data], ignore_index=True)\n",
        "\n",
        "balanced_train_data.describe()\n",
        "balanced_class_distribution = balanced_train_data['claims_labels'].value_counts()\n",
        "\n",
        "print(\"Balanced Class Distribution:\")\n",
        "print(balanced_class_distribution)\n",
        "\n",
        "plt.figure(figsize=(8, 6))\n",
        "balanced_class_distribution.plot(kind='bar', color='skyblue')\n",
        "plt.title('Balanced Class Distribution')\n",
        "plt.xlabel('Class')\n",
        "plt.ylabel('Frequency')\n",
        "plt.xticks(rotation=65)\n",
        "plt.show()\n"
      ],
      "metadata": {
        "id": "jU2KRCM9LVZS",
        "colab": {
          "base_uri": "https://localhost:8080/",
          "height": 785
        },
        "outputId": "eafd97b2-729a-4b5a-da51-abd5cac6870b"
      },
      "execution_count": 46,
      "outputs": [
        {
          "output_type": "stream",
          "name": "stdout",
          "text": [
            "Balanced Class Distribution:\n",
            "claims_labels\n",
            "SUPPORTS           1099\n",
            "NOT_ENOUGH_INFO    1099\n",
            "REFUTES            1099\n",
            "Name: count, dtype: int64\n"
          ]
        },
        {
          "output_type": "display_data",
          "data": {
            "text/plain": [
              "<Figure size 800x600 with 1 Axes>"
            ],
            "image/png": "[encoded data removed]"
          },
          "metadata": {}
        }
      ]
    },
    {
      "cell_type": "code",
      "source": [
        "df_new=balanced_train_data"
      ],
      "metadata": {
        "id": "RaRgruMcewLZ"
      },
      "execution_count": null,
      "outputs": []
    },
    {
      "cell_type": "code",
      "source": [
        "def ohe(text):\n",
        "\n",
        "    if text=='SUPPORTS':\n",
        "         return 2\n",
        "    elif text=='NOT_ENOUGH_INFO':\n",
        "         return 1\n",
        "    elif text=='REFUTES' :\n",
        "          return 0\n",
        "    return 0\n",
        "\n",
        "df_new['claims_labels']=df_new['claims_labels'].apply(lambda x:ohe(x))\n",
        "\n",
        "df_new=df_new.sample(n=3500,random_state=22)\n",
        "df_new.shape"
      ],
      "metadata": {
        "colab": {
          "base_uri": "https://localhost:8080/"
        },
        "id": "ylNwqPHqgFb8",
        "outputId": "23aef561-c625-4e20-b071-0b0bd908ed25"
      },
      "execution_count": 47,
      "outputs": [
        {
          "output_type": "execute_result",
          "data": {
            "text/plain": [
              "(3500, 2)"
            ]
          },
          "metadata": {},
          "execution_count": 47
        }
      ]
    },
    {
      "cell_type": "code",
      "source": [
        "df_new['claims_labels'].value_counts().plot(kind='bar')"
      ],
      "metadata": {
        "colab": {
          "base_uri": "https://localhost:8080/",
          "height": 461
        },
        "id": "RVJo4Ni9UP24",
        "outputId": "ff02d3e5-b24b-4aef-d352-f2b80e903307"
      },
      "execution_count": 48,
      "outputs": [
        {
          "output_type": "execute_result",
          "data": {
            "text/plain": [
              "<Axes: xlabel='claims_labels'>"
            ]
          },
          "metadata": {},
          "execution_count": 48
        },
        {
          "output_type": "display_data",
          "data": {
            "text/plain": [
              "<Figure size 640x480 with 1 Axes>"
            ],
            "image/png": "[encoded data removed]"
          },
          "metadata": {}
        }
      ]
    },
    {
      "cell_type": "code",
      "source": [
        "from sklearn.model_selection import train_test_split\n",
        "X_train,X_test,Y_train,Y_test=train_test_split(df_new['claims'],df_new['claims_labels'],test_size=0.001,random_state=2)"
      ],
      "metadata": {
        "id": "xqvtZ9bIgM1N"
      },
      "execution_count": 49,
      "outputs": []
    },
    {
      "cell_type": "code",
      "source": [
        "x_train = []\n",
        "\n",
        "def create_list(text):\n",
        "    x_train.append(text)\n",
        "\n",
        "X_train.apply(lambda x: create_list(x))\n",
        "\n",
        "print(x_train)"
      ],
      "metadata": {
        "id": "zevsWfCLgMzJ"
      },
      "execution_count": null,
      "outputs": []
    },
    {
      "cell_type": "code",
      "source": [
        "x_train = convert_to_bert_last_hidden_state_output(x_train,RoBERTa_model)\n",
        "print(x_train.shape)\n",
        "max_squence_length = x_train.shape[1]\n",
        "embedding_dim = x_train.shape[2]"
      ],
      "metadata": {
        "colab": {
          "base_uri": "https://localhost:8080/"
        },
        "id": "U8NNsl_9oZZ-",
        "outputId": "d1b111a4-83fb-42d4-c964-2d95e9a473d5"
      },
      "execution_count": 51,
      "outputs": [
        {
          "output_type": "stream",
          "name": "stdout",
          "text": [
            "(3496, 33, 768)\n"
          ]
        }
      ]
    },
    {
      "cell_type": "markdown",
      "source": [
        "#Function for calculating F1_score"
      ],
      "metadata": {
        "id": "9oD-PbbBjvCg"
      }
    },
    {
      "cell_type": "code",
      "source": [
        "from keras import backend as K\n",
        "\n",
        "def f1_score(y_true, y_pred):\n",
        "    y_pred = K.argmax(y_pred, axis=-1)\n",
        "    y_true = K.argmax(y_true, axis=-1)\n",
        "\n",
        "    class_ids = K.arange(0, K.max(y_true) + 1, dtype='int32')\n",
        "    true_positives = K.sum(K.cast(K.equal(y_true, y_pred), 'float32'), axis=0)\n",
        "    false_positives = K.sum(K.cast(K.not_equal(y_true, y_pred) & K.equal(y_pred, class_ids[:, None]), 'float32'), axis=1)\n",
        "    false_negatives = K.sum(K.cast(K.not_equal(y_true, y_pred) & K.equal(y_true, class_ids[:, None]), 'float32'), axis=1)\n",
        "\n",
        "    precision = true_positives / (true_positives + false_positives + K.epsilon())\n",
        "    recall = true_positives / (true_positives + false_negatives + K.epsilon())\n",
        "    f1 = 2 * (precision * recall) / (precision + recall + K.epsilon())\n",
        "\n",
        "    f1_score_mean = K.mean(f1)\n",
        "    return f1_score_mean"
      ],
      "metadata": {
        "id": "oRf0NaI7jsDM"
      },
      "execution_count": 52,
      "outputs": []
    },
    {
      "cell_type": "code",
      "source": [
        "!pip install pydot\n",
        "!pip install graphviz"
      ],
      "metadata": {
        "colab": {
          "base_uri": "https://localhost:8080/"
        },
        "id": "U3JoOE0tljKw",
        "outputId": "2162caa5-1850-4c6f-87f8-f4f7501ef03d"
      },
      "execution_count": 53,
      "outputs": [
        {
          "output_type": "stream",
          "name": "stdout",
          "text": [
            "Requirement already satisfied: pydot in /usr/local/lib/python3.10/dist-packages (3.0.1)\n",
            "Requirement already satisfied: pyparsing>=3.0.9 in /usr/local/lib/python3.10/dist-packages (from pydot) (3.1.4)\n",
            "Requirement already satisfied: graphviz in /usr/local/lib/python3.10/dist-packages (0.20.3)\n"
          ]
        }
      ]
    },
    {
      "cell_type": "markdown",
      "source": [
        "#Model Architecture"
      ],
      "metadata": {
        "id": "yhjv6hvz8r3d"
      }
    },
    {
      "cell_type": "code",
      "source": [
        "from keras.layers import Input,Flatten, Embedding, Conv1D, MaxPooling1D, Bidirectional, LSTM, Dense, Dropout, BatchNormalization, GlobalMaxPooling1D, Attention\n",
        "from keras.models import Model\n",
        "from keras.optimizers import Nadam\n",
        "from keras.callbacks import ModelCheckpoint\n",
        "import matplotlib.pyplot as plt\n",
        "import tensorflow as tf\n",
        "from keras.utils import plot_model\n",
        "\n",
        "# BERT output is feeded as input\n",
        "input_layer = Input(shape=(max_squence_length,embedding_dim,), name='claims_input')\n",
        "\n",
        "# Convolutional layer\n",
        "conv_layer = Conv1D(filters=256, kernel_size=5, activation='relu', name='Conv1D_layer')(input_layer)\n",
        "pooling_layer = MaxPooling1D(pool_size=2, name='MaxPooling_layer')(conv_layer)\n",
        "\n",
        "# Bidirectional LSTM layer\n",
        "bilstm_layer = Bidirectional(LSTM(100, return_sequences=True, name='BiLSTM_layer'))(pooling_layer)\n",
        "\n",
        "# Attention mechanism\n",
        "attention = Attention(name='Attention_layer')([bilstm_layer, bilstm_layer])\n",
        "attention_pooling = GlobalMaxPooling1D(name='Attention_Pooling_layer')(attention)\n",
        "\n",
        "# Dense layers\n",
        "dense_layer = Dense(100, activation='relu', name='Dense_layer_1')(attention_pooling)\n",
        "dropout_layer = Dropout(0.6, name='Dropout_layer_1')(dense_layer)\n",
        "dense_layer_2 = Dense(50, activation='relu', name='Dense_layer_2')(dropout_layer)\n",
        "dropout_layer_2 = Dropout(0.5, name='Dropout_layer_2')(dense_layer_2)\n",
        "\n",
        "# Output layer for multi-class classification\n",
        "output_layer = Dense(3, activation='softmax', name='output_layer')(dropout_layer_2)\n",
        "\n",
        "\n",
        "#the model\n",
        "model = Model(inputs=input_layer, outputs=output_layer)\n",
        "loss= tf.keras.losses.SparseCategoricalCrossentropy()\n",
        "model.compile(optimizer=Nadam(learning_rate=0.001), loss=loss, metrics=['accuracy'])\n",
        "\n",
        "#model summary\n",
        "model.summary()\n",
        "plot_model(model, to_file='roberta_model_plot.png', show_shapes=True, show_layer_names=True)\n",
        "\n",
        "checkpoint_callback = ModelCheckpoint('/content/drive/MyDrive/UBC_project/RoBERTa_model.h5', monitor='accuracy', save_best_only=True, mode='max', verbose=1)\n",
        "\n",
        "\n",
        "\n"
      ],
      "metadata": {
        "id": "5mKIc_cMVVim",
        "colab": {
          "base_uri": "https://localhost:8080/"
        },
        "outputId": "a6da2499-b786-433f-d6bf-6658cf20398e"
      },
      "execution_count": 54,
      "outputs": [
        {
          "output_type": "stream",
          "name": "stdout",
          "text": [
            "Model: \"model_9\"\n",
            "__________________________________________________________________________________________________\n",
            " Layer (type)                Output Shape                 Param #   Connected to                  \n",
            "==================================================================================================\n",
            " claims_input (InputLayer)   [(None, 33, 768)]            0         []                            \n",
            "                                                                                                  \n",
            " Conv1D_layer (Conv1D)       (None, 29, 256)              983296    ['claims_input[0][0]']        \n",
            "                                                                                                  \n",
            " MaxPooling_layer (MaxPooli  (None, 14, 256)              0         ['Conv1D_layer[0][0]']        \n",
            " ng1D)                                                                                            \n",
            "                                                                                                  \n",
            " bidirectional_9 (Bidirecti  (None, 14, 200)              285600    ['MaxPooling_layer[0][0]']    \n",
            " onal)                                                                                            \n",
            "                                                                                                  \n",
            " Attention_layer (Attention  (None, 14, 200)              0         ['bidirectional_9[0][0]',     \n",
            " )                                                                   'bidirectional_9[0][0]']     \n",
            "                                                                                                  \n",
            " Attention_Pooling_layer (G  (None, 200)                  0         ['Attention_layer[0][0]']     \n",
            " lobalMaxPooling1D)                                                                               \n",
            "                                                                                                  \n",
            " Dense_layer_1 (Dense)       (None, 100)                  20100     ['Attention_Pooling_layer[0][0\n",
            "                                                                    ]']                           \n",
            "                                                                                                  \n",
            " Dropout_layer_1 (Dropout)   (None, 100)                  0         ['Dense_layer_1[0][0]']       \n",
            "                                                                                                  \n",
            " Dense_layer_2 (Dense)       (None, 50)                   5050      ['Dropout_layer_1[0][0]']     \n",
            "                                                                                                  \n",
            " Dropout_layer_2 (Dropout)   (None, 50)                   0         ['Dense_layer_2[0][0]']       \n",
            "                                                                                                  \n",
            " output_layer (Dense)        (None, 3)                    153       ['Dropout_layer_2[0][0]']     \n",
            "                                                                                                  \n",
            "==================================================================================================\n",
            "Total params: 1294199 (4.94 MB)\n",
            "Trainable params: 1294199 (4.94 MB)\n",
            "Non-trainable params: 0 (0.00 Byte)\n",
            "__________________________________________________________________________________________________\n",
            "You must install pydot (`pip install pydot`) and install graphviz (see instructions at https://graphviz.gitlab.io/download/) for plot_model to work.\n"
          ]
        }
      ]
    },
    {
      "cell_type": "code",
      "source": [
        "#training parameters\n",
        "batch_size = 100\n",
        "epochs = 30\n",
        "\n",
        "history = model.fit(\n",
        "    x_train,\n",
        "    Y_train,\n",
        "    batch_size=batch_size,\n",
        "    epochs=epochs,\n",
        "    validation_split=0.12,\n",
        "    callbacks=[checkpoint_callback]\n",
        ")\n",
        "\n",
        "#graph\n",
        "plt.plot(history.history['accuracy'], color='red',label='accuracy')\n",
        "plt.plot(history.history['val_accuracy'],color='blue',label='val_accuracy')\n",
        "plt.title('Model Accuracy')\n",
        "plt.ylabel('Accuracy')\n",
        "plt.xlabel('Epoch')\n",
        "plt.legend()\n",
        "plt.show()\n",
        "\n",
        "#graph\n",
        "plt.plot(history.history['loss'], color='red',label='loss')\n",
        "plt.plot(history.history['val_loss'],color='blue',label='val_loss')\n",
        "plt.title('Model Loss')\n",
        "plt.ylabel('Accuracy')\n",
        "plt.xlabel('Epoch')\n",
        "plt.legend()\n",
        "plt.show()"
      ],
      "metadata": {
        "id": "fb7CzGywVVqj",
        "colab": {
          "base_uri": "https://localhost:8080/",
          "height": 1000
        },
        "outputId": "471a014e-994b-4519-fceb-10ec31427685"
      },
      "execution_count": 55,
      "outputs": [
        {
          "output_type": "stream",
          "name": "stdout",
          "text": [
            "Epoch 1/30\n",
            "30/31 [============================>.] - ETA: 0s - loss: 1.0901 - accuracy: 0.3907\n",
            "Epoch 1: accuracy improved from -inf to 0.39174, saving model to /content/drive/MyDrive/UBC_project/RoBERTa_model.h5\n",
            "31/31 [==============================] - 6s 76ms/step - loss: 1.0902 - accuracy: 0.3917 - val_loss: 1.0194 - val_accuracy: 0.4714\n",
            "Epoch 2/30\n",
            " 2/31 [>.............................] - ETA: 1s - loss: 1.0430 - accuracy: 0.4350"
          ]
        },
        {
          "output_type": "stream",
          "name": "stderr",
          "text": [
            "/usr/local/lib/python3.10/dist-packages/keras/src/engine/training.py:3103: UserWarning: You are saving your model as an HDF5 file via `model.save()`. This file format is considered legacy. We recommend using instead the native Keras format, e.g. `model.save('my_model.keras')`.\n",
            "  saving_api.save_model(\n"
          ]
        },
        {
          "output_type": "stream",
          "name": "stdout",
          "text": [
            "30/31 [============================>.] - ETA: 0s - loss: 1.0220 - accuracy: 0.4530\n",
            "Epoch 2: accuracy improved from 0.39174 to 0.45189, saving model to /content/drive/MyDrive/UBC_project/RoBERTa_model.h5\n",
            "31/31 [==============================] - 2s 65ms/step - loss: 1.0236 - accuracy: 0.4519 - val_loss: 1.0176 - val_accuracy: 0.4643\n",
            "Epoch 3/30\n",
            "30/31 [============================>.] - ETA: 0s - loss: 1.0010 - accuracy: 0.4530\n",
            "Epoch 3: accuracy improved from 0.45189 to 0.45384, saving model to /content/drive/MyDrive/UBC_project/RoBERTa_model.h5\n",
            "31/31 [==============================] - 2s 62ms/step - loss: 1.0000 - accuracy: 0.4538 - val_loss: 0.9911 - val_accuracy: 0.4690\n",
            "Epoch 4/30\n",
            "30/31 [============================>.] - ETA: 0s - loss: 0.9772 - accuracy: 0.4777\n",
            "Epoch 4: accuracy improved from 0.45384 to 0.47724, saving model to /content/drive/MyDrive/UBC_project/RoBERTa_model.h5\n",
            "31/31 [==============================] - 2s 62ms/step - loss: 0.9776 - accuracy: 0.4772 - val_loss: 0.9836 - val_accuracy: 0.4929\n",
            "Epoch 5/30\n",
            "30/31 [============================>.] - ETA: 0s - loss: 0.9458 - accuracy: 0.5053\n",
            "Epoch 5: accuracy improved from 0.47724 to 0.50813, saving model to /content/drive/MyDrive/UBC_project/RoBERTa_model.h5\n",
            "31/31 [==============================] - 2s 62ms/step - loss: 0.9441 - accuracy: 0.5081 - val_loss: 0.9858 - val_accuracy: 0.4500\n",
            "Epoch 6/30\n",
            "30/31 [============================>.] - ETA: 0s - loss: 0.9109 - accuracy: 0.5150\n",
            "Epoch 6: accuracy improved from 0.50813 to 0.51560, saving model to /content/drive/MyDrive/UBC_project/RoBERTa_model.h5\n",
            "31/31 [==============================] - 2s 61ms/step - loss: 0.9101 - accuracy: 0.5156 - val_loss: 0.9914 - val_accuracy: 0.4881\n",
            "Epoch 7/30\n",
            "30/31 [============================>.] - ETA: 0s - loss: 0.8605 - accuracy: 0.5527\n",
            "Epoch 7: accuracy improved from 0.51560 to 0.55364, saving model to /content/drive/MyDrive/UBC_project/RoBERTa_model.h5\n",
            "31/31 [==============================] - 2s 61ms/step - loss: 0.8600 - accuracy: 0.5536 - val_loss: 1.1018 - val_accuracy: 0.4524\n",
            "Epoch 8/30\n",
            "30/31 [============================>.] - ETA: 0s - loss: 0.8336 - accuracy: 0.5600\n",
            "Epoch 8: accuracy improved from 0.55364 to 0.55884, saving model to /content/drive/MyDrive/UBC_project/RoBERTa_model.h5\n",
            "31/31 [==============================] - 2s 60ms/step - loss: 0.8340 - accuracy: 0.5588 - val_loss: 0.9922 - val_accuracy: 0.4833\n",
            "Epoch 9/30\n",
            "30/31 [============================>.] - ETA: 0s - loss: 0.7747 - accuracy: 0.5767\n",
            "Epoch 9: accuracy improved from 0.55884 to 0.57802, saving model to /content/drive/MyDrive/UBC_project/RoBERTa_model.h5\n",
            "31/31 [==============================] - 2s 60ms/step - loss: 0.7723 - accuracy: 0.5780 - val_loss: 1.0597 - val_accuracy: 0.5000\n",
            "Epoch 10/30\n",
            "30/31 [============================>.] - ETA: 0s - loss: 0.7259 - accuracy: 0.6157\n",
            "Epoch 10: accuracy improved from 0.57802 to 0.61476, saving model to /content/drive/MyDrive/UBC_project/RoBERTa_model.h5\n",
            "31/31 [==============================] - 2s 61ms/step - loss: 0.7239 - accuracy: 0.6148 - val_loss: 1.1171 - val_accuracy: 0.4881\n",
            "Epoch 11/30\n",
            "30/31 [============================>.] - ETA: 0s - loss: 0.6897 - accuracy: 0.6250\n",
            "Epoch 11: accuracy improved from 0.61476 to 0.62744, saving model to /content/drive/MyDrive/UBC_project/RoBERTa_model.h5\n",
            "31/31 [==============================] - 2s 61ms/step - loss: 0.6888 - accuracy: 0.6274 - val_loss: 1.2030 - val_accuracy: 0.4905\n",
            "Epoch 12/30\n",
            "30/31 [============================>.] - ETA: 0s - loss: 0.6532 - accuracy: 0.6540\n",
            "Epoch 12: accuracy improved from 0.62744 to 0.65247, saving model to /content/drive/MyDrive/UBC_project/RoBERTa_model.h5\n",
            "31/31 [==============================] - 2s 60ms/step - loss: 0.6537 - accuracy: 0.6525 - val_loss: 1.3213 - val_accuracy: 0.4857\n",
            "Epoch 13/30\n",
            "30/31 [============================>.] - ETA: 0s - loss: 0.6252 - accuracy: 0.6540\n",
            "Epoch 13: accuracy improved from 0.65247 to 0.65377, saving model to /content/drive/MyDrive/UBC_project/RoBERTa_model.h5\n",
            "31/31 [==============================] - 2s 62ms/step - loss: 0.6249 - accuracy: 0.6538 - val_loss: 1.4202 - val_accuracy: 0.4714\n",
            "Epoch 14/30\n",
            "30/31 [============================>.] - ETA: 0s - loss: 0.6091 - accuracy: 0.6670\n",
            "Epoch 14: accuracy improved from 0.65377 to 0.66645, saving model to /content/drive/MyDrive/UBC_project/RoBERTa_model.h5\n",
            "31/31 [==============================] - 2s 62ms/step - loss: 0.6094 - accuracy: 0.6664 - val_loss: 1.3923 - val_accuracy: 0.4786\n",
            "Epoch 15/30\n",
            "30/31 [============================>.] - ETA: 0s - loss: 0.5962 - accuracy: 0.6797\n",
            "Epoch 15: accuracy improved from 0.66645 to 0.68010, saving model to /content/drive/MyDrive/UBC_project/RoBERTa_model.h5\n",
            "31/31 [==============================] - 2s 62ms/step - loss: 0.5948 - accuracy: 0.6801 - val_loss: 1.5902 - val_accuracy: 0.4857\n",
            "Epoch 16/30\n",
            "30/31 [============================>.] - ETA: 0s - loss: 0.5727 - accuracy: 0.6823\n",
            "Epoch 16: accuracy improved from 0.68010 to 0.68270, saving model to /content/drive/MyDrive/UBC_project/RoBERTa_model.h5\n",
            "31/31 [==============================] - 2s 61ms/step - loss: 0.5723 - accuracy: 0.6827 - val_loss: 1.7848 - val_accuracy: 0.4548\n",
            "Epoch 17/30\n",
            "30/31 [============================>.] - ETA: 0s - loss: 0.5520 - accuracy: 0.6977\n",
            "Epoch 17: accuracy improved from 0.68270 to 0.69863, saving model to /content/drive/MyDrive/UBC_project/RoBERTa_model.h5\n",
            "31/31 [==============================] - 2s 61ms/step - loss: 0.5516 - accuracy: 0.6986 - val_loss: 1.7625 - val_accuracy: 0.4500\n",
            "Epoch 18/30\n",
            "30/31 [============================>.] - ETA: 0s - loss: 0.5388 - accuracy: 0.7073\n",
            "Epoch 18: accuracy improved from 0.69863 to 0.70871, saving model to /content/drive/MyDrive/UBC_project/RoBERTa_model.h5\n",
            "31/31 [==============================] - 2s 62ms/step - loss: 0.5382 - accuracy: 0.7087 - val_loss: 1.6779 - val_accuracy: 0.4714\n",
            "Epoch 19/30\n",
            "30/31 [============================>.] - ETA: 0s - loss: 0.5466 - accuracy: 0.7033\n",
            "Epoch 19: accuracy did not improve from 0.70871\n",
            "31/31 [==============================] - 2s 60ms/step - loss: 0.5467 - accuracy: 0.7042 - val_loss: 1.6145 - val_accuracy: 0.4643\n",
            "Epoch 20/30\n",
            "30/31 [============================>.] - ETA: 0s - loss: 0.5190 - accuracy: 0.7360\n",
            "Epoch 20: accuracy improved from 0.70871 to 0.73700, saving model to /content/drive/MyDrive/UBC_project/RoBERTa_model.h5\n",
            "31/31 [==============================] - 2s 62ms/step - loss: 0.5183 - accuracy: 0.7370 - val_loss: 1.5086 - val_accuracy: 0.4405\n",
            "Epoch 21/30\n",
            "30/31 [============================>.] - ETA: 0s - loss: 0.5115 - accuracy: 0.7390\n",
            "Epoch 21: accuracy improved from 0.73700 to 0.73765, saving model to /content/drive/MyDrive/UBC_project/RoBERTa_model.h5\n",
            "31/31 [==============================] - 2s 62ms/step - loss: 0.5139 - accuracy: 0.7376 - val_loss: 1.9729 - val_accuracy: 0.4833\n",
            "Epoch 22/30\n",
            "30/31 [============================>.] - ETA: 0s - loss: 0.5155 - accuracy: 0.7397\n",
            "Epoch 22: accuracy improved from 0.73765 to 0.73927, saving model to /content/drive/MyDrive/UBC_project/RoBERTa_model.h5\n",
            "31/31 [==============================] - 2s 62ms/step - loss: 0.5154 - accuracy: 0.7393 - val_loss: 1.8967 - val_accuracy: 0.4024\n",
            "Epoch 23/30\n",
            "30/31 [============================>.] - ETA: 0s - loss: 0.4865 - accuracy: 0.7647\n",
            "Epoch 23: accuracy improved from 0.73927 to 0.76430, saving model to /content/drive/MyDrive/UBC_project/RoBERTa_model.h5\n",
            "31/31 [==============================] - 2s 62ms/step - loss: 0.4863 - accuracy: 0.7643 - val_loss: 2.1602 - val_accuracy: 0.3905\n",
            "Epoch 24/30\n",
            "30/31 [============================>.] - ETA: 0s - loss: 0.4699 - accuracy: 0.7720\n",
            "Epoch 24: accuracy improved from 0.76430 to 0.77146, saving model to /content/drive/MyDrive/UBC_project/RoBERTa_model.h5\n",
            "31/31 [==============================] - 2s 62ms/step - loss: 0.4698 - accuracy: 0.7715 - val_loss: 1.7489 - val_accuracy: 0.4000\n",
            "Epoch 25/30\n",
            "30/31 [============================>.] - ETA: 0s - loss: 0.4447 - accuracy: 0.7823\n",
            "Epoch 25: accuracy improved from 0.77146 to 0.78218, saving model to /content/drive/MyDrive/UBC_project/RoBERTa_model.h5\n",
            "31/31 [==============================] - 2s 63ms/step - loss: 0.4446 - accuracy: 0.7822 - val_loss: 2.3308 - val_accuracy: 0.3690\n",
            "Epoch 26/30\n",
            "30/31 [============================>.] - ETA: 0s - loss: 0.4253 - accuracy: 0.7787\n",
            "Epoch 26: accuracy did not improve from 0.78218\n",
            "31/31 [==============================] - 2s 59ms/step - loss: 0.4248 - accuracy: 0.7793 - val_loss: 1.7679 - val_accuracy: 0.3833\n",
            "Epoch 27/30\n",
            "30/31 [============================>.] - ETA: 0s - loss: 0.3938 - accuracy: 0.8083\n",
            "Epoch 27: accuracy improved from 0.78218 to 0.80852, saving model to /content/drive/MyDrive/UBC_project/RoBERTa_model.h5\n",
            "31/31 [==============================] - 2s 61ms/step - loss: 0.3924 - accuracy: 0.8085 - val_loss: 2.0711 - val_accuracy: 0.3619\n",
            "Epoch 28/30\n",
            "30/31 [============================>.] - ETA: 0s - loss: 0.3835 - accuracy: 0.8100\n",
            "Epoch 28: accuracy improved from 0.80852 to 0.81047, saving model to /content/drive/MyDrive/UBC_project/RoBERTa_model.h5\n",
            "31/31 [==============================] - 2s 61ms/step - loss: 0.3830 - accuracy: 0.8105 - val_loss: 2.3357 - val_accuracy: 0.3905\n",
            "Epoch 29/30\n",
            "30/31 [============================>.] - ETA: 0s - loss: 0.3716 - accuracy: 0.8143\n",
            "Epoch 29: accuracy improved from 0.81047 to 0.81567, saving model to /content/drive/MyDrive/UBC_project/RoBERTa_model.h5\n",
            "31/31 [==============================] - 2s 61ms/step - loss: 0.3750 - accuracy: 0.8157 - val_loss: 2.3613 - val_accuracy: 0.3857\n",
            "Epoch 30/30\n",
            "30/31 [============================>.] - ETA: 0s - loss: 0.3684 - accuracy: 0.8143\n",
            "Epoch 30: accuracy did not improve from 0.81567\n",
            "31/31 [==============================] - 2s 58ms/step - loss: 0.3683 - accuracy: 0.8147 - val_loss: 2.8395 - val_accuracy: 0.3595\n"
          ]
        },
        {
          "output_type": "display_data",
          "data": {
            "text/plain": [
              "<Figure size 640x480 with 1 Axes>"
            ],
            "image/png": "[encoded data removed]"
          },
          "metadata": {}
        },
        {
          "output_type": "display_data",
          "data": {
            "text/plain": [
              "<Figure size 640x480 with 1 Axes>"
            ],
            "image/png": "[encoded data removed]"
          },
          "metadata": {}
        }
      ]
    },
    {
      "cell_type": "markdown",
      "source": [
        "#Text Cleaning Block"
      ],
      "metadata": {
        "id": "dlduVseekD3o"
      }
    },
    {
      "cell_type": "code",
      "source": [
        "import re\n",
        "import numpy as np\n",
        "\n",
        "def remove_link(text):\n",
        "    pattern = re.compile(r'https?://\\S+|www\\.\\S+')\n",
        "    if pattern:\n",
        "        return pattern.sub(r'', text)\n",
        "    else:\n",
        "        return text\n",
        "\n",
        "import string\n",
        "Exclude=string.punctuation\n",
        "\n",
        "\n",
        "\n",
        "def remove_punctuation(text):\n",
        "    return text.translate(str.maketrans('','',Exclude))\n",
        "\n",
        "def remove_html_tag(text):\n",
        "    i=0\n",
        "    pattern=re.compile(r'<.*?>')\n",
        "    if pattern:\n",
        "      list=np.array(pattern.findall(text))\n",
        "      n=list.shape[0]\n",
        "    for i in range(n):\n",
        "      text= text.replace(list[i],'')\n",
        "    return text\n",
        "\n",
        "\n",
        "import nltk\n",
        "\n",
        "from nltk.corpus import stopwords\n",
        "\n",
        "nltk.download('stopwords')\n",
        "\n",
        "\n",
        "extra=stopwords.words('english')\n",
        "stopwrd=np.array(extra)\n",
        "\n",
        "def remove_stopwords(text, stopwords):\n",
        "    split_text = text.split()\n",
        "    filtered_text = []\n",
        "\n",
        "    for word in split_text:\n",
        "        if word not in stopwords:\n",
        "            filtered_text.append(word)\n",
        "\n",
        "    result = ' '.join(filtered_text)\n",
        "    return result\n",
        "\n",
        "def remove_emoji(text):\n",
        "    pattern=re.compile('[\\U00010000-\\U0010ffff]', flags=re.UNICODE)\n",
        "    if pattern:\n",
        "       list= pattern.findall(text)\n",
        "    return pattern.sub(r'', text)\n",
        "\n",
        "import spacy\n",
        "nlp = spacy.load(\"en_core_web_sm\")\n",
        "\n",
        "def lemmatization(text):\n",
        "    doc=nlp(text)\n",
        "    text_=[]\n",
        "    for word in doc:\n",
        "       text_.append(word.lemma_)\n",
        "\n",
        "    result = ' '.join(text_)\n",
        "    return result\n",
        "\n",
        "def text_cleaning(text,stopwords):\n",
        "    text=text.lower()\n",
        "    text=remove_link(text)\n",
        "    text=remove_html_tag(text)\n",
        "    text=remove_emoji(text)\n",
        "    #text=remove_stopwords(text,stopwords)\n",
        "    text=remove_punctuation(text)\n",
        "    text=lemmatization(text)\n",
        "    return text"
      ],
      "metadata": {
        "colab": {
          "base_uri": "https://localhost:8080/"
        },
        "id": "iDrWccYQ3RiB",
        "outputId": "46b78094-1fdd-46cf-e254-d4dd65f1c0cc"
      },
      "execution_count": 56,
      "outputs": [
        {
          "output_type": "stream",
          "name": "stderr",
          "text": [
            "[nltk_data] Downloading package stopwords to /root/nltk_data...\n",
            "[nltk_data]   Package stopwords is already up-to-date!\n"
          ]
        }
      ]
    },
    {
      "cell_type": "code",
      "source": [
        "text_cleaning('Climate change is a natural process and not influenced by human activities',stopwrd)"
      ],
      "metadata": {
        "colab": {
          "base_uri": "https://localhost:8080/",
          "height": 36
        },
        "id": "u2GfB3il_9De",
        "outputId": "f623cd2e-2c7a-473d-a86e-d232bb686bfa"
      },
      "execution_count": 57,
      "outputs": [
        {
          "output_type": "execute_result",
          "data": {
            "text/plain": [
              "'climate change be a natural process and not influence by human activity'"
            ],
            "application/vnd.google.colaboratory.intrinsic+json": {
              "type": "string"
            }
          },
          "metadata": {},
          "execution_count": 57
        }
      ]
    },
    {
      "cell_type": "code",
      "source": [
        "from keras.utils import custom_object_scope\n",
        "class InferenceModel:\n",
        "    def __init__(self, model_path='/content/drive/MyDrive/UBC_project/RoBERTa_model.h5'):\n",
        "        self.model_path = model_path\n",
        "        self.model = self.load_model()\n",
        "\n",
        "    def load_model(self):\n",
        "        return tf.keras.models.load_model(self.model_path)\n",
        "\n",
        "\n",
        "    def predict(self, input_data):\n",
        "        input_data = text_cleaning(input_data,stopwrd)\n",
        "        list=[]\n",
        "        list.append(input_data)\n",
        "        input_data=model_prediction_input(list,max_squence_length,RoBERTa_model)\n",
        "        predictions = self.model.predict(input_data)\n",
        "        return predictions\n",
        "\n"
      ],
      "metadata": {
        "id": "Le0wZqM2VVu8"
      },
      "execution_count": 58,
      "outputs": []
    },
    {
      "cell_type": "code",
      "source": [
        "inference_model = InferenceModel()\n",
        "def generate_output(text):\n",
        "    output = inference_model.predict(text)\n",
        "    return output\n"
      ],
      "metadata": {
        "id": "40nkjj2tVVx3"
      },
      "execution_count": 59,
      "outputs": []
    },
    {
      "cell_type": "code",
      "source": [
        "# Generate probabilities for the given text\n",
        "probabilities = generate_output('Climate change is a natural process and not influenced by human activities')\n",
        "\n",
        "# Extract probabilities for each class\n",
        "class_0_prob = probabilities[0, 0]\n",
        "class_1_prob = probabilities[0, 1]\n",
        "class_2_prob = probabilities[0, 2]\n",
        "\n",
        "# Define the class labels\n",
        "classes = ['Refutes', 'Not Enough Info', 'Supports']\n",
        "\n",
        "# Define the probabilities\n",
        "values = [class_0_prob, class_1_prob, class_2_prob]\n",
        "\n",
        "# Define colors for the pie chart\n",
        "colors = ['red','blue','green']\n",
        "\n",
        "# Plotting the pie chart\n",
        "plt.figure(figsize=(8, 6))\n",
        "plt.pie(values, labels=classes, colors=colors, autopct='%1.1f%%', startangle=140, shadow=True, explode=(0.1, 0.1, 0.1))\n",
        "\n",
        "# Adding a title\n",
        "plt.title('Class Probabilities')\n",
        "\n",
        "# Display the pie chart\n",
        "plt.show()\n"
      ],
      "metadata": {
        "id": "8H-njayIVV0_",
        "colab": {
          "base_uri": "https://localhost:8080/",
          "height": 538
        },
        "outputId": "81a114ad-b0aa-4fd5-ff73-01064b3b6f8f"
      },
      "execution_count": 60,
      "outputs": [
        {
          "output_type": "stream",
          "name": "stdout",
          "text": [
            "1/1 [==============================] - 1s 675ms/step\n"
          ]
        },
        {
          "output_type": "display_data",
          "data": {
            "text/plain": [
              "<Figure size 800x600 with 1 Axes>"
            ],
            "image/png": "[encoded data removed]"
          },
          "metadata": {}
        }
      ]
    },
    {
      "cell_type": "code",
      "source": [
        "!pip install pyngrok\n",
        "!pip install flask-ngrok"
      ],
      "metadata": {
        "colab": {
          "base_uri": "https://localhost:8080/"
        },
        "id": "St_g62S9jee4",
        "outputId": "b3ec6cd4-30ea-4847-96b1-c0fb82a3b961"
      },
      "execution_count": null,
      "outputs": [
        {
          "output_type": "stream",
          "name": "stdout",
          "text": [
            "Requirement already satisfied: pyngrok in /usr/local/lib/python3.10/dist-packages (7.1.6)\n",
            "Requirement already satisfied: PyYAML>=5.1 in /usr/local/lib/python3.10/dist-packages (from pyngrok) (6.0.1)\n",
            "Requirement already satisfied: flask-ngrok in /usr/local/lib/python3.10/dist-packages (0.0.25)\n",
            "Requirement already satisfied: Flask>=0.8 in /usr/local/lib/python3.10/dist-packages (from flask-ngrok) (2.2.5)\n",
            "Requirement already satisfied: requests in /usr/local/lib/python3.10/dist-packages (from flask-ngrok) (2.31.0)\n",
            "Requirement already satisfied: Werkzeug>=2.2.2 in /usr/local/lib/python3.10/dist-packages (from Flask>=0.8->flask-ngrok) (3.0.2)\n",
            "Requirement already satisfied: Jinja2>=3.0 in /usr/local/lib/python3.10/dist-packages (from Flask>=0.8->flask-ngrok) (3.1.3)\n",
            "Requirement already satisfied: itsdangerous>=2.0 in /usr/local/lib/python3.10/dist-packages (from Flask>=0.8->flask-ngrok) (2.2.0)\n",
            "Requirement already satisfied: click>=8.0 in /usr/local/lib/python3.10/dist-packages (from Flask>=0.8->flask-ngrok) (8.1.7)\n",
            "Requirement already satisfied: charset-normalizer<4,>=2 in /usr/local/lib/python3.10/dist-packages (from requests->flask-ngrok) (3.3.2)\n",
            "Requirement already satisfied: idna<4,>=2.5 in /usr/local/lib/python3.10/dist-packages (from requests->flask-ngrok) (3.7)\n",
            "Requirement already satisfied: urllib3<3,>=1.21.1 in /usr/local/lib/python3.10/dist-packages (from requests->flask-ngrok) (2.0.7)\n",
            "Requirement already satisfied: certifi>=2017.4.17 in /usr/local/lib/python3.10/dist-packages (from requests->flask-ngrok) (2024.2.2)\n",
            "Requirement already satisfied: MarkupSafe>=2.0 in /usr/local/lib/python3.10/dist-packages (from Jinja2>=3.0->Flask>=0.8->flask-ngrok) (2.1.5)\n"
          ]
        }
      ]
    },
    {
      "cell_type": "code",
      "source": [
        "from pyngrok import ngrok\n",
        "ngrok.set_auth_token('2jLw4uo6rdnvKmujYT1Hi5aRcZD_4RPxMKhdbLbZAe8Q83xDA')\n",
        "public_url = ngrok.connect(5000).public_url\n",
        "print(public_url)\n",
        "\n",
        "\n",
        "from flask import Flask, render_template, request, jsonify, render_template_string\n",
        "from flask_ngrok import run_with_ngrok\n",
        "import numpy as np\n",
        "\n",
        "app = Flask(__name__)\n",
        "run_with_ngrok(app)\n",
        "\n",
        "@app.route(\"/\")\n",
        "def index():\n",
        "    return render_template_string('''\n",
        "    <!DOCTYPE html>\n",
        "    <html lang=\"en\">\n",
        "    <head>\n",
        "        <meta charset=\"UTF-8\">\n",
        "        <meta name=\"viewport\" content=\"width=device-width, initial-scale=1.0\">\n",
        "        <title>Climate Change Misinformation Checker</title>\n",
        "        <style>\n",
        "            body {\n",
        "                font-family: Arial, sans-serif;\n",
        "                background: url('https://cdn.prod.website-files.com/656a6f5ca4824808211181c5/65a7ef109c30ede6f2c52e51_240111-Climate-change-Blog-2.jpg') no-repeat center center fixed;\n",
        "                background-size: cover;\n",
        "                margin: 0;\n",
        "                display: flex;\n",
        "                flex-direction: column;\n",
        "                align-items: center;\n",
        "                justify-content: center;\n",
        "                min-height: 100vh;\n",
        "                color: white;\n",
        "            }\n",
        "\n",
        "            .container {\n",
        "                background-color: rgba(0, 0, 25, 0.7);\n",
        "                padding: 20px;\n",
        "                border-radius: 10px;\n",
        "                box-shadow: 0 0 10px rgba(0, 0, 0, 0.5);\n",
        "                width: 90%;\n",
        "                max-width: 800px;\n",
        "                text-align: center;\n",
        "                color: #333;\n",
        "            }\n",
        "\n",
        "            h1 {\n",
        "                color: #fff;\n",
        "            }\n",
        "\n",
        "            p {\n",
        "                color: #fff;\n",
        "            }\n",
        "\n",
        "            textarea {\n",
        "                width: 100%;\n",
        "                height: 40px;\n",
        "                padding: 10px;\n",
        "                border: 1px solid #ddd;\n",
        "                border-radius: 5px;\n",
        "                margin-bottom: 20px;\n",
        "                font-size: 16px;\n",
        "            }\n",
        "\n",
        "            button {\n",
        "                background-color: #007BFF;\n",
        "                color: white;\n",
        "                padding: 10px 20px;\n",
        "                border: none;\n",
        "                border-radius: 5px;\n",
        "                cursor: pointer;\n",
        "                font-size: 16px;\n",
        "            }\n",
        "\n",
        "            button:hover {\n",
        "                background-color: #49FF33;\n",
        "            }\n",
        "\n",
        "            #result {\n",
        "                margin-top: 20px;\n",
        "                font-size: 18px;\n",
        "            }\n",
        "\n",
        "            .media {\n",
        "                display: flex;\n",
        "                flex-direction: column;\n",
        "                align-items: center;\n",
        "                margin-top: 20px;\n",
        "            }\n",
        "\n",
        "            .media img {\n",
        "                max-width: 100%;\n",
        "                border-radius: 10px;\n",
        "                margin-bottom: 20px;\n",
        "            }\n",
        "\n",
        "            .media video {\n",
        "                max-width: 100%;\n",
        "                border-radius: 10px;\n",
        "                margin-bottom: 20px;\n",
        "            }\n",
        "            .chart-container {\n",
        "                width: 50%;\n",
        "                height: 200px;\n",
        "                margin-top: 20px;\n",
        "                align-items: center;\n",
        "                text-align: center;\n",
        "                display: flex;\n",
        "                justify-content: center;\n",
        "                border-radius: 10px;\n",
        "                box-shadow: 1 0 10px rgba(0, 0, 0, 0.5);\n",
        "            }\n",
        "        </style>\n",
        "        <script src=\"https://cdn.jsdelivr.net/npm/chart.js\"></script>\n",
        "    </head>\n",
        "    <body>\n",
        "        <div class=\"container\">\n",
        "            <h1>Climate Change Misinformation Checker</h1>\n",
        "            <p>Enter the news content below to check if it contains misinformation.</p>\n",
        "            <form id=\"newsForm\">\n",
        "                <textarea id=\"newsInput\" name=\"newsInput\" placeholder=\"Enter news content here...\"></textarea>\n",
        "                <button type=\"submit\">Check Misinformation</button>\n",
        "            </form>\n",
        "\n",
        "            <div class=\"media\">\n",
        "                <h2 style=\"color : white \">RESULT</h2>\n",
        "                <p id=\"resultText\"></p>\n",
        "                <div class=\"chart-container\">\n",
        "                <canvas id=\"pieChart\" width=\"20\" height=\"20\"></canvas>\n",
        "                </div>\n",
        "                <img src=\"https://encrypted-tbn0.gstatic.com/images?q=tbn:ANd9GcTFxxei1iazWGrGNEJ-IttgK7krnibcK5irYA&s\" alt=\"Climate Change\">\n",
        "                <iframe src=\"https://www.youtube.com/embed/EuwMB1Dal-4\" allowfullscreen></iframe>\n",
        "            </div>\n",
        "        </div>\n",
        "        <script>\n",
        "    document.getElementById('newsForm').addEventListener('submit', function(event) {\n",
        "        event.preventDefault();\n",
        "        const newsInput = document.getElementById('newsInput').value;\n",
        "\n",
        "        fetch('/result', {\n",
        "            method: 'POST',\n",
        "            headers: {\n",
        "                'Content-Type': 'application/json',\n",
        "            },\n",
        "            body: JSON.stringify({ newsInput: newsInput }),\n",
        "        })\n",
        "        .then(response => response.json())\n",
        "        .then(data => {\n",
        "            const resultText = document.getElementById('resultText');\n",
        "            const ctx = document.getElementById('pieChart').getContext('2d');\n",
        "\n",
        "            if (data.error) {\n",
        "                resultText.textContent = data.error;\n",
        "            } else {\n",
        "                resultText.textContent = data.result;\n",
        "\n",
        "                // Destroy previous chart instance if it exists\n",
        "                if (window.myPieChart) {\n",
        "                    window.myPieChart.destroy();\n",
        "                }\n",
        "\n",
        "                // Create new chart instance\n",
        "                window.myPieChart = new Chart(ctx, {\n",
        "                    type: 'pie',\n",
        "                    data: {\n",
        "                        labels: ['Refutes', 'Not Enough Info', 'Supports'],\n",
        "                        datasets: [{\n",
        "                            label: 'Probability',\n",
        "                            data: data.probabilities,\n",
        "                            backgroundColor: ['red', 'blue', 'green'],\n",
        "                            borderWidth: 1\n",
        "                        }]\n",
        "                    },\n",
        "                    options: {\n",
        "                        responsive: true,\n",
        "                        cutout: 20,\n",
        "                        plugins: {\n",
        "                            legend: {\n",
        "                                position: 'top',\n",
        "                            },\n",
        "                            tooltip: {\n",
        "                                callbacks: {\n",
        "                                    label: function(tooltipItem) {\n",
        "                                        return tooltipItem.label + ': ' + tooltipItem.raw.toFixed(2) + '%';\n",
        "                                    }\n",
        "                                }\n",
        "                            }\n",
        "                        },\n",
        "                        layout: {\n",
        "                            padding: {\n",
        "                                top: 10,\n",
        "                                right: 10,\n",
        "                                bottom: 10,\n",
        "                                left: 10\n",
        "                            }\n",
        "                        },\n",
        "                        animation: {\n",
        "                            animateScale: true,\n",
        "                            animateRotate: true\n",
        "                        }\n",
        "                    }\n",
        "                });\n",
        "            }\n",
        "        })\n",
        "        .catch((error) => {\n",
        "            console.error('Error:', error);\n",
        "        });\n",
        "    });\n",
        "</script>\n",
        "\n",
        "    </body>\n",
        "    </html>\n",
        "    ''')\n",
        "\n",
        "@app.route('/result', methods=['POST'])\n",
        "def result():\n",
        "    try:\n",
        "        data = request.get_json()\n",
        "        news_content = data['newsInput']\n",
        "        probabilities = inference_model.predict(news_content)\n",
        "        class_0_prob = float(probabilities[0, 0])\n",
        "        class_1_prob = float(probabilities[0, 1])\n",
        "        class_2_prob = float(probabilities[0, 2])\n",
        "\n",
        "        result_text = f\"Refutes: {class_0_prob*100:.2f}%,  Not Enough Info: {class_1_prob*100:.2f}%,  Supports: {class_2_prob*100:.2f}%\"\n",
        "        return jsonify(result=result_text, probabilities=[class_0_prob*100, class_1_prob*100, class_2_prob*100])\n",
        "\n",
        "    except Exception as e:\n",
        "        return jsonify(error=str(e))\n",
        "\n",
        "if __name__ == '__main__':\n",
        "    app.run()\n"
      ],
      "metadata": {
        "colab": {
          "base_uri": "https://localhost:8080/"
        },
        "id": "xpq49xz7jebW",
        "outputId": "07120c23-10e3-41ec-e301-6ef013b6a06c"
      },
      "execution_count": null,
      "outputs": [
        {
          "output_type": "stream",
          "name": "stdout",
          "text": [
            "https://6944-34-125-47-133.ngrok-free.app\n",
            " * Serving Flask app '__main__'\n",
            " * Debug mode: off\n"
          ]
        },
        {
          "output_type": "stream",
          "name": "stderr",
          "text": [
            "INFO:werkzeug:\u001b[31m\u001b[1mWARNING: This is a development server. Do not use it in a production deployment. Use a production WSGI server instead.\u001b[0m\n",
            " * Running on http://127.0.0.1:5000\n",
            "INFO:werkzeug:\u001b[33mPress CTRL+C to quit\u001b[0m\n"
          ]
        },
        {
          "output_type": "stream",
          "name": "stdout",
          "text": [
            " * Running on http://6944-34-125-47-133.ngrok-free.app\n",
            " * Traffic stats available on http://127.0.0.1:4040\n"
          ]
        },
        {
          "output_type": "stream",
          "name": "stderr",
          "text": [
            "INFO:werkzeug:127.0.0.1 - - [17/Jul/2024 20:03:31] \"GET / HTTP/1.1\" 200 -\n",
            "INFO:werkzeug:127.0.0.1 - - [17/Jul/2024 20:03:44] \"\u001b[33mGET /favicon.ico HTTP/1.1\u001b[0m\" 404 -\n"
          ]
        },
        {
          "output_type": "stream",
          "name": "stdout",
          "text": [
            "1/1 [==============================] - 1s 1s/step\n"
          ]
        },
        {
          "output_type": "stream",
          "name": "stderr",
          "text": [
            "INFO:werkzeug:127.0.0.1 - - [17/Jul/2024 20:03:55] \"POST /result HTTP/1.1\" 200 -\n"
          ]
        }
      ]
    },
    {
      "cell_type": "code",
      "source": [],
      "metadata": {
        "id": "VDtbFwSFugmN"
      },
      "execution_count": null,
      "outputs": []
    },
    {
      "cell_type": "code",
      "source": [],
      "metadata": {
        "id": "PpfUj_xsugjy"
      },
      "execution_count": null,
      "outputs": []
    }
  ]
}