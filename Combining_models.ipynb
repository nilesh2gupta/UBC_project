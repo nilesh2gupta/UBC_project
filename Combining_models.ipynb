{
  "cells": [
    {
      "cell_type": "markdown",
      "metadata": {
        "id": "view-in-github",
        "colab_type": "text"
      },
      "source": [
        "<a href=\"https://colab.research.google.com/github/nilesh2gupta/UBC_project/blob/main/Combining_models.ipynb\" target=\"_parent\"><img src=\"https://colab.research.google.com/assets/colab-badge.svg\" alt=\"Open In Colab\"/></a>"
      ]
    },
    {
      "cell_type": "code",
      "execution_count": null,
      "metadata": {
        "collapsed": true,
        "id": "rMR03p6hDU2b"
      },
      "outputs": [],
      "source": [
        "!pip install spacy networkx\n",
        "!pip install spacy spacy-entity-linker wikipedia-api\n",
        "!pip install mwparserfromhell\n",
        "!pip install wptools\n",
        "!pip install torch_geometric"
      ]
    },
    {
      "cell_type": "markdown",
      "metadata": {
        "id": "HU9ZE6_7W8Tl"
      },
      "source": [
        "#Knowledge Entities Formation"
      ]
    },
    {
      "cell_type": "code",
      "execution_count": null,
      "metadata": {
        "collapsed": true,
        "id": "YCYCMciaDLad"
      },
      "outputs": [],
      "source": [
        "import spacy\n",
        "import requests\n",
        "import wptools\n",
        "import networkx as nx\n",
        "import matplotlib.pyplot as plt\n",
        "from transformers import RobertaTokenizer, RobertaModel\n",
        "import torch\n",
        "import torch.nn.functional as F\n",
        "from torch_geometric.data import Data\n",
        "from torch_geometric.nn import GATConv\n",
        "import numpy as np\n",
        "import wikipediaapi\n",
        "import re\n",
        "\n",
        "nlp = spacy.load(\"en_core_web_sm\")\n",
        "\n",
        "tokenizer = RobertaTokenizer.from_pretrained('roberta-base')\n",
        "model = RobertaModel.from_pretrained('roberta-base')\n",
        "\n",
        "class KnowledgeGraphBuilder:\n",
        "    def __init__(self, news_text):\n",
        "        self.news_text = news_text\n",
        "        self.coarse_graph = None\n",
        "        self.fine_graph = None\n",
        "        self.node_to_idx_coarse = {}\n",
        "        self.node_to_idx_fine = {}\n",
        "\n",
        "    def get_wikipedia_url(self, entity):\n",
        "        url = f\"https://en.wikipedia.org/wiki/{entity.replace(' ', '_')}\"\n",
        "        return url\n",
        "\n",
        "    def fetch_wikipedia_summary(self, topic):\n",
        "        wiki = wikipediaapi.Wikipedia('MyWikiFetcher/1.0 (nilegupta2001@gmail.com)')\n",
        "        page = wiki.page(topic)\n",
        "        if page.exists():\n",
        "            return page.summary\n",
        "        return None\n",
        "\n",
        "    def augment_news_with_entities(self, news_text, entity_summaries):\n",
        "        augmented_text = news_text\n",
        "        for entity, summary in entity_summaries.items():\n",
        "            if summary:\n",
        "                augmented_text += f\"\\n{entity}: {summary}\"\n",
        "        return augmented_text\n",
        "\n",
        "    def get_infobox(self, title, limit=20):\n",
        "        try:\n",
        "            page = wptools.page(title)\n",
        "            page.get_parse()\n",
        "            infobox = page.data.get('infobox')\n",
        "            if infobox:\n",
        "                values = list(infobox.values())[:limit]\n",
        "                cleaned_values = [re.sub(r'\\W+', ' ', str(value)).strip() for value in values]\n",
        "                return cleaned_values\n",
        "            return None\n",
        "        except Exception as e:\n",
        "            print(f\"An error occurred: {e}\")\n",
        "            return None\n",
        "\n",
        "    def get_roberta_embeddings(self, text):\n",
        "        inputs = tokenizer(text, return_tensors='pt', truncation=True, padding=True, max_length=512)\n",
        "        with torch.no_grad():\n",
        "            outputs = model(**inputs)\n",
        "        return outputs.last_hidden_state.mean(dim=1).squeeze().numpy()\n",
        "\n",
        "    def build_coarse_graph(self):\n",
        "        doc = nlp(self.news_text)\n",
        "        entities = [(ent.text, ent.label_) for ent in doc.ents]\n",
        "\n",
        "        if not entities:\n",
        "            print(\"No entities found in the news text.\")\n",
        "            self.coarse_graph = nx.Graph()\n",
        "            return\n",
        "\n",
        "        coarse_grained_summaries = {entity: self.fetch_wikipedia_summary(entity) for entity, label in entities}\n",
        "        augmented_news_coarse = self.augment_news_with_entities(self.news_text, coarse_grained_summaries)\n",
        "        doc_coarse = nlp(augmented_news_coarse)\n",
        "        entities_coarse = [(ent.text, ent.label_) for ent in doc_coarse.ents]\n",
        "        linked_entities_coarse = {entity: self.get_wikipedia_url(entity) for entity, label in entities_coarse}\n",
        "\n",
        "        G_coarse = nx.Graph()\n",
        "\n",
        "        for entity, url in linked_entities_coarse.items():\n",
        "            embedding = self.get_roberta_embeddings(entity)\n",
        "            G_coarse.add_node(entity, url=url, embedding=embedding)\n",
        "\n",
        "        for sent in doc_coarse.sents:\n",
        "            sent_entities = [ent.text for ent in sent.ents]\n",
        "            for i, entity1 in enumerate(sent_entities):\n",
        "                for entity2 in sent_entities[i+1:]:\n",
        "                    if G_coarse.has_node(entity1) and G_coarse.has_node(entity2):\n",
        "                        G_coarse.add_edge(entity1, entity2)\n",
        "\n",
        "        self.coarse_graph = G_coarse\n",
        "\n",
        "    def build_fine_graph(self):\n",
        "        doc = nlp(self.news_text)\n",
        "        entities = [(ent.text, ent.label_) for ent in doc.ents]\n",
        "\n",
        "        if not entities:\n",
        "            print(\"No entities found in the news text.\")\n",
        "            self.fine_graph = nx.Graph()\n",
        "            return\n",
        "\n",
        "        fine_grained_infoboxes = {entity: self.get_infobox(entity) for entity, label in entities}\n",
        "        augmented_news_fine = self.augment_news_with_entities(self.news_text, fine_grained_infoboxes)\n",
        "        pattern = r'[\\|]'\n",
        "\n",
        "        augmented_news_fine = re.sub(pattern, '', augmented_news_fine)\n",
        "        doc_fine = nlp(augmented_news_fine)\n",
        "        entities_fine = [(ent.text, ent.label_) for ent in doc_fine.ents]\n",
        "        linked_entities_fine = {entity: self.get_wikipedia_url(entity) for entity, label in entities_fine}\n",
        "\n",
        "        G_fine = nx.Graph()\n",
        "\n",
        "        for entity, url in linked_entities_fine.items():\n",
        "            embedding = self.get_roberta_embeddings(entity)\n",
        "            G_fine.add_node(entity, url=url, embedding=embedding)\n",
        "\n",
        "        for sent in doc_fine.sents:\n",
        "            sent_entities = [ent.text for ent in sent.ents]\n",
        "            for i, entity1 in enumerate(sent_entities):\n",
        "                for entity2 in sent_entities[i+1:]:\n",
        "                    if G_fine.has_node(entity1) and G_fine.has_node(entity2):\n",
        "                        G_fine.add_edge(entity1, entity2)\n",
        "\n",
        "        self.fine_graph = G_fine\n",
        "\n",
        "    def convert_to_pytorch_geometric(self):\n",
        "        if not self.coarse_graph or not self.fine_graph:\n",
        "            return None, None\n",
        "\n",
        "        self.node_to_idx_coarse = {node: idx for idx, node in enumerate(self.coarse_graph.nodes())}\n",
        "        edge_list_coarse = nx.to_edgelist(self.coarse_graph)\n",
        "        if edge_list_coarse:\n",
        "            edge_index_coarse = torch.tensor([[self.node_to_idx_coarse[u], self.node_to_idx_coarse[v]] for u, v, _ in edge_list_coarse], dtype=torch.long).t().contiguous()\n",
        "        else:\n",
        "            edge_index_coarse = torch.empty((2, 0), dtype=torch.long)\n",
        "        node_features_coarse = np.array([node[1]['embedding'] for node in self.coarse_graph.nodes(data=True)])\n",
        "        node_features_coarse = torch.tensor(node_features_coarse, dtype=torch.float)\n",
        "\n",
        "        self.node_to_idx_fine = {node: idx for idx, node in enumerate(self.fine_graph.nodes())}\n",
        "        edge_list_fine = nx.to_edgelist(self.fine_graph)\n",
        "        if edge_list_fine:\n",
        "            edge_index_fine = torch.tensor([[self.node_to_idx_fine[u], self.node_to_idx_fine[v]] for u, v, _ in edge_list_fine], dtype=torch.long).t().contiguous()\n",
        "        else:\n",
        "            edge_index_fine = torch.empty((2, 0), dtype=torch.long)\n",
        "        node_features_fine = np.array([node[1]['embedding'] for node in self.fine_graph.nodes(data=True)])\n",
        "        node_features_fine = torch.tensor(node_features_fine, dtype=torch.float)\n",
        "\n",
        "        data_coarse = Data(x=node_features_coarse, edge_index=edge_index_coarse)\n",
        "        data_fine = Data(x=node_features_fine, edge_index=edge_index_fine)\n",
        "\n",
        "        return data_coarse, data_fine\n",
        "\n",
        "class GATModel(torch.nn.Module):\n",
        "    def __init__(self, in_dim, hidden_dim, out_dim, num_heads):\n",
        "        super(GATModel, self).__init__()\n",
        "        self.conv1 = GATConv(in_dim, hidden_dim, heads=num_heads, dropout=0.6)\n",
        "        self.conv2 = GATConv(hidden_dim * num_heads, out_dim, heads=1, dropout=0.6)\n",
        "\n",
        "    def forward(self, data):\n",
        "        x, edge_index = data.x, data.edge_index\n",
        "        x = F.dropout(x, p=0.6, training=self.training)\n",
        "        x = F.elu(self.conv1(x, edge_index))\n",
        "        x = F.dropout(x, p=0.6, training=self.training)\n",
        "        x = self.conv2(x, edge_index)\n",
        "        return x\n",
        "\n",
        "def train_gat_model(model, data, epochs=20, lr=0.001):\n",
        "    optimizer = torch.optim.Adam(model.parameters(), lr=lr)\n",
        "    model.train()\n",
        "    for epoch in range(epochs):\n",
        "        optimizer.zero_grad()\n",
        "        out = model(data)\n",
        "        loss = F.mse_loss(out, data.x)\n",
        "        loss.backward()\n",
        "        optimizer.step()\n",
        "        if (epoch + 1) % 10 == 0:\n",
        "            print(f'Epoch {epoch + 1}/{epochs}, Loss: {loss.item()}')\n",
        "    return model\n",
        "\n",
        "def get_contextual_representations(news_text):\n",
        "    kg_builder = KnowledgeGraphBuilder(news_text)\n",
        "    kg_builder.build_coarse_graph()\n",
        "    kg_builder.build_fine_graph()\n",
        "    data_coarse, data_fine = kg_builder.convert_to_pytorch_geometric()\n",
        "\n",
        "    if data_coarse is None or data_fine is None:\n",
        "        print(\"Graph data is not available due to lack of entities.\")\n",
        "        return None, None\n",
        "\n",
        "    in_dim = data_coarse.x.shape[1]\n",
        "    hidden_dim = 96\n",
        "    out_dim = 768\n",
        "    num_heads = 8\n",
        "\n",
        "    model = GATModel(in_dim, hidden_dim, out_dim, num_heads)\n",
        "\n",
        "    # Train the model (you may need to adjust the number of epochs and learning rate)\n",
        "    model = train_gat_model(model, data_coarse, epochs=20, lr=0.001)\n",
        "    model = train_gat_model(model, data_fine, epochs=20, lr=0.001)\n",
        "\n",
        "    # Get the contextual representations\n",
        "    model.eval()\n",
        "    with torch.no_grad():\n",
        "        contextual_representations_coarse = model(data_coarse)\n",
        "        contextual_representations_fine = model(data_fine)\n",
        "\n",
        "    return contextual_representations_coarse, contextual_representations_fine\n",
        "\n",
        "\n",
        "# Plot the graphs side by side\n",
        "def plot_graphs(kg_builder):\n",
        "    fig, (ax1, ax2) = plt.subplots(1, 2, figsize=(16, 8))\n",
        "\n",
        "    # Coarse-grained graph\n",
        "    pos_coarse = nx.circular_layout(kg_builder.coarse_graph)\n",
        "    nx.draw(kg_builder.coarse_graph, pos_coarse, with_labels=True, node_size=500, node_color=\"lightblue\", font_size=10, ax=ax1)\n",
        "    ax1.set_title(\"Coarse-Grained Knowledge Graph\")\n",
        "\n",
        "    # Fine-grained graph\n",
        "    pos_fine = nx.circular_layout(kg_builder.fine_graph)\n",
        "    nx.draw(kg_builder.fine_graph, pos_fine, with_labels=True, node_size=500, node_color=\"lightgreen\", font_size=10, ax=ax2)\n",
        "    ax2.set_title(\"Fine-Grained Knowledge Graph\")\n",
        "\n",
        "    plt.show()"
      ]
    },
    {
      "cell_type": "markdown",
      "metadata": {
        "id": "InprV17XW28I"
      },
      "source": [
        "#Model Architecture"
      ]
    },
    {
      "cell_type": "code",
      "execution_count": 4,
      "metadata": {
        "colab": {
          "base_uri": "https://localhost:8080/",
          "height": 1000
        },
        "id": "za6TnCAnp2ol",
        "outputId": "07d3d7e9-560c-4b16-bea5-3e535d9cab88"
      },
      "outputs": [
        {
          "output_type": "stream",
          "name": "stderr",
          "text": [
            "Some weights of the PyTorch model were not used when initializing the TF 2.0 model TFRobertaModel: ['lm_head.layer_norm.bias', 'lm_head.dense.weight', 'roberta.embeddings.position_ids', 'lm_head.layer_norm.weight', 'lm_head.dense.bias', 'lm_head.bias']\n",
            "- This IS expected if you are initializing TFRobertaModel from a PyTorch model trained on another task or with another architecture (e.g. initializing a TFBertForSequenceClassification model from a BertForPreTraining model).\n",
            "- This IS NOT expected if you are initializing TFRobertaModel from a PyTorch model that you expect to be exactly identical (e.g. initializing a TFBertForSequenceClassification model from a BertForSequenceClassification model).\n",
            "Some weights or buffers of the TF 2.0 model TFRobertaModel were not initialized from the PyTorch model and are newly initialized: ['roberta.pooler.dense.weight', 'roberta.pooler.dense.bias']\n",
            "You should probably TRAIN this model on a down-stream task to be able to use it for predictions and inference.\n"
          ]
        },
        {
          "output_type": "stream",
          "name": "stdout",
          "text": [
            "Model: \"model_1\"\n",
            "__________________________________________________________________________________________________\n",
            " Layer (type)                Output Shape                 Param #   Connected to                  \n",
            "==================================================================================================\n",
            " input_ids (InputLayer)      [(None, None)]               0         []                            \n",
            "                                                                                                  \n",
            " attention_mask (InputLayer  [(None, None)]               0         []                            \n",
            " )                                                                                                \n",
            "                                                                                                  \n",
            " roberta_with_adapter_1 (Ro  (None, None, 768)            1247447   ['input_ids[0][0]',           \n",
            " bertaWithAdapter)                                        68         'attention_mask[0][0]']      \n",
            "                                                                                                  \n",
            " fine_grained_input (InputL  [(None, None, 768)]          0         []                            \n",
            " ayer)                                                                                            \n",
            "                                                                                                  \n",
            " attentive_graph_pooling_la  ((None, None, 768),          1771776   ['fine_grained_input[0][0]',  \n",
            " yer_1 (AttentiveGraphPooli   (None, None, None))                    'roberta_with_adapter_1[0][0]\n",
            " ngLayer)                                                           ']                            \n",
            "                                                                                                  \n",
            " coarse_grained_input (Inpu  [(None, None, 768)]          0         []                            \n",
            " tLayer)                                                                                          \n",
            "                                                                                                  \n",
            " concatenate_1 (Concatenate  (None, None, 768)            0         ['roberta_with_adapter_1[0][0]\n",
            " )                                                                  ',                            \n",
            "                                                                     'attentive_graph_pooling_laye\n",
            "                                                                    r_1[0][0]',                   \n",
            "                                                                     'coarse_grained_input[0][0]']\n",
            "                                                                                                  \n",
            " classification_model_1 (Cl  (None, 50)                   2482142   ['concatenate_1[0][0]']       \n",
            " assificationModel)                                                                               \n",
            "                                                                                                  \n",
            " Dropout_layer_2 (Dropout)   (None, 50)                   0         ['classification_model_1[0][0]\n",
            "                                                                    ']                            \n",
            "                                                                                                  \n",
            " output_layer (Dense)        (None, 3)                    153       ['Dropout_layer_2[0][0]']     \n",
            "                                                                                                  \n",
            "==================================================================================================\n",
            "Total params: 128998839 (492.09 MB)\n",
            "Trainable params: 128998839 (492.09 MB)\n",
            "Non-trainable params: 0 (0.00 Byte)\n",
            "__________________________________________________________________________________________________\n"
          ]
        },
        {
          "output_type": "execute_result",
          "data": {
            "image/png": "[encoded data removed]",
            "text/plain": [
              "<IPython.core.display.Image object>"
            ]
          },
          "metadata": {},
          "execution_count": 4
        }
      ],
      "source": [
        "import tensorflow as tf\n",
        "from transformers import TFRobertaModel, RobertaTokenizer\n",
        "from tensorflow.keras.layers import Input, Conv1D, MaxPooling1D, Bidirectional, LSTM, Dense, Dropout, GlobalMaxPooling1D, Concatenate\n",
        "from tensorflow.keras.models import Model\n",
        "from tensorflow.keras.optimizers import Nadam\n",
        "from tensorflow.keras.utils import plot_model\n",
        "import numpy as np\n",
        "\n",
        "model_name = 'roberta-base'\n",
        "tokenizer = RobertaTokenizer.from_pretrained(model_name)\n",
        "\n",
        "class ClassificationModel(tf.keras.Model):\n",
        "    def __init__(self, max_sequence_length, combined_embedding_dim):\n",
        "        super(ClassificationModel, self).__init__()\n",
        "        self.conv1d = Conv1D(filters=512, kernel_size=5, activation='relu', name='Conv1D_layer')\n",
        "        self.max_pooling = MaxPooling1D(pool_size=2, name='MaxPooling_layer')\n",
        "        self.bilstm = Bidirectional(LSTM(100, return_sequences=True), name='BiLSTM_layer')\n",
        "        self.attention = tf.keras.layers.Attention(name='Attention_layer')\n",
        "        self.global_max_pooling = GlobalMaxPooling1D(name='Attention_Pooling_layer')\n",
        "        self.dense1 = Dense(100, activation='relu', name='Dense_layer_1')\n",
        "        self.dropout1 = Dropout(0.6, name='Dropout_layer_1')\n",
        "        self.dense2 = Dense(50, activation='relu', name='Dense_layer_2')\n",
        "\n",
        "    def call(self, inputs):\n",
        "        x = self.conv1d(inputs)\n",
        "        x = self.max_pooling(x)\n",
        "        x = self.bilstm(x)\n",
        "        attention_output = self.attention([x, x])\n",
        "        x = self.global_max_pooling(attention_output)\n",
        "        x = self.dense1(x)\n",
        "        x = self.dropout1(x)\n",
        "        x = self.dense2(x)\n",
        "        return x\n",
        "\n",
        "class AdapterLayer(tf.keras.layers.Layer):\n",
        "    def __init__(self, input_dim, adapter_dim):\n",
        "        super(AdapterLayer, self).__init__()\n",
        "        self.linear1 = tf.keras.layers.Dense(adapter_dim, activation='relu')\n",
        "        self.linear2 = tf.keras.layers.Dense(input_dim)\n",
        "\n",
        "    def call(self, x):\n",
        "        x = self.linear1(x)\n",
        "        x = self.linear2(x)\n",
        "        return x\n",
        "\n",
        "class RobertaWithAdapter(tf.keras.Model):\n",
        "    def __init__(self, model_name, adapter_dim):\n",
        "        super(RobertaWithAdapter, self).__init__()\n",
        "        self.roberta = TFRobertaModel.from_pretrained(model_name)\n",
        "        self.adapter = AdapterLayer(self.roberta.config.hidden_size, adapter_dim)\n",
        "\n",
        "    def call(self, input_ids, attention_mask):\n",
        "        outputs = self.roberta(input_ids=input_ids, attention_mask=attention_mask)\n",
        "        sequence_output = outputs.last_hidden_state\n",
        "        adapter_output = self.adapter(sequence_output)\n",
        "        return adapter_output\n",
        "\n",
        "class AttentiveGraphPoolingLayer(tf.keras.layers.Layer):\n",
        "    def __init__(self, hidden_dim):\n",
        "        super(AttentiveGraphPoolingLayer, self).__init__()\n",
        "        self.hidden_dim = hidden_dim\n",
        "        self.WQ = tf.keras.layers.Dense(hidden_dim)\n",
        "        self.WK = tf.keras.layers.Dense(hidden_dim)\n",
        "        self.WV = tf.keras.layers.Dense(hidden_dim)\n",
        "\n",
        "    def call(self, h, c):\n",
        "        Q = self.WQ(h)\n",
        "        K = self.WK(c)\n",
        "        V = self.WV(c)\n",
        "\n",
        "        attn_scores = tf.matmul(Q, K, transpose_b=True)\n",
        "        attn_scores = attn_scores / tf.math.sqrt(tf.cast(self.hidden_dim, tf.float32))\n",
        "\n",
        "        attn_weights = tf.nn.softmax(attn_scores, axis=-1)\n",
        "        attended_values = tf.matmul(attn_weights, V)\n",
        "\n",
        "        return attended_values, attn_weights\n",
        "\n",
        "\n",
        "input_ids = Input(shape=(None,), dtype=tf.int32, name='input_ids')\n",
        "attention_mask = Input(shape=(None,), dtype=tf.int32, name='attention_mask')\n",
        "fine_grained_input = Input(shape=(None, 768), dtype=tf.float32, name='fine_grained_input')\n",
        "coarse_grained_input = Input(shape=(None, 768), dtype=tf.float32, name='coarse_grained_input')\n",
        "\n",
        "roberta_with_adapter = RobertaWithAdapter(model_name, adapter_dim=64)\n",
        "attention_layer = AttentiveGraphPoolingLayer(hidden_dim=768)\n",
        "max_seq = roberta_with_adapter.roberta.config.max_position_embeddings\n",
        "class_model = ClassificationModel(max_sequence_length=max_seq, combined_embedding_dim=768)\n",
        "\n",
        "roberta_output = roberta_with_adapter(input_ids=input_ids, attention_mask=attention_mask)\n",
        "attention_output, _ = attention_layer(fine_grained_input, roberta_output)\n",
        "\n",
        "\n",
        "concatenated_input = Concatenate(axis=1)([roberta_output, attention_output, coarse_grained_input])\n",
        "\n",
        "output_layer = class_model(concatenated_input)\n",
        "dropout2 = Dropout(0.5, name='Dropout_layer_2')(output_layer)\n",
        "output_layer = Dense(3, activation='softmax', name='output_layer')(dropout2)\n",
        "\n",
        "final_model = Model(inputs=[input_ids, attention_mask, fine_grained_input, coarse_grained_input], outputs=output_layer)\n",
        "\n",
        "loss_fn = tf.keras.losses.SparseCategoricalCrossentropy()\n",
        "final_model.compile(optimizer=Nadam(learning_rate=0.001), loss=loss_fn, metrics=['accuracy'])\n",
        "\n",
        "final_model.summary()\n",
        "plot_model(final_model, to_file='model_plot.png', show_shapes=True, show_layer_names=True)"
      ]
    },
    {
      "cell_type": "code",
      "execution_count": 5,
      "metadata": {
        "colab": {
          "base_uri": "https://localhost:8080/",
          "height": 363
        },
        "collapsed": true,
        "id": "flvC3unglpyI",
        "outputId": "fa38b272-d625-4466-e479-3709bad4c01a"
      },
      "outputs": [
        {
          "output_type": "execute_result",
          "data": {
            "text/plain": [
              "                                                 claims    claims_labels\n",
              "3567  it may have have water ocean in the past but t...  NOT_ENOUGH_INFO\n",
              "4770  threshold and boundary the threshold or tappin...  NOT_ENOUGH_INFO\n",
              "4048  eventually other earth process offset these po...  NOT_ENOUGH_INFO\n",
              "2888  there be a threshold in surface warming beyond...  NOT_ENOUGH_INFO\n",
              "499   marine life have nothing whatsoever to fear fr...          REFUTES\n",
              "127   the figure traditionally cite that suggest 97 ...          REFUTES\n",
              "765              CO2 increase be natural not humancause          REFUTES\n",
              "1104  when the Earth come out of an ice age the warm...  NOT_ENOUGH_INFO\n",
              "886   Trudeaus carbon tax will raise gas price by 11...  NOT_ENOUGH_INFO\n",
              "5847  three be locate at Goldstone and one each at C...         SUPPORTS"
            ],
            "text/html": [
              "\n",
              "  <div id=\"df-de9cf34a-a47c-42b5-99b1-be891e2362f3\" class=\"colab-df-container\">\n",
              "    <div>\n",
              "<style scoped>\n",
              "    .dataframe tbody tr th:only-of-type {\n",
              "        vertical-align: middle;\n",
              "    }\n",
              "\n",
              "    .dataframe tbody tr th {\n",
              "        vertical-align: top;\n",
              "    }\n",
              "\n",
              "    .dataframe thead th {\n",
              "        text-align: right;\n",
              "    }\n",
              "</style>\n",
              "<table border=\"1\" class=\"dataframe\">\n",
              "  <thead>\n",
              "    <tr style=\"text-align: right;\">\n",
              "      <th></th>\n",
              "      <th>claims</th>\n",
              "      <th>claims_labels</th>\n",
              "    </tr>\n",
              "  </thead>\n",
              "  <tbody>\n",
              "    <tr>\n",
              "      <th>3567</th>\n",
              "      <td>it may have have water ocean in the past but t...</td>\n",
              "      <td>NOT_ENOUGH_INFO</td>\n",
              "    </tr>\n",
              "    <tr>\n",
              "      <th>4770</th>\n",
              "      <td>threshold and boundary the threshold or tappin...</td>\n",
              "      <td>NOT_ENOUGH_INFO</td>\n",
              "    </tr>\n",
              "    <tr>\n",
              "      <th>4048</th>\n",
              "      <td>eventually other earth process offset these po...</td>\n",
              "      <td>NOT_ENOUGH_INFO</td>\n",
              "    </tr>\n",
              "    <tr>\n",
              "      <th>2888</th>\n",
              "      <td>there be a threshold in surface warming beyond...</td>\n",
              "      <td>NOT_ENOUGH_INFO</td>\n",
              "    </tr>\n",
              "    <tr>\n",
              "      <th>499</th>\n",
              "      <td>marine life have nothing whatsoever to fear fr...</td>\n",
              "      <td>REFUTES</td>\n",
              "    </tr>\n",
              "    <tr>\n",
              "      <th>127</th>\n",
              "      <td>the figure traditionally cite that suggest 97 ...</td>\n",
              "      <td>REFUTES</td>\n",
              "    </tr>\n",
              "    <tr>\n",
              "      <th>765</th>\n",
              "      <td>CO2 increase be natural not humancause</td>\n",
              "      <td>REFUTES</td>\n",
              "    </tr>\n",
              "    <tr>\n",
              "      <th>1104</th>\n",
              "      <td>when the Earth come out of an ice age the warm...</td>\n",
              "      <td>NOT_ENOUGH_INFO</td>\n",
              "    </tr>\n",
              "    <tr>\n",
              "      <th>886</th>\n",
              "      <td>Trudeaus carbon tax will raise gas price by 11...</td>\n",
              "      <td>NOT_ENOUGH_INFO</td>\n",
              "    </tr>\n",
              "    <tr>\n",
              "      <th>5847</th>\n",
              "      <td>three be locate at Goldstone and one each at C...</td>\n",
              "      <td>SUPPORTS</td>\n",
              "    </tr>\n",
              "  </tbody>\n",
              "</table>\n",
              "</div>\n",
              "    <div class=\"colab-df-buttons\">\n",
              "\n",
              "  <div class=\"colab-df-container\">\n",
              "    <button class=\"colab-df-convert\" onclick=\"convertToInteractive('df-de9cf34a-a47c-42b5-99b1-be891e2362f3')\"\n",
              "            title=\"Convert this dataframe to an interactive table.\"\n",
              "            style=\"display:none;\">\n",
              "\n",
              "  <svg xmlns=\"http://www.w3.org/2000/svg\" height=\"24px\" viewBox=\"0 -960 960 960\">\n",
              "    <path d=\"M120-120v-720h720v720H120Zm60-500h600v-160H180v160Zm220 220h160v-160H400v160Zm0 220h160v-160H400v160ZM180-400h160v-160H180v160Zm440 0h160v-160H620v160ZM180-180h160v-160H180v160Zm440 0h160v-160H620v160Z\"/>\n",
              "  </svg>\n",
              "    </button>\n",
              "\n",
              "  <style>\n",
              "    .colab-df-container {\n",
              "      display:flex;\n",
              "      gap: 12px;\n",
              "    }\n",
              "\n",
              "    .colab-df-convert {\n",
              "      background-color: #E8F0FE;\n",
              "      border: none;\n",
              "      border-radius: 50%;\n",
              "      cursor: pointer;\n",
              "      display: none;\n",
              "      fill: #1967D2;\n",
              "      height: 32px;\n",
              "      padding: 0 0 0 0;\n",
              "      width: 32px;\n",
              "    }\n",
              "\n",
              "    .colab-df-convert:hover {\n",
              "      background-color: #E2EBFA;\n",
              "      box-shadow: 0px 1px 2px rgba(60, 64, 67, 0.3), 0px 1px 3px 1px rgba(60, 64, 67, 0.15);\n",
              "      fill: #174EA6;\n",
              "    }\n",
              "\n",
              "    .colab-df-buttons div {\n",
              "      margin-bottom: 4px;\n",
              "    }\n",
              "\n",
              "    [theme=dark] .colab-df-convert {\n",
              "      background-color: #3B4455;\n",
              "      fill: #D2E3FC;\n",
              "    }\n",
              "\n",
              "    [theme=dark] .colab-df-convert:hover {\n",
              "      background-color: #434B5C;\n",
              "      box-shadow: 0px 1px 3px 1px rgba(0, 0, 0, 0.15);\n",
              "      filter: drop-shadow(0px 1px 2px rgba(0, 0, 0, 0.3));\n",
              "      fill: #FFFFFF;\n",
              "    }\n",
              "  </style>\n",
              "\n",
              "    <script>\n",
              "      const buttonEl =\n",
              "        document.querySelector('#df-de9cf34a-a47c-42b5-99b1-be891e2362f3 button.colab-df-convert');\n",
              "      buttonEl.style.display =\n",
              "        google.colab.kernel.accessAllowed ? 'block' : 'none';\n",
              "\n",
              "      async function convertToInteractive(key) {\n",
              "        const element = document.querySelector('#df-de9cf34a-a47c-42b5-99b1-be891e2362f3');\n",
              "        const dataTable =\n",
              "          await google.colab.kernel.invokeFunction('convertToInteractive',\n",
              "                                                    [key], {});\n",
              "        if (!dataTable) return;\n",
              "\n",
              "        const docLinkHtml = 'Like what you see? Visit the ' +\n",
              "          '<a target=\"_blank\" href=https://colab.research.google.com/notebooks/data_table.ipynb>data table notebook</a>'\n",
              "          + ' to learn more about interactive tables.';\n",
              "        element.innerHTML = '';\n",
              "        dataTable['output_type'] = 'display_data';\n",
              "        await google.colab.output.renderOutput(dataTable, element);\n",
              "        const docLink = document.createElement('div');\n",
              "        docLink.innerHTML = docLinkHtml;\n",
              "        element.appendChild(docLink);\n",
              "      }\n",
              "    </script>\n",
              "  </div>\n",
              "\n",
              "\n",
              "<div id=\"df-e6a8347d-68bf-47a4-bcf5-5a2a8c90b347\">\n",
              "  <button class=\"colab-df-quickchart\" onclick=\"quickchart('df-e6a8347d-68bf-47a4-bcf5-5a2a8c90b347')\"\n",
              "            title=\"Suggest charts\"\n",
              "            style=\"display:none;\">\n",
              "\n",
              "<svg xmlns=\"http://www.w3.org/2000/svg\" height=\"24px\"viewBox=\"0 0 24 24\"\n",
              "     width=\"24px\">\n",
              "    <g>\n",
              "        <path d=\"M19 3H5c-1.1 0-2 .9-2 2v14c0 1.1.9 2 2 2h14c1.1 0 2-.9 2-2V5c0-1.1-.9-2-2-2zM9 17H7v-7h2v7zm4 0h-2V7h2v10zm4 0h-2v-4h2v4z\"/>\n",
              "    </g>\n",
              "</svg>\n",
              "  </button>\n",
              "\n",
              "<style>\n",
              "  .colab-df-quickchart {\n",
              "      --bg-color: #E8F0FE;\n",
              "      --fill-color: #1967D2;\n",
              "      --hover-bg-color: #E2EBFA;\n",
              "      --hover-fill-color: #174EA6;\n",
              "      --disabled-fill-color: #AAA;\n",
              "      --disabled-bg-color: #DDD;\n",
              "  }\n",
              "\n",
              "  [theme=dark] .colab-df-quickchart {\n",
              "      --bg-color: #3B4455;\n",
              "      --fill-color: #D2E3FC;\n",
              "      --hover-bg-color: #434B5C;\n",
              "      --hover-fill-color: #FFFFFF;\n",
              "      --disabled-bg-color: #3B4455;\n",
              "      --disabled-fill-color: #666;\n",
              "  }\n",
              "\n",
              "  .colab-df-quickchart {\n",
              "    background-color: var(--bg-color);\n",
              "    border: none;\n",
              "    border-radius: 50%;\n",
              "    cursor: pointer;\n",
              "    display: none;\n",
              "    fill: var(--fill-color);\n",
              "    height: 32px;\n",
              "    padding: 0;\n",
              "    width: 32px;\n",
              "  }\n",
              "\n",
              "  .colab-df-quickchart:hover {\n",
              "    background-color: var(--hover-bg-color);\n",
              "    box-shadow: 0 1px 2px rgba(60, 64, 67, 0.3), 0 1px 3px 1px rgba(60, 64, 67, 0.15);\n",
              "    fill: var(--button-hover-fill-color);\n",
              "  }\n",
              "\n",
              "  .colab-df-quickchart-complete:disabled,\n",
              "  .colab-df-quickchart-complete:disabled:hover {\n",
              "    background-color: var(--disabled-bg-color);\n",
              "    fill: var(--disabled-fill-color);\n",
              "    box-shadow: none;\n",
              "  }\n",
              "\n",
              "  .colab-df-spinner {\n",
              "    border: 2px solid var(--fill-color);\n",
              "    border-color: transparent;\n",
              "    border-bottom-color: var(--fill-color);\n",
              "    animation:\n",
              "      spin 1s steps(1) infinite;\n",
              "  }\n",
              "\n",
              "  @keyframes spin {\n",
              "    0% {\n",
              "      border-color: transparent;\n",
              "      border-bottom-color: var(--fill-color);\n",
              "      border-left-color: var(--fill-color);\n",
              "    }\n",
              "    20% {\n",
              "      border-color: transparent;\n",
              "      border-left-color: var(--fill-color);\n",
              "      border-top-color: var(--fill-color);\n",
              "    }\n",
              "    30% {\n",
              "      border-color: transparent;\n",
              "      border-left-color: var(--fill-color);\n",
              "      border-top-color: var(--fill-color);\n",
              "      border-right-color: var(--fill-color);\n",
              "    }\n",
              "    40% {\n",
              "      border-color: transparent;\n",
              "      border-right-color: var(--fill-color);\n",
              "      border-top-color: var(--fill-color);\n",
              "    }\n",
              "    60% {\n",
              "      border-color: transparent;\n",
              "      border-right-color: var(--fill-color);\n",
              "    }\n",
              "    80% {\n",
              "      border-color: transparent;\n",
              "      border-right-color: var(--fill-color);\n",
              "      border-bottom-color: var(--fill-color);\n",
              "    }\n",
              "    90% {\n",
              "      border-color: transparent;\n",
              "      border-bottom-color: var(--fill-color);\n",
              "    }\n",
              "  }\n",
              "</style>\n",
              "\n",
              "  <script>\n",
              "    async function quickchart(key) {\n",
              "      const quickchartButtonEl =\n",
              "        document.querySelector('#' + key + ' button');\n",
              "      quickchartButtonEl.disabled = true;  // To prevent multiple clicks.\n",
              "      quickchartButtonEl.classList.add('colab-df-spinner');\n",
              "      try {\n",
              "        const charts = await google.colab.kernel.invokeFunction(\n",
              "            'suggestCharts', [key], {});\n",
              "      } catch (error) {\n",
              "        console.error('Error during call to suggestCharts:', error);\n",
              "      }\n",
              "      quickchartButtonEl.classList.remove('colab-df-spinner');\n",
              "      quickchartButtonEl.classList.add('colab-df-quickchart-complete');\n",
              "    }\n",
              "    (() => {\n",
              "      let quickchartButtonEl =\n",
              "        document.querySelector('#df-e6a8347d-68bf-47a4-bcf5-5a2a8c90b347 button');\n",
              "      quickchartButtonEl.style.display =\n",
              "        google.colab.kernel.accessAllowed ? 'block' : 'none';\n",
              "    })();\n",
              "  </script>\n",
              "</div>\n",
              "\n",
              "    </div>\n",
              "  </div>\n"
            ],
            "application/vnd.google.colaboratory.intrinsic+json": {
              "type": "dataframe",
              "summary": "{\n  \"name\": \"df\",\n  \"rows\": 10,\n  \"fields\": [\n    {\n      \"column\": \"claims\",\n      \"properties\": {\n        \"dtype\": \"string\",\n        \"num_unique_values\": 10,\n        \"samples\": [\n          \"Trudeaus carbon tax will raise gas price by 11 centslitre\",\n          \"threshold and boundary the threshold or tapping point be the value at which a very small incitement for the control variable like CO2 trigger a large possibly catastrophe change in the response variable global warming through feedback in the natural Earth System itself\",\n          \"the figure traditionally cite that suggest 97 per cent of climate scientist agree that global warming be manage be also find to be flaw\"\n        ],\n        \"semantic_type\": \"\",\n        \"description\": \"\"\n      }\n    },\n    {\n      \"column\": \"claims_labels\",\n      \"properties\": {\n        \"dtype\": \"category\",\n        \"num_unique_values\": 3,\n        \"samples\": [\n          \"NOT_ENOUGH_INFO\",\n          \"REFUTES\",\n          \"SUPPORTS\"\n        ],\n        \"semantic_type\": \"\",\n        \"description\": \"\"\n      }\n    }\n  ]\n}"
            }
          },
          "metadata": {},
          "execution_count": 5
        }
      ],
      "source": [
        "import pandas as pd\n",
        "df = pd.read_csv('/content/drive/MyDrive/UBC_project/cleaned_data_no_special_characters.csv' ,encoding='utf-8')\n",
        "df.sample(10)"
      ]
    },
    {
      "cell_type": "code",
      "execution_count": 6,
      "metadata": {
        "colab": {
          "base_uri": "https://localhost:8080/"
        },
        "id": "lzj_QfCXoJYf",
        "outputId": "351c88ab-08b8-4491-8a1b-276f91c7732c"
      },
      "outputs": [
        {
          "output_type": "execute_result",
          "data": {
            "text/plain": [
              "(3850, 2)"
            ]
          },
          "metadata": {},
          "execution_count": 6
        }
      ],
      "source": [
        "df = df[(df['claims'].str.split().str.len() > 3) & (df['claims'].str.split().str.len() < 20)]\n",
        "df.shape"
      ]
    },
    {
      "cell_type": "code",
      "execution_count": 7,
      "metadata": {
        "colab": {
          "base_uri": "https://localhost:8080/",
          "height": 785
        },
        "collapsed": true,
        "id": "b6QtfUOVoJRS",
        "outputId": "88c2f220-3a06-4d1b-9137-e06e2bf8732c"
      },
      "outputs": [
        {
          "output_type": "stream",
          "name": "stdout",
          "text": [
            "Balanced Class Distribution:\n",
            "claims_labels\n",
            "SUPPORTS           1099\n",
            "NOT_ENOUGH_INFO    1099\n",
            "REFUTES            1099\n",
            "Name: count, dtype: int64\n"
          ]
        },
        {
          "output_type": "display_data",
          "data": {
            "text/plain": [
              "<Figure size 800x600 with 1 Axes>"
            ],
            "image/png": "[encoded data removed]"
          },
          "metadata": {}
        }
      ],
      "source": [
        "import matplotlib.pyplot as plt\n",
        "min_class_size = min(df['claims_labels'].value_counts())\n",
        "\n",
        "balanced_train_data = pd.DataFrame(columns=['claims','claims_labels'])\n",
        "\n",
        "class_distribution = df['claims_labels'].value_counts()\n",
        "\n",
        "for genre, count in class_distribution.items():\n",
        "  class_data = df[df['claims_labels'] == genre].sample(n=min_class_size, random_state=22)\n",
        "  balanced_train_data = pd.concat([balanced_train_data, class_data], ignore_index=True)\n",
        "\n",
        "balanced_train_data.describe()\n",
        "balanced_class_distribution = balanced_train_data['claims_labels'].value_counts()\n",
        "\n",
        "print(\"Balanced Class Distribution:\")\n",
        "print(balanced_class_distribution)\n",
        "\n",
        "plt.figure(figsize=(8, 6))\n",
        "balanced_class_distribution.plot(kind='bar', color='skyblue')\n",
        "plt.title('Balanced Class Distribution')\n",
        "plt.xlabel('Class')\n",
        "plt.ylabel('Frequency')\n",
        "plt.xticks(rotation=65)\n",
        "plt.show()\n",
        "\n",
        "df = balanced_train_data\n"
      ]
    },
    {
      "cell_type": "code",
      "execution_count": 8,
      "metadata": {
        "colab": {
          "base_uri": "https://localhost:8080/"
        },
        "id": "KiRQCGq_LTT_",
        "outputId": "3b30d269-976f-452b-c7da-8ecba0e371d2"
      },
      "outputs": [
        {
          "output_type": "execute_result",
          "data": {
            "text/plain": [
              "(100, 2)"
            ]
          },
          "metadata": {},
          "execution_count": 8
        }
      ],
      "source": [
        "def ohe(text):\n",
        "\n",
        "    if text=='SUPPORTS':\n",
        "         return 2\n",
        "    elif text=='NOT_ENOUGH_INFO':\n",
        "         return 1\n",
        "    elif text=='REFUTES' :\n",
        "          return 0\n",
        "    return 0\n",
        "\n",
        "df['claims_labels']=df['claims_labels'].apply(lambda x:ohe(x))\n",
        "\n",
        "df=df.sample(n=100,random_state=22)\n",
        "df.shape"
      ]
    },
    {
      "cell_type": "code",
      "execution_count": 9,
      "metadata": {
        "colab": {
          "base_uri": "https://localhost:8080/",
          "height": 423
        },
        "id": "uhdVNPIAbWoN",
        "outputId": "bbd73dbb-3f1a-4721-a049-212518c153cb"
      },
      "outputs": [
        {
          "output_type": "execute_result",
          "data": {
            "text/plain": [
              "                                                 claims  claims_labels\n",
              "1396  the ocean will never become acid because there...              1\n",
              "3092  it be also the hot summer for England since re...              0\n",
              "2130  lead global model produce quite different resu...              1\n",
              "59    here be all the promising development ofll be ...              2\n",
              "3138  the Environmental Working Group deem Fruit the...              0\n",
              "...                                                 ...            ...\n",
              "1484  the australian government Missions Reduction F...              1\n",
              "3149  its a new world for global warmingpowere wildl...              0\n",
              "2949         throw away leftover doesnt just waste food              0\n",
              "2230  theyre likely to go where they have friend fam...              0\n",
              "2214  this summers extreme heat wildlife heavy rain ...              0\n",
              "\n",
              "[100 rows x 2 columns]"
            ],
            "text/html": [
              "\n",
              "  <div id=\"df-ee5cdbf0-987f-4208-a5a2-c10e5cc7fde9\" class=\"colab-df-container\">\n",
              "    <div>\n",
              "<style scoped>\n",
              "    .dataframe tbody tr th:only-of-type {\n",
              "        vertical-align: middle;\n",
              "    }\n",
              "\n",
              "    .dataframe tbody tr th {\n",
              "        vertical-align: top;\n",
              "    }\n",
              "\n",
              "    .dataframe thead th {\n",
              "        text-align: right;\n",
              "    }\n",
              "</style>\n",
              "<table border=\"1\" class=\"dataframe\">\n",
              "  <thead>\n",
              "    <tr style=\"text-align: right;\">\n",
              "      <th></th>\n",
              "      <th>claims</th>\n",
              "      <th>claims_labels</th>\n",
              "    </tr>\n",
              "  </thead>\n",
              "  <tbody>\n",
              "    <tr>\n",
              "      <th>1396</th>\n",
              "      <td>the ocean will never become acid because there...</td>\n",
              "      <td>1</td>\n",
              "    </tr>\n",
              "    <tr>\n",
              "      <th>3092</th>\n",
              "      <td>it be also the hot summer for England since re...</td>\n",
              "      <td>0</td>\n",
              "    </tr>\n",
              "    <tr>\n",
              "      <th>2130</th>\n",
              "      <td>lead global model produce quite different resu...</td>\n",
              "      <td>1</td>\n",
              "    </tr>\n",
              "    <tr>\n",
              "      <th>59</th>\n",
              "      <td>here be all the promising development ofll be ...</td>\n",
              "      <td>2</td>\n",
              "    </tr>\n",
              "    <tr>\n",
              "      <th>3138</th>\n",
              "      <td>the Environmental Working Group deem Fruit the...</td>\n",
              "      <td>0</td>\n",
              "    </tr>\n",
              "    <tr>\n",
              "      <th>...</th>\n",
              "      <td>...</td>\n",
              "      <td>...</td>\n",
              "    </tr>\n",
              "    <tr>\n",
              "      <th>1484</th>\n",
              "      <td>the australian government Missions Reduction F...</td>\n",
              "      <td>1</td>\n",
              "    </tr>\n",
              "    <tr>\n",
              "      <th>3149</th>\n",
              "      <td>its a new world for global warmingpowere wildl...</td>\n",
              "      <td>0</td>\n",
              "    </tr>\n",
              "    <tr>\n",
              "      <th>2949</th>\n",
              "      <td>throw away leftover doesnt just waste food</td>\n",
              "      <td>0</td>\n",
              "    </tr>\n",
              "    <tr>\n",
              "      <th>2230</th>\n",
              "      <td>theyre likely to go where they have friend fam...</td>\n",
              "      <td>0</td>\n",
              "    </tr>\n",
              "    <tr>\n",
              "      <th>2214</th>\n",
              "      <td>this summers extreme heat wildlife heavy rain ...</td>\n",
              "      <td>0</td>\n",
              "    </tr>\n",
              "  </tbody>\n",
              "</table>\n",
              "<p>100 rows × 2 columns</p>\n",
              "</div>\n",
              "    <div class=\"colab-df-buttons\">\n",
              "\n",
              "  <div class=\"colab-df-container\">\n",
              "    <button class=\"colab-df-convert\" onclick=\"convertToInteractive('df-ee5cdbf0-987f-4208-a5a2-c10e5cc7fde9')\"\n",
              "            title=\"Convert this dataframe to an interactive table.\"\n",
              "            style=\"display:none;\">\n",
              "\n",
              "  <svg xmlns=\"http://www.w3.org/2000/svg\" height=\"24px\" viewBox=\"0 -960 960 960\">\n",
              "    <path d=\"M120-120v-720h720v720H120Zm60-500h600v-160H180v160Zm220 220h160v-160H400v160Zm0 220h160v-160H400v160ZM180-400h160v-160H180v160Zm440 0h160v-160H620v160ZM180-180h160v-160H180v160Zm440 0h160v-160H620v160Z\"/>\n",
              "  </svg>\n",
              "    </button>\n",
              "\n",
              "  <style>\n",
              "    .colab-df-container {\n",
              "      display:flex;\n",
              "      gap: 12px;\n",
              "    }\n",
              "\n",
              "    .colab-df-convert {\n",
              "      background-color: #E8F0FE;\n",
              "      border: none;\n",
              "      border-radius: 50%;\n",
              "      cursor: pointer;\n",
              "      display: none;\n",
              "      fill: #1967D2;\n",
              "      height: 32px;\n",
              "      padding: 0 0 0 0;\n",
              "      width: 32px;\n",
              "    }\n",
              "\n",
              "    .colab-df-convert:hover {\n",
              "      background-color: #E2EBFA;\n",
              "      box-shadow: 0px 1px 2px rgba(60, 64, 67, 0.3), 0px 1px 3px 1px rgba(60, 64, 67, 0.15);\n",
              "      fill: #174EA6;\n",
              "    }\n",
              "\n",
              "    .colab-df-buttons div {\n",
              "      margin-bottom: 4px;\n",
              "    }\n",
              "\n",
              "    [theme=dark] .colab-df-convert {\n",
              "      background-color: #3B4455;\n",
              "      fill: #D2E3FC;\n",
              "    }\n",
              "\n",
              "    [theme=dark] .colab-df-convert:hover {\n",
              "      background-color: #434B5C;\n",
              "      box-shadow: 0px 1px 3px 1px rgba(0, 0, 0, 0.15);\n",
              "      filter: drop-shadow(0px 1px 2px rgba(0, 0, 0, 0.3));\n",
              "      fill: #FFFFFF;\n",
              "    }\n",
              "  </style>\n",
              "\n",
              "    <script>\n",
              "      const buttonEl =\n",
              "        document.querySelector('#df-ee5cdbf0-987f-4208-a5a2-c10e5cc7fde9 button.colab-df-convert');\n",
              "      buttonEl.style.display =\n",
              "        google.colab.kernel.accessAllowed ? 'block' : 'none';\n",
              "\n",
              "      async function convertToInteractive(key) {\n",
              "        const element = document.querySelector('#df-ee5cdbf0-987f-4208-a5a2-c10e5cc7fde9');\n",
              "        const dataTable =\n",
              "          await google.colab.kernel.invokeFunction('convertToInteractive',\n",
              "                                                    [key], {});\n",
              "        if (!dataTable) return;\n",
              "\n",
              "        const docLinkHtml = 'Like what you see? Visit the ' +\n",
              "          '<a target=\"_blank\" href=https://colab.research.google.com/notebooks/data_table.ipynb>data table notebook</a>'\n",
              "          + ' to learn more about interactive tables.';\n",
              "        element.innerHTML = '';\n",
              "        dataTable['output_type'] = 'display_data';\n",
              "        await google.colab.output.renderOutput(dataTable, element);\n",
              "        const docLink = document.createElement('div');\n",
              "        docLink.innerHTML = docLinkHtml;\n",
              "        element.appendChild(docLink);\n",
              "      }\n",
              "    </script>\n",
              "  </div>\n",
              "\n",
              "\n",
              "<div id=\"df-752be0c0-4799-4698-b332-f59ad3842dbc\">\n",
              "  <button class=\"colab-df-quickchart\" onclick=\"quickchart('df-752be0c0-4799-4698-b332-f59ad3842dbc')\"\n",
              "            title=\"Suggest charts\"\n",
              "            style=\"display:none;\">\n",
              "\n",
              "<svg xmlns=\"http://www.w3.org/2000/svg\" height=\"24px\"viewBox=\"0 0 24 24\"\n",
              "     width=\"24px\">\n",
              "    <g>\n",
              "        <path d=\"M19 3H5c-1.1 0-2 .9-2 2v14c0 1.1.9 2 2 2h14c1.1 0 2-.9 2-2V5c0-1.1-.9-2-2-2zM9 17H7v-7h2v7zm4 0h-2V7h2v10zm4 0h-2v-4h2v4z\"/>\n",
              "    </g>\n",
              "</svg>\n",
              "  </button>\n",
              "\n",
              "<style>\n",
              "  .colab-df-quickchart {\n",
              "      --bg-color: #E8F0FE;\n",
              "      --fill-color: #1967D2;\n",
              "      --hover-bg-color: #E2EBFA;\n",
              "      --hover-fill-color: #174EA6;\n",
              "      --disabled-fill-color: #AAA;\n",
              "      --disabled-bg-color: #DDD;\n",
              "  }\n",
              "\n",
              "  [theme=dark] .colab-df-quickchart {\n",
              "      --bg-color: #3B4455;\n",
              "      --fill-color: #D2E3FC;\n",
              "      --hover-bg-color: #434B5C;\n",
              "      --hover-fill-color: #FFFFFF;\n",
              "      --disabled-bg-color: #3B4455;\n",
              "      --disabled-fill-color: #666;\n",
              "  }\n",
              "\n",
              "  .colab-df-quickchart {\n",
              "    background-color: var(--bg-color);\n",
              "    border: none;\n",
              "    border-radius: 50%;\n",
              "    cursor: pointer;\n",
              "    display: none;\n",
              "    fill: var(--fill-color);\n",
              "    height: 32px;\n",
              "    padding: 0;\n",
              "    width: 32px;\n",
              "  }\n",
              "\n",
              "  .colab-df-quickchart:hover {\n",
              "    background-color: var(--hover-bg-color);\n",
              "    box-shadow: 0 1px 2px rgba(60, 64, 67, 0.3), 0 1px 3px 1px rgba(60, 64, 67, 0.15);\n",
              "    fill: var(--button-hover-fill-color);\n",
              "  }\n",
              "\n",
              "  .colab-df-quickchart-complete:disabled,\n",
              "  .colab-df-quickchart-complete:disabled:hover {\n",
              "    background-color: var(--disabled-bg-color);\n",
              "    fill: var(--disabled-fill-color);\n",
              "    box-shadow: none;\n",
              "  }\n",
              "\n",
              "  .colab-df-spinner {\n",
              "    border: 2px solid var(--fill-color);\n",
              "    border-color: transparent;\n",
              "    border-bottom-color: var(--fill-color);\n",
              "    animation:\n",
              "      spin 1s steps(1) infinite;\n",
              "  }\n",
              "\n",
              "  @keyframes spin {\n",
              "    0% {\n",
              "      border-color: transparent;\n",
              "      border-bottom-color: var(--fill-color);\n",
              "      border-left-color: var(--fill-color);\n",
              "    }\n",
              "    20% {\n",
              "      border-color: transparent;\n",
              "      border-left-color: var(--fill-color);\n",
              "      border-top-color: var(--fill-color);\n",
              "    }\n",
              "    30% {\n",
              "      border-color: transparent;\n",
              "      border-left-color: var(--fill-color);\n",
              "      border-top-color: var(--fill-color);\n",
              "      border-right-color: var(--fill-color);\n",
              "    }\n",
              "    40% {\n",
              "      border-color: transparent;\n",
              "      border-right-color: var(--fill-color);\n",
              "      border-top-color: var(--fill-color);\n",
              "    }\n",
              "    60% {\n",
              "      border-color: transparent;\n",
              "      border-right-color: var(--fill-color);\n",
              "    }\n",
              "    80% {\n",
              "      border-color: transparent;\n",
              "      border-right-color: var(--fill-color);\n",
              "      border-bottom-color: var(--fill-color);\n",
              "    }\n",
              "    90% {\n",
              "      border-color: transparent;\n",
              "      border-bottom-color: var(--fill-color);\n",
              "    }\n",
              "  }\n",
              "</style>\n",
              "\n",
              "  <script>\n",
              "    async function quickchart(key) {\n",
              "      const quickchartButtonEl =\n",
              "        document.querySelector('#' + key + ' button');\n",
              "      quickchartButtonEl.disabled = true;  // To prevent multiple clicks.\n",
              "      quickchartButtonEl.classList.add('colab-df-spinner');\n",
              "      try {\n",
              "        const charts = await google.colab.kernel.invokeFunction(\n",
              "            'suggestCharts', [key], {});\n",
              "      } catch (error) {\n",
              "        console.error('Error during call to suggestCharts:', error);\n",
              "      }\n",
              "      quickchartButtonEl.classList.remove('colab-df-spinner');\n",
              "      quickchartButtonEl.classList.add('colab-df-quickchart-complete');\n",
              "    }\n",
              "    (() => {\n",
              "      let quickchartButtonEl =\n",
              "        document.querySelector('#df-752be0c0-4799-4698-b332-f59ad3842dbc button');\n",
              "      quickchartButtonEl.style.display =\n",
              "        google.colab.kernel.accessAllowed ? 'block' : 'none';\n",
              "    })();\n",
              "  </script>\n",
              "</div>\n",
              "\n",
              "  <div id=\"id_98c9aa1a-dc8a-4d1a-89ff-cd18305de279\">\n",
              "    <style>\n",
              "      .colab-df-generate {\n",
              "        background-color: #E8F0FE;\n",
              "        border: none;\n",
              "        border-radius: 50%;\n",
              "        cursor: pointer;\n",
              "        display: none;\n",
              "        fill: #1967D2;\n",
              "        height: 32px;\n",
              "        padding: 0 0 0 0;\n",
              "        width: 32px;\n",
              "      }\n",
              "\n",
              "      .colab-df-generate:hover {\n",
              "        background-color: #E2EBFA;\n",
              "        box-shadow: 0px 1px 2px rgba(60, 64, 67, 0.3), 0px 1px 3px 1px rgba(60, 64, 67, 0.15);\n",
              "        fill: #174EA6;\n",
              "      }\n",
              "\n",
              "      [theme=dark] .colab-df-generate {\n",
              "        background-color: #3B4455;\n",
              "        fill: #D2E3FC;\n",
              "      }\n",
              "\n",
              "      [theme=dark] .colab-df-generate:hover {\n",
              "        background-color: #434B5C;\n",
              "        box-shadow: 0px 1px 3px 1px rgba(0, 0, 0, 0.15);\n",
              "        filter: drop-shadow(0px 1px 2px rgba(0, 0, 0, 0.3));\n",
              "        fill: #FFFFFF;\n",
              "      }\n",
              "    </style>\n",
              "    <button class=\"colab-df-generate\" onclick=\"generateWithVariable('df')\"\n",
              "            title=\"Generate code using this dataframe.\"\n",
              "            style=\"display:none;\">\n",
              "\n",
              "  <svg xmlns=\"http://www.w3.org/2000/svg\" height=\"24px\"viewBox=\"0 0 24 24\"\n",
              "       width=\"24px\">\n",
              "    <path d=\"M7,19H8.4L18.45,9,17,7.55,7,17.6ZM5,21V16.75L18.45,3.32a2,2,0,0,1,2.83,0l1.4,1.43a1.91,1.91,0,0,1,.58,1.4,1.91,1.91,0,0,1-.58,1.4L9.25,21ZM18.45,9,17,7.55Zm-12,3A5.31,5.31,0,0,0,4.9,8.1,5.31,5.31,0,0,0,1,6.5,5.31,5.31,0,0,0,4.9,4.9,5.31,5.31,0,0,0,6.5,1,5.31,5.31,0,0,0,8.1,4.9,5.31,5.31,0,0,0,12,6.5,5.46,5.46,0,0,0,6.5,12Z\"/>\n",
              "  </svg>\n",
              "    </button>\n",
              "    <script>\n",
              "      (() => {\n",
              "      const buttonEl =\n",
              "        document.querySelector('#id_98c9aa1a-dc8a-4d1a-89ff-cd18305de279 button.colab-df-generate');\n",
              "      buttonEl.style.display =\n",
              "        google.colab.kernel.accessAllowed ? 'block' : 'none';\n",
              "\n",
              "      buttonEl.onclick = () => {\n",
              "        google.colab.notebook.generateWithVariable('df');\n",
              "      }\n",
              "      })();\n",
              "    </script>\n",
              "  </div>\n",
              "\n",
              "    </div>\n",
              "  </div>\n"
            ],
            "application/vnd.google.colaboratory.intrinsic+json": {
              "type": "dataframe",
              "variable_name": "df",
              "summary": "{\n  \"name\": \"df\",\n  \"rows\": 100,\n  \"fields\": [\n    {\n      \"column\": \"claims\",\n      \"properties\": {\n        \"dtype\": \"string\",\n        \"num_unique_values\": 100,\n        \"samples\": [\n          \"tackle climate Change through livestock\",\n          \"the ocean be absorb massive amount of CO2 and be become more pacific as a result\",\n          \"a tapping point in freezing accelerate mass loss of Greenlands glacier and ice cap\"\n        ],\n        \"semantic_type\": \"\",\n        \"description\": \"\"\n      }\n    },\n    {\n      \"column\": \"claims_labels\",\n      \"properties\": {\n        \"dtype\": \"number\",\n        \"std\": 0,\n        \"min\": 0,\n        \"max\": 2,\n        \"num_unique_values\": 3,\n        \"samples\": [\n          1,\n          0,\n          2\n        ],\n        \"semantic_type\": \"\",\n        \"description\": \"\"\n      }\n    }\n  ]\n}"
            }
          },
          "metadata": {},
          "execution_count": 9
        }
      ],
      "source": [
        "df"
      ]
    },
    {
      "cell_type": "code",
      "execution_count": 10,
      "metadata": {
        "colab": {
          "base_uri": "https://localhost:8080/"
        },
        "id": "wLKlBgBhNKWH",
        "outputId": "2717f2aa-2420-4c25-c5f9-4bf9d0edbda6"
      },
      "outputs": [
        {
          "output_type": "stream",
          "name": "stdout",
          "text": [
            "1\n",
            "No entities found in the news text.\n",
            "No entities found in the news text.\n",
            "Graph data is not available due to lack of entities.\n",
            "2\n"
          ]
        },
        {
          "output_type": "stream",
          "name": "stderr",
          "text": [
            "en.wikipedia.org (parse) summer\n",
            "en.wikipedia.org (imageinfo) File:Field Hamois Belgium Luc Viatour.jpg\n",
            "Summer (en) data\n",
            "{\n",
            "  image: <list(1)> {'kind': 'parse-image', 'file': 'File:Field Ham...\n",
            "  infobox: <dict(9)> title, image, caption, ndate1, ndate2, ndate3...\n",
            "  iwlinks: <list(3)> https://commons.wikimedia.org/wiki/Summer, ht...\n",
            "  pageid: 29392\n",
            "  parsetree: <str(24387)> <root><template><title>pp-move-indef</ti...\n",
            "  requests: <list(2)> parse, imageinfo\n",
            "  title: Summer\n",
            "  wikibase: Q1313\n",
            "  wikidata_url: https://www.wikidata.org/wiki/Q1313\n",
            "  wikitext: <str(20196)> {{pp-move-indef}}{{pp-semi-indef}}{{short...\n",
            "}\n",
            "en.wikipedia.org (parse) England\n",
            "England (en) data\n",
            "{\n",
            "  infobox: <dict(42)> image_flag, national_anthem, status, capital...\n",
            "  iwlinks: <list(9)> https://commons.wikimedia.org/wiki/England, h...\n",
            "  pageid: 9316\n",
            "  parsetree: <str(318571)> <root><template><title>Short descriptio...\n",
            "  requests: <list(1)> parse\n",
            "  title: England\n",
            "  wikibase: Q21\n",
            "  wikidata_url: https://www.wikidata.org/wiki/Q21\n",
            "  wikitext: <str(230301)> {{Short description|Country within the U...\n",
            "}\n",
            "en.wikipedia.org (parse) 1910\n",
            "1910 (en) data\n",
            "{\n",
            "  iwlinks: <list(1)> https://commons.wikimedia.org/wiki/Category:1910\n",
            "  pageid: 34690\n",
            "  parsetree: <str(70465)> <root><template><title>Use mdy dates</ti...\n",
            "  requests: <list(1)> parse\n",
            "  title: 1910\n",
            "  wikibase: Q2075\n",
            "  wikidata_url: https://www.wikidata.org/wiki/Q2075\n",
            "  wikitext: <str(62433)> {{Use mdy dates|date=March 2011}}{{Year d...\n",
            "}\n",
            "en.wikipedia.org (parse) the Met Office\n",
            "Met Office (en) data\n",
            "{\n",
            "  infobox: <dict(19)> agency_name, logo, logo_width, logo_caption,...\n",
            "  iwlinks: <list(4)> https://commons.wikimedia.org/wiki/Met_Office...\n",
            "  pageid: 319671\n",
            "  parsetree: <str(43665)> <root><template><title>Short description...\n",
            "  requests: <list(1)> parse\n",
            "  title: Met Office\n",
            "  wikibase: Q1851405\n",
            "  wikidata_url: https://www.wikidata.org/wiki/Q1851405\n",
            "  wikitext: <str(34921)> {{Short description|United Kingdom's nati...\n",
            "}\n"
          ]
        },
        {
          "output_type": "stream",
          "name": "stdout",
          "text": [
            "Epoch 10/20, Loss: 0.6066173315048218\n",
            "Epoch 20/20, Loss: 0.3144289255142212\n",
            "Epoch 10/20, Loss: 0.1256544291973114\n",
            "Epoch 20/20, Loss: 0.13283254206180573\n",
            "3\n",
            "No entities found in the news text.\n",
            "No entities found in the news text.\n",
            "Graph data is not available due to lack of entities.\n",
            "4\n"
          ]
        },
        {
          "output_type": "stream",
          "name": "stderr",
          "text": [
            "en.wikipedia.org (parse) Paris\n",
            "Paris (en) data\n",
            "{\n",
            "  image: <list(0)> \n",
            "  infobox: <dict(35)> name, commune status, image, image coat of a...\n",
            "  iwlinks: <list(10)> https://commons.wikimedia.org/wiki/Paris, ht...\n",
            "  pageid: 22989\n",
            "  parsetree: <str(397763)> <root><template><title>Short descriptio...\n",
            "  requests: <list(1)> parse\n",
            "  title: Paris\n",
            "  wikibase: Q90\n",
            "  wikidata_url: https://www.wikidata.org/wiki/Q90\n",
            "  wikitext: <str(251325)> {{Short description|Capital and largest ...\n",
            "}\n",
            "en.wikipedia.org (parse) this week\n",
            "API error: {'code': 'missingtitle', 'info': \"The page you specified doesn't exist.\", 'docref': 'See https://en.wikipedia.org/w/api.php for API usage. Subscribe to the mediawiki-api-announce mailing list at &lt;https://lists.wikimedia.org/postorius/lists/mediawiki-api-announce.lists.wikimedia.org/&gt; for notice of API deprecations and breaking changes.'}\n"
          ]
        },
        {
          "output_type": "stream",
          "name": "stdout",
          "text": [
            "An error occurred: https://en.wikipedia.org/w/api.php?action=parse&formatversion=2&contentmodel=text&disableeditsection=&disablelimitreport=&disabletoc=&prop=text|iwlinks|parsetree|wikitext|displaytitle|properties&redirects&page=this%20week\n",
            "Epoch 10/20, Loss: 0.6527053117752075\n",
            "Epoch 20/20, Loss: 0.39740845561027527\n",
            "Epoch 10/20, Loss: 0.3647269010543823\n",
            "Epoch 20/20, Loss: 0.2062137871980667\n",
            "5\n"
          ]
        },
        {
          "output_type": "stream",
          "name": "stderr",
          "text": [
            "en.wikipedia.org (parse) the Environmental Working Group\n",
            "en.wikipedia.org (imageinfo) File:Environmental Working Group.svg\n",
            "Environmental Working Group (en) data\n",
            "{\n",
            "  image: <list(1)> {'kind': 'parse-image', 'file': 'File:Environme...\n",
            "  infobox: <dict(9)> name, image, image_size, type, founded_date, ...\n",
            "  pageid: 1602649\n",
            "  parsetree: <str(29276)> <root><template><title>Short description...\n",
            "  requests: <list(2)> parse, imageinfo\n",
            "  title: Environmental Working Group\n",
            "  wikibase: Q928450\n",
            "  wikidata_url: https://www.wikidata.org/wiki/Q928450\n",
            "  wikitext: <str(23199)> {{Short description|American activist gro...\n",
            "}\n",
            "en.wikipedia.org (parse) its year\n",
            "API error: {'code': 'missingtitle', 'info': \"The page you specified doesn't exist.\", 'docref': 'See https://en.wikipedia.org/w/api.php for API usage. Subscribe to the mediawiki-api-announce mailing list at &lt;https://lists.wikimedia.org/postorius/lists/mediawiki-api-announce.lists.wikimedia.org/&gt; for notice of API deprecations and breaking changes.'}\n"
          ]
        },
        {
          "output_type": "stream",
          "name": "stdout",
          "text": [
            "An error occurred: https://en.wikipedia.org/w/api.php?action=parse&formatversion=2&contentmodel=text&disableeditsection=&disablelimitreport=&disabletoc=&prop=text|iwlinks|parsetree|wikitext|displaytitle|properties&redirects&page=its%20year\n",
            "Epoch 10/20, Loss: 0.8396128416061401\n",
            "Epoch 20/20, Loss: 0.3724501132965088\n",
            "Epoch 10/20, Loss: 0.23009365797042847\n",
            "Epoch 20/20, Loss: 4.207031726837158\n",
            "6\n"
          ]
        },
        {
          "output_type": "stream",
          "name": "stderr",
          "text": [
            "en.wikipedia.org (parse) the Framework Convention\n",
            "API error: {'code': 'missingtitle', 'info': \"The page you specified doesn't exist.\", 'docref': 'See https://en.wikipedia.org/w/api.php for API usage. Subscribe to the mediawiki-api-announce mailing list at &lt;https://lists.wikimedia.org/postorius/lists/mediawiki-api-announce.lists.wikimedia.org/&gt; for notice of API deprecations and breaking changes.'}\n",
            "en.wikipedia.org (parse) 1992\n"
          ]
        },
        {
          "output_type": "stream",
          "name": "stdout",
          "text": [
            "An error occurred: https://en.wikipedia.org/w/api.php?action=parse&formatversion=2&contentmodel=text&disableeditsection=&disablelimitreport=&disabletoc=&prop=text|iwlinks|parsetree|wikitext|displaytitle|properties&redirects&page=the%20Framework%20Convention\n"
          ]
        },
        {
          "output_type": "stream",
          "name": "stderr",
          "text": [
            "1992 (en) data\n",
            "{\n",
            "  iwlinks: <list(1)> https://commons.wikimedia.org/wiki/Category:1992\n",
            "  pageid: 34669\n",
            "  parsetree: <str(54563)> <root><template><title>Globalize</title>...\n",
            "  requests: <list(1)> parse\n",
            "  title: 1992\n",
            "  wikibase: Q2060\n",
            "  wikidata_url: https://www.wikidata.org/wiki/Q2060\n",
            "  wikitext: <str(48024)> {{Globalize|date=June 2019}}{{Use mdy dat...\n",
            "}\n"
          ]
        },
        {
          "output_type": "stream",
          "name": "stdout",
          "text": [
            "Epoch 10/20, Loss: 0.5635088682174683\n",
            "Epoch 20/20, Loss: 0.4930838644504547\n",
            "Epoch 10/20, Loss: 0.77958744764328\n",
            "Epoch 20/20, Loss: 5.401462078094482\n",
            "7\n",
            "No entities found in the news text.\n",
            "No entities found in the news text.\n",
            "Graph data is not available due to lack of entities.\n",
            "8\n",
            "No entities found in the news text.\n",
            "No entities found in the news text.\n",
            "Graph data is not available due to lack of entities.\n",
            "9\n"
          ]
        },
        {
          "output_type": "stream",
          "name": "stderr",
          "text": [
            "en.wikipedia.org (parse) Gronewold\n",
            "API error: {'code': 'missingtitle', 'info': \"The page you specified doesn't exist.\", 'docref': 'See https://en.wikipedia.org/w/api.php for API usage. Subscribe to the mediawiki-api-announce mailing list at &lt;https://lists.wikimedia.org/postorius/lists/mediawiki-api-announce.lists.wikimedia.org/&gt; for notice of API deprecations and breaking changes.'}\n"
          ]
        },
        {
          "output_type": "stream",
          "name": "stdout",
          "text": [
            "An error occurred: https://en.wikipedia.org/w/api.php?action=parse&formatversion=2&contentmodel=text&disableeditsection=&disablelimitreport=&disabletoc=&prop=text|iwlinks|parsetree|wikitext|displaytitle|properties&redirects&page=Gronewold\n",
            "Epoch 10/20, Loss: 0.13903354108333588\n",
            "Epoch 20/20, Loss: 0.42601367831230164\n",
            "Epoch 10/20, Loss: 2.4514248371124268\n",
            "Epoch 20/20, Loss: 0.13722851872444153\n",
            "10\n",
            "No entities found in the news text.\n",
            "No entities found in the news text.\n",
            "Graph data is not available due to lack of entities.\n",
            "11\n",
            "No entities found in the news text.\n",
            "No entities found in the news text.\n",
            "Graph data is not available due to lack of entities.\n",
            "12\n",
            "No entities found in the news text.\n",
            "No entities found in the news text.\n",
            "Graph data is not available due to lack of entities.\n",
            "13\n",
            "No entities found in the news text.\n",
            "No entities found in the news text.\n",
            "Graph data is not available due to lack of entities.\n",
            "14\n"
          ]
        },
        {
          "output_type": "stream",
          "name": "stderr",
          "text": [
            "en.wikipedia.org (parse) century past\n",
            "API error: {'code': 'missingtitle', 'info': \"The page you specified doesn't exist.\", 'docref': 'See https://en.wikipedia.org/w/api.php for API usage. Subscribe to the mediawiki-api-announce mailing list at &lt;https://lists.wikimedia.org/postorius/lists/mediawiki-api-announce.lists.wikimedia.org/&gt; for notice of API deprecations and breaking changes.'}\n"
          ]
        },
        {
          "output_type": "stream",
          "name": "stdout",
          "text": [
            "An error occurred: https://en.wikipedia.org/w/api.php?action=parse&formatversion=2&contentmodel=text&disableeditsection=&disablelimitreport=&disabletoc=&prop=text|iwlinks|parsetree|wikitext|displaytitle|properties&redirects&page=century%20past\n",
            "Epoch 10/20, Loss: 1.3955799341201782\n",
            "Epoch 20/20, Loss: 0.17755119502544403\n",
            "Epoch 10/20, Loss: 0.17692352831363678\n",
            "Epoch 20/20, Loss: 0.17646443843841553\n",
            "15\n"
          ]
        },
        {
          "output_type": "stream",
          "name": "stderr",
          "text": [
            "en.wikipedia.org (parse) ice berg melt ocean level\n",
            "API error: {'code': 'missingtitle', 'info': \"The page you specified doesn't exist.\", 'docref': 'See https://en.wikipedia.org/w/api.php for API usage. Subscribe to the mediawiki-api-announce mailing list at &lt;https://lists.wikimedia.org/postorius/lists/mediawiki-api-announce.lists.wikimedia.org/&gt; for notice of API deprecations and breaking changes.'}\n"
          ]
        },
        {
          "output_type": "stream",
          "name": "stdout",
          "text": [
            "An error occurred: https://en.wikipedia.org/w/api.php?action=parse&formatversion=2&contentmodel=text&disableeditsection=&disablelimitreport=&disabletoc=&prop=text|iwlinks|parsetree|wikitext|displaytitle|properties&redirects&page=ice%20berg%20melt%20ocean%20level\n",
            "Epoch 10/20, Loss: 0.1558021605014801\n",
            "Epoch 20/20, Loss: 0.1553920954465866\n",
            "Epoch 10/20, Loss: 2.9670753479003906\n",
            "Epoch 20/20, Loss: 0.6391051411628723\n",
            "16\n"
          ]
        },
        {
          "output_type": "stream",
          "name": "stderr",
          "text": [
            "en.wikipedia.org (parse) Thick arctic sea\n",
            "API error: {'code': 'missingtitle', 'info': \"The page you specified doesn't exist.\", 'docref': 'See https://en.wikipedia.org/w/api.php for API usage. Subscribe to the mediawiki-api-announce mailing list at &lt;https://lists.wikimedia.org/postorius/lists/mediawiki-api-announce.lists.wikimedia.org/&gt; for notice of API deprecations and breaking changes.'}\n"
          ]
        },
        {
          "output_type": "stream",
          "name": "stdout",
          "text": [
            "An error occurred: https://en.wikipedia.org/w/api.php?action=parse&formatversion=2&contentmodel=text&disableeditsection=&disablelimitreport=&disabletoc=&prop=text|iwlinks|parsetree|wikitext|displaytitle|properties&redirects&page=Thick%20arctic%20sea\n",
            "Epoch 10/20, Loss: 0.16825824975967407\n",
            "Epoch 20/20, Loss: 0.16767729818820953\n",
            "Epoch 10/20, Loss: 0.16690389811992645\n",
            "Epoch 20/20, Loss: 0.1663922518491745\n",
            "17\n"
          ]
        },
        {
          "output_type": "stream",
          "name": "stderr",
          "text": [
            "en.wikipedia.org (parse) Earth\n",
            "en.wikipedia.org (imageinfo) File:The Blue Marble (remastered).jpg\n",
            "Earth (en) data\n",
            "{\n",
            "  image: <list(1)> {'kind': 'parse-image', 'file': 'File:The Blue ...\n",
            "  infobox: <dict(50)> background, name, alt_names, adjectives, sym...\n",
            "  iwlinks: <list(12)> https://commons.wikimedia.org/wiki/Category:...\n",
            "  pageid: 9228\n",
            "  parsetree: <str(294468)> <root><template><title>Short descriptio...\n",
            "  requests: <list(2)> parse, imageinfo\n",
            "  title: Earth\n",
            "  wikibase: Q2\n",
            "  wikidata_url: https://www.wikidata.org/wiki/Q2\n",
            "  wikitext: <str(221745)> {{Short description|Third planet from th...\n",
            "}\n"
          ]
        },
        {
          "output_type": "stream",
          "name": "stdout",
          "text": [
            "Epoch 10/20, Loss: 0.5176406502723694\n",
            "Epoch 20/20, Loss: 0.522966206073761\n",
            "Epoch 10/20, Loss: 0.2356850802898407\n",
            "Epoch 20/20, Loss: 0.5487783551216125\n",
            "18\n",
            "No entities found in the news text.\n",
            "No entities found in the news text.\n",
            "Graph data is not available due to lack of entities.\n",
            "19\n"
          ]
        },
        {
          "output_type": "stream",
          "name": "stderr",
          "text": [
            "en.wikipedia.org (parse) 20\n",
            "20 (en) data\n",
            "{\n",
            "  iwlinks: <list(1)> https://en.wiktionary.org/wiki/twenty\n",
            "  pageid: 478475\n",
            "  parsetree: <str(4152)> <root><template><title>technical reasons<...\n",
            "  requests: <list(1)> parse\n",
            "  title: 20\n",
            "  wikibase: Q1166637\n",
            "  wikidata_url: https://www.wikidata.org/wiki/Q1166637\n",
            "  wikitext: <str(3019)> {{technical reasons|20 #1s Now|that album|...\n",
            "}\n",
            "en.wikipedia.org (parse) 200510\n",
            "API error: {'code': 'missingtitle', 'info': \"The page you specified doesn't exist.\", 'docref': 'See https://en.wikipedia.org/w/api.php for API usage. Subscribe to the mediawiki-api-announce mailing list at &lt;https://lists.wikimedia.org/postorius/lists/mediawiki-api-announce.lists.wikimedia.org/&gt; for notice of API deprecations and breaking changes.'}\n"
          ]
        },
        {
          "output_type": "stream",
          "name": "stdout",
          "text": [
            "An error occurred: https://en.wikipedia.org/w/api.php?action=parse&formatversion=2&contentmodel=text&disableeditsection=&disablelimitreport=&disabletoc=&prop=text|iwlinks|parsetree|wikitext|displaytitle|properties&redirects&page=200510\n",
            "Epoch 10/20, Loss: 0.22939635813236237\n",
            "Epoch 20/20, Loss: 0.19787223637104034\n",
            "Epoch 10/20, Loss: 0.8503467440605164\n",
            "Epoch 20/20, Loss: 0.16173245012760162\n",
            "20\n",
            "No entities found in the news text.\n",
            "No entities found in the news text.\n",
            "Graph data is not available due to lack of entities.\n",
            "21\n",
            "No entities found in the news text.\n",
            "No entities found in the news text.\n",
            "Graph data is not available due to lack of entities.\n",
            "22\n"
          ]
        },
        {
          "output_type": "stream",
          "name": "stderr",
          "text": [
            "en.wikipedia.org (parse) Nations Top Scientists\n",
            "API error: {'code': 'missingtitle', 'info': \"The page you specified doesn't exist.\", 'docref': 'See https://en.wikipedia.org/w/api.php for API usage. Subscribe to the mediawiki-api-announce mailing list at &lt;https://lists.wikimedia.org/postorius/lists/mediawiki-api-announce.lists.wikimedia.org/&gt; for notice of API deprecations and breaking changes.'}\n",
            "en.wikipedia.org (parse) Innovators\n"
          ]
        },
        {
          "output_type": "stream",
          "name": "stdout",
          "text": [
            "An error occurred: https://en.wikipedia.org/w/api.php?action=parse&formatversion=2&contentmodel=text&disableeditsection=&disablelimitreport=&disabletoc=&prop=text|iwlinks|parsetree|wikitext|displaytitle|properties&redirects&page=Nations%20Top%20Scientists\n"
          ]
        },
        {
          "output_type": "stream",
          "name": "stderr",
          "text": [
            "Innovation (en) data\n",
            "{\n",
            "  iwlinks: <list(3)> https://commons.wikimedia.org/wiki/Category:I...\n",
            "  pageid: 118450\n",
            "  parsetree: <str(104835)> <root><template><title>Short descriptio...\n",
            "  requests: <list(1)> parse\n",
            "  title: Innovation\n",
            "  wikibase: Q174165\n",
            "  wikidata_url: https://www.wikidata.org/wiki/Q174165\n",
            "  wikitext: <str(87454)> {{Short description|Practical implementat...\n",
            "}\n"
          ]
        },
        {
          "output_type": "stream",
          "name": "stdout",
          "text": [
            "Epoch 10/20, Loss: 1.0621027946472168\n",
            "Epoch 20/20, Loss: 0.6426035165786743\n",
            "Epoch 10/20, Loss: 1.1765872240066528\n",
            "Epoch 20/20, Loss: 0.1777399331331253\n",
            "23\n"
          ]
        },
        {
          "output_type": "stream",
          "name": "stderr",
          "text": [
            "en.wikipedia.org (parse) Greenland\n",
            "Greenland (en) data\n",
            "{\n",
            "  infobox: <dict(85)> name, native_name, settlement_type, image_fl...\n",
            "  iwlinks: <list(8)> https://commons.wikimedia.org/wiki/Gr%C3%B8nl...\n",
            "  pageid: 12118\n",
            "  parsetree: <str(233996)> <root><template><title>short descriptio...\n",
            "  requests: <list(1)> parse\n",
            "  title: Greenland\n",
            "  wikibase: Q223\n",
            "  wikidata_url: https://www.wikidata.org/wiki/Q223\n",
            "  wikitext: <str(182032)> {{short description|Autonomous territory...\n",
            "}\n",
            "en.wikipedia.org (parse) Antarctica\n",
            "en.wikipedia.org (imageinfo) File:Antarctica (orthographic projec...\n",
            "Antarctica (en) data\n",
            "{\n",
            "  image: <list(1)> {'kind': 'parse-image', 'file': 'File:Antarctic...\n",
            "  infobox: <dict(16)> title, image, image_size, alt, flag, area, p...\n",
            "  iwlinks: <list(7)> https://commons.wikimedia.org/wiki/Antarctica...\n",
            "  pageid: 18959138\n",
            "  parsetree: <str(213255)> <root><template><title>Short descriptio...\n",
            "  requests: <list(2)> parse, imageinfo\n",
            "  title: Antarctica\n",
            "  wikibase: Q51\n",
            "  wikidata_url: https://www.wikidata.org/wiki/Q51\n",
            "  wikitext: <str(140478)> {{Short description|Earth's southernmost...\n",
            "}\n",
            "en.wikipedia.org (parse) GRACE\n",
            "Grace (en) data\n",
            "{\n",
            "  iwlinks: <list(3)> https://en.wikiquote.org/wiki/Special:Search/...\n",
            "  pageid: 859066\n",
            "  parsetree: <str(8764)> <root><template><title>wiktionary</title>...\n",
            "  requests: <list(1)> parse\n",
            "  title: Grace\n",
            "  wikibase: Q295047\n",
            "  wikidata_url: https://www.wikidata.org/wiki/Q295047\n",
            "  wikitext: <str(7385)> {{wiktionary|Grace|grace}}'''Grace''' may ...\n",
            "}\n"
          ]
        },
        {
          "output_type": "stream",
          "name": "stdout",
          "text": [
            "Epoch 10/20, Loss: 0.6898108124732971\n",
            "Epoch 20/20, Loss: 0.42381349205970764\n",
            "Epoch 10/20, Loss: 0.24669845402240753\n",
            "Epoch 20/20, Loss: 0.2811881899833679\n",
            "24\n",
            "No entities found in the news text.\n",
            "No entities found in the news text.\n",
            "Graph data is not available due to lack of entities.\n",
            "25\n"
          ]
        },
        {
          "output_type": "stream",
          "name": "stderr",
          "text": [
            "en.wikipedia.org (parse) Nuccitelli\n",
            "API error: {'code': 'missingtitle', 'info': \"The page you specified doesn't exist.\", 'docref': 'See https://en.wikipedia.org/w/api.php for API usage. Subscribe to the mediawiki-api-announce mailing list at &lt;https://lists.wikimedia.org/postorius/lists/mediawiki-api-announce.lists.wikimedia.org/&gt; for notice of API deprecations and breaking changes.'}\n",
            "en.wikipedia.org (parse) democratic\n"
          ]
        },
        {
          "output_type": "stream",
          "name": "stdout",
          "text": [
            "An error occurred: https://en.wikipedia.org/w/api.php?action=parse&formatversion=2&contentmodel=text&disableeditsection=&disablelimitreport=&disabletoc=&prop=text|iwlinks|parsetree|wikitext|displaytitle|properties&redirects&page=Nuccitelli\n"
          ]
        },
        {
          "output_type": "stream",
          "name": "stderr",
          "text": [
            "Democrat (en) data\n",
            "{\n",
            "  iwlinks: <list(4)> https://en.wiktionary.org/wiki/Democrat, http...\n",
            "  pageid: 8142\n",
            "  parsetree: <str(3421)> <root><template><title>wiktionary</title>...\n",
            "  requests: <list(1)> parse\n",
            "  title: Democrat\n",
            "  wikibase: Q342240\n",
            "  wikidata_url: https://www.wikidata.org/wiki/Q342240\n",
            "  wikitext: <str(2490)> {{wiktionary|Democrat|democrat|Democratic|...\n",
            "}\n"
          ]
        },
        {
          "output_type": "stream",
          "name": "stdout",
          "text": [
            "Epoch 10/20, Loss: 0.3804497718811035\n",
            "Epoch 20/20, Loss: 0.4774560332298279\n",
            "Epoch 10/20, Loss: 1.968002200126648\n",
            "Epoch 20/20, Loss: 1.9318901300430298\n",
            "26\n"
          ]
        },
        {
          "output_type": "stream",
          "name": "stderr",
          "text": [
            "en.wikipedia.org (parse) Squamish\n",
            "Squamish (en) data\n",
            "{\n",
            "  pageid: 5871686\n",
            "  parsetree: <str(1294)> <root><template><title>distinguish</title...\n",
            "  requests: <list(1)> parse\n",
            "  title: Squamish\n",
            "  wikibase: Q399881\n",
            "  wikidata_url: https://www.wikidata.org/wiki/Q399881\n",
            "  wikitext: <str(992)> {{distinguish|Suquamish (disambiguation)|Sq...\n",
            "}\n"
          ]
        },
        {
          "output_type": "stream",
          "name": "stdout",
          "text": [
            "Epoch 10/20, Loss: 0.26686108112335205\n",
            "Epoch 20/20, Loss: 0.4041392505168915\n",
            "Epoch 10/20, Loss: 0.15535177290439606\n",
            "Epoch 20/20, Loss: 0.15475142002105713\n",
            "27\n",
            "No entities found in the news text.\n",
            "No entities found in the news text.\n",
            "Graph data is not available due to lack of entities.\n",
            "28\n",
            "No entities found in the news text.\n",
            "No entities found in the news text.\n",
            "Graph data is not available due to lack of entities.\n",
            "29\n"
          ]
        },
        {
          "output_type": "stream",
          "name": "stderr",
          "text": [
            "en.wikipedia.org (parse) Britain\n",
            "Britain (en) data\n",
            "{\n",
            "  iwlinks: <list(1)> https://en.wiktionary.org/wiki/Britain\n",
            "  pageid: 3745\n",
            "  parsetree: <str(2419)> <root><template><title>Wiktionary</title>...\n",
            "  requests: <list(1)> parse\n",
            "  title: Britain\n",
            "  wikibase: Q4798430\n",
            "  wikidata_url: https://www.wikidata.org/wiki/Q4798430\n",
            "  wikitext: <str(1862)> {{Wiktionary|Britain}}'''Britain''' most o...\n",
            "}\n"
          ]
        },
        {
          "output_type": "stream",
          "name": "stdout",
          "text": [
            "Epoch 10/20, Loss: 0.2511405348777771\n",
            "Epoch 20/20, Loss: 0.17906279861927032\n",
            "Epoch 10/20, Loss: 0.1591661125421524\n",
            "Epoch 20/20, Loss: 18.449186325073242\n",
            "30\n",
            "No entities found in the news text.\n",
            "No entities found in the news text.\n",
            "Graph data is not available due to lack of entities.\n",
            "31\n"
          ]
        },
        {
          "output_type": "stream",
          "name": "stderr",
          "text": [
            "en.wikipedia.org (parse) 1992\n",
            "1992 (en) data\n",
            "{\n",
            "  iwlinks: <list(1)> https://commons.wikimedia.org/wiki/Category:1992\n",
            "  pageid: 34669\n",
            "  parsetree: <str(54563)> <root><template><title>Globalize</title>...\n",
            "  requests: <list(1)> parse\n",
            "  title: 1992\n",
            "  wikibase: Q2060\n",
            "  wikidata_url: https://www.wikidata.org/wiki/Q2060\n",
            "  wikitext: <str(48024)> {{Globalize|date=June 2019}}{{Use mdy dat...\n",
            "}\n",
            "en.wikipedia.org (parse) 2017\n",
            "2017 (en) data\n",
            "{\n",
            "  pageid: 51389\n",
            "  parsetree: <str(71096)> <root><template><title>About</title><par...\n",
            "  requests: <list(1)> parse\n",
            "  title: 2017\n",
            "  wikibase: Q25290\n",
            "  wikidata_url: https://www.wikidata.org/wiki/Q25290\n",
            "  wikitext: <str(62452)> {{About|the year 2017|the number|2017 (nu...\n",
            "}\n"
          ]
        },
        {
          "output_type": "stream",
          "name": "stdout",
          "text": [
            "Epoch 10/20, Loss: 0.4330560564994812\n",
            "Epoch 20/20, Loss: 0.2837807834148407\n",
            "Epoch 10/20, Loss: 0.39543452858924866\n",
            "Epoch 20/20, Loss: 0.6852455139160156\n",
            "32\n"
          ]
        },
        {
          "output_type": "stream",
          "name": "stderr",
          "text": [
            "en.wikipedia.org (parse) seven\n",
            "7 (disambiguation) (en) data\n",
            "{\n",
            "  iwlinks: <list(2)> https://en.wiktionary.org/wiki/7, https://en....\n",
            "  pageid: 3108369\n",
            "  parsetree: <str(11155)> <root><template><title>wiktionary</title...\n",
            "  requests: <list(1)> parse\n",
            "  title: 7 (disambiguation)\n",
            "  wikibase: Q2752634\n",
            "  wikidata_url: https://www.wikidata.org/wiki/Q2752634\n",
            "  wikitext: <str(9949)> {{wiktionary|7|seven}}'''[[7]]''' is a num...\n",
            "}\n",
            "en.wikipedia.org (parse) 10\n",
            "10 (en) data\n",
            "{\n",
            "  infobox: <dict(30)> number, numeral, divisor, roman unicode, gre...\n",
            "  iwlinks: <list(7)> https://commons.wikimedia.org/wiki/Category:1...\n",
            "  pageid: 208151\n",
            "  parsetree: <str(35420)> <root><template><title>Hatnote</title><p...\n",
            "  requests: <list(1)> parse\n",
            "  title: 10\n",
            "  wikibase: Q23806\n",
            "  wikidata_url: https://www.wikidata.org/wiki/Q23806\n",
            "  wikitext: <str(25930)> {{Hatnote|This article is about the numbe...\n",
            "}\n",
            "en.wikipedia.org (parse) Americans\n",
            "Americans (en) data\n",
            "{\n",
            "  infobox: <dict(52)> group, native_name_lang, flag, flag_caption,...\n",
            "  iwlinks: <list(2)> https://archive.org/details/dealingwithdiver0...\n",
            "  pageid: 19792942\n",
            "  parsetree: <str(191990)> <root><template><title>Short descriptio...\n",
            "  requests: <list(1)> parse\n",
            "  title: Americans\n",
            "  wikibase: Q846570\n",
            "  wikidata_url: https://www.wikidata.org/wiki/Q846570\n",
            "  wikitext: <str(153202)> {{Short description|Citizens and nationa...\n",
            "}\n"
          ]
        },
        {
          "output_type": "stream",
          "name": "stdout",
          "text": [
            "Epoch 10/20, Loss: 0.43595340847969055\n",
            "Epoch 20/20, Loss: 0.26487088203430176\n",
            "Epoch 10/20, Loss: 0.20360542833805084\n",
            "Epoch 20/20, Loss: 0.17757833003997803\n",
            "33\n",
            "No entities found in the news text.\n",
            "No entities found in the news text.\n",
            "Graph data is not available due to lack of entities.\n",
            "34\n",
            "No entities found in the news text.\n",
            "No entities found in the news text.\n",
            "Graph data is not available due to lack of entities.\n",
            "35\n",
            "No entities found in the news text.\n",
            "No entities found in the news text.\n",
            "Graph data is not available due to lack of entities.\n",
            "36\n"
          ]
        },
        {
          "output_type": "stream",
          "name": "stderr",
          "text": [
            "en.wikipedia.org (parse) one\n",
            "1 (en) data\n",
            "{\n",
            "  infobox: <dict(38)> number, numeral, factorization, divisor, rom...\n",
            "  iwlinks: <list(8)> https://commons.wikimedia.org/wiki/1_(number)...\n",
            "  pageid: 22770\n",
            "  parsetree: <str(75936)> <root><template><title>Short description...\n",
            "  requests: <list(1)> parse\n",
            "  title: 1\n",
            "  wikibase: Q199\n",
            "  wikidata_url: https://www.wikidata.org/wiki/Q199\n",
            "  wikitext: <str(36782)> {{Short description|Number}}{{Hatnote|Thi...\n",
            "}\n"
          ]
        },
        {
          "output_type": "stream",
          "name": "stdout",
          "text": [
            "Epoch 10/20, Loss: 0.6631456613540649\n",
            "Epoch 20/20, Loss: 0.6227889657020569\n",
            "Epoch 10/20, Loss: 0.6744152307510376\n",
            "Epoch 20/20, Loss: 0.3591609597206116\n",
            "37\n",
            "No entities found in the news text.\n",
            "No entities found in the news text.\n",
            "Graph data is not available due to lack of entities.\n",
            "38\n"
          ]
        },
        {
          "output_type": "stream",
          "name": "stderr",
          "text": [
            "en.wikipedia.org (parse) the River Thames\n",
            "en.wikipedia.org (imageinfo) File:By The River Thames at Vauxhall...\n",
            "River Thames (en) data\n",
            "{\n",
            "  image: <list(1)> {'kind': 'parse-image', 'file': 'File:By The Ri...\n",
            "  infobox: <dict(37)> name, name_etymology, image, image_caption, ...\n",
            "  iwlinks: <list(4)> https://commons.wikimedia.org/wiki/Category:R...\n",
            "  pageid: 49031\n",
            "  parsetree: <str(171603)> <root><template><title>short descriptio...\n",
            "  requests: <list(2)> parse, imageinfo\n",
            "  title: River Thames\n",
            "  wikibase: Q19686\n",
            "  wikidata_url: https://www.wikidata.org/wiki/Q19686\n",
            "  wikitext: <str(136672)> {{short description|River in southern En...\n",
            "}\n",
            "en.wikipedia.org (parse) two decade\n",
            "API error: {'code': 'missingtitle', 'info': \"The page you specified doesn't exist.\", 'docref': 'See https://en.wikipedia.org/w/api.php for API usage. Subscribe to the mediawiki-api-announce mailing list at &lt;https://lists.wikimedia.org/postorius/lists/mediawiki-api-announce.lists.wikimedia.org/&gt; for notice of API deprecations and breaking changes.'}\n"
          ]
        },
        {
          "output_type": "stream",
          "name": "stdout",
          "text": [
            "An error occurred: https://en.wikipedia.org/w/api.php?action=parse&formatversion=2&contentmodel=text&disableeditsection=&disablelimitreport=&disabletoc=&prop=text|iwlinks|parsetree|wikitext|displaytitle|properties&redirects&page=two%20decade\n",
            "Epoch 10/20, Loss: 0.5847918391227722\n",
            "Epoch 20/20, Loss: 0.3718326985836029\n",
            "Epoch 10/20, Loss: 0.4604590833187103\n",
            "Epoch 20/20, Loss: 0.2022726833820343\n",
            "39\n",
            "No entities found in the news text.\n",
            "No entities found in the news text.\n",
            "Graph data is not available due to lack of entities.\n",
            "40\n"
          ]
        },
        {
          "output_type": "stream",
          "name": "stderr",
          "text": [
            "en.wikipedia.org (parse) 1 billion\n",
            "Billion (en) data\n",
            "{\n",
            "  iwlinks: <list(1)> https://en.wiktionary.org/wiki/billion\n",
            "  pageid: 47182594\n",
            "  parsetree: <str(8196)> <root><template><title>Use mdy dates</tit...\n",
            "  requests: <list(1)> parse\n",
            "  title: Billion\n",
            "  wikibase: Q12535449\n",
            "  wikidata_url: https://www.wikidata.org/wiki/Q12535449\n",
            "  wikitext: <str(6354)> {{Use mdy dates|date=November 2023}}{{Shor...\n",
            "}\n",
            "en.wikipedia.org (parse) World Good Program\n",
            "API error: {'code': 'missingtitle', 'info': \"The page you specified doesn't exist.\", 'docref': 'See https://en.wikipedia.org/w/api.php for API usage. Subscribe to the mediawiki-api-announce mailing list at &lt;https://lists.wikimedia.org/postorius/lists/mediawiki-api-announce.lists.wikimedia.org/&gt; for notice of API deprecations and breaking changes.'}\n"
          ]
        },
        {
          "output_type": "stream",
          "name": "stdout",
          "text": [
            "An error occurred: https://en.wikipedia.org/w/api.php?action=parse&formatversion=2&contentmodel=text&disableeditsection=&disablelimitreport=&disabletoc=&prop=text|iwlinks|parsetree|wikitext|displaytitle|properties&redirects&page=World%20Good%20Program\n",
            "Epoch 10/20, Loss: 0.5885342955589294\n",
            "Epoch 20/20, Loss: 0.3420664370059967\n",
            "Epoch 10/20, Loss: 1.0641636848449707\n",
            "Epoch 20/20, Loss: 0.1755971759557724\n",
            "41\n"
          ]
        },
        {
          "output_type": "stream",
          "name": "stderr",
          "text": [
            "en.wikipedia.org (parse) 26 million\n",
            "API error: {'code': 'missingtitle', 'info': \"The page you specified doesn't exist.\", 'docref': 'See https://en.wikipedia.org/w/api.php for API usage. Subscribe to the mediawiki-api-announce mailing list at &lt;https://lists.wikimedia.org/postorius/lists/mediawiki-api-announce.lists.wikimedia.org/&gt; for notice of API deprecations and breaking changes.'}\n",
            "en.wikipedia.org (parse) 2016\n"
          ]
        },
        {
          "output_type": "stream",
          "name": "stdout",
          "text": [
            "An error occurred: https://en.wikipedia.org/w/api.php?action=parse&formatversion=2&contentmodel=text&disableeditsection=&disablelimitreport=&disabletoc=&prop=text|iwlinks|parsetree|wikitext|displaytitle|properties&redirects&page=26%20million\n"
          ]
        },
        {
          "output_type": "stream",
          "name": "stderr",
          "text": [
            "2016 (en) data\n",
            "{\n",
            "  pageid: 51387\n",
            "  parsetree: <str(58548)> <root><template><title>for</title><part>...\n",
            "  requests: <list(1)> parse\n",
            "  title: 2016\n",
            "  wikibase: Q25245\n",
            "  wikidata_url: https://www.wikidata.org/wiki/Q25245\n",
            "  wikitext: <str(51096)> {{for|the number|2016 (number)}}{{pp-move...\n",
            "}\n"
          ]
        },
        {
          "output_type": "stream",
          "name": "stdout",
          "text": [
            "Epoch 10/20, Loss: 0.7738797664642334\n",
            "Epoch 20/20, Loss: 0.6175062656402588\n",
            "Epoch 10/20, Loss: 1.0798650979995728\n",
            "Epoch 20/20, Loss: 0.5553421974182129\n",
            "42\n",
            "No entities found in the news text.\n",
            "No entities found in the news text.\n",
            "Graph data is not available due to lack of entities.\n",
            "43\n"
          ]
        },
        {
          "output_type": "stream",
          "name": "stderr",
          "text": [
            "en.wikipedia.org (parse) summer\n",
            "en.wikipedia.org (imageinfo) File:Field Hamois Belgium Luc Viatour.jpg\n",
            "Summer (en) data\n",
            "{\n",
            "  image: <list(1)> {'kind': 'parse-image', 'file': 'File:Field Ham...\n",
            "  infobox: <dict(9)> title, image, caption, ndate1, ndate2, ndate3...\n",
            "  iwlinks: <list(3)> https://commons.wikimedia.org/wiki/Summer, ht...\n",
            "  pageid: 29392\n",
            "  parsetree: <str(24387)> <root><template><title>pp-move-indef</ti...\n",
            "  requests: <list(2)> parse, imageinfo\n",
            "  title: Summer\n",
            "  wikibase: Q1313\n",
            "  wikidata_url: https://www.wikidata.org/wiki/Q1313\n",
            "  wikitext: <str(20196)> {{pp-move-indef}}{{pp-semi-indef}}{{short...\n",
            "}\n"
          ]
        },
        {
          "output_type": "stream",
          "name": "stdout",
          "text": [
            "Epoch 10/20, Loss: 0.40010491013526917\n",
            "Epoch 20/20, Loss: 0.47307825088500977\n",
            "Epoch 10/20, Loss: 0.8409483432769775\n",
            "Epoch 20/20, Loss: 0.9479878544807434\n",
            "44\n"
          ]
        },
        {
          "output_type": "stream",
          "name": "stderr",
          "text": [
            "en.wikipedia.org (parse) Pakistan\n",
            "Pakistan (en) data\n",
            "{\n",
            "  infobox: <dict(85)> conventional_long_name, common_name, native_...\n",
            "  iwlinks: <list(12)> https://commons.wikimedia.org/wiki/%D9%BE%D8...\n",
            "  pageid: 23235\n",
            "  parsetree: <str(653684)> <root><template><title>short descriptio...\n",
            "  requests: <list(1)> parse\n",
            "  title: Pakistan\n",
            "  wikibase: Q843\n",
            "  wikidata_url: https://www.wikidata.org/wiki/Q843\n",
            "  wikitext: <str(364158)> {{short description|Country in South Asi...\n",
            "}\n"
          ]
        },
        {
          "output_type": "stream",
          "name": "stdout",
          "text": [
            "Epoch 10/20, Loss: 0.6556844115257263\n",
            "Epoch 20/20, Loss: 0.41574856638908386\n",
            "Epoch 10/20, Loss: 0.15725137293338776\n",
            "Epoch 20/20, Loss: 0.5624862909317017\n",
            "45\n",
            "No entities found in the news text.\n",
            "No entities found in the news text.\n",
            "Graph data is not available due to lack of entities.\n",
            "46\n"
          ]
        },
        {
          "output_type": "stream",
          "name": "stderr",
          "text": [
            "en.wikipedia.org (parse) Antarctica\n",
            "en.wikipedia.org (imageinfo) File:Antarctica (orthographic projec...\n",
            "Antarctica (en) data\n",
            "{\n",
            "  image: <list(1)> {'kind': 'parse-image', 'file': 'File:Antarctic...\n",
            "  infobox: <dict(16)> title, image, image_size, alt, flag, area, p...\n",
            "  iwlinks: <list(7)> https://commons.wikimedia.org/wiki/Antarctica...\n",
            "  pageid: 18959138\n",
            "  parsetree: <str(213255)> <root><template><title>Short descriptio...\n",
            "  requests: <list(2)> parse, imageinfo\n",
            "  title: Antarctica\n",
            "  wikibase: Q51\n",
            "  wikidata_url: https://www.wikidata.org/wiki/Q51\n",
            "  wikitext: <str(140478)> {{Short description|Earth's southernmost...\n",
            "}\n"
          ]
        },
        {
          "output_type": "stream",
          "name": "stdout",
          "text": [
            "Epoch 10/20, Loss: 0.67378830909729\n",
            "Epoch 20/20, Loss: 0.5592666268348694\n",
            "Epoch 10/20, Loss: 0.18003584444522858\n",
            "Epoch 20/20, Loss: 0.7226397395133972\n",
            "47\n"
          ]
        },
        {
          "output_type": "stream",
          "name": "stderr",
          "text": [
            "en.wikipedia.org (parse) Holmes\n",
            "Holmes (en) data\n",
            "{\n",
            "  iwlinks: <list(2)> https://en.wiktionary.org/wiki/Holmes, https:...\n",
            "  pageid: 17360415\n",
            "  parsetree: <str(3391)> <root><template><title>wiktionary</title>...\n",
            "  requests: <list(1)> parse\n",
            "  title: Holmes\n",
            "  wikibase: Q230472\n",
            "  wikidata_url: https://www.wikidata.org/wiki/Q230472\n",
            "  wikitext: <str(2714)> {{wiktionary|Holmes|holmes}}'''Holmes''' m...\n",
            "}\n"
          ]
        },
        {
          "output_type": "stream",
          "name": "stdout",
          "text": [
            "Epoch 10/20, Loss: 0.6940182447433472\n",
            "Epoch 20/20, Loss: 0.532707154750824\n",
            "Epoch 10/20, Loss: 2.536808967590332\n",
            "Epoch 20/20, Loss: 0.14097613096237183\n",
            "48\n"
          ]
        },
        {
          "output_type": "stream",
          "name": "stderr",
          "text": [
            "en.wikipedia.org (parse) the National Geographic\n",
            "National Geographic (en) data\n",
            "{\n",
            "  infobox: <dict(19)> title, logo, image_file, image_alt, image_ca...\n",
            "  iwlinks: <list(3)> https://archive.org/details/NationalGeographi...\n",
            "  pageid: 229466\n",
            "  parsetree: <str(156595)> <root><template><title>Short descriptio...\n",
            "  requests: <list(1)> parse\n",
            "  title: National Geographic\n",
            "  wikibase: Q5973845\n",
            "  wikidata_url: https://www.wikidata.org/wiki/Q5973845\n",
            "  wikitext: <str(102892)> {{Short description|Monthly geography, h...\n",
            "}\n",
            "en.wikipedia.org (parse) as six decade\n",
            "API error: {'code': 'missingtitle', 'info': \"The page you specified doesn't exist.\", 'docref': 'See https://en.wikipedia.org/w/api.php for API usage. Subscribe to the mediawiki-api-announce mailing list at &lt;https://lists.wikimedia.org/postorius/lists/mediawiki-api-announce.lists.wikimedia.org/&gt; for notice of API deprecations and breaking changes.'}\n"
          ]
        },
        {
          "output_type": "stream",
          "name": "stdout",
          "text": [
            "An error occurred: https://en.wikipedia.org/w/api.php?action=parse&formatversion=2&contentmodel=text&disableeditsection=&disablelimitreport=&disabletoc=&prop=text|iwlinks|parsetree|wikitext|displaytitle|properties&redirects&page=as%20six%20decade\n",
            "Epoch 10/20, Loss: 0.6591758131980896\n",
            "Epoch 20/20, Loss: 0.47315701842308044\n",
            "Epoch 10/20, Loss: 0.8560895919799805\n",
            "Epoch 20/20, Loss: 0.25218501687049866\n",
            "49\n",
            "No entities found in the news text.\n",
            "No entities found in the news text.\n",
            "Graph data is not available due to lack of entities.\n",
            "50\n"
          ]
        },
        {
          "output_type": "stream",
          "name": "stderr",
          "text": [
            "en.wikipedia.org (parse) Change Baths\n",
            "API error: {'code': 'missingtitle', 'info': \"The page you specified doesn't exist.\", 'docref': 'See https://en.wikipedia.org/w/api.php for API usage. Subscribe to the mediawiki-api-announce mailing list at &lt;https://lists.wikimedia.org/postorius/lists/mediawiki-api-announce.lists.wikimedia.org/&gt; for notice of API deprecations and breaking changes.'}\n"
          ]
        },
        {
          "output_type": "stream",
          "name": "stdout",
          "text": [
            "An error occurred: https://en.wikipedia.org/w/api.php?action=parse&formatversion=2&contentmodel=text&disableeditsection=&disablelimitreport=&disabletoc=&prop=text|iwlinks|parsetree|wikitext|displaytitle|properties&redirects&page=Change%20Baths\n",
            "Epoch 10/20, Loss: 39.00434875488281\n",
            "Epoch 20/20, Loss: 0.19099213182926178\n",
            "Epoch 10/20, Loss: 0.19038785994052887\n",
            "Epoch 20/20, Loss: 1.2712491750717163\n",
            "51\n"
          ]
        },
        {
          "output_type": "stream",
          "name": "stderr",
          "text": [
            "en.wikipedia.org (parse) brazil\n",
            "Brazil (en) data\n",
            "{\n",
            "  infobox: <dict(87)> conventional_long_name, common_name, native_...\n",
            "  iwlinks: <list(13)> https://archive.org/details/historyofmodernb...\n",
            "  pageid: 3383\n",
            "  parsetree: <str(376208)> <root><template><title>short descriptio...\n",
            "  requests: <list(1)> parse\n",
            "  title: Brazil\n",
            "  wikibase: Q155\n",
            "  wikidata_url: https://www.wikidata.org/wiki/Q155\n",
            "  wikitext: <str(291526)> {{short description|Country in South Ame...\n",
            "}\n",
            "en.wikipedia.org (parse) the ministry of agriculture\n",
            "API error: {'code': 'missingtitle', 'info': \"The page you specified doesn't exist.\", 'docref': 'See https://en.wikipedia.org/w/api.php for API usage. Subscribe to the mediawiki-api-announce mailing list at &lt;https://lists.wikimedia.org/postorius/lists/mediawiki-api-announce.lists.wikimedia.org/&gt; for notice of API deprecations and breaking changes.'}\n"
          ]
        },
        {
          "output_type": "stream",
          "name": "stdout",
          "text": [
            "An error occurred: https://en.wikipedia.org/w/api.php?action=parse&formatversion=2&contentmodel=text&disableeditsection=&disablelimitreport=&disabletoc=&prop=text|iwlinks|parsetree|wikitext|displaytitle|properties&redirects&page=the%20ministry%20of%20agriculture\n",
            "Epoch 10/20, Loss: 0.6734148859977722\n",
            "Epoch 20/20, Loss: 0.36646103858947754\n",
            "Epoch 10/20, Loss: 0.18255138397216797\n",
            "Epoch 20/20, Loss: 0.2454313337802887\n",
            "52\n"
          ]
        },
        {
          "output_type": "stream",
          "name": "stderr",
          "text": [
            "en.wikipedia.org (parse) GWP\n",
            "GWP (en) data\n",
            "{\n",
            "  pageid: 891208\n",
            "  parsetree: <str(729)> <root>'''GWP''' may refer to:<h level=\"2\" ...\n",
            "  requests: <list(1)> parse\n",
            "  title: GWP\n",
            "  wikibase: Q591563\n",
            "  wikidata_url: https://www.wikidata.org/wiki/Q591563\n",
            "  wikitext: <str(566)> '''GWP''' may refer to:==Places==* [[Galbre...\n",
            "}\n"
          ]
        },
        {
          "output_type": "stream",
          "name": "stdout",
          "text": [
            "Epoch 10/20, Loss: 0.5270093679428101\n",
            "Epoch 20/20, Loss: 0.9719655513763428\n",
            "Epoch 10/20, Loss: 1.030463457107544\n",
            "Epoch 20/20, Loss: 0.6494799852371216\n",
            "53\n",
            "No entities found in the news text.\n",
            "No entities found in the news text.\n",
            "Graph data is not available due to lack of entities.\n",
            "54\n",
            "No entities found in the news text.\n",
            "No entities found in the news text.\n",
            "Graph data is not available due to lack of entities.\n",
            "55\n"
          ]
        },
        {
          "output_type": "stream",
          "name": "stderr",
          "text": [
            "en.wikipedia.org (parse) 800 year later\n",
            "API error: {'code': 'missingtitle', 'info': \"The page you specified doesn't exist.\", 'docref': 'See https://en.wikipedia.org/w/api.php for API usage. Subscribe to the mediawiki-api-announce mailing list at &lt;https://lists.wikimedia.org/postorius/lists/mediawiki-api-announce.lists.wikimedia.org/&gt; for notice of API deprecations and breaking changes.'}\n"
          ]
        },
        {
          "output_type": "stream",
          "name": "stdout",
          "text": [
            "An error occurred: https://en.wikipedia.org/w/api.php?action=parse&formatversion=2&contentmodel=text&disableeditsection=&disablelimitreport=&disabletoc=&prop=text|iwlinks|parsetree|wikitext|displaytitle|properties&redirects&page=800%20year%20later\n",
            "Epoch 10/20, Loss: 25.25752830505371\n",
            "Epoch 20/20, Loss: 0.18551702797412872\n",
            "Epoch 10/20, Loss: 0.18431122601032257\n",
            "Epoch 20/20, Loss: 0.1838194876909256\n",
            "56\n",
            "No entities found in the news text.\n",
            "No entities found in the news text.\n",
            "Graph data is not available due to lack of entities.\n",
            "57\n"
          ]
        },
        {
          "output_type": "stream",
          "name": "stderr",
          "text": [
            "en.wikipedia.org (parse) Australia\n",
            "Australia (en) data\n",
            "{\n",
            "  infobox: <dict(77)> conventional_long_name, common_name, image_f...\n",
            "  iwlinks: <list(11)> https://commons.wikimedia.org/wiki/Atlas_of_...\n",
            "  pageid: 4689264\n",
            "  parsetree: <str(334639)> <root><template><title>Short descriptio...\n",
            "  requests: <list(1)> parse\n",
            "  title: Australia\n",
            "  wikibase: Q408\n",
            "  wikidata_url: https://www.wikidata.org/wiki/Q408\n",
            "  wikitext: <str(273343)> {{Short description|Country in Oceania}}...\n",
            "}\n",
            "en.wikipedia.org (parse) annual\n",
            "Annual (en) data\n",
            "{\n",
            "  iwlinks: <list(3)> https://en.wiktionary.org/wiki/annual, https:...\n",
            "  pageid: 179451\n",
            "  parsetree: <str(704)> <root><template><title>wiktionary</title><...\n",
            "  requests: <list(1)> parse\n",
            "  title: Annual\n",
            "  wikibase: Q567353\n",
            "  wikidata_url: https://www.wikidata.org/wiki/Q567353\n",
            "  wikitext: <str(458)> {{wiktionary|annual|annually|yearly}}'''Ann...\n",
            "}\n"
          ]
        },
        {
          "output_type": "stream",
          "name": "stdout",
          "text": [
            "Epoch 10/20, Loss: 0.5136970281600952\n",
            "Epoch 20/20, Loss: 0.36909639835357666\n",
            "Epoch 10/20, Loss: 4.000169277191162\n",
            "Epoch 20/20, Loss: 0.21286343038082123\n",
            "58\n"
          ]
        },
        {
          "output_type": "stream",
          "name": "stderr",
          "text": [
            "en.wikipedia.org (parse) winter\n",
            "en.wikipedia.org (imageinfo) File:Winter forest silver.jpg\n",
            "Winter (en) data\n",
            "{\n",
            "  image: <list(1)> {'kind': 'parse-image', 'file': 'File:Winter fo...\n",
            "  infobox: <dict(9)> title, image, caption, sdate1, sdate2, sdate3...\n",
            "  iwlinks: <list(5)> https://commons.wikimedia.org/wiki/Category:W...\n",
            "  pageid: 34061\n",
            "  parsetree: <str(42093)> <root><template><title>short description...\n",
            "  requests: <list(2)> parse, imageinfo\n",
            "  title: Winter\n",
            "  wikibase: Q1311\n",
            "  wikidata_url: https://www.wikidata.org/wiki/Q1311\n",
            "  wikitext: <str(35301)> {{short description|Coldest of the four t...\n",
            "}\n"
          ]
        },
        {
          "output_type": "stream",
          "name": "stdout",
          "text": [
            "Epoch 10/20, Loss: 0.7129488587379456\n",
            "Epoch 20/20, Loss: 0.5641626715660095\n",
            "Epoch 10/20, Loss: 0.28435131907463074\n",
            "Epoch 20/20, Loss: 0.25996384024620056\n",
            "59\n"
          ]
        },
        {
          "output_type": "stream",
          "name": "stderr",
          "text": [
            "en.wikipedia.org (parse) National Dark Service\n",
            "API error: {'code': 'missingtitle', 'info': \"The page you specified doesn't exist.\", 'docref': 'See https://en.wikipedia.org/w/api.php for API usage. Subscribe to the mediawiki-api-announce mailing list at &lt;https://lists.wikimedia.org/postorius/lists/mediawiki-api-announce.lists.wikimedia.org/&gt; for notice of API deprecations and breaking changes.'}\n"
          ]
        },
        {
          "output_type": "stream",
          "name": "stdout",
          "text": [
            "An error occurred: https://en.wikipedia.org/w/api.php?action=parse&formatversion=2&contentmodel=text&disableeditsection=&disablelimitreport=&disabletoc=&prop=text|iwlinks|parsetree|wikitext|displaytitle|properties&redirects&page=National%20Dark%20Service\n",
            "Epoch 10/20, Loss: 3.0139198303222656\n",
            "Epoch 20/20, Loss: 3.6363227367401123\n",
            "Epoch 10/20, Loss: 6.6260294914245605\n",
            "Epoch 20/20, Loss: 23.251970291137695\n",
            "60\n",
            "No entities found in the news text.\n",
            "No entities found in the news text.\n",
            "Graph data is not available due to lack of entities.\n",
            "61\n",
            "No entities found in the news text.\n",
            "No entities found in the news text.\n",
            "Graph data is not available due to lack of entities.\n",
            "62\n",
            "No entities found in the news text.\n",
            "No entities found in the news text.\n",
            "Graph data is not available due to lack of entities.\n",
            "63\n",
            "No entities found in the news text.\n",
            "No entities found in the news text.\n",
            "Graph data is not available due to lack of entities.\n",
            "64\n"
          ]
        },
        {
          "output_type": "stream",
          "name": "stderr",
          "text": [
            "en.wikipedia.org (parse) James Thornton\n",
            "James Thornton (en) data\n",
            "{\n",
            "  pageid: 1943664\n",
            "  parsetree: <str(1416)> <root>'''James Thornton''' may refer to:<...\n",
            "  requests: <list(1)> parse\n",
            "  title: James Thornton\n",
            "  wikibase: Q11783317\n",
            "  wikidata_url: https://www.wikidata.org/wiki/Q11783317\n",
            "  wikitext: <str(1231)> '''James Thornton''' may refer to:==Entert...\n",
            "}\n"
          ]
        },
        {
          "output_type": "stream",
          "name": "stdout",
          "text": [
            "Epoch 10/20, Loss: 0.2009797990322113\n",
            "Epoch 20/20, Loss: 0.13489601016044617\n",
            "Epoch 10/20, Loss: 0.138722762465477\n",
            "Epoch 20/20, Loss: 0.13828657567501068\n",
            "65\n",
            "No entities found in the news text.\n",
            "No entities found in the news text.\n",
            "Graph data is not available due to lack of entities.\n",
            "66\n"
          ]
        },
        {
          "output_type": "stream",
          "name": "stderr",
          "text": [
            "en.wikipedia.org (parse) 09 degree\n",
            "API error: {'code': 'missingtitle', 'info': \"The page you specified doesn't exist.\", 'docref': 'See https://en.wikipedia.org/w/api.php for API usage. Subscribe to the mediawiki-api-announce mailing list at &lt;https://lists.wikimedia.org/postorius/lists/mediawiki-api-announce.lists.wikimedia.org/&gt; for notice of API deprecations and breaking changes.'}\n",
            "en.wikipedia.org (parse) about 35 year ago\n"
          ]
        },
        {
          "output_type": "stream",
          "name": "stdout",
          "text": [
            "An error occurred: https://en.wikipedia.org/w/api.php?action=parse&formatversion=2&contentmodel=text&disableeditsection=&disablelimitreport=&disabletoc=&prop=text|iwlinks|parsetree|wikitext|displaytitle|properties&redirects&page=09%20degree\n",
            "An error occurred: https://en.wikipedia.org/w/api.php?action=parse&formatversion=2&contentmodel=text&disableeditsection=&disablelimitreport=&disabletoc=&prop=text|iwlinks|parsetree|wikitext|displaytitle|properties&redirects&page=about%2035%20year%20ago\n"
          ]
        },
        {
          "output_type": "stream",
          "name": "stderr",
          "text": [
            "API error: {'code': 'missingtitle', 'info': \"The page you specified doesn't exist.\", 'docref': 'See https://en.wikipedia.org/w/api.php for API usage. Subscribe to the mediawiki-api-announce mailing list at &lt;https://lists.wikimedia.org/postorius/lists/mediawiki-api-announce.lists.wikimedia.org/&gt; for notice of API deprecations and breaking changes.'}\n"
          ]
        },
        {
          "output_type": "stream",
          "name": "stdout",
          "text": [
            "Epoch 10/20, Loss: 0.49235713481903076\n",
            "Epoch 20/20, Loss: 0.17168371379375458\n",
            "Epoch 10/20, Loss: 0.17113953828811646\n",
            "Epoch 20/20, Loss: 5.738710880279541\n",
            "67\n",
            "No entities found in the news text.\n",
            "No entities found in the news text.\n",
            "Graph data is not available due to lack of entities.\n",
            "68\n"
          ]
        },
        {
          "output_type": "stream",
          "name": "stderr",
          "text": [
            "en.wikipedia.org (parse) Antarctica\n",
            "en.wikipedia.org (imageinfo) File:Antarctica (orthographic projec...\n",
            "Antarctica (en) data\n",
            "{\n",
            "  image: <list(1)> {'kind': 'parse-image', 'file': 'File:Antarctic...\n",
            "  infobox: <dict(16)> title, image, image_size, alt, flag, area, p...\n",
            "  iwlinks: <list(7)> https://commons.wikimedia.org/wiki/Antarctica...\n",
            "  pageid: 18959138\n",
            "  parsetree: <str(213255)> <root><template><title>Short descriptio...\n",
            "  requests: <list(2)> parse, imageinfo\n",
            "  title: Antarctica\n",
            "  wikibase: Q51\n",
            "  wikidata_url: https://www.wikidata.org/wiki/Q51\n",
            "  wikitext: <str(140478)> {{Short description|Earth's southernmost...\n",
            "}\n",
            "en.wikipedia.org (parse) 15 million\n",
            "API error: {'code': 'missingtitle', 'info': \"The page you specified doesn't exist.\", 'docref': 'See https://en.wikipedia.org/w/api.php for API usage. Subscribe to the mediawiki-api-announce mailing list at &lt;https://lists.wikimedia.org/postorius/lists/mediawiki-api-announce.lists.wikimedia.org/&gt; for notice of API deprecations and breaking changes.'}\n"
          ]
        },
        {
          "output_type": "stream",
          "name": "stdout",
          "text": [
            "An error occurred: https://en.wikipedia.org/w/api.php?action=parse&formatversion=2&contentmodel=text&disableeditsection=&disablelimitreport=&disabletoc=&prop=text|iwlinks|parsetree|wikitext|displaytitle|properties&redirects&page=15%20million\n",
            "Epoch 10/20, Loss: 0.8540566563606262\n",
            "Epoch 20/20, Loss: 0.5429882407188416\n",
            "Epoch 10/20, Loss: 1.0583593845367432\n",
            "Epoch 20/20, Loss: 0.502178966999054\n",
            "69\n"
          ]
        },
        {
          "output_type": "stream",
          "name": "stderr",
          "text": [
            "en.wikipedia.org (parse) Scene\n",
            "Scene (en) data\n",
            "{\n",
            "  iwlinks: <list(1)> https://en.wiktionary.org/wiki/scene\n",
            "  pageid: 697267\n",
            "  parsetree: <str(4078)> <root><template><title>wiktionary</title>...\n",
            "  requests: <list(1)> parse\n",
            "  title: Scene\n",
            "  wikibase: Q345264\n",
            "  wikidata_url: https://www.wikidata.org/wiki/Q345264\n",
            "  wikitext: <str(3133)> {{wiktionary|scene}}'''Scene''' (from [[An...\n",
            "}\n"
          ]
        },
        {
          "output_type": "stream",
          "name": "stdout",
          "text": [
            "Epoch 10/20, Loss: 0.6705618500709534\n",
            "Epoch 20/20, Loss: 0.46795567870140076\n",
            "Epoch 10/20, Loss: 23.47259521484375\n",
            "Epoch 20/20, Loss: 7.2498908042907715\n",
            "70\n"
          ]
        },
        {
          "output_type": "stream",
          "name": "stderr",
          "text": [
            "en.wikipedia.org (parse) Vancouver\n",
            "Vancouver (en) data\n",
            "{\n",
            "  infobox: <dict(69)> name, official_name, settlement_type, image_...\n",
            "  iwlinks: <list(8)> https://commons.wikimedia.org/wiki/Vancouver,...\n",
            "  pageid: 32706\n",
            "  parsetree: <str(267642)> <root><template><title>Short descriptio...\n",
            "  requests: <list(1)> parse\n",
            "  title: Vancouver\n",
            "  wikibase: Q24639\n",
            "  wikidata_url: https://www.wikidata.org/wiki/Q24639\n",
            "  wikitext: <str(208766)> {{Short description|City in British Colu...\n",
            "}\n",
            "en.wikipedia.org (parse) first\n",
            "First (en) data\n",
            "{\n",
            "  iwlinks: <list(1)> https://en.wiktionary.org/wiki/first\n",
            "  pageid: 620465\n",
            "  parsetree: <str(3860)> <root><template><title>wiktionary</title>...\n",
            "  requests: <list(1)> parse\n",
            "  title: First\n",
            "  wikibase: Q351401\n",
            "  wikidata_url: https://www.wikidata.org/wiki/Q351401\n",
            "  wikitext: <str(2994)> {{wiktionary|first}}'''First''' or '''1st'...\n",
            "}\n",
            "en.wikipedia.org (parse) canadian\n",
            "Canadians (en) data\n",
            "{\n",
            "  infobox: <dict(33)> group, flag, flag_caption, pop, regions, reg...\n",
            "  iwlinks: <list(2)> https://commons.wikimedia.org/wiki/Category:P...\n",
            "  pageid: 19851291\n",
            "  parsetree: <str(184198)> <root><template><title>Short descriptio...\n",
            "  requests: <list(1)> parse\n",
            "  title: Canadians\n",
            "  wikibase: Q1196645\n",
            "  wikidata_url: https://www.wikidata.org/wiki/Q1196645\n",
            "  wikitext: <str(95926)> {{Short description|Citizens and national...\n",
            "}\n"
          ]
        },
        {
          "output_type": "stream",
          "name": "stdout",
          "text": [
            "Epoch 10/20, Loss: 0.5478157997131348\n",
            "Epoch 20/20, Loss: 0.4030756950378418\n",
            "Epoch 10/20, Loss: 0.09881501644849777\n",
            "Epoch 20/20, Loss: 0.08819975703954697\n",
            "71\n",
            "No entities found in the news text.\n",
            "No entities found in the news text.\n",
            "Graph data is not available due to lack of entities.\n",
            "72\n"
          ]
        },
        {
          "output_type": "stream",
          "name": "stderr",
          "text": [
            "en.wikipedia.org (parse) John Solemn\n",
            "API error: {'code': 'missingtitle', 'info': \"The page you specified doesn't exist.\", 'docref': 'See https://en.wikipedia.org/w/api.php for API usage. Subscribe to the mediawiki-api-announce mailing list at &lt;https://lists.wikimedia.org/postorius/lists/mediawiki-api-announce.lists.wikimedia.org/&gt; for notice of API deprecations and breaking changes.'}\n"
          ]
        },
        {
          "output_type": "stream",
          "name": "stdout",
          "text": [
            "An error occurred: https://en.wikipedia.org/w/api.php?action=parse&formatversion=2&contentmodel=text&disableeditsection=&disablelimitreport=&disabletoc=&prop=text|iwlinks|parsetree|wikitext|displaytitle|properties&redirects&page=John%20Solemn\n",
            "Epoch 10/20, Loss: 0.1497294157743454\n",
            "Epoch 20/20, Loss: 1.9173964262008667\n",
            "Epoch 10/20, Loss: 0.14881794154644012\n",
            "Epoch 20/20, Loss: 8.333125114440918\n",
            "73\n",
            "No entities found in the news text.\n",
            "No entities found in the news text.\n",
            "Graph data is not available due to lack of entities.\n",
            "74\n"
          ]
        },
        {
          "output_type": "stream",
          "name": "stderr",
          "text": [
            "en.wikipedia.org (parse) Diam Republican\n",
            "API error: {'code': 'missingtitle', 'info': \"The page you specified doesn't exist.\", 'docref': 'See https://en.wikipedia.org/w/api.php for API usage. Subscribe to the mediawiki-api-announce mailing list at &lt;https://lists.wikimedia.org/postorius/lists/mediawiki-api-announce.lists.wikimedia.org/&gt; for notice of API deprecations and breaking changes.'}\n"
          ]
        },
        {
          "output_type": "stream",
          "name": "stdout",
          "text": [
            "An error occurred: https://en.wikipedia.org/w/api.php?action=parse&formatversion=2&contentmodel=text&disableeditsection=&disablelimitreport=&disabletoc=&prop=text|iwlinks|parsetree|wikitext|displaytitle|properties&redirects&page=Diam%20Republican\n"
          ]
        },
        {
          "output_type": "stream",
          "name": "stderr",
          "text": [
            "en.wikipedia.org (parse) Arctic\n",
            "Arctic (en) data\n",
            "{\n",
            "  iwlinks: <list(10)> https://commons.wikimedia.org/wiki/Arctic, h...\n",
            "  pageid: 36971\n",
            "  parsetree: <str(73005)> <root><template><title>Short description...\n",
            "  requests: <list(1)> parse\n",
            "  title: Arctic\n",
            "  wikibase: Q25322\n",
            "  wikidata_url: https://www.wikidata.org/wiki/Q25322\n",
            "  wikitext: <str(60284)> {{Short description|Polar region of the E...\n",
            "}\n"
          ]
        },
        {
          "output_type": "stream",
          "name": "stdout",
          "text": [
            "Epoch 10/20, Loss: 0.9662873148918152\n",
            "Epoch 20/20, Loss: 0.6653124690055847\n",
            "Epoch 10/20, Loss: 0.15012453496456146\n",
            "Epoch 20/20, Loss: 0.2429465502500534\n",
            "75\n"
          ]
        },
        {
          "output_type": "stream",
          "name": "stderr",
          "text": [
            "en.wikipedia.org (parse) between 01 and 15\n",
            "API error: {'code': 'missingtitle', 'info': \"The page you specified doesn't exist.\", 'docref': 'See https://en.wikipedia.org/w/api.php for API usage. Subscribe to the mediawiki-api-announce mailing list at &lt;https://lists.wikimedia.org/postorius/lists/mediawiki-api-announce.lists.wikimedia.org/&gt; for notice of API deprecations and breaking changes.'}\n"
          ]
        },
        {
          "output_type": "stream",
          "name": "stdout",
          "text": [
            "An error occurred: https://en.wikipedia.org/w/api.php?action=parse&formatversion=2&contentmodel=text&disableeditsection=&disablelimitreport=&disabletoc=&prop=text|iwlinks|parsetree|wikitext|displaytitle|properties&redirects&page=between%2001%20and%2015\n",
            "Epoch 10/20, Loss: 0.17074044048786163\n",
            "Epoch 20/20, Loss: 0.17026591300964355\n",
            "Epoch 10/20, Loss: 0.16953153908252716\n",
            "Epoch 20/20, Loss: 0.16895116865634918\n",
            "76\n",
            "No entities found in the news text.\n",
            "No entities found in the news text.\n",
            "Graph data is not available due to lack of entities.\n",
            "77\n"
          ]
        },
        {
          "output_type": "stream",
          "name": "stderr",
          "text": [
            "en.wikipedia.org (parse) 2\n",
            "2 (en) data\n",
            "{\n",
            "  infobox: <dict(37)> number, ordinal, numeral, prime, divisor, ro...\n",
            "  iwlinks: <list(11)> https://commons.wikimedia.org/wiki/2_(number...\n",
            "  pageid: 64516\n",
            "  parsetree: <str(54360)> <root><template><title>Short description...\n",
            "  requests: <list(1)> parse\n",
            "  title: 2\n",
            "  wikibase: Q200\n",
            "  wikidata_url: https://www.wikidata.org/wiki/Q200\n",
            "  wikitext: <str(35370)> {{Short description|Integer number 2}}{{p...\n",
            "}\n"
          ]
        },
        {
          "output_type": "stream",
          "name": "stdout",
          "text": [
            "Epoch 10/20, Loss: 0.5704019069671631\n",
            "Epoch 20/20, Loss: 0.2855296730995178\n",
            "Epoch 10/20, Loss: 0.9289783239364624\n",
            "Epoch 20/20, Loss: 0.24006561934947968\n",
            "78\n",
            "No entities found in the news text.\n",
            "No entities found in the news text.\n",
            "Graph data is not available due to lack of entities.\n",
            "79\n"
          ]
        },
        {
          "output_type": "stream",
          "name": "stderr",
          "text": [
            "en.wikipedia.org (parse) 09\n",
            "09 (en) data\n",
            "{\n",
            "  pageid: 16588475\n",
            "  parsetree: <str(530)> <root>'''09''' may refer to:* The year [[2...\n",
            "  requests: <list(1)> parse\n",
            "  title: 09\n",
            "  wikibase: Q1178615\n",
            "  wikidata_url: https://www.wikidata.org/wiki/Q1178615\n",
            "  wikitext: <str(448)> '''09''' may refer to:* The year [[2009]], ...\n",
            "}\n"
          ]
        },
        {
          "output_type": "stream",
          "name": "stdout",
          "text": [
            "Epoch 10/20, Loss: 0.38500532507896423\n",
            "Epoch 20/20, Loss: 0.4006618857383728\n",
            "Epoch 10/20, Loss: 0.15487466752529144\n",
            "Epoch 20/20, Loss: 0.15457941591739655\n",
            "80\n",
            "No entities found in the news text.\n",
            "No entities found in the news text.\n",
            "Graph data is not available due to lack of entities.\n",
            "81\n",
            "No entities found in the news text.\n",
            "No entities found in the news text.\n",
            "Graph data is not available due to lack of entities.\n",
            "82\n",
            "No entities found in the news text.\n",
            "No entities found in the news text.\n",
            "Graph data is not available due to lack of entities.\n",
            "83\n",
            "No entities found in the news text.\n",
            "No entities found in the news text.\n",
            "Graph data is not available due to lack of entities.\n",
            "84\n",
            "No entities found in the news text.\n",
            "No entities found in the news text.\n",
            "Graph data is not available due to lack of entities.\n",
            "85\n"
          ]
        },
        {
          "output_type": "stream",
          "name": "stderr",
          "text": [
            "en.wikipedia.org (parse) summer\n",
            "en.wikipedia.org (imageinfo) File:Field Hamois Belgium Luc Viatour.jpg\n",
            "Summer (en) data\n",
            "{\n",
            "  image: <list(1)> {'kind': 'parse-image', 'file': 'File:Field Ham...\n",
            "  infobox: <dict(9)> title, image, caption, ndate1, ndate2, ndate3...\n",
            "  iwlinks: <list(3)> https://commons.wikimedia.org/wiki/Summer, ht...\n",
            "  pageid: 29392\n",
            "  parsetree: <str(24387)> <root><template><title>pp-move-indef</ti...\n",
            "  requests: <list(2)> parse, imageinfo\n",
            "  title: Summer\n",
            "  wikibase: Q1313\n",
            "  wikidata_url: https://www.wikidata.org/wiki/Q1313\n",
            "  wikitext: <str(20196)> {{pp-move-indef}}{{pp-semi-indef}}{{short...\n",
            "}\n",
            "en.wikipedia.org (parse) June July\n",
            "API error: {'code': 'missingtitle', 'info': \"The page you specified doesn't exist.\", 'docref': 'See https://en.wikipedia.org/w/api.php for API usage. Subscribe to the mediawiki-api-announce mailing list at &lt;https://lists.wikimedia.org/postorius/lists/mediawiki-api-announce.lists.wikimedia.org/&gt; for notice of API deprecations and breaking changes.'}\n",
            "en.wikipedia.org (parse) August\n"
          ]
        },
        {
          "output_type": "stream",
          "name": "stdout",
          "text": [
            "An error occurred: https://en.wikipedia.org/w/api.php?action=parse&formatversion=2&contentmodel=text&disableeditsection=&disablelimitreport=&disabletoc=&prop=text|iwlinks|parsetree|wikitext|displaytitle|properties&redirects&page=June%20July\n"
          ]
        },
        {
          "output_type": "stream",
          "name": "stderr",
          "text": [
            "August (en) data\n",
            "{\n",
            "  iwlinks: <list(3)> https://commons.wikimedia.org/wiki/Category:A...\n",
            "  pageid: 1005\n",
            "  parsetree: <str(34104)> <root><template><title>short description...\n",
            "  requests: <list(1)> parse\n",
            "  title: August\n",
            "  wikibase: Q122\n",
            "  wikidata_url: https://www.wikidata.org/wiki/Q122\n",
            "  wikitext: <str(29714)> {{short description|Eighth month in the J...\n",
            "}\n",
            "en.wikipedia.org (parse) 32\n",
            "32 (en) data\n",
            "{\n",
            "  iwlinks: <list(5)> https://en.wiktionary.org/wiki/32, https://en...\n",
            "  pageid: 38345630\n",
            "  parsetree: <str(3607)> <root><template><title>wiktionary</title>...\n",
            "  requests: <list(1)> parse\n",
            "  title: 32\n",
            "  wikibase: Q4635004\n",
            "  wikidata_url: https://www.wikidata.org/wiki/Q4635004\n",
            "  wikitext: <str(1770)> {{wiktionary|32|XXXII|thirty-two}}'''32'''...\n",
            "}\n"
          ]
        },
        {
          "output_type": "stream",
          "name": "stdout",
          "text": [
            "Epoch 10/20, Loss: 0.6191659569740295\n",
            "Epoch 20/20, Loss: 0.3099622428417206\n",
            "Epoch 10/20, Loss: 0.47505804896354675\n",
            "Epoch 20/20, Loss: 1.5321451425552368\n",
            "86\n"
          ]
        },
        {
          "output_type": "stream",
          "name": "stderr",
          "text": [
            "en.wikipedia.org (parse) Less than half\n",
            "API error: {'code': 'missingtitle', 'info': \"The page you specified doesn't exist.\", 'docref': 'See https://en.wikipedia.org/w/api.php for API usage. Subscribe to the mediawiki-api-announce mailing list at &lt;https://lists.wikimedia.org/postorius/lists/mediawiki-api-announce.lists.wikimedia.org/&gt; for notice of API deprecations and breaking changes.'}\n",
            "en.wikipedia.org (parse) publish\n"
          ]
        },
        {
          "output_type": "stream",
          "name": "stdout",
          "text": [
            "An error occurred: https://en.wikipedia.org/w/api.php?action=parse&formatversion=2&contentmodel=text&disableeditsection=&disablelimitreport=&disabletoc=&prop=text|iwlinks|parsetree|wikitext|displaytitle|properties&redirects&page=Less%20than%20half\n"
          ]
        },
        {
          "output_type": "stream",
          "name": "stderr",
          "text": [
            "Publishing (en) data\n",
            "{\n",
            "  infobox: <dict(5)> by, onlinebooks, others, about, label\n",
            "  iwlinks: <list(6)> https://commons.wikimedia.org/wiki/category:P...\n",
            "  pageid: 68761\n",
            "  parsetree: <str(49691)> <root><template><title>Short description...\n",
            "  requests: <list(1)> parse\n",
            "  title: Publishing\n",
            "  wikibase: Q3972943\n",
            "  wikidata_url: https://www.wikidata.org/wiki/Q3972943\n",
            "  wikitext: <str(42667)> {{Short description|Process of production...\n",
            "}\n"
          ]
        },
        {
          "output_type": "stream",
          "name": "stdout",
          "text": [
            "Epoch 10/20, Loss: 1.4801111221313477\n",
            "Epoch 20/20, Loss: 0.6077864766120911\n",
            "Epoch 10/20, Loss: 0.4592742919921875\n",
            "Epoch 20/20, Loss: 0.16768169403076172\n",
            "87\n"
          ]
        },
        {
          "output_type": "stream",
          "name": "stderr",
          "text": [
            "en.wikipedia.org (parse) 2\n",
            "2 (en) data\n",
            "{\n",
            "  infobox: <dict(37)> number, ordinal, numeral, prime, divisor, ro...\n",
            "  iwlinks: <list(11)> https://commons.wikimedia.org/wiki/2_(number...\n",
            "  pageid: 64516\n",
            "  parsetree: <str(54360)> <root><template><title>Short description...\n",
            "  requests: <list(1)> parse\n",
            "  title: 2\n",
            "  wikibase: Q200\n",
            "  wikidata_url: https://www.wikidata.org/wiki/Q200\n",
            "  wikitext: <str(35370)> {{Short description|Integer number 2}}{{p...\n",
            "}\n"
          ]
        },
        {
          "output_type": "stream",
          "name": "stdout",
          "text": [
            "Epoch 10/20, Loss: 0.7456095218658447\n",
            "Epoch 20/20, Loss: 0.39144229888916016\n",
            "Epoch 10/20, Loss: 0.33695685863494873\n",
            "Epoch 20/20, Loss: 1.1764087677001953\n",
            "88\n",
            "No entities found in the news text.\n",
            "No entities found in the news text.\n",
            "Graph data is not available due to lack of entities.\n",
            "89\n",
            "No entities found in the news text.\n",
            "No entities found in the news text.\n",
            "Graph data is not available due to lack of entities.\n",
            "90\n",
            "No entities found in the news text.\n",
            "No entities found in the news text.\n",
            "Graph data is not available due to lack of entities.\n",
            "91\n"
          ]
        },
        {
          "output_type": "stream",
          "name": "stderr",
          "text": [
            "en.wikipedia.org (parse) Hippocrates and Medical Education\n",
            "API error: {'code': 'missingtitle', 'info': \"The page you specified doesn't exist.\", 'docref': 'See https://en.wikipedia.org/w/api.php for API usage. Subscribe to the mediawiki-api-announce mailing list at &lt;https://lists.wikimedia.org/postorius/lists/mediawiki-api-announce.lists.wikimedia.org/&gt; for notice of API deprecations and breaking changes.'}\n",
            "en.wikipedia.org (parse) the XIIth International Hippocrates Coll...\n"
          ]
        },
        {
          "output_type": "stream",
          "name": "stdout",
          "text": [
            "An error occurred: https://en.wikipedia.org/w/api.php?action=parse&formatversion=2&contentmodel=text&disableeditsection=&disablelimitreport=&disabletoc=&prop=text|iwlinks|parsetree|wikitext|displaytitle|properties&redirects&page=Hippocrates%20and%20Medical%20Education\n",
            "An error occurred: https://en.wikipedia.org/w/api.php?action=parse&formatversion=2&contentmodel=text&disableeditsection=&disablelimitreport=&disabletoc=&prop=text|iwlinks|parsetree|wikitext|displaytitle|properties&redirects&page=the%20XIIth%20International%20Hippocrates%20Colloquium%20Universiteit\n"
          ]
        },
        {
          "output_type": "stream",
          "name": "stderr",
          "text": [
            "API error: {'code': 'missingtitle', 'info': \"The page you specified doesn't exist.\", 'docref': 'See https://en.wikipedia.org/w/api.php for API usage. Subscribe to the mediawiki-api-announce mailing list at &lt;https://lists.wikimedia.org/postorius/lists/mediawiki-api-announce.lists.wikimedia.org/&gt; for notice of API deprecations and breaking changes.'}\n",
            "en.wikipedia.org (parse) August 2005\n",
            "2005 (en) data\n",
            "{\n",
            "  iwlinks: <list(1)> https://commons.wikimedia.org/wiki/Category:2005\n",
            "  pageid: 35984\n",
            "  parsetree: <str(51744)> <root><template><title>pp-move</title></...\n",
            "  requests: <list(1)> parse\n",
            "  title: 2005\n",
            "  wikibase: Q2019\n",
            "  wikidata_url: https://www.wikidata.org/wiki/Q2019\n",
            "  wikitext: <str(43890)> {{pp-move}}{{pp-pc|small=yes}}{{Use mdy d...\n",
            "}\n"
          ]
        },
        {
          "output_type": "stream",
          "name": "stdout",
          "text": [
            "Epoch 10/20, Loss: 0.7815598845481873\n",
            "Epoch 20/20, Loss: 0.40333282947540283\n",
            "Epoch 10/20, Loss: 1.623787522315979\n",
            "Epoch 20/20, Loss: 0.6312804818153381\n",
            "92\n"
          ]
        },
        {
          "output_type": "stream",
          "name": "stderr",
          "text": [
            "en.wikipedia.org (parse) the Supreme Court\n",
            "Supreme court (en) data\n",
            "{\n",
            "  pageid: 4913027\n",
            "  parsetree: <str(61578)> <root><template><title>short description...\n",
            "  requests: <list(1)> parse\n",
            "  title: Supreme court\n",
            "  wikibase: Q190752\n",
            "  wikidata_url: https://www.wikidata.org/wiki/Q190752\n",
            "  wikitext: <str(53550)> {{short description|Highest court in a ju...\n",
            "}\n"
          ]
        },
        {
          "output_type": "stream",
          "name": "stdout",
          "text": [
            "Epoch 10/20, Loss: 0.7684892416000366\n",
            "Epoch 20/20, Loss: 0.5514916777610779\n",
            "Epoch 10/20, Loss: 1.1417402029037476\n",
            "Epoch 20/20, Loss: 1.9154332876205444\n",
            "93\n",
            "No entities found in the news text.\n",
            "No entities found in the news text.\n",
            "Graph data is not available due to lack of entities.\n",
            "94\n"
          ]
        },
        {
          "output_type": "stream",
          "name": "stderr",
          "text": [
            "en.wikipedia.org (parse) the National Oceanic and Atmospheric Adm...\n",
            "API error: {'code': 'missingtitle', 'info': \"The page you specified doesn't exist.\", 'docref': 'See https://en.wikipedia.org/w/api.php for API usage. Subscribe to the mediawiki-api-announce mailing list at &lt;https://lists.wikimedia.org/postorius/lists/mediawiki-api-announce.lists.wikimedia.org/&gt; for notice of API deprecations and breaking changes.'}\n"
          ]
        },
        {
          "output_type": "stream",
          "name": "stdout",
          "text": [
            "An error occurred: https://en.wikipedia.org/w/api.php?action=parse&formatversion=2&contentmodel=text&disableeditsection=&disablelimitreport=&disabletoc=&prop=text|iwlinks|parsetree|wikitext|displaytitle|properties&redirects&page=the%20National%20Oceanic%20and%20Atmospheric%20Administration%20NOAA\n",
            "Epoch 10/20, Loss: 0.18213456869125366\n",
            "Epoch 20/20, Loss: 2.549325942993164\n",
            "Epoch 10/20, Loss: 0.18082712590694427\n",
            "Epoch 20/20, Loss: 10.099380493164062\n",
            "95\n",
            "No entities found in the news text.\n",
            "No entities found in the news text.\n",
            "Graph data is not available due to lack of entities.\n",
            "96\n"
          ]
        },
        {
          "output_type": "stream",
          "name": "stderr",
          "text": [
            "en.wikipedia.org (parse) australian\n",
            "Australian (en) data\n",
            "{\n",
            "  iwlinks: <list(4)> https://en.wiktionary.org/wiki/Australian, ht...\n",
            "  pageid: 92590\n",
            "  parsetree: <str(1706)> <root><template><title>wiktionary</title>...\n",
            "  requests: <list(1)> parse\n",
            "  title: Australian\n",
            "  wikibase: Q532611\n",
            "  wikidata_url: https://www.wikidata.org/wiki/Q532611\n",
            "  wikitext: <str(1082)> {{wiktionary|Australian|australian|Austral...\n",
            "}\n",
            "en.wikipedia.org (parse) Missions Reduction Fund\n",
            "API error: {'code': 'missingtitle', 'info': \"The page you specified doesn't exist.\", 'docref': 'See https://en.wikipedia.org/w/api.php for API usage. Subscribe to the mediawiki-api-announce mailing list at &lt;https://lists.wikimedia.org/postorius/lists/mediawiki-api-announce.lists.wikimedia.org/&gt; for notice of API deprecations and breaking changes.'}\n",
            "en.wikipedia.org (parse) australian\n",
            "Australian (en) data\n",
            "{\n",
            "  iwlinks: <list(4)> https://en.wiktionary.org/wiki/Australian, ht...\n",
            "  pageid: 92590\n",
            "  parsetree: <str(1706)> <root><template><title>wiktionary</title>...\n",
            "  requests: <list(1)> parse\n",
            "  title: Australian\n",
            "  wikibase: Q532611\n",
            "  wikidata_url: https://www.wikidata.org/wiki/Q532611\n",
            "  wikitext: <str(1082)> {{wiktionary|Australian|australian|Austral...\n",
            "}\n"
          ]
        },
        {
          "output_type": "stream",
          "name": "stdout",
          "text": [
            "An error occurred: https://en.wikipedia.org/w/api.php?action=parse&formatversion=2&contentmodel=text&disableeditsection=&disablelimitreport=&disabletoc=&prop=text|iwlinks|parsetree|wikitext|displaytitle|properties&redirects&page=Missions%20Reduction%20Fund\n",
            "Epoch 10/20, Loss: 0.35762038826942444\n",
            "Epoch 20/20, Loss: 0.391966313123703\n",
            "Epoch 10/20, Loss: 1.8378816843032837\n",
            "Epoch 20/20, Loss: 1.022157907485962\n",
            "97\n",
            "No entities found in the news text.\n",
            "No entities found in the news text.\n",
            "Graph data is not available due to lack of entities.\n",
            "98\n",
            "No entities found in the news text.\n",
            "No entities found in the news text.\n",
            "Graph data is not available due to lack of entities.\n",
            "99\n",
            "No entities found in the news text.\n",
            "No entities found in the news text.\n",
            "Graph data is not available due to lack of entities.\n",
            "100\n",
            "No entities found in the news text.\n",
            "No entities found in the news text.\n",
            "Graph data is not available due to lack of entities.\n"
          ]
        }
      ],
      "source": [
        "import numpy as np\n",
        "\n",
        "input_ids = []\n",
        "attention_masks = []\n",
        "fine_grained_inputs = []\n",
        "coarse_grained_inputs = []\n",
        "labels = []\n",
        "def generate_model_input(df, tokenizer):\n",
        "\n",
        "  count = 0\n",
        "  for index, row in df.iterrows():\n",
        "\n",
        "    text = row['claims']\n",
        "    label = row['claims_labels']\n",
        "    count += 1\n",
        "    print(count)\n",
        "\n",
        "    roberta_input = tokenizer(text, return_tensors='tf', truncation=True, padding=True)\n",
        "    contextual_vectors_coarse, contextual_vectors_fine = get_contextual_representations(text)\n",
        "\n",
        "\n",
        "    input_ids.append(roberta_input['input_ids'].numpy()[0])\n",
        "    attention_masks.append(roberta_input['attention_mask'].numpy()[0])\n",
        "\n",
        "    if contextual_vectors_fine is not None:\n",
        "      fine_grained_inputs.append(contextual_vectors_fine.numpy())\n",
        "    else:\n",
        "      fine_grained_inputs.append(np.empty((0, 768)))\n",
        "\n",
        "    if contextual_vectors_coarse is not None:\n",
        "      coarse_grained_inputs.append(contextual_vectors_coarse.numpy())\n",
        "    else:\n",
        "      coarse_grained_inputs.append(np.empty((0, 768)))\n",
        "\n",
        "    labels.append(label)\n",
        "\n",
        "\n",
        "generate_model_input(df, tokenizer)\n"
      ]
    },
    {
      "cell_type": "code",
      "execution_count": 11,
      "metadata": {
        "colab": {
          "base_uri": "https://localhost:8080/"
        },
        "id": "Vmxjyj_AeTtS",
        "outputId": "f48f3ad2-afdc-4f8f-ee4e-1595eecb90c0"
      },
      "outputs": [
        {
          "output_type": "stream",
          "name": "stdout",
          "text": [
            "Epoch 1/30\n"
          ]
        },
        {
          "output_type": "stream",
          "name": "stderr",
          "text": [
            "WARNING:tensorflow:Gradients do not exist for variables ['tf_roberta_model_1/roberta/pooler/dense/kernel:0', 'tf_roberta_model_1/roberta/pooler/dense/bias:0'] when minimizing the loss. If you're using `model.compile()`, did you forget to provide a `loss` argument?\n",
            "WARNING:tensorflow:Gradients do not exist for variables ['tf_roberta_model_1/roberta/pooler/dense/kernel:0', 'tf_roberta_model_1/roberta/pooler/dense/bias:0'] when minimizing the loss. If you're using `model.compile()`, did you forget to provide a `loss` argument?\n",
            "WARNING:tensorflow:Gradients do not exist for variables ['tf_roberta_model_1/roberta/pooler/dense/kernel:0', 'tf_roberta_model_1/roberta/pooler/dense/bias:0'] when minimizing the loss. If you're using `model.compile()`, did you forget to provide a `loss` argument?\n",
            "WARNING:tensorflow:Gradients do not exist for variables ['tf_roberta_model_1/roberta/pooler/dense/kernel:0', 'tf_roberta_model_1/roberta/pooler/dense/bias:0'] when minimizing the loss. If you're using `model.compile()`, did you forget to provide a `loss` argument?\n"
          ]
        },
        {
          "output_type": "stream",
          "name": "stdout",
          "text": [
            "4/4 [==============================] - 216s 33s/step - loss: 1.3305 - accuracy: 0.2900\n",
            "Epoch 2/30\n",
            "4/4 [==============================] - 136s 35s/step - loss: 1.1179 - accuracy: 0.3500\n",
            "Epoch 3/30\n",
            "4/4 [==============================] - 134s 34s/step - loss: 1.1325 - accuracy: 0.3500\n",
            "Epoch 4/30\n",
            "4/4 [==============================] - 139s 35s/step - loss: 1.0730 - accuracy: 0.4200\n",
            "Epoch 5/30\n",
            "4/4 [==============================] - 139s 35s/step - loss: 1.0774 - accuracy: 0.3200\n",
            "Epoch 6/30\n",
            "4/4 [==============================] - 139s 35s/step - loss: 1.0029 - accuracy: 0.4900\n",
            "Epoch 7/30\n",
            "4/4 [==============================] - 134s 33s/step - loss: 1.0190 - accuracy: 0.5000\n",
            "Epoch 8/30\n",
            "4/4 [==============================] - 139s 35s/step - loss: 0.9741 - accuracy: 0.4900\n",
            "Epoch 9/30\n",
            "4/4 [==============================] - 134s 33s/step - loss: 0.9779 - accuracy: 0.5200\n",
            "Epoch 10/30\n",
            "4/4 [==============================] - 139s 35s/step - loss: 0.9102 - accuracy: 0.5300\n",
            "Epoch 11/30\n",
            "4/4 [==============================] - 137s 33s/step - loss: 0.8647 - accuracy: 0.5700\n",
            "Epoch 12/30\n",
            "4/4 [==============================] - 139s 35s/step - loss: 0.8623 - accuracy: 0.5400\n",
            "Epoch 13/30\n",
            "4/4 [==============================] - 135s 34s/step - loss: 0.8194 - accuracy: 0.6100\n",
            "Epoch 14/30\n",
            "4/4 [==============================] - 136s 34s/step - loss: 0.8042 - accuracy: 0.5900\n",
            "Epoch 15/30\n",
            "4/4 [==============================] - 135s 34s/step - loss: 0.8200 - accuracy: 0.5800\n",
            "Epoch 16/30\n",
            "4/4 [==============================] - 135s 34s/step - loss: 0.7508 - accuracy: 0.5800\n",
            "Epoch 17/30\n",
            "4/4 [==============================] - 135s 34s/step - loss: 0.7955 - accuracy: 0.6000\n",
            "Epoch 18/30\n",
            "4/4 [==============================] - 136s 34s/step - loss: 0.7677 - accuracy: 0.6100\n",
            "Epoch 19/30\n",
            "4/4 [==============================] - 132s 33s/step - loss: 0.7498 - accuracy: 0.6100\n",
            "Epoch 20/30\n",
            "4/4 [==============================] - 136s 34s/step - loss: 0.7318 - accuracy: 0.5900\n",
            "Epoch 21/30\n",
            "4/4 [==============================] - 132s 33s/step - loss: 0.6978 - accuracy: 0.6300\n",
            "Epoch 22/30\n",
            "4/4 [==============================] - 134s 34s/step - loss: 0.7133 - accuracy: 0.6300\n",
            "Epoch 23/30\n",
            "4/4 [==============================] - 137s 33s/step - loss: 0.7088 - accuracy: 0.6300\n",
            "Epoch 24/30\n",
            "4/4 [==============================] - 133s 33s/step - loss: 0.6972 - accuracy: 0.6000\n",
            "Epoch 25/30\n",
            "4/4 [==============================] - 181s 44s/step - loss: 0.6917 - accuracy: 0.6300\n",
            "Epoch 26/30\n",
            "4/4 [==============================] - 137s 35s/step - loss: 0.6825 - accuracy: 0.6500\n",
            "Epoch 27/30\n",
            "4/4 [==============================] - 134s 33s/step - loss: 0.7141 - accuracy: 0.6400\n",
            "Epoch 28/30\n",
            "4/4 [==============================] - 149s 39s/step - loss: 0.7004 - accuracy: 0.6200\n",
            "Epoch 29/30\n",
            "4/4 [==============================] - 159s 40s/step - loss: 0.6761 - accuracy: 0.6400\n",
            "Epoch 30/30\n",
            "4/4 [==============================] - 145s 35s/step - loss: 0.7012 - accuracy: 0.6200\n"
          ]
        },
        {
          "output_type": "execute_result",
          "data": {
            "text/plain": [
              "<keras.src.callbacks.History at 0x7f13ff715cc0>"
            ]
          },
          "metadata": {},
          "execution_count": 11
        }
      ],
      "source": [
        "padded_input_ids = tf.keras.preprocessing.sequence.pad_sequences(input_ids, padding='post')\n",
        "padded_attention_masks = tf.keras.preprocessing.sequence.pad_sequences(attention_masks, padding='post')\n",
        "padded_fine_grained_inputs = tf.keras.preprocessing.sequence.pad_sequences(fine_grained_inputs, padding='post',dtype='float32')\n",
        "padded_coarse_grained_inputs = tf.keras.preprocessing.sequence.pad_sequences(coarse_grained_inputs, padding='post',dtype='float32')\n",
        "\n",
        "final_model.fit([padded_input_ids, padded_attention_masks, padded_fine_grained_inputs, padded_coarse_grained_inputs], np.array(labels), epochs=30 , batch_size=25)"
      ]
    },
    {
      "cell_type": "code",
      "execution_count": null,
      "metadata": {
        "colab": {
          "background_save": true
        },
        "id": "kBqKRSs0eTrK"
      },
      "outputs": [],
      "source": []
    },
    {
      "cell_type": "code",
      "execution_count": null,
      "metadata": {
        "colab": {
          "background_save": true
        },
        "id": "1djm2TKgeTo8"
      },
      "outputs": [],
      "source": []
    },
    {
      "cell_type": "code",
      "execution_count": null,
      "metadata": {
        "colab": {
          "background_save": true
        },
        "id": "A7A_qHwyeTmr"
      },
      "outputs": [],
      "source": []
    },
    {
      "cell_type": "code",
      "execution_count": null,
      "metadata": {
        "colab": {
          "background_save": true
        },
        "id": "AJtW8ZW91iL9"
      },
      "outputs": [],
      "source": []
    },
    {
      "cell_type": "code",
      "execution_count": null,
      "metadata": {
        "colab": {
          "background_save": true
        },
        "id": "uUu9RROb1iGe"
      },
      "outputs": [],
      "source": []
    },
    {
      "cell_type": "code",
      "execution_count": null,
      "metadata": {
        "colab": {
          "background_save": true
        },
        "id": "wYcyvViL1iD7"
      },
      "outputs": [],
      "source": []
    }
  ],
  "metadata": {
    "colab": {
      "provenance": [],
      "mount_file_id": "1Vqk8C8NGXLXlSLNmtO4e9qdytcEct45P",
      "authorship_tag": "ABX9TyN0djfXJIjqcEAI7iClhKjZ",
      "include_colab_link": true
    },
    "kernelspec": {
      "display_name": "Python 3",
      "name": "python3"
    },
    "language_info": {
      "name": "python"
    }
  },
  "nbformat": 4,
  "nbformat_minor": 0
}